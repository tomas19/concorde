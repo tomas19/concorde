{
 "cells": [
  {
   "cell_type": "code",
   "execution_count": 1,
   "metadata": {},
   "outputs": [],
   "source": [
    "import os\n",
    "import numpy as np\n",
    "import pandas as pd\n",
    "import geopandas as gpd\n",
    "from pathlib import Path\n",
    "import netCDF4 as netcdf\n",
    "from shapely.geometry import Point\n",
    "from concorde.tools import readFort22\n",
    "\n",
    "import xarray as xr\n",
    "from tqdm import tqdm as tqdm"
   ]
  },
  {
   "cell_type": "code",
   "execution_count": 2,
   "metadata": {},
   "outputs": [],
   "source": [
    "pathin = Path(r'/media/tacuevas/Extreme SSD/batch02')\n",
    "runs = sorted([x for x in os.listdir(pathin) if x.isdigit()])"
   ]
  },
  {
   "cell_type": "code",
   "execution_count": 3,
   "metadata": {},
   "outputs": [
    {
     "name": "stderr",
     "output_type": "stream",
     "text": [
      "100%|██████████| 1813/1813 [11:53:37<00:00, 23.62s/it]  \n"
     ]
    }
   ],
   "source": [
    "for run in tqdm(runs):\n",
    "    # with netcdf.Dataset(pathin/run/'maxele.63.nc', 'r') as melev:\n",
    "    melev = netcdf.Dataset(pathin/run/'maxele.63.nc', 'r')\n",
    "    f63 = netcdf.Dataset(pathin/run/'fort.63.nc')\n",
    "    f22 = readFort22(pathin/run/'fort.22')\n",
    "    startStorm = f22[f22['wind_speed'] > 1.03].index[0]\n",
    "    \n",
    "    t0 = pd.to_datetime(melev['time'].units.split('since ')[1]).tz_localize(None)\n",
    "    timeMaxElevSeconds = pd.to_timedelta(melev['time_of_zeta_max'][:].data, unit = 's')\n",
    "    timeMaxElev = t0 + timeMaxElevSeconds\n",
    "    timeBeforeStart = timeMaxElev < startStorm ## False is \"correct\"\n",
    "\n",
    "    datesF63 = [t0 + pd.Timedelta(seconds = x) for x in f63['time'][:]]\n",
    "    f63IndexStartStorm = datesF63.index(startStorm)\n",
    "    maxF63 = f63['zeta'][f63IndexStartStorm:, :].data.max(axis = 0)\n",
    "    timeMaxF63 = f63['zeta'][f63IndexStartStorm:, :].data.argmax(axis = 0)\n",
    "    maxMelev = melev['zeta_max'][:].data\n",
    "    \n",
    "    maxMelevCorr = maxMelev.copy()\n",
    "    maxMelevCorr[timeBeforeStart] = maxF63[timeBeforeStart]\n",
    "    timeMaxMelevCorr = melev['time_of_zeta_max'][:].data.copy()\n",
    "    timeMaxMelevCorr[timeBeforeStart] = timeMaxF63[timeBeforeStart]\n",
    "\n",
    "\n",
    "    nnodes = range(melev['zeta_max'].shape[0])\n",
    "    dims = ['time', 'node']\n",
    "    coords = {'time': [0], 'node': nnodes}\n",
    "    \n",
    "    dummy1 = maxMelevCorr.reshape((1, len(maxMelevCorr)))\n",
    "    dummy2 = np.ma.masked_invalid(dummy1)\n",
    "    dummy3 = dummy2.filled(fill_value = -99999.0)\n",
    "\n",
    "    dummy4 = timeMaxMelevCorr.reshape((1, len(timeMaxMelevCorr)))\n",
    "    dummy5 = np.ma.masked_invalid(dummy4)\n",
    "    dummy6 = dummy5.filled(fill_value = -99999.0)\n",
    "\n",
    "    ds = xr.Dataset({\n",
    "                    'zeta_max':xr.DataArray(data = melev['zeta_max'],\n",
    "                                        dims = ['time', 'node'],\n",
    "                                        coords = coords),\n",
    "                    'time_of_zeta_max':xr.DataArray(data = melev['time_of_zeta_max'],\n",
    "                                        dims = ['time', 'node'],\n",
    "                                        coords = coords),\n",
    "                    'zeta_max_corr':xr.DataArray(data = dummy3,\n",
    "                                          dims = ['time', 'node'],\n",
    "                                          coords = coords),\n",
    "                    'time_of_zeta_max_corr':xr.DataArray(data = dummy6,\n",
    "                                        dims = ['time', 'node'],\n",
    "                                        coords = coords),\n",
    "                    'corrected':xr.DataArray(data = (timeBeforeStart*1).reshape((1, len(timeBeforeStart))),\n",
    "                                        dims = ['time', 'node'],\n",
    "                                        coords = coords),\n",
    "                    'depth':xr.DataArray(data = melev['depth'],\n",
    "                                        dims = ['time', 'node'],\n",
    "                                        coords = coords),\n",
    "                    'element': xr.DataArray(data = melev['element'][:, :].data,\n",
    "                                            dims = ['nele', 'nvertex']),\n",
    "                    'x': xr.DataArray(data = melev['x'][:].data,\n",
    "                                        dims = ['node'],\n",
    "                                        coords = {'node': nnodes}),\n",
    "                    'y': xr.DataArray(data = melev['y'][:].data,\n",
    "                                        dims = ['node'],\n",
    "                                        coords = {'node': nnodes})\n",
    "                    })\n",
    "\n",
    "    ds['zeta_max_corr'].attrs['long_name'] = melev['zeta_max'].long_name\n",
    "    ds['zeta_max_corr'].attrs['units'] = melev['zeta_max'].units\n",
    "    \n",
    "    ds.to_netcdf(pathin/run/'maxele63Corr.nc')\n",
    "\n",
    "\n",
    "\n",
    "    # gdf = gpd.GeoDataFrame(geometry = [Point(x, y) for x, y in zip(melev['x'][:].data, melev['y'][:].data)])\n",
    "    # gdf['max_melev'] = maxMelev\n",
    "    # gdf['max_f63'] = maxF63\n",
    "    # gdf['before_start'] = timeBeforeStart\n",
    "    # gdf['max_melev_corr'] = maxMelevCorr\n",
    "    # gdf['diff'] = maxMelevCorr - maxMelev\n",
    "    # gdf.to_file(r'/mnt/drive1/Insyncs/NCSU/thesis/gis/gpkg/correctedTimePeakWL0000.gpkg', driver = 'GPKG')"
   ]
  },
  {
   "cell_type": "code",
   "execution_count": null,
   "metadata": {},
   "outputs": [],
   "source": []
  }
 ],
 "metadata": {
  "kernelspec": {
   "display_name": "concorde",
   "language": "python",
   "name": "python3"
  },
  "language_info": {
   "codemirror_mode": {
    "name": "ipython",
    "version": 3
   },
   "file_extension": ".py",
   "mimetype": "text/x-python",
   "name": "python",
   "nbconvert_exporter": "python",
   "pygments_lexer": "ipython3",
   "version": "3.9.16"
  }
 },
 "nbformat": 4,
 "nbformat_minor": 2
}
