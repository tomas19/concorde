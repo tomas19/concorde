{
 "cells": [
  {
   "cell_type": "code",
   "execution_count": 79,
   "metadata": {},
   "outputs": [],
   "source": [
    "import geopandas as gpd\n",
    "import netCDF4 as netcdf\n",
    "import pandas as pd\n",
    "from concorde.tools import get_list\n",
    "from tqdm import tqdm\n",
    "from kalpana.export import getDates\n",
    "import pickle"
   ]
  },
  {
   "cell_type": "code",
   "execution_count": 2,
   "metadata": {},
   "outputs": [],
   "source": [
    "pathin = r'/media/tacuevas/Extreme SSD/batch02'\n",
    "files = sorted(get_list(pathin, ends='fort.63.nc'))"
   ]
  },
  {
   "cell_type": "code",
   "execution_count": 3,
   "metadata": {},
   "outputs": [],
   "source": [
    "bbox_file = r'../gis/gpkg/bounding_box_max_flooding.gpkg'\n",
    "bbox = gpd.read_file(bbox_file)\n",
    "bbox = list(bbox.geometry.iloc[0].boundary.coords)"
   ]
  },
  {
   "cell_type": "code",
   "execution_count": 4,
   "metadata": {},
   "outputs": [],
   "source": [
    "maxWLatNC = pd.read_pickle(r'../models/adcirc/concorde/batch02/_postprocessing/max_water_level_NC.pkl')"
   ]
  },
  {
   "cell_type": "code",
   "execution_count": 72,
   "metadata": {},
   "outputs": [],
   "source": [
    "dct = {}\n",
    "for j, i in tqdm(enumerate(maxWLatNC.index)):\n",
    "    f63 = netcdf.Dataset(files[j])\n",
    "    xvert = list(f63['x'][:].data).index(maxWLatNC.loc[i, 'x'])\n",
    "    yvert = list(f63['y'][:].data).index(maxWLatNC.loc[i, 'y'])\n",
    "    ts = f63['zeta'][:, xvert].data\n",
    "    dates = getDates(files[j])\n",
    "    dates['zeta'] = ts\n",
    "    dct[i] = dates"
   ]
  },
  {
   "cell_type": "code",
   "execution_count": 80,
   "metadata": {},
   "outputs": [],
   "source": [
    "with open(r'../models/adcirc/concorde/batch02/_postprocessing/time_series_water_level_at_max_NC.pkl', 'wb') as handle:\n",
    "    pickle.dump(dct, handle, protocol=pickle.HIGHEST_PROTOCOL)"
   ]
  },
  {
   "cell_type": "code",
   "execution_count": null,
   "metadata": {},
   "outputs": [],
   "source": []
  }
 ],
 "metadata": {
  "kernelspec": {
   "display_name": "concorde",
   "language": "python",
   "name": "python3"
  },
  "language_info": {
   "codemirror_mode": {
    "name": "ipython",
    "version": 3
   },
   "file_extension": ".py",
   "mimetype": "text/x-python",
   "name": "python",
   "nbconvert_exporter": "python",
   "pygments_lexer": "ipython3",
   "version": "3.9.16"
  },
  "orig_nbformat": 4
 },
 "nbformat": 4,
 "nbformat_minor": 2
}
