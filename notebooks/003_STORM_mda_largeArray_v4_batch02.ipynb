{
 "cells": [
  {
   "cell_type": "code",
   "execution_count": 1,
   "id": "3e5c27a1",
   "metadata": {},
   "outputs": [
    {
     "data": {
      "text/html": [
       "<style>.container { width:98% !important; }</style>"
      ],
      "text/plain": [
       "<IPython.core.display.HTML object>"
      ]
     },
     "metadata": {},
     "output_type": "display_data"
    },
    {
     "name": "stderr",
     "output_type": "stream",
     "text": [
      "/tmp/ipykernel_13734/1868100766.py:12: MatplotlibDeprecationWarning: The seaborn styles shipped by Matplotlib are deprecated since 3.6, as they no longer correspond to the styles shipped by seaborn. However, they will remain available as 'seaborn-v0_8-<style>'. Alternatively, directly use the seaborn API instead.\n",
      "  plt.style.use('seaborn-whitegrid')\n"
     ]
    }
   ],
   "source": [
    "import os\n",
    "import pandas as pd\n",
    "from tqdm import tqdm\n",
    "import time\n",
    "import numpy as np\n",
    "from IPython.display import display, HTML\n",
    "display(HTML(\"<style>.container { width:98% !important; }</style>\"))\n",
    "from concorde.mda import anti_neighbors_vectorized\n",
    "from concorde.plots import scatter_interpolate\n",
    "from concorde.tools import ssScale\n",
    "import matplotlib.pyplot as plt\n",
    "plt.style.use('seaborn-whitegrid')\n",
    "plt.rcParams.update({'font.size': 10})\n",
    "from matplotlib.offsetbox import AnchoredText\n",
    "import seaborn as sns\n",
    "import warnings\n",
    "warnings.filterwarnings(\"ignore\")\n",
    "import geopandas as gpd\n",
    "# from shapely.geometry import Point\n",
    "from scipy.stats import gaussian_kde"
   ]
  },
  {
   "cell_type": "code",
   "execution_count": 2,
   "id": "cbc84e7b",
   "metadata": {},
   "outputs": [
    {
     "data": {
      "application/javascript": "IPython.notebook.kernel.execute('nb_name = \"' + IPython.notebook.notebook_name + '\"')\n",
      "text/plain": [
       "<IPython.core.display.Javascript object>"
      ]
     },
     "metadata": {},
     "output_type": "display_data"
    }
   ],
   "source": [
    "%%javascript\n",
    "IPython.notebook.kernel.execute('nb_name = \"' + IPython.notebook.notebook_name + '\"')"
   ]
  },
  {
   "attachments": {},
   "cell_type": "markdown",
   "id": "944f5059",
   "metadata": {},
   "source": [
    "#### Loaddata"
   ]
  },
  {
   "cell_type": "code",
   "execution_count": 3,
   "id": "b981db8b",
   "metadata": {},
   "outputs": [
    {
     "data": {
      "text/html": [
       "<div>\n",
       "<style scoped>\n",
       "    .dataframe tbody tr th:only-of-type {\n",
       "        vertical-align: middle;\n",
       "    }\n",
       "\n",
       "    .dataframe tbody tr th {\n",
       "        vertical-align: top;\n",
       "    }\n",
       "\n",
       "    .dataframe thead th {\n",
       "        text-align: right;\n",
       "    }\n",
       "</style>\n",
       "<table border=\"1\" class=\"dataframe\">\n",
       "  <thead>\n",
       "    <tr style=\"text-align: right;\">\n",
       "      <th></th>\n",
       "      <th>year</th>\n",
       "      <th>month</th>\n",
       "      <th>yr_tc_number</th>\n",
       "      <th>time_step_at_min_press</th>\n",
       "      <th>time_step_at_min_distNC</th>\n",
       "      <th>lat_at_min_press</th>\n",
       "      <th>lon_at_min_press</th>\n",
       "      <th>lat_at_min_distNC</th>\n",
       "      <th>lon_at_min_distNC</th>\n",
       "      <th>min_press_at_min_distNC</th>\n",
       "      <th>...</th>\n",
       "      <th>distNC_at_min_distNC</th>\n",
       "      <th>distNC_at_min_press</th>\n",
       "      <th>heading_dir_at_min_distNC</th>\n",
       "      <th>heading_dir_at_min_press</th>\n",
       "      <th>duration</th>\n",
       "      <th>lat_gen</th>\n",
       "      <th>lon_gen</th>\n",
       "      <th>length</th>\n",
       "      <th>mean_heading_dir_inter</th>\n",
       "      <th>mean_curvature_inter</th>\n",
       "    </tr>\n",
       "  </thead>\n",
       "  <tbody>\n",
       "    <tr>\n",
       "      <th>0</th>\n",
       "      <td>3.0</td>\n",
       "      <td>9.0</td>\n",
       "      <td>1.0</td>\n",
       "      <td>16.0</td>\n",
       "      <td>70.0</td>\n",
       "      <td>16.1</td>\n",
       "      <td>-49.4</td>\n",
       "      <td>33.3</td>\n",
       "      <td>-78.6</td>\n",
       "      <td>997.1</td>\n",
       "      <td>...</td>\n",
       "      <td>86.775640</td>\n",
       "      <td>3383.824337</td>\n",
       "      <td>327.994617</td>\n",
       "      <td>296.565051</td>\n",
       "      <td>219</td>\n",
       "      <td>11.7</td>\n",
       "      <td>-34.3</td>\n",
       "      <td>5.914717e+06</td>\n",
       "      <td>336.801409</td>\n",
       "      <td>0.000000</td>\n",
       "    </tr>\n",
       "    <tr>\n",
       "      <th>1</th>\n",
       "      <td>6.0</td>\n",
       "      <td>9.0</td>\n",
       "      <td>10.0</td>\n",
       "      <td>34.0</td>\n",
       "      <td>49.0</td>\n",
       "      <td>22.6</td>\n",
       "      <td>-75.9</td>\n",
       "      <td>34.1</td>\n",
       "      <td>-78.6</td>\n",
       "      <td>931.6</td>\n",
       "      <td>...</td>\n",
       "      <td>59.705246</td>\n",
       "      <td>1269.069372</td>\n",
       "      <td>355.236358</td>\n",
       "      <td>326.309932</td>\n",
       "      <td>162</td>\n",
       "      <td>13.4</td>\n",
       "      <td>-58.8</td>\n",
       "      <td>4.107373e+06</td>\n",
       "      <td>353.744103</td>\n",
       "      <td>0.026774</td>\n",
       "    </tr>\n",
       "    <tr>\n",
       "      <th>2</th>\n",
       "      <td>12.0</td>\n",
       "      <td>9.0</td>\n",
       "      <td>2.0</td>\n",
       "      <td>43.0</td>\n",
       "      <td>63.0</td>\n",
       "      <td>28.0</td>\n",
       "      <td>-65.8</td>\n",
       "      <td>35.4</td>\n",
       "      <td>-75.2</td>\n",
       "      <td>963.1</td>\n",
       "      <td>...</td>\n",
       "      <td>54.504938</td>\n",
       "      <td>1252.456827</td>\n",
       "      <td>353.659808</td>\n",
       "      <td>308.659808</td>\n",
       "      <td>210</td>\n",
       "      <td>8.6</td>\n",
       "      <td>-45.7</td>\n",
       "      <td>5.071078e+06</td>\n",
       "      <td>350.055435</td>\n",
       "      <td>0.129835</td>\n",
       "    </tr>\n",
       "    <tr>\n",
       "      <th>3</th>\n",
       "      <td>12.0</td>\n",
       "      <td>8.0</td>\n",
       "      <td>8.0</td>\n",
       "      <td>57.0</td>\n",
       "      <td>74.0</td>\n",
       "      <td>28.1</td>\n",
       "      <td>-69.5</td>\n",
       "      <td>35.3</td>\n",
       "      <td>-75.8</td>\n",
       "      <td>991.8</td>\n",
       "      <td>...</td>\n",
       "      <td>11.094700</td>\n",
       "      <td>988.691903</td>\n",
       "      <td>14.036243</td>\n",
       "      <td>296.565051</td>\n",
       "      <td>240</td>\n",
       "      <td>6.8</td>\n",
       "      <td>-30.5</td>\n",
       "      <td>6.057396e+06</td>\n",
       "      <td>13.948292</td>\n",
       "      <td>0.624748</td>\n",
       "    </tr>\n",
       "    <tr>\n",
       "      <th>4</th>\n",
       "      <td>16.0</td>\n",
       "      <td>9.0</td>\n",
       "      <td>4.0</td>\n",
       "      <td>2.0</td>\n",
       "      <td>1.0</td>\n",
       "      <td>37.6</td>\n",
       "      <td>-76.4</td>\n",
       "      <td>36.8</td>\n",
       "      <td>-76.1</td>\n",
       "      <td>990.8</td>\n",
       "      <td>...</td>\n",
       "      <td>37.790654</td>\n",
       "      <td>129.925612</td>\n",
       "      <td>339.443955</td>\n",
       "      <td>0.000000</td>\n",
       "      <td>24</td>\n",
       "      <td>35.9</td>\n",
       "      <td>-75.8</td>\n",
       "      <td>7.739767e+05</td>\n",
       "      <td>340.504503</td>\n",
       "      <td>0.000000</td>\n",
       "    </tr>\n",
       "  </tbody>\n",
       "</table>\n",
       "<p>5 rows × 30 columns</p>\n",
       "</div>"
      ],
      "text/plain": [
       "   year  month  yr_tc_number  time_step_at_min_press  time_step_at_min_distNC  \\\n",
       "0   3.0    9.0           1.0                    16.0                     70.0   \n",
       "1   6.0    9.0          10.0                    34.0                     49.0   \n",
       "2  12.0    9.0           2.0                    43.0                     63.0   \n",
       "3  12.0    8.0           8.0                    57.0                     74.0   \n",
       "4  16.0    9.0           4.0                     2.0                      1.0   \n",
       "\n",
       "   lat_at_min_press  lon_at_min_press  lat_at_min_distNC  lon_at_min_distNC  \\\n",
       "0              16.1             -49.4               33.3              -78.6   \n",
       "1              22.6             -75.9               34.1              -78.6   \n",
       "2              28.0             -65.8               35.4              -75.2   \n",
       "3              28.1             -69.5               35.3              -75.8   \n",
       "4              37.6             -76.4               36.8              -76.1   \n",
       "\n",
       "   min_press_at_min_distNC  ...  distNC_at_min_distNC  distNC_at_min_press  \\\n",
       "0                    997.1  ...             86.775640          3383.824337   \n",
       "1                    931.6  ...             59.705246          1269.069372   \n",
       "2                    963.1  ...             54.504938          1252.456827   \n",
       "3                    991.8  ...             11.094700           988.691903   \n",
       "4                    990.8  ...             37.790654           129.925612   \n",
       "\n",
       "   heading_dir_at_min_distNC  heading_dir_at_min_press  duration  lat_gen  \\\n",
       "0                 327.994617                296.565051       219     11.7   \n",
       "1                 355.236358                326.309932       162     13.4   \n",
       "2                 353.659808                308.659808       210      8.6   \n",
       "3                  14.036243                296.565051       240      6.8   \n",
       "4                 339.443955                  0.000000        24     35.9   \n",
       "\n",
       "   lon_gen        length  mean_heading_dir_inter  mean_curvature_inter  \n",
       "0    -34.3  5.914717e+06              336.801409              0.000000  \n",
       "1    -58.8  4.107373e+06              353.744103              0.026774  \n",
       "2    -45.7  5.071078e+06              350.055435              0.129835  \n",
       "3    -30.5  6.057396e+06               13.948292              0.624748  \n",
       "4    -75.8  7.739767e+05              340.504503              0.000000  \n",
       "\n",
       "[5 rows x 30 columns]"
      ]
     },
     "execution_count": 3,
     "metadata": {},
     "output_type": "execute_result"
    }
   ],
   "source": [
    "df = pd.read_pickle(r'../data/STORM/processed/batch02/STORM_NA_R5_In_v3_pnt.pkl')\n",
    "df.head()"
   ]
  },
  {
   "cell_type": "code",
   "execution_count": 4,
   "id": "e98d33d4",
   "metadata": {},
   "outputs": [
    {
     "data": {
      "text/plain": [
       "3626"
      ]
     },
     "execution_count": 4,
     "metadata": {},
     "output_type": "execute_result"
    }
   ],
   "source": [
    "len(df)"
   ]
  },
  {
   "cell_type": "code",
   "execution_count": 5,
   "id": "5a58dddd",
   "metadata": {},
   "outputs": [],
   "source": [
    "df['cat_at_min_distNC'] = [ssScale(x) for x in df['max_ws_at_min_distNC'].values]"
   ]
  },
  {
   "cell_type": "code",
   "execution_count": 6,
   "id": "31bb1171",
   "metadata": {},
   "outputs": [
    {
     "name": "stdout",
     "output_type": "stream",
     "text": [
      "11\n"
     ]
    },
    {
     "data": {
      "text/html": [
       "<div>\n",
       "<style scoped>\n",
       "    .dataframe tbody tr th:only-of-type {\n",
       "        vertical-align: middle;\n",
       "    }\n",
       "\n",
       "    .dataframe tbody tr th {\n",
       "        vertical-align: top;\n",
       "    }\n",
       "\n",
       "    .dataframe thead th {\n",
       "        text-align: right;\n",
       "    }\n",
       "</style>\n",
       "<table border=\"1\" class=\"dataframe\">\n",
       "  <thead>\n",
       "    <tr style=\"text-align: right;\">\n",
       "      <th></th>\n",
       "      <th>count</th>\n",
       "      <th>mean</th>\n",
       "      <th>std</th>\n",
       "      <th>min</th>\n",
       "      <th>25%</th>\n",
       "      <th>50%</th>\n",
       "      <th>75%</th>\n",
       "      <th>max</th>\n",
       "    </tr>\n",
       "  </thead>\n",
       "  <tbody>\n",
       "    <tr>\n",
       "      <th>lat_at_min_distNC</th>\n",
       "      <td>1814.0</td>\n",
       "      <td>34.561742</td>\n",
       "      <td>1.317317</td>\n",
       "      <td>27.000000</td>\n",
       "      <td>33.800000</td>\n",
       "      <td>34.500000</td>\n",
       "      <td>35.300000</td>\n",
       "      <td>39.900000</td>\n",
       "    </tr>\n",
       "    <tr>\n",
       "      <th>lon_at_min_distNC</th>\n",
       "      <td>1814.0</td>\n",
       "      <td>-76.861742</td>\n",
       "      <td>1.843054</td>\n",
       "      <td>-84.200000</td>\n",
       "      <td>-78.200000</td>\n",
       "      <td>-76.600000</td>\n",
       "      <td>-75.600000</td>\n",
       "      <td>-69.700000</td>\n",
       "    </tr>\n",
       "    <tr>\n",
       "      <th>min_press_at_min_distNC</th>\n",
       "      <td>1814.0</td>\n",
       "      <td>956.767310</td>\n",
       "      <td>15.242113</td>\n",
       "      <td>883.400000</td>\n",
       "      <td>946.800000</td>\n",
       "      <td>959.100000</td>\n",
       "      <td>969.400000</td>\n",
       "      <td>983.900000</td>\n",
       "    </tr>\n",
       "    <tr>\n",
       "      <th>rad_to_max_ws_at_min_distNC</th>\n",
       "      <td>1814.0</td>\n",
       "      <td>51.152627</td>\n",
       "      <td>23.481239</td>\n",
       "      <td>9.260000</td>\n",
       "      <td>37.040001</td>\n",
       "      <td>46.299999</td>\n",
       "      <td>60.032873</td>\n",
       "      <td>178.175177</td>\n",
       "    </tr>\n",
       "    <tr>\n",
       "      <th>forward_speed_at_min_distNC</th>\n",
       "      <td>1814.0</td>\n",
       "      <td>31.589143</td>\n",
       "      <td>10.457845</td>\n",
       "      <td>3.068625</td>\n",
       "      <td>24.046466</td>\n",
       "      <td>31.513909</td>\n",
       "      <td>38.154161</td>\n",
       "      <td>77.134334</td>\n",
       "    </tr>\n",
       "    <tr>\n",
       "      <th>landfall</th>\n",
       "      <td>1814.0</td>\n",
       "      <td>0.954245</td>\n",
       "      <td>0.209011</td>\n",
       "      <td>0.000000</td>\n",
       "      <td>1.000000</td>\n",
       "      <td>1.000000</td>\n",
       "      <td>1.000000</td>\n",
       "      <td>1.000000</td>\n",
       "    </tr>\n",
       "    <tr>\n",
       "      <th>duration</th>\n",
       "      <td>1814.0</td>\n",
       "      <td>162.329107</td>\n",
       "      <td>89.188097</td>\n",
       "      <td>33.000000</td>\n",
       "      <td>90.000000</td>\n",
       "      <td>150.000000</td>\n",
       "      <td>216.000000</td>\n",
       "      <td>678.000000</td>\n",
       "    </tr>\n",
       "    <tr>\n",
       "      <th>lat_gen</th>\n",
       "      <td>1814.0</td>\n",
       "      <td>18.510033</td>\n",
       "      <td>7.293856</td>\n",
       "      <td>5.200000</td>\n",
       "      <td>12.100000</td>\n",
       "      <td>17.300000</td>\n",
       "      <td>25.200000</td>\n",
       "      <td>36.800000</td>\n",
       "    </tr>\n",
       "    <tr>\n",
       "      <th>lon_gen</th>\n",
       "      <td>1814.0</td>\n",
       "      <td>-57.642117</td>\n",
       "      <td>17.089490</td>\n",
       "      <td>-96.800000</td>\n",
       "      <td>-72.775000</td>\n",
       "      <td>-60.100000</td>\n",
       "      <td>-42.800000</td>\n",
       "      <td>-21.100000</td>\n",
       "    </tr>\n",
       "    <tr>\n",
       "      <th>mean_heading_dir_inter</th>\n",
       "      <td>1814.0</td>\n",
       "      <td>221.599087</td>\n",
       "      <td>142.385297</td>\n",
       "      <td>0.000000</td>\n",
       "      <td>37.719150</td>\n",
       "      <td>307.709886</td>\n",
       "      <td>332.077007</td>\n",
       "      <td>360.000000</td>\n",
       "    </tr>\n",
       "    <tr>\n",
       "      <th>mean_curvature_inter</th>\n",
       "      <td>1814.0</td>\n",
       "      <td>0.102427</td>\n",
       "      <td>0.211173</td>\n",
       "      <td>0.000000</td>\n",
       "      <td>0.008325</td>\n",
       "      <td>0.048902</td>\n",
       "      <td>0.111659</td>\n",
       "      <td>2.648283</td>\n",
       "    </tr>\n",
       "  </tbody>\n",
       "</table>\n",
       "</div>"
      ],
      "text/plain": [
       "                              count        mean         std         min  \\\n",
       "lat_at_min_distNC            1814.0   34.561742    1.317317   27.000000   \n",
       "lon_at_min_distNC            1814.0  -76.861742    1.843054  -84.200000   \n",
       "min_press_at_min_distNC      1814.0  956.767310   15.242113  883.400000   \n",
       "rad_to_max_ws_at_min_distNC  1814.0   51.152627   23.481239    9.260000   \n",
       "forward_speed_at_min_distNC  1814.0   31.589143   10.457845    3.068625   \n",
       "landfall                     1814.0    0.954245    0.209011    0.000000   \n",
       "duration                     1814.0  162.329107   89.188097   33.000000   \n",
       "lat_gen                      1814.0   18.510033    7.293856    5.200000   \n",
       "lon_gen                      1814.0  -57.642117   17.089490  -96.800000   \n",
       "mean_heading_dir_inter       1814.0  221.599087  142.385297    0.000000   \n",
       "mean_curvature_inter         1814.0    0.102427    0.211173    0.000000   \n",
       "\n",
       "                                    25%         50%         75%         max  \n",
       "lat_at_min_distNC             33.800000   34.500000   35.300000   39.900000  \n",
       "lon_at_min_distNC            -78.200000  -76.600000  -75.600000  -69.700000  \n",
       "min_press_at_min_distNC      946.800000  959.100000  969.400000  983.900000  \n",
       "rad_to_max_ws_at_min_distNC   37.040001   46.299999   60.032873  178.175177  \n",
       "forward_speed_at_min_distNC   24.046466   31.513909   38.154161   77.134334  \n",
       "landfall                       1.000000    1.000000    1.000000    1.000000  \n",
       "duration                      90.000000  150.000000  216.000000  678.000000  \n",
       "lat_gen                       12.100000   17.300000   25.200000   36.800000  \n",
       "lon_gen                      -72.775000  -60.100000  -42.800000  -21.100000  \n",
       "mean_heading_dir_inter        37.719150  307.709886  332.077007  360.000000  \n",
       "mean_curvature_inter           0.008325    0.048902    0.111659    2.648283  "
      ]
     },
     "execution_count": 6,
     "metadata": {},
     "output_type": "execute_result"
    }
   ],
   "source": [
    "df = df[df['cat_at_min_distNC'] > 0]\n",
    "df = df[df['rad_to_max_ws_at_min_distNC'] < df['rad_to_max_ws_at_min_distNC'].quantile(0.995)]\n",
    "df = df[df['mean_curvature_inter'] < df['mean_curvature_inter'].quantile(0.995)]\n",
    "\n",
    "df.index = df['tc_number']\n",
    "dfr = df.drop(['year', 'yr_tc_number', 'tc_number', 'max_cat', 'time_step_at_min_press', \n",
    "               'time_step_at_min_distNC', 'lat_at_min_press', 'lon_at_min_press', \n",
    "               'min_press_at_min_press', 'max_ws_at_min_press',\n",
    "               'rad_to_max_ws_at_min_press', 'forward_speed_at_min_press', \n",
    "               'distNC_at_min_press', 'heading_dir_at_min_press', 'max_ws_at_min_distNC', \n",
    "               'heading_dir_at_min_distNC', 'length', 'distNC_at_min_distNC', 'month', 'cat_at_min_distNC'], \n",
    "               axis = 1)\n",
    "\n",
    "# dfr.to_pickle(r'../data/STORM/processed/batch02/STORM_NA_R5_In_v3_pnt_inpMDA_minCat1.pkl')\n",
    "dfr.index = range(len(dfr))\n",
    "print(len(dfr.columns))\n",
    "dfr.describe().T"
   ]
  },
  {
   "cell_type": "code",
   "execution_count": 7,
   "id": "e76d7e1a",
   "metadata": {},
   "outputs": [
    {
     "data": {
      "text/plain": [
       "1814"
      ]
     },
     "execution_count": 7,
     "metadata": {},
     "output_type": "execute_result"
    }
   ],
   "source": [
    "len(dfr)"
   ]
  },
  {
   "cell_type": "code",
   "execution_count": 6,
   "id": "9b9003b5",
   "metadata": {},
   "outputs": [],
   "source": [
    "index = [0 if 'heading_dir' in x else 1 for x in dfr.columns]"
   ]
  },
  {
   "cell_type": "code",
   "execution_count": 7,
   "id": "cbced7c3",
   "metadata": {},
   "outputs": [
    {
     "name": "stderr",
     "output_type": "stream",
     "text": [
      "100%|██████████| 1813/1813 [00:02<00:00, 725.91it/s] \n"
     ]
    }
   ],
   "source": [
    "cl = anti_neighbors_vectorized(dfr, len(dfr), index)"
   ]
  },
  {
   "cell_type": "code",
   "execution_count": 8,
   "id": "d34be908",
   "metadata": {},
   "outputs": [],
   "source": [
    "dfr['tc_number'] = df.index\n",
    "cl['tc_number'] = df.iloc[cl['index_cluster'], :].index\n",
    "cl.to_pickle(f'../data/STORM/processed/batch02/STORM_NA_R5_In_v3_pnt_MDAvec_11params_{len(dfr)}_minCat1.pkl')"
   ]
  },
  {
   "cell_type": "code",
   "execution_count": null,
   "id": "4f82e729",
   "metadata": {},
   "outputs": [],
   "source": []
  }
 ],
 "metadata": {
  "kernelspec": {
   "display_name": "Python 3 (ipykernel)",
   "language": "python",
   "name": "python3"
  },
  "language_info": {
   "codemirror_mode": {
    "name": "ipython",
    "version": 3
   },
   "file_extension": ".py",
   "mimetype": "text/x-python",
   "name": "python",
   "nbconvert_exporter": "python",
   "pygments_lexer": "ipython3",
   "version": "3.11.3"
  },
  "varInspector": {
   "cols": {
    "lenName": 16,
    "lenType": 16,
    "lenVar": 40
   },
   "kernels_config": {
    "python": {
     "delete_cmd_postfix": "",
     "delete_cmd_prefix": "del ",
     "library": "var_list.py",
     "varRefreshCmd": "print(var_dic_list())"
    },
    "r": {
     "delete_cmd_postfix": ") ",
     "delete_cmd_prefix": "rm(",
     "library": "var_list.r",
     "varRefreshCmd": "cat(var_dic_list()) "
    }
   },
   "types_to_exclude": [
    "module",
    "function",
    "builtin_function_or_method",
    "instance",
    "_Feature"
   ],
   "window_display": false
  }
 },
 "nbformat": 4,
 "nbformat_minor": 5
}
