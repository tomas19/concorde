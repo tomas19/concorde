{
 "cells": [
  {
   "cell_type": "code",
   "execution_count": 1,
   "metadata": {},
   "outputs": [
    {
     "name": "stderr",
     "output_type": "stream",
     "text": [
      "/home/tacuevas/miniconda3/envs/tf2/lib/python3.10/site-packages/scipy/__init__.py:146: UserWarning: A NumPy version >=1.17.3 and <1.25.0 is required for this version of SciPy (detected version 1.26.0\n",
      "  warnings.warn(f\"A NumPy version >={np_minversion} and <{np_maxversion}\"\n",
      "2023-12-26 17:32:23.924438: I tensorflow/core/platform/cpu_feature_guard.cc:193] This TensorFlow binary is optimized with oneAPI Deep Neural Network Library (oneDNN) to use the following CPU instructions in performance-critical operations:  AVX2 AVX512F FMA\n",
      "To enable them in other operations, rebuild TensorFlow with the appropriate compiler flags.\n",
      "2023-12-26 17:32:24.933204: W tensorflow/compiler/xla/stream_executor/platform/default/dso_loader.cc:64] Could not load dynamic library 'libnvinfer.so.7'; dlerror: libnvinfer.so.7: cannot open shared object file: No such file or directory; LD_LIBRARY_PATH: :/home/tacuevas/miniconda3/envs/tf2/lib/\n",
      "2023-12-26 17:32:24.933331: W tensorflow/compiler/xla/stream_executor/platform/default/dso_loader.cc:64] Could not load dynamic library 'libnvinfer_plugin.so.7'; dlerror: libnvinfer_plugin.so.7: cannot open shared object file: No such file or directory; LD_LIBRARY_PATH: :/home/tacuevas/miniconda3/envs/tf2/lib/\n",
      "2023-12-26 17:32:24.933341: W tensorflow/compiler/tf2tensorrt/utils/py_utils.cc:38] TF-TRT Warning: Cannot dlopen some TensorRT libraries. If you would like to use Nvidia GPU with TensorRT, please make sure the missing libraries mentioned above are installed properly.\n"
     ]
    }
   ],
   "source": [
    "# %%\n",
    "import os\n",
    "import numpy as np\n",
    "import pandas as pd\n",
    "from pathlib import Path\n",
    "import pandas as pd\n",
    "import seaborn as sns\n",
    "import matplotlib.pyplot as plt\n",
    "from sklearn.model_selection import KFold, train_test_split\n",
    "\n",
    "import tensorflow as tf\n",
    "from tensorflow.keras.models import Sequential\n",
    "from tensorflow.keras.layers import Input, Dense, Flatten, BatchNormalization, Dropout, Masking\n",
    "from keras.layers.convolutional import Conv1D, MaxPooling1D, AveragePooling1D\n",
    "from tensorflow.keras.optimizers import RMSprop, Adam\n",
    "import tensorflow.keras.backend as K\n",
    "import time\n",
    "\n",
    "# %%\n",
    "seed = 42\n",
    "tf.random.set_seed(seed)\n",
    "np.random.seed(seed)\n",
    "\n",
    "# %%\n",
    "#### Change inputs\n",
    "modelID = '93js'\n",
    "## noaa stations following same order of the outputs\n",
    "NOAAstations = ['Duck', 'Oregon', 'Hatteras', 'Beaufort', 'Wilmington', 'Wrightsville']\n",
    "\n",
    "#### Define paths and load data\n",
    "# pathData = Path(r'../../../data/random_split')\n",
    "pathData = Path(r'/mnt/drive1/Insyncs/NCSU/thesis/models/NNmodel/inputs/random_split')\n",
    "# pathColSample = pathData.parent\n",
    "pathColSample = Path(r'/mnt/drive1/Insyncs/NCSU/thesis/models/adcirc/concorde/batch02/_postprocessing/_preprocessForNN')\n",
    "X_train_file = 'X_train_standardScaled_allInputs_augmentedAllX50_def.npy'\n",
    "Y_train_file = 'y_train_augmentedAllX50_def.npy'\n",
    "X_test_file = 'X_test_standardScaled_allInputs_augmentedAllX50_def.npy'\n",
    "Y_test_file = 'y_test_augmentedAllX50_def.npy'\n",
    "\n",
    "#### some hyperparameters\n",
    "batch_size = 100\n",
    "epochs = 1000\n",
    "fold = 1 ## no cross validation\n"
   ]
  },
  {
   "cell_type": "code",
   "execution_count": 2,
   "metadata": {},
   "outputs": [],
   "source": [
    "#### path to store outputs\n",
    "#pathOut0 = Path(r'/mnt/drive1/Insyncs/NCSU/thesis/models/NNmodel/81')\n",
    "pathOut = Path(f'../models/NNmodel/1DCNN_final_architecture/fftAndLocalTides/{modelID}')\n",
    "#pathOut0 = pathOut0/st\n",
    "\n",
    "#### class to save best model\n",
    "class CustomCallback(tf.keras.callbacks.Callback):\n",
    "    def __init__(self, pathout, fold, modelID):\n",
    "        super(CustomCallback, self).__init__()\n",
    "        self.pathout = pathout\n",
    "        self.fold = fold\n",
    "        self.modelID = modelID\n",
    "        self.previous_val_loss = float('inf')  # Initialize with a high value\n",
    "        self.best_epoch = None\n",
    "        self.best_model = None\n",
    "    \n",
    "    def on_epoch_end(self, epoch, logs=None):\n",
    "        current_val_loss = logs.get('val_loss')\n",
    "        if current_val_loss is not None and current_val_loss < self.previous_val_loss:\n",
    "            self.model.save(self.pathout / f'bestModel_{self.modelID}_fold{self.fold}.tf')\n",
    "            self.previous_val_loss = current_val_loss\n",
    "            self.best_epoch = epoch\n",
    "            self.best_model = self.model\n",
    "            with open(self.pathout / f'best_model.txt', 'a') as fout:\n",
    "                fout.write(f'Best model saved for fold {self.fold}: epoch {self.best_epoch}, val_loss: {current_val_loss:0.3f}\\n')\n",
    "\n",
    "#### load data\n",
    "X_train = np.load(pathData/X_train_file)\n",
    "y_train = np.load(pathData/Y_train_file)\n",
    "X_test = np.load(pathData/X_test_file)\n",
    "y_test = np.load(pathData/Y_test_file)\n",
    "\n",
    "#### train/validation split\n",
    "X_train_sub, X_val, y_train_sub, y_val = train_test_split(X_train, y_train, test_size=0.2, random_state=42)\n",
    "\n",
    "#### pathout\n",
    "#pathOut = pathOut0/st\n",
    "\n",
    "columns_sample = pd.read_csv(pathColSample/'dct_tracksAll_batch02_lengthCorr_tides_resampled_SAMPLE.csv', index_col = 0)\n",
    "\n",
    "## inputs\n",
    "cols = ['wind_speed', 'pressure', 'rad_to_max_ws', 'forward_speed_u', 'forward_speed_v',\n",
    "            'dist_to_duck', 'Duck', 'dist_to_oregon', 'Oregon', 'dist_to_hatteras', 'Hatteras', 'dist_to_beaufort', 'Beaufort', 'dist_to_wilmington', 'Wilmington', 'dist_to_wrightsville', 'Wrightsville', \n",
    "            'wind_speed_fft', 'pressure_fft', 'rad_to_max_ws_fft',\n",
    "            'forward_speed_u_fft', 'forward_speed_v_fft']"
   ]
  },
  {
   "cell_type": "code",
   "execution_count": 3,
   "metadata": {},
   "outputs": [],
   "source": [
    "## extract inputs idx from the full input array\n",
    "idx_cols = [list(columns_sample).index(x) for x in cols]\n",
    "X_train_sub2 = X_train_sub[:, :, idx_cols]\n",
    "X_val2 = X_val[:, :, idx_cols]\n",
    "X_test2 = X_test[:, :, idx_cols]"
   ]
  },
  {
   "cell_type": "code",
   "execution_count": 4,
   "metadata": {},
   "outputs": [
    {
     "name": "stdout",
     "output_type": "stream",
     "text": [
      "Model: \"sequential\"\n",
      "_________________________________________________________________\n",
      " Layer (type)                Output Shape              Param #   \n",
      "=================================================================\n",
      " masking (Masking)           (None, 235, 22)           0         \n",
      "                                                                 \n",
      " conv1d (Conv1D)             (None, 233, 16)           1072      \n"
     ]
    },
    {
     "name": "stderr",
     "output_type": "stream",
     "text": [
      "2023-12-26 17:32:37.399158: I tensorflow/core/platform/cpu_feature_guard.cc:193] This TensorFlow binary is optimized with oneAPI Deep Neural Network Library (oneDNN) to use the following CPU instructions in performance-critical operations:  AVX2 AVX512F FMA\n",
      "To enable them in other operations, rebuild TensorFlow with the appropriate compiler flags.\n",
      "2023-12-26 17:32:38.782828: I tensorflow/core/common_runtime/gpu/gpu_device.cc:1613] Created device /job:localhost/replica:0/task:0/device:GPU:0 with 4356 MB memory:  -> device: 0, name: Quadro P2000, pci bus id: 0000:5b:00.0, compute capability: 6.1\n",
      "2023-12-26 17:32:38.783799: I tensorflow/core/common_runtime/gpu/gpu_device.cc:1613] Created device /job:localhost/replica:0/task:0/device:GPU:1 with 3620 MB memory:  -> device: 1, name: Quadro P2000, pci bus id: 0000:9e:00.0, compute capability: 6.1\n"
     ]
    },
    {
     "name": "stdout",
     "output_type": "stream",
     "text": [
      "                                                                 \n",
      " batch_normalization (BatchN  (None, 233, 16)          64        \n",
      " ormalization)                                                   \n",
      "                                                                 \n",
      " max_pooling1d (MaxPooling1D  (None, 116, 16)          0         \n",
      " )                                                               \n",
      "                                                                 \n",
      " conv1d_1 (Conv1D)           (None, 114, 32)           1568      \n",
      "                                                                 \n",
      " batch_normalization_1 (Batc  (None, 114, 32)          128       \n",
      " hNormalization)                                                 \n",
      "                                                                 \n",
      " max_pooling1d_1 (MaxPooling  (None, 57, 32)           0         \n",
      " 1D)                                                             \n",
      "                                                                 \n",
      " conv1d_2 (Conv1D)           (None, 55, 64)            6208      \n",
      "                                                                 \n",
      " batch_normalization_2 (Batc  (None, 55, 64)           256       \n",
      " hNormalization)                                                 \n",
      "                                                                 \n",
      " max_pooling1d_2 (MaxPooling  (None, 27, 64)           0         \n",
      " 1D)                                                             \n",
      "                                                                 \n",
      " flatten (Flatten)           (None, 1728)              0         \n",
      "                                                                 \n",
      " dense (Dense)               (None, 64)                110656    \n",
      "                                                                 \n",
      " dropout (Dropout)           (None, 64)                0         \n",
      "                                                                 \n",
      " dense_1 (Dense)             (None, 32)                2080      \n",
      "                                                                 \n",
      " dropout_1 (Dropout)         (None, 32)                0         \n",
      "                                                                 \n",
      " dense_2 (Dense)             (None, 6)                 198       \n",
      "                                                                 \n",
      "=================================================================\n",
      "Total params: 122,230\n",
      "Trainable params: 122,006\n",
      "Non-trainable params: 224\n",
      "_________________________________________________________________\n",
      "Epoch 1/1000\n"
     ]
    },
    {
     "name": "stderr",
     "output_type": "stream",
     "text": [
      "2023-12-26 17:32:45.539789: I tensorflow/compiler/xla/stream_executor/cuda/cuda_dnn.cc:428] Loaded cuDNN version 8100\n",
      "2023-12-26 17:32:45.889604: I tensorflow/tsl/platform/default/subprocess.cc:304] Start cannot spawn child process: No such file or directory\n",
      "2023-12-26 17:32:46.396724: I tensorflow/compiler/xla/service/service.cc:173] XLA service 0x7f7d7400c7f0 initialized for platform CUDA (this does not guarantee that XLA will be used). Devices:\n",
      "2023-12-26 17:32:46.396810: I tensorflow/compiler/xla/service/service.cc:181]   StreamExecutor device (0): Quadro P2000, Compute Capability 6.1\n",
      "2023-12-26 17:32:46.396836: I tensorflow/compiler/xla/service/service.cc:181]   StreamExecutor device (1): Quadro P2000, Compute Capability 6.1\n",
      "2023-12-26 17:32:46.411511: I tensorflow/compiler/mlir/tensorflow/utils/dump_mlir_util.cc:268] disabling MLIR crash reproducer, set env var `MLIR_CRASH_REPRODUCER_DIRECTORY` to enable.\n",
      "2023-12-26 17:32:46.492681: I tensorflow/tsl/platform/default/subprocess.cc:304] Start cannot spawn child process: No such file or directory\n",
      "2023-12-26 17:32:46.554300: I tensorflow/compiler/jit/xla_compilation_cache.cc:477] Compiled cluster using XLA!  This line is logged at most once for the lifetime of the process.\n"
     ]
    },
    {
     "name": "stdout",
     "output_type": "stream",
     "text": [
      "629/629 [==============================] - ETA: 0s - loss: 0.2097 - mse: 0.4813 - mae: 0.5017 - rmse: 0.6938"
     ]
    },
    {
     "name": "stderr",
     "output_type": "stream",
     "text": [
      "WARNING:absl:Found untraced functions such as _jit_compiled_convolution_op, _jit_compiled_convolution_op, _jit_compiled_convolution_op while saving (showing 3 of 3). These functions will not be directly callable after loading.\n"
     ]
    },
    {
     "name": "stdout",
     "output_type": "stream",
     "text": [
      "INFO:tensorflow:Assets written to: ../models/NNmodel/1DCNN_final_architecture/fftAndLocalTides/93as/bestModel_93as_fold1.tf/assets\n"
     ]
    },
    {
     "name": "stderr",
     "output_type": "stream",
     "text": [
      "INFO:tensorflow:Assets written to: ../models/NNmodel/1DCNN_final_architecture/fftAndLocalTides/93as/bestModel_93as_fold1.tf/assets\n"
     ]
    },
    {
     "name": "stdout",
     "output_type": "stream",
     "text": [
      "629/629 [==============================] - 22s 27ms/step - loss: 0.2097 - mse: 0.4813 - mae: 0.5017 - rmse: 0.6938 - val_loss: 0.1056 - val_mse: 0.2356 - val_mae: 0.3135 - val_rmse: 0.4854\n",
      "Epoch 2/1000\n",
      "629/629 [==============================] - ETA: 0s - loss: 0.1312 - mse: 0.2887 - mae: 0.3786 - rmse: 0.5373"
     ]
    },
    {
     "name": "stderr",
     "output_type": "stream",
     "text": [
      "WARNING:absl:Found untraced functions such as _jit_compiled_convolution_op, _jit_compiled_convolution_op, _jit_compiled_convolution_op while saving (showing 3 of 3). These functions will not be directly callable after loading.\n"
     ]
    },
    {
     "name": "stdout",
     "output_type": "stream",
     "text": [
      "INFO:tensorflow:Assets written to: ../models/NNmodel/1DCNN_final_architecture/fftAndLocalTides/93as/bestModel_93as_fold1.tf/assets\n"
     ]
    },
    {
     "name": "stderr",
     "output_type": "stream",
     "text": [
      "INFO:tensorflow:Assets written to: ../models/NNmodel/1DCNN_final_architecture/fftAndLocalTides/93as/bestModel_93as_fold1.tf/assets\n"
     ]
    },
    {
     "name": "stdout",
     "output_type": "stream",
     "text": [
      "629/629 [==============================] - 17s 26ms/step - loss: 0.1312 - mse: 0.2887 - mae: 0.3786 - rmse: 0.5373 - val_loss: 0.0810 - val_mse: 0.1735 - val_mae: 0.2799 - val_rmse: 0.4165\n",
      "Epoch 3/1000\n",
      "627/629 [============================>.] - ETA: 0s - loss: 0.1031 - mse: 0.2218 - mae: 0.3290 - rmse: 0.4710"
     ]
    },
    {
     "name": "stderr",
     "output_type": "stream",
     "text": [
      "WARNING:absl:Found untraced functions such as _jit_compiled_convolution_op, _jit_compiled_convolution_op, _jit_compiled_convolution_op while saving (showing 3 of 3). These functions will not be directly callable after loading.\n"
     ]
    },
    {
     "name": "stdout",
     "output_type": "stream",
     "text": [
      "INFO:tensorflow:Assets written to: ../models/NNmodel/1DCNN_final_architecture/fftAndLocalTides/93as/bestModel_93as_fold1.tf/assets\n"
     ]
    },
    {
     "name": "stderr",
     "output_type": "stream",
     "text": [
      "INFO:tensorflow:Assets written to: ../models/NNmodel/1DCNN_final_architecture/fftAndLocalTides/93as/bestModel_93as_fold1.tf/assets\n"
     ]
    },
    {
     "name": "stdout",
     "output_type": "stream",
     "text": [
      "629/629 [==============================] - 16s 25ms/step - loss: 0.1031 - mse: 0.2218 - mae: 0.3290 - rmse: 0.4710 - val_loss: 0.0687 - val_mse: 0.1458 - val_mae: 0.2521 - val_rmse: 0.3818\n",
      "Epoch 4/1000\n",
      "628/629 [============================>.] - ETA: 0s - loss: 0.0873 - mse: 0.1856 - mae: 0.2991 - rmse: 0.4308"
     ]
    },
    {
     "name": "stderr",
     "output_type": "stream",
     "text": [
      "WARNING:absl:Found untraced functions such as _jit_compiled_convolution_op, _jit_compiled_convolution_op, _jit_compiled_convolution_op while saving (showing 3 of 3). These functions will not be directly callable after loading.\n"
     ]
    },
    {
     "name": "stdout",
     "output_type": "stream",
     "text": [
      "INFO:tensorflow:Assets written to: ../models/NNmodel/1DCNN_final_architecture/fftAndLocalTides/93as/bestModel_93as_fold1.tf/assets\n"
     ]
    },
    {
     "name": "stderr",
     "output_type": "stream",
     "text": [
      "INFO:tensorflow:Assets written to: ../models/NNmodel/1DCNN_final_architecture/fftAndLocalTides/93as/bestModel_93as_fold1.tf/assets\n"
     ]
    },
    {
     "name": "stdout",
     "output_type": "stream",
     "text": [
      "629/629 [==============================] - 16s 25ms/step - loss: 0.0873 - mse: 0.1856 - mae: 0.2991 - rmse: 0.4308 - val_loss: 0.0593 - val_mse: 0.1235 - val_mae: 0.2384 - val_rmse: 0.3515\n",
      "Epoch 5/1000\n",
      "628/629 [============================>.] - ETA: 0s - loss: 0.0783 - mse: 0.1654 - mae: 0.2804 - rmse: 0.4067"
     ]
    },
    {
     "name": "stderr",
     "output_type": "stream",
     "text": [
      "WARNING:absl:Found untraced functions such as _jit_compiled_convolution_op, _jit_compiled_convolution_op, _jit_compiled_convolution_op while saving (showing 3 of 3). These functions will not be directly callable after loading.\n"
     ]
    },
    {
     "name": "stdout",
     "output_type": "stream",
     "text": [
      "INFO:tensorflow:Assets written to: ../models/NNmodel/1DCNN_final_architecture/fftAndLocalTides/93as/bestModel_93as_fold1.tf/assets\n"
     ]
    },
    {
     "name": "stderr",
     "output_type": "stream",
     "text": [
      "INFO:tensorflow:Assets written to: ../models/NNmodel/1DCNN_final_architecture/fftAndLocalTides/93as/bestModel_93as_fold1.tf/assets\n"
     ]
    },
    {
     "name": "stdout",
     "output_type": "stream",
     "text": [
      "629/629 [==============================] - 15s 24ms/step - loss: 0.0783 - mse: 0.1653 - mae: 0.2804 - rmse: 0.4066 - val_loss: 0.0564 - val_mse: 0.1170 - val_mae: 0.2291 - val_rmse: 0.3420\n",
      "Epoch 6/1000\n",
      "628/629 [============================>.] - ETA: 0s - loss: 0.0718 - mse: 0.1504 - mae: 0.2669 - rmse: 0.3878"
     ]
    },
    {
     "name": "stderr",
     "output_type": "stream",
     "text": [
      "WARNING:absl:Found untraced functions such as _jit_compiled_convolution_op, _jit_compiled_convolution_op, _jit_compiled_convolution_op while saving (showing 3 of 3). These functions will not be directly callable after loading.\n"
     ]
    },
    {
     "name": "stdout",
     "output_type": "stream",
     "text": [
      "INFO:tensorflow:Assets written to: ../models/NNmodel/1DCNN_final_architecture/fftAndLocalTides/93as/bestModel_93as_fold1.tf/assets\n"
     ]
    },
    {
     "name": "stderr",
     "output_type": "stream",
     "text": [
      "INFO:tensorflow:Assets written to: ../models/NNmodel/1DCNN_final_architecture/fftAndLocalTides/93as/bestModel_93as_fold1.tf/assets\n"
     ]
    },
    {
     "name": "stdout",
     "output_type": "stream",
     "text": [
      "629/629 [==============================] - 16s 25ms/step - loss: 0.0718 - mse: 0.1504 - mae: 0.2669 - rmse: 0.3878 - val_loss: 0.0554 - val_mse: 0.1149 - val_mae: 0.2255 - val_rmse: 0.3390\n",
      "Epoch 7/1000\n",
      "629/629 [==============================] - ETA: 0s - loss: 0.0676 - mse: 0.1412 - mae: 0.2579 - rmse: 0.3758"
     ]
    },
    {
     "name": "stderr",
     "output_type": "stream",
     "text": [
      "WARNING:absl:Found untraced functions such as _jit_compiled_convolution_op, _jit_compiled_convolution_op, _jit_compiled_convolution_op while saving (showing 3 of 3). These functions will not be directly callable after loading.\n"
     ]
    },
    {
     "name": "stdout",
     "output_type": "stream",
     "text": [
      "INFO:tensorflow:Assets written to: ../models/NNmodel/1DCNN_final_architecture/fftAndLocalTides/93as/bestModel_93as_fold1.tf/assets\n"
     ]
    },
    {
     "name": "stderr",
     "output_type": "stream",
     "text": [
      "INFO:tensorflow:Assets written to: ../models/NNmodel/1DCNN_final_architecture/fftAndLocalTides/93as/bestModel_93as_fold1.tf/assets\n"
     ]
    },
    {
     "name": "stdout",
     "output_type": "stream",
     "text": [
      "629/629 [==============================] - 15s 24ms/step - loss: 0.0676 - mse: 0.1412 - mae: 0.2579 - rmse: 0.3758 - val_loss: 0.0506 - val_mse: 0.1044 - val_mae: 0.2161 - val_rmse: 0.3230\n",
      "Epoch 8/1000\n",
      "628/629 [============================>.] - ETA: 0s - loss: 0.0638 - mse: 0.1330 - mae: 0.2502 - rmse: 0.3646"
     ]
    },
    {
     "name": "stderr",
     "output_type": "stream",
     "text": [
      "WARNING:absl:Found untraced functions such as _jit_compiled_convolution_op, _jit_compiled_convolution_op, _jit_compiled_convolution_op while saving (showing 3 of 3). These functions will not be directly callable after loading.\n"
     ]
    },
    {
     "name": "stdout",
     "output_type": "stream",
     "text": [
      "INFO:tensorflow:Assets written to: ../models/NNmodel/1DCNN_final_architecture/fftAndLocalTides/93as/bestModel_93as_fold1.tf/assets\n"
     ]
    },
    {
     "name": "stderr",
     "output_type": "stream",
     "text": [
      "INFO:tensorflow:Assets written to: ../models/NNmodel/1DCNN_final_architecture/fftAndLocalTides/93as/bestModel_93as_fold1.tf/assets\n"
     ]
    },
    {
     "name": "stdout",
     "output_type": "stream",
     "text": [
      "629/629 [==============================] - 15s 24ms/step - loss: 0.0638 - mse: 0.1330 - mae: 0.2502 - rmse: 0.3646 - val_loss: 0.0473 - val_mse: 0.0970 - val_mae: 0.2110 - val_rmse: 0.3115\n",
      "Epoch 9/1000\n",
      "627/629 [============================>.] - ETA: 0s - loss: 0.0609 - mse: 0.1264 - mae: 0.2445 - rmse: 0.3555"
     ]
    },
    {
     "name": "stderr",
     "output_type": "stream",
     "text": [
      "WARNING:absl:Found untraced functions such as _jit_compiled_convolution_op, _jit_compiled_convolution_op, _jit_compiled_convolution_op while saving (showing 3 of 3). These functions will not be directly callable after loading.\n"
     ]
    },
    {
     "name": "stdout",
     "output_type": "stream",
     "text": [
      "INFO:tensorflow:Assets written to: ../models/NNmodel/1DCNN_final_architecture/fftAndLocalTides/93as/bestModel_93as_fold1.tf/assets\n"
     ]
    },
    {
     "name": "stderr",
     "output_type": "stream",
     "text": [
      "INFO:tensorflow:Assets written to: ../models/NNmodel/1DCNN_final_architecture/fftAndLocalTides/93as/bestModel_93as_fold1.tf/assets\n"
     ]
    },
    {
     "name": "stdout",
     "output_type": "stream",
     "text": [
      "629/629 [==============================] - 15s 24ms/step - loss: 0.0609 - mse: 0.1263 - mae: 0.2445 - rmse: 0.3554 - val_loss: 0.0453 - val_mse: 0.0925 - val_mae: 0.2082 - val_rmse: 0.3042\n",
      "Epoch 10/1000\n",
      "628/629 [============================>.] - ETA: 0s - loss: 0.0586 - mse: 0.1215 - mae: 0.2403 - rmse: 0.3486"
     ]
    },
    {
     "name": "stderr",
     "output_type": "stream",
     "text": [
      "WARNING:absl:Found untraced functions such as _jit_compiled_convolution_op, _jit_compiled_convolution_op, _jit_compiled_convolution_op while saving (showing 3 of 3). These functions will not be directly callable after loading.\n"
     ]
    },
    {
     "name": "stdout",
     "output_type": "stream",
     "text": [
      "INFO:tensorflow:Assets written to: ../models/NNmodel/1DCNN_final_architecture/fftAndLocalTides/93as/bestModel_93as_fold1.tf/assets\n"
     ]
    },
    {
     "name": "stderr",
     "output_type": "stream",
     "text": [
      "INFO:tensorflow:Assets written to: ../models/NNmodel/1DCNN_final_architecture/fftAndLocalTides/93as/bestModel_93as_fold1.tf/assets\n"
     ]
    },
    {
     "name": "stdout",
     "output_type": "stream",
     "text": [
      "629/629 [==============================] - 15s 24ms/step - loss: 0.0586 - mse: 0.1215 - mae: 0.2403 - rmse: 0.3486 - val_loss: 0.0447 - val_mse: 0.0914 - val_mae: 0.2059 - val_rmse: 0.3024\n",
      "Epoch 11/1000\n",
      "628/629 [============================>.] - ETA: 0s - loss: 0.0565 - mse: 0.1168 - mae: 0.2360 - rmse: 0.3417"
     ]
    },
    {
     "name": "stderr",
     "output_type": "stream",
     "text": [
      "WARNING:absl:Found untraced functions such as _jit_compiled_convolution_op, _jit_compiled_convolution_op, _jit_compiled_convolution_op while saving (showing 3 of 3). These functions will not be directly callable after loading.\n"
     ]
    },
    {
     "name": "stdout",
     "output_type": "stream",
     "text": [
      "INFO:tensorflow:Assets written to: ../models/NNmodel/1DCNN_final_architecture/fftAndLocalTides/93as/bestModel_93as_fold1.tf/assets\n"
     ]
    },
    {
     "name": "stderr",
     "output_type": "stream",
     "text": [
      "INFO:tensorflow:Assets written to: ../models/NNmodel/1DCNN_final_architecture/fftAndLocalTides/93as/bestModel_93as_fold1.tf/assets\n"
     ]
    },
    {
     "name": "stdout",
     "output_type": "stream",
     "text": [
      "629/629 [==============================] - 15s 23ms/step - loss: 0.0565 - mse: 0.1168 - mae: 0.2360 - rmse: 0.3417 - val_loss: 0.0431 - val_mse: 0.0879 - val_mae: 0.2039 - val_rmse: 0.2965\n",
      "Epoch 12/1000\n",
      "628/629 [============================>.] - ETA: 0s - loss: 0.0544 - mse: 0.1124 - mae: 0.2316 - rmse: 0.3353"
     ]
    },
    {
     "name": "stderr",
     "output_type": "stream",
     "text": [
      "WARNING:absl:Found untraced functions such as _jit_compiled_convolution_op, _jit_compiled_convolution_op, _jit_compiled_convolution_op while saving (showing 3 of 3). These functions will not be directly callable after loading.\n"
     ]
    },
    {
     "name": "stdout",
     "output_type": "stream",
     "text": [
      "INFO:tensorflow:Assets written to: ../models/NNmodel/1DCNN_final_architecture/fftAndLocalTides/93as/bestModel_93as_fold1.tf/assets\n"
     ]
    },
    {
     "name": "stderr",
     "output_type": "stream",
     "text": [
      "INFO:tensorflow:Assets written to: ../models/NNmodel/1DCNN_final_architecture/fftAndLocalTides/93as/bestModel_93as_fold1.tf/assets\n"
     ]
    },
    {
     "name": "stdout",
     "output_type": "stream",
     "text": [
      "629/629 [==============================] - 15s 24ms/step - loss: 0.0544 - mse: 0.1124 - mae: 0.2315 - rmse: 0.3352 - val_loss: 0.0385 - val_mse: 0.0782 - val_mae: 0.1957 - val_rmse: 0.2796\n",
      "Epoch 13/1000\n",
      "629/629 [==============================] - 13s 21ms/step - loss: 0.0527 - mse: 0.1088 - mae: 0.2280 - rmse: 0.3298 - val_loss: 0.0386 - val_mse: 0.0785 - val_mae: 0.1927 - val_rmse: 0.2801\n",
      "Epoch 14/1000\n",
      "629/629 [==============================] - 13s 21ms/step - loss: 0.0511 - mse: 0.1053 - mae: 0.2242 - rmse: 0.3245 - val_loss: 0.0405 - val_mse: 0.0828 - val_mae: 0.1954 - val_rmse: 0.2877\n",
      "Epoch 15/1000\n",
      "629/629 [==============================] - ETA: 0s - loss: 0.0495 - mse: 0.1018 - mae: 0.2207 - rmse: 0.3190"
     ]
    },
    {
     "name": "stderr",
     "output_type": "stream",
     "text": [
      "WARNING:absl:Found untraced functions such as _jit_compiled_convolution_op, _jit_compiled_convolution_op, _jit_compiled_convolution_op while saving (showing 3 of 3). These functions will not be directly callable after loading.\n"
     ]
    },
    {
     "name": "stdout",
     "output_type": "stream",
     "text": [
      "INFO:tensorflow:Assets written to: ../models/NNmodel/1DCNN_final_architecture/fftAndLocalTides/93as/bestModel_93as_fold1.tf/assets\n"
     ]
    },
    {
     "name": "stderr",
     "output_type": "stream",
     "text": [
      "INFO:tensorflow:Assets written to: ../models/NNmodel/1DCNN_final_architecture/fftAndLocalTides/93as/bestModel_93as_fold1.tf/assets\n"
     ]
    },
    {
     "name": "stdout",
     "output_type": "stream",
     "text": [
      "629/629 [==============================] - 15s 24ms/step - loss: 0.0495 - mse: 0.1018 - mae: 0.2207 - rmse: 0.3190 - val_loss: 0.0367 - val_mse: 0.0746 - val_mae: 0.1872 - val_rmse: 0.2731\n",
      "Epoch 16/1000\n",
      "628/629 [============================>.] - ETA: 0s - loss: 0.0480 - mse: 0.0987 - mae: 0.2171 - rmse: 0.3142"
     ]
    },
    {
     "name": "stderr",
     "output_type": "stream",
     "text": [
      "WARNING:absl:Found untraced functions such as _jit_compiled_convolution_op, _jit_compiled_convolution_op, _jit_compiled_convolution_op while saving (showing 3 of 3). These functions will not be directly callable after loading.\n"
     ]
    },
    {
     "name": "stdout",
     "output_type": "stream",
     "text": [
      "INFO:tensorflow:Assets written to: ../models/NNmodel/1DCNN_final_architecture/fftAndLocalTides/93as/bestModel_93as_fold1.tf/assets\n"
     ]
    },
    {
     "name": "stderr",
     "output_type": "stream",
     "text": [
      "INFO:tensorflow:Assets written to: ../models/NNmodel/1DCNN_final_architecture/fftAndLocalTides/93as/bestModel_93as_fold1.tf/assets\n"
     ]
    },
    {
     "name": "stdout",
     "output_type": "stream",
     "text": [
      "629/629 [==============================] - 15s 24ms/step - loss: 0.0480 - mse: 0.0988 - mae: 0.2171 - rmse: 0.3143 - val_loss: 0.0363 - val_mse: 0.0737 - val_mae: 0.1860 - val_rmse: 0.2715\n",
      "Epoch 17/1000\n",
      "628/629 [============================>.] - ETA: 0s - loss: 0.0466 - mse: 0.0956 - mae: 0.2136 - rmse: 0.3092"
     ]
    },
    {
     "name": "stderr",
     "output_type": "stream",
     "text": [
      "WARNING:absl:Found untraced functions such as _jit_compiled_convolution_op, _jit_compiled_convolution_op, _jit_compiled_convolution_op while saving (showing 3 of 3). These functions will not be directly callable after loading.\n"
     ]
    },
    {
     "name": "stdout",
     "output_type": "stream",
     "text": [
      "INFO:tensorflow:Assets written to: ../models/NNmodel/1DCNN_final_architecture/fftAndLocalTides/93as/bestModel_93as_fold1.tf/assets\n"
     ]
    },
    {
     "name": "stderr",
     "output_type": "stream",
     "text": [
      "INFO:tensorflow:Assets written to: ../models/NNmodel/1DCNN_final_architecture/fftAndLocalTides/93as/bestModel_93as_fold1.tf/assets\n"
     ]
    },
    {
     "name": "stdout",
     "output_type": "stream",
     "text": [
      "629/629 [==============================] - 15s 24ms/step - loss: 0.0466 - mse: 0.0957 - mae: 0.2137 - rmse: 0.3093 - val_loss: 0.0317 - val_mse: 0.0641 - val_mae: 0.1776 - val_rmse: 0.2532\n",
      "Epoch 18/1000\n",
      "628/629 [============================>.] - ETA: 0s - loss: 0.0456 - mse: 0.0935 - mae: 0.2111 - rmse: 0.3058"
     ]
    },
    {
     "name": "stderr",
     "output_type": "stream",
     "text": [
      "WARNING:absl:Found untraced functions such as _jit_compiled_convolution_op, _jit_compiled_convolution_op, _jit_compiled_convolution_op while saving (showing 3 of 3). These functions will not be directly callable after loading.\n"
     ]
    },
    {
     "name": "stdout",
     "output_type": "stream",
     "text": [
      "INFO:tensorflow:Assets written to: ../models/NNmodel/1DCNN_final_architecture/fftAndLocalTides/93as/bestModel_93as_fold1.tf/assets\n"
     ]
    },
    {
     "name": "stderr",
     "output_type": "stream",
     "text": [
      "INFO:tensorflow:Assets written to: ../models/NNmodel/1DCNN_final_architecture/fftAndLocalTides/93as/bestModel_93as_fold1.tf/assets\n"
     ]
    },
    {
     "name": "stdout",
     "output_type": "stream",
     "text": [
      "629/629 [==============================] - 15s 24ms/step - loss: 0.0456 - mse: 0.0935 - mae: 0.2111 - rmse: 0.3058 - val_loss: 0.0310 - val_mse: 0.0625 - val_mae: 0.1758 - val_rmse: 0.2500\n",
      "Epoch 19/1000\n",
      "628/629 [============================>.] - ETA: 0s - loss: 0.0446 - mse: 0.0914 - mae: 0.2085 - rmse: 0.3023"
     ]
    },
    {
     "name": "stderr",
     "output_type": "stream",
     "text": [
      "WARNING:absl:Found untraced functions such as _jit_compiled_convolution_op, _jit_compiled_convolution_op, _jit_compiled_convolution_op while saving (showing 3 of 3). These functions will not be directly callable after loading.\n"
     ]
    },
    {
     "name": "stdout",
     "output_type": "stream",
     "text": [
      "INFO:tensorflow:Assets written to: ../models/NNmodel/1DCNN_final_architecture/fftAndLocalTides/93as/bestModel_93as_fold1.tf/assets\n"
     ]
    },
    {
     "name": "stderr",
     "output_type": "stream",
     "text": [
      "INFO:tensorflow:Assets written to: ../models/NNmodel/1DCNN_final_architecture/fftAndLocalTides/93as/bestModel_93as_fold1.tf/assets\n"
     ]
    },
    {
     "name": "stdout",
     "output_type": "stream",
     "text": [
      "629/629 [==============================] - 15s 24ms/step - loss: 0.0446 - mse: 0.0914 - mae: 0.2085 - rmse: 0.3023 - val_loss: 0.0308 - val_mse: 0.0622 - val_mae: 0.1747 - val_rmse: 0.2493\n",
      "Epoch 20/1000\n",
      "628/629 [============================>.] - ETA: 0s - loss: 0.0436 - mse: 0.0894 - mae: 0.2061 - rmse: 0.2990"
     ]
    },
    {
     "name": "stderr",
     "output_type": "stream",
     "text": [
      "WARNING:absl:Found untraced functions such as _jit_compiled_convolution_op, _jit_compiled_convolution_op, _jit_compiled_convolution_op while saving (showing 3 of 3). These functions will not be directly callable after loading.\n"
     ]
    },
    {
     "name": "stdout",
     "output_type": "stream",
     "text": [
      "INFO:tensorflow:Assets written to: ../models/NNmodel/1DCNN_final_architecture/fftAndLocalTides/93as/bestModel_93as_fold1.tf/assets\n"
     ]
    },
    {
     "name": "stderr",
     "output_type": "stream",
     "text": [
      "INFO:tensorflow:Assets written to: ../models/NNmodel/1DCNN_final_architecture/fftAndLocalTides/93as/bestModel_93as_fold1.tf/assets\n"
     ]
    },
    {
     "name": "stdout",
     "output_type": "stream",
     "text": [
      "629/629 [==============================] - 15s 24ms/step - loss: 0.0436 - mse: 0.0894 - mae: 0.2061 - rmse: 0.2990 - val_loss: 0.0293 - val_mse: 0.0590 - val_mae: 0.1710 - val_rmse: 0.2429\n",
      "Epoch 21/1000\n",
      "629/629 [==============================] - ETA: 0s - loss: 0.0426 - mse: 0.0871 - mae: 0.2036 - rmse: 0.2951"
     ]
    },
    {
     "name": "stderr",
     "output_type": "stream",
     "text": [
      "WARNING:absl:Found untraced functions such as _jit_compiled_convolution_op, _jit_compiled_convolution_op, _jit_compiled_convolution_op while saving (showing 3 of 3). These functions will not be directly callable after loading.\n"
     ]
    },
    {
     "name": "stdout",
     "output_type": "stream",
     "text": [
      "INFO:tensorflow:Assets written to: ../models/NNmodel/1DCNN_final_architecture/fftAndLocalTides/93as/bestModel_93as_fold1.tf/assets\n"
     ]
    },
    {
     "name": "stderr",
     "output_type": "stream",
     "text": [
      "INFO:tensorflow:Assets written to: ../models/NNmodel/1DCNN_final_architecture/fftAndLocalTides/93as/bestModel_93as_fold1.tf/assets\n"
     ]
    },
    {
     "name": "stdout",
     "output_type": "stream",
     "text": [
      "629/629 [==============================] - 15s 24ms/step - loss: 0.0426 - mse: 0.0871 - mae: 0.2036 - rmse: 0.2951 - val_loss: 0.0282 - val_mse: 0.0568 - val_mae: 0.1691 - val_rmse: 0.2382\n",
      "Epoch 22/1000\n",
      "627/629 [============================>.] - ETA: 0s - loss: 0.0417 - mse: 0.0853 - mae: 0.2015 - rmse: 0.2920"
     ]
    },
    {
     "name": "stderr",
     "output_type": "stream",
     "text": [
      "WARNING:absl:Found untraced functions such as _jit_compiled_convolution_op, _jit_compiled_convolution_op, _jit_compiled_convolution_op while saving (showing 3 of 3). These functions will not be directly callable after loading.\n"
     ]
    },
    {
     "name": "stdout",
     "output_type": "stream",
     "text": [
      "INFO:tensorflow:Assets written to: ../models/NNmodel/1DCNN_final_architecture/fftAndLocalTides/93as/bestModel_93as_fold1.tf/assets\n"
     ]
    },
    {
     "name": "stderr",
     "output_type": "stream",
     "text": [
      "INFO:tensorflow:Assets written to: ../models/NNmodel/1DCNN_final_architecture/fftAndLocalTides/93as/bestModel_93as_fold1.tf/assets\n"
     ]
    },
    {
     "name": "stdout",
     "output_type": "stream",
     "text": [
      "629/629 [==============================] - 15s 23ms/step - loss: 0.0417 - mse: 0.0853 - mae: 0.2015 - rmse: 0.2920 - val_loss: 0.0282 - val_mse: 0.0567 - val_mae: 0.1679 - val_rmse: 0.2381\n",
      "Epoch 23/1000\n",
      "628/629 [============================>.] - ETA: 0s - loss: 0.0406 - mse: 0.0830 - mae: 0.1991 - rmse: 0.2880"
     ]
    },
    {
     "name": "stderr",
     "output_type": "stream",
     "text": [
      "WARNING:absl:Found untraced functions such as _jit_compiled_convolution_op, _jit_compiled_convolution_op, _jit_compiled_convolution_op while saving (showing 3 of 3). These functions will not be directly callable after loading.\n"
     ]
    },
    {
     "name": "stdout",
     "output_type": "stream",
     "text": [
      "INFO:tensorflow:Assets written to: ../models/NNmodel/1DCNN_final_architecture/fftAndLocalTides/93as/bestModel_93as_fold1.tf/assets\n"
     ]
    },
    {
     "name": "stderr",
     "output_type": "stream",
     "text": [
      "INFO:tensorflow:Assets written to: ../models/NNmodel/1DCNN_final_architecture/fftAndLocalTides/93as/bestModel_93as_fold1.tf/assets\n"
     ]
    },
    {
     "name": "stdout",
     "output_type": "stream",
     "text": [
      "629/629 [==============================] - 16s 25ms/step - loss: 0.0406 - mse: 0.0830 - mae: 0.1991 - rmse: 0.2880 - val_loss: 0.0273 - val_mse: 0.0550 - val_mae: 0.1656 - val_rmse: 0.2346\n",
      "Epoch 24/1000\n",
      "628/629 [============================>.] - ETA: 0s - loss: 0.0401 - mse: 0.0817 - mae: 0.1976 - rmse: 0.2859"
     ]
    },
    {
     "name": "stderr",
     "output_type": "stream",
     "text": [
      "WARNING:absl:Found untraced functions such as _jit_compiled_convolution_op, _jit_compiled_convolution_op, _jit_compiled_convolution_op while saving (showing 3 of 3). These functions will not be directly callable after loading.\n"
     ]
    },
    {
     "name": "stdout",
     "output_type": "stream",
     "text": [
      "INFO:tensorflow:Assets written to: ../models/NNmodel/1DCNN_final_architecture/fftAndLocalTides/93as/bestModel_93as_fold1.tf/assets\n"
     ]
    },
    {
     "name": "stderr",
     "output_type": "stream",
     "text": [
      "INFO:tensorflow:Assets written to: ../models/NNmodel/1DCNN_final_architecture/fftAndLocalTides/93as/bestModel_93as_fold1.tf/assets\n"
     ]
    },
    {
     "name": "stdout",
     "output_type": "stream",
     "text": [
      "629/629 [==============================] - 15s 24ms/step - loss: 0.0401 - mse: 0.0817 - mae: 0.1976 - rmse: 0.2859 - val_loss: 0.0259 - val_mse: 0.0520 - val_mae: 0.1623 - val_rmse: 0.2280\n",
      "Epoch 25/1000\n",
      "628/629 [============================>.] - ETA: 0s - loss: 0.0393 - mse: 0.0802 - mae: 0.1958 - rmse: 0.2831"
     ]
    },
    {
     "name": "stderr",
     "output_type": "stream",
     "text": [
      "WARNING:absl:Found untraced functions such as _jit_compiled_convolution_op, _jit_compiled_convolution_op, _jit_compiled_convolution_op while saving (showing 3 of 3). These functions will not be directly callable after loading.\n"
     ]
    },
    {
     "name": "stdout",
     "output_type": "stream",
     "text": [
      "INFO:tensorflow:Assets written to: ../models/NNmodel/1DCNN_final_architecture/fftAndLocalTides/93as/bestModel_93as_fold1.tf/assets\n"
     ]
    },
    {
     "name": "stderr",
     "output_type": "stream",
     "text": [
      "INFO:tensorflow:Assets written to: ../models/NNmodel/1DCNN_final_architecture/fftAndLocalTides/93as/bestModel_93as_fold1.tf/assets\n"
     ]
    },
    {
     "name": "stdout",
     "output_type": "stream",
     "text": [
      "629/629 [==============================] - 15s 24ms/step - loss: 0.0393 - mse: 0.0802 - mae: 0.1958 - rmse: 0.2831 - val_loss: 0.0247 - val_mse: 0.0496 - val_mae: 0.1593 - val_rmse: 0.2227\n",
      "Epoch 26/1000\n",
      "629/629 [==============================] - 13s 21ms/step - loss: 0.0390 - mse: 0.0795 - mae: 0.1946 - rmse: 0.2820 - val_loss: 0.0260 - val_mse: 0.0523 - val_mae: 0.1619 - val_rmse: 0.2286\n",
      "Epoch 27/1000\n",
      "629/629 [==============================] - 13s 21ms/step - loss: 0.0385 - mse: 0.0785 - mae: 0.1934 - rmse: 0.2802 - val_loss: 0.0270 - val_mse: 0.0543 - val_mae: 0.1635 - val_rmse: 0.2329\n",
      "Epoch 28/1000\n",
      "627/629 [============================>.] - ETA: 0s - loss: 0.0377 - mse: 0.0768 - mae: 0.1916 - rmse: 0.2771"
     ]
    },
    {
     "name": "stderr",
     "output_type": "stream",
     "text": [
      "WARNING:absl:Found untraced functions such as _jit_compiled_convolution_op, _jit_compiled_convolution_op, _jit_compiled_convolution_op while saving (showing 3 of 3). These functions will not be directly callable after loading.\n"
     ]
    },
    {
     "name": "stdout",
     "output_type": "stream",
     "text": [
      "INFO:tensorflow:Assets written to: ../models/NNmodel/1DCNN_final_architecture/fftAndLocalTides/93as/bestModel_93as_fold1.tf/assets\n"
     ]
    },
    {
     "name": "stderr",
     "output_type": "stream",
     "text": [
      "INFO:tensorflow:Assets written to: ../models/NNmodel/1DCNN_final_architecture/fftAndLocalTides/93as/bestModel_93as_fold1.tf/assets\n"
     ]
    },
    {
     "name": "stdout",
     "output_type": "stream",
     "text": [
      "629/629 [==============================] - 14s 23ms/step - loss: 0.0377 - mse: 0.0768 - mae: 0.1916 - rmse: 0.2771 - val_loss: 0.0237 - val_mse: 0.0476 - val_mae: 0.1559 - val_rmse: 0.2182\n",
      "Epoch 29/1000\n",
      "629/629 [==============================] - 13s 20ms/step - loss: 0.0372 - mse: 0.0757 - mae: 0.1903 - rmse: 0.2751 - val_loss: 0.0253 - val_mse: 0.0508 - val_mae: 0.1597 - val_rmse: 0.2254\n",
      "Epoch 30/1000\n",
      "629/629 [==============================] - 13s 20ms/step - loss: 0.0367 - mse: 0.0748 - mae: 0.1890 - rmse: 0.2735 - val_loss: 0.0239 - val_mse: 0.0480 - val_mae: 0.1561 - val_rmse: 0.2190\n",
      "Epoch 31/1000\n",
      "628/629 [============================>.] - ETA: 0s - loss: 0.0361 - mse: 0.0734 - mae: 0.1877 - rmse: 0.2709"
     ]
    },
    {
     "name": "stderr",
     "output_type": "stream",
     "text": [
      "WARNING:absl:Found untraced functions such as _jit_compiled_convolution_op, _jit_compiled_convolution_op, _jit_compiled_convolution_op while saving (showing 3 of 3). These functions will not be directly callable after loading.\n"
     ]
    },
    {
     "name": "stdout",
     "output_type": "stream",
     "text": [
      "INFO:tensorflow:Assets written to: ../models/NNmodel/1DCNN_final_architecture/fftAndLocalTides/93as/bestModel_93as_fold1.tf/assets\n"
     ]
    },
    {
     "name": "stderr",
     "output_type": "stream",
     "text": [
      "INFO:tensorflow:Assets written to: ../models/NNmodel/1DCNN_final_architecture/fftAndLocalTides/93as/bestModel_93as_fold1.tf/assets\n"
     ]
    },
    {
     "name": "stdout",
     "output_type": "stream",
     "text": [
      "629/629 [==============================] - 15s 24ms/step - loss: 0.0361 - mse: 0.0734 - mae: 0.1877 - rmse: 0.2709 - val_loss: 0.0232 - val_mse: 0.0465 - val_mae: 0.1546 - val_rmse: 0.2155\n",
      "Epoch 32/1000\n",
      "629/629 [==============================] - 13s 21ms/step - loss: 0.0355 - mse: 0.0722 - mae: 0.1862 - rmse: 0.2687 - val_loss: 0.0250 - val_mse: 0.0501 - val_mae: 0.1585 - val_rmse: 0.2239\n",
      "Epoch 33/1000\n",
      "629/629 [==============================] - 13s 21ms/step - loss: 0.0353 - mse: 0.0717 - mae: 0.1852 - rmse: 0.2678 - val_loss: 0.0232 - val_mse: 0.0465 - val_mae: 0.1537 - val_rmse: 0.2157\n",
      "Epoch 34/1000\n",
      "629/629 [==============================] - 13s 20ms/step - loss: 0.0351 - mse: 0.0714 - mae: 0.1847 - rmse: 0.2672 - val_loss: 0.0247 - val_mse: 0.0496 - val_mae: 0.1568 - val_rmse: 0.2228\n",
      "Epoch 35/1000\n",
      "628/629 [============================>.] - ETA: 0s - loss: 0.0346 - mse: 0.0701 - mae: 0.1835 - rmse: 0.2648"
     ]
    },
    {
     "name": "stderr",
     "output_type": "stream",
     "text": [
      "WARNING:absl:Found untraced functions such as _jit_compiled_convolution_op, _jit_compiled_convolution_op, _jit_compiled_convolution_op while saving (showing 3 of 3). These functions will not be directly callable after loading.\n"
     ]
    },
    {
     "name": "stdout",
     "output_type": "stream",
     "text": [
      "INFO:tensorflow:Assets written to: ../models/NNmodel/1DCNN_final_architecture/fftAndLocalTides/93as/bestModel_93as_fold1.tf/assets\n"
     ]
    },
    {
     "name": "stderr",
     "output_type": "stream",
     "text": [
      "INFO:tensorflow:Assets written to: ../models/NNmodel/1DCNN_final_architecture/fftAndLocalTides/93as/bestModel_93as_fold1.tf/assets\n"
     ]
    },
    {
     "name": "stdout",
     "output_type": "stream",
     "text": [
      "629/629 [==============================] - 15s 23ms/step - loss: 0.0346 - mse: 0.0702 - mae: 0.1835 - rmse: 0.2649 - val_loss: 0.0216 - val_mse: 0.0432 - val_mae: 0.1494 - val_rmse: 0.2079\n",
      "Epoch 36/1000\n",
      "627/629 [============================>.] - ETA: 0s - loss: 0.0345 - mse: 0.0700 - mae: 0.1831 - rmse: 0.2645"
     ]
    },
    {
     "name": "stderr",
     "output_type": "stream",
     "text": [
      "WARNING:absl:Found untraced functions such as _jit_compiled_convolution_op, _jit_compiled_convolution_op, _jit_compiled_convolution_op while saving (showing 3 of 3). These functions will not be directly callable after loading.\n"
     ]
    },
    {
     "name": "stdout",
     "output_type": "stream",
     "text": [
      "INFO:tensorflow:Assets written to: ../models/NNmodel/1DCNN_final_architecture/fftAndLocalTides/93as/bestModel_93as_fold1.tf/assets\n"
     ]
    },
    {
     "name": "stderr",
     "output_type": "stream",
     "text": [
      "INFO:tensorflow:Assets written to: ../models/NNmodel/1DCNN_final_architecture/fftAndLocalTides/93as/bestModel_93as_fold1.tf/assets\n"
     ]
    },
    {
     "name": "stdout",
     "output_type": "stream",
     "text": [
      "629/629 [==============================] - 15s 24ms/step - loss: 0.0345 - mse: 0.0699 - mae: 0.1831 - rmse: 0.2645 - val_loss: 0.0212 - val_mse: 0.0425 - val_mae: 0.1483 - val_rmse: 0.2061\n",
      "Epoch 37/1000\n",
      "629/629 [==============================] - 13s 20ms/step - loss: 0.0341 - mse: 0.0694 - mae: 0.1820 - rmse: 0.2634 - val_loss: 0.0215 - val_mse: 0.0430 - val_mae: 0.1499 - val_rmse: 0.2073\n",
      "Epoch 38/1000\n",
      "629/629 [==============================] - 13s 21ms/step - loss: 0.0336 - mse: 0.0681 - mae: 0.1808 - rmse: 0.2610 - val_loss: 0.0243 - val_mse: 0.0487 - val_mae: 0.1559 - val_rmse: 0.2207\n",
      "Epoch 39/1000\n",
      "629/629 [==============================] - ETA: 0s - loss: 0.0332 - mse: 0.0673 - mae: 0.1799 - rmse: 0.2595"
     ]
    },
    {
     "name": "stderr",
     "output_type": "stream",
     "text": [
      "WARNING:absl:Found untraced functions such as _jit_compiled_convolution_op, _jit_compiled_convolution_op, _jit_compiled_convolution_op while saving (showing 3 of 3). These functions will not be directly callable after loading.\n"
     ]
    },
    {
     "name": "stdout",
     "output_type": "stream",
     "text": [
      "INFO:tensorflow:Assets written to: ../models/NNmodel/1DCNN_final_architecture/fftAndLocalTides/93as/bestModel_93as_fold1.tf/assets\n"
     ]
    },
    {
     "name": "stderr",
     "output_type": "stream",
     "text": [
      "INFO:tensorflow:Assets written to: ../models/NNmodel/1DCNN_final_architecture/fftAndLocalTides/93as/bestModel_93as_fold1.tf/assets\n"
     ]
    },
    {
     "name": "stdout",
     "output_type": "stream",
     "text": [
      "629/629 [==============================] - 15s 25ms/step - loss: 0.0332 - mse: 0.0673 - mae: 0.1799 - rmse: 0.2595 - val_loss: 0.0196 - val_mse: 0.0393 - val_mae: 0.1449 - val_rmse: 0.1983\n",
      "Epoch 40/1000\n",
      "629/629 [==============================] - 13s 21ms/step - loss: 0.0331 - mse: 0.0670 - mae: 0.1794 - rmse: 0.2588 - val_loss: 0.0217 - val_mse: 0.0435 - val_mae: 0.1483 - val_rmse: 0.2085\n",
      "Epoch 41/1000\n",
      "629/629 [==============================] - 13s 21ms/step - loss: 0.0328 - mse: 0.0664 - mae: 0.1784 - rmse: 0.2578 - val_loss: 0.0212 - val_mse: 0.0425 - val_mae: 0.1472 - val_rmse: 0.2063\n",
      "Epoch 42/1000\n",
      "629/629 [==============================] - 13s 20ms/step - loss: 0.0324 - mse: 0.0656 - mae: 0.1775 - rmse: 0.2561 - val_loss: 0.0218 - val_mse: 0.0438 - val_mae: 0.1483 - val_rmse: 0.2092\n",
      "Epoch 43/1000\n",
      "629/629 [==============================] - 13s 21ms/step - loss: 0.0322 - mse: 0.0653 - mae: 0.1770 - rmse: 0.2555 - val_loss: 0.0200 - val_mse: 0.0401 - val_mae: 0.1449 - val_rmse: 0.2004\n",
      "Epoch 44/1000\n",
      "629/629 [==============================] - 13s 20ms/step - loss: 0.0320 - mse: 0.0648 - mae: 0.1761 - rmse: 0.2546 - val_loss: 0.0199 - val_mse: 0.0399 - val_mae: 0.1436 - val_rmse: 0.1999\n",
      "Epoch 45/1000\n",
      "629/629 [==============================] - 13s 20ms/step - loss: 0.0318 - mse: 0.0644 - mae: 0.1755 - rmse: 0.2538 - val_loss: 0.0208 - val_mse: 0.0417 - val_mae: 0.1454 - val_rmse: 0.2043\n",
      "Epoch 46/1000\n",
      "627/629 [============================>.] - ETA: 0s - loss: 0.0315 - mse: 0.0638 - mae: 0.1750 - rmse: 0.2527"
     ]
    },
    {
     "name": "stderr",
     "output_type": "stream",
     "text": [
      "WARNING:absl:Found untraced functions such as _jit_compiled_convolution_op, _jit_compiled_convolution_op, _jit_compiled_convolution_op while saving (showing 3 of 3). These functions will not be directly callable after loading.\n"
     ]
    },
    {
     "name": "stdout",
     "output_type": "stream",
     "text": [
      "INFO:tensorflow:Assets written to: ../models/NNmodel/1DCNN_final_architecture/fftAndLocalTides/93as/bestModel_93as_fold1.tf/assets\n"
     ]
    },
    {
     "name": "stderr",
     "output_type": "stream",
     "text": [
      "INFO:tensorflow:Assets written to: ../models/NNmodel/1DCNN_final_architecture/fftAndLocalTides/93as/bestModel_93as_fold1.tf/assets\n"
     ]
    },
    {
     "name": "stdout",
     "output_type": "stream",
     "text": [
      "629/629 [==============================] - 15s 24ms/step - loss: 0.0315 - mse: 0.0638 - mae: 0.1750 - rmse: 0.2526 - val_loss: 0.0192 - val_mse: 0.0384 - val_mae: 0.1418 - val_rmse: 0.1959\n",
      "Epoch 47/1000\n",
      "629/629 [==============================] - 13s 21ms/step - loss: 0.0312 - mse: 0.0632 - mae: 0.1743 - rmse: 0.2515 - val_loss: 0.0217 - val_mse: 0.0434 - val_mae: 0.1482 - val_rmse: 0.2083\n",
      "Epoch 48/1000\n",
      "629/629 [==============================] - 13s 21ms/step - loss: 0.0311 - mse: 0.0630 - mae: 0.1737 - rmse: 0.2509 - val_loss: 0.0205 - val_mse: 0.0411 - val_mae: 0.1447 - val_rmse: 0.2028\n",
      "Epoch 49/1000\n",
      "629/629 [==============================] - ETA: 0s - loss: 0.0306 - mse: 0.0619 - mae: 0.1725 - rmse: 0.2488"
     ]
    },
    {
     "name": "stderr",
     "output_type": "stream",
     "text": [
      "WARNING:absl:Found untraced functions such as _jit_compiled_convolution_op, _jit_compiled_convolution_op, _jit_compiled_convolution_op while saving (showing 3 of 3). These functions will not be directly callable after loading.\n"
     ]
    },
    {
     "name": "stdout",
     "output_type": "stream",
     "text": [
      "INFO:tensorflow:Assets written to: ../models/NNmodel/1DCNN_final_architecture/fftAndLocalTides/93as/bestModel_93as_fold1.tf/assets\n"
     ]
    },
    {
     "name": "stderr",
     "output_type": "stream",
     "text": [
      "INFO:tensorflow:Assets written to: ../models/NNmodel/1DCNN_final_architecture/fftAndLocalTides/93as/bestModel_93as_fold1.tf/assets\n"
     ]
    },
    {
     "name": "stdout",
     "output_type": "stream",
     "text": [
      "629/629 [==============================] - 15s 24ms/step - loss: 0.0306 - mse: 0.0619 - mae: 0.1725 - rmse: 0.2488 - val_loss: 0.0189 - val_mse: 0.0378 - val_mae: 0.1408 - val_rmse: 0.1945\n",
      "Epoch 50/1000\n",
      "629/629 [==============================] - 13s 20ms/step - loss: 0.0308 - mse: 0.0623 - mae: 0.1726 - rmse: 0.2497 - val_loss: 0.0206 - val_mse: 0.0412 - val_mae: 0.1445 - val_rmse: 0.2030\n",
      "Epoch 51/1000\n",
      "629/629 [==============================] - 13s 21ms/step - loss: 0.0302 - mse: 0.0612 - mae: 0.1714 - rmse: 0.2474 - val_loss: 0.0195 - val_mse: 0.0390 - val_mae: 0.1415 - val_rmse: 0.1975\n",
      "Epoch 52/1000\n",
      "628/629 [============================>.] - ETA: 0s - loss: 0.0302 - mse: 0.0610 - mae: 0.1712 - rmse: 0.2470"
     ]
    },
    {
     "name": "stderr",
     "output_type": "stream",
     "text": [
      "WARNING:absl:Found untraced functions such as _jit_compiled_convolution_op, _jit_compiled_convolution_op, _jit_compiled_convolution_op while saving (showing 3 of 3). These functions will not be directly callable after loading.\n"
     ]
    },
    {
     "name": "stdout",
     "output_type": "stream",
     "text": [
      "INFO:tensorflow:Assets written to: ../models/NNmodel/1DCNN_final_architecture/fftAndLocalTides/93as/bestModel_93as_fold1.tf/assets\n"
     ]
    },
    {
     "name": "stderr",
     "output_type": "stream",
     "text": [
      "INFO:tensorflow:Assets written to: ../models/NNmodel/1DCNN_final_architecture/fftAndLocalTides/93as/bestModel_93as_fold1.tf/assets\n"
     ]
    },
    {
     "name": "stdout",
     "output_type": "stream",
     "text": [
      "629/629 [==============================] - 15s 25ms/step - loss: 0.0302 - mse: 0.0610 - mae: 0.1712 - rmse: 0.2470 - val_loss: 0.0179 - val_mse: 0.0358 - val_mae: 0.1373 - val_rmse: 0.1892\n",
      "Epoch 53/1000\n",
      "629/629 [==============================] - 13s 21ms/step - loss: 0.0299 - mse: 0.0604 - mae: 0.1703 - rmse: 0.2458 - val_loss: 0.0182 - val_mse: 0.0365 - val_mae: 0.1378 - val_rmse: 0.1910\n",
      "Epoch 54/1000\n",
      "629/629 [==============================] - 13s 21ms/step - loss: 0.0295 - mse: 0.0597 - mae: 0.1697 - rmse: 0.2444 - val_loss: 0.0195 - val_mse: 0.0390 - val_mae: 0.1414 - val_rmse: 0.1974\n",
      "Epoch 55/1000\n",
      "629/629 [==============================] - 13s 20ms/step - loss: 0.0295 - mse: 0.0598 - mae: 0.1691 - rmse: 0.2445 - val_loss: 0.0181 - val_mse: 0.0362 - val_mae: 0.1379 - val_rmse: 0.1902\n",
      "Epoch 56/1000\n",
      "629/629 [==============================] - 13s 21ms/step - loss: 0.0291 - mse: 0.0588 - mae: 0.1682 - rmse: 0.2426 - val_loss: 0.0184 - val_mse: 0.0369 - val_mae: 0.1388 - val_rmse: 0.1921\n",
      "Epoch 57/1000\n",
      "629/629 [==============================] - ETA: 0s - loss: 0.0291 - mse: 0.0590 - mae: 0.1683 - rmse: 0.2428"
     ]
    },
    {
     "name": "stderr",
     "output_type": "stream",
     "text": [
      "WARNING:absl:Found untraced functions such as _jit_compiled_convolution_op, _jit_compiled_convolution_op, _jit_compiled_convolution_op while saving (showing 3 of 3). These functions will not be directly callable after loading.\n"
     ]
    },
    {
     "name": "stdout",
     "output_type": "stream",
     "text": [
      "INFO:tensorflow:Assets written to: ../models/NNmodel/1DCNN_final_architecture/fftAndLocalTides/93as/bestModel_93as_fold1.tf/assets\n"
     ]
    },
    {
     "name": "stderr",
     "output_type": "stream",
     "text": [
      "INFO:tensorflow:Assets written to: ../models/NNmodel/1DCNN_final_architecture/fftAndLocalTides/93as/bestModel_93as_fold1.tf/assets\n"
     ]
    },
    {
     "name": "stdout",
     "output_type": "stream",
     "text": [
      "629/629 [==============================] - 15s 24ms/step - loss: 0.0291 - mse: 0.0590 - mae: 0.1683 - rmse: 0.2428 - val_loss: 0.0174 - val_mse: 0.0349 - val_mae: 0.1352 - val_rmse: 0.1867\n",
      "Epoch 58/1000\n",
      "629/629 [==============================] - 13s 21ms/step - loss: 0.0289 - mse: 0.0586 - mae: 0.1674 - rmse: 0.2420 - val_loss: 0.0176 - val_mse: 0.0353 - val_mae: 0.1356 - val_rmse: 0.1879\n",
      "Epoch 59/1000\n",
      "628/629 [============================>.] - ETA: 0s - loss: 0.0287 - mse: 0.0581 - mae: 0.1670 - rmse: 0.2410"
     ]
    },
    {
     "name": "stderr",
     "output_type": "stream",
     "text": [
      "WARNING:absl:Found untraced functions such as _jit_compiled_convolution_op, _jit_compiled_convolution_op, _jit_compiled_convolution_op while saving (showing 3 of 3). These functions will not be directly callable after loading.\n"
     ]
    },
    {
     "name": "stdout",
     "output_type": "stream",
     "text": [
      "INFO:tensorflow:Assets written to: ../models/NNmodel/1DCNN_final_architecture/fftAndLocalTides/93as/bestModel_93as_fold1.tf/assets\n"
     ]
    },
    {
     "name": "stderr",
     "output_type": "stream",
     "text": [
      "INFO:tensorflow:Assets written to: ../models/NNmodel/1DCNN_final_architecture/fftAndLocalTides/93as/bestModel_93as_fold1.tf/assets\n"
     ]
    },
    {
     "name": "stdout",
     "output_type": "stream",
     "text": [
      "629/629 [==============================] - 15s 24ms/step - loss: 0.0287 - mse: 0.0581 - mae: 0.1670 - rmse: 0.2410 - val_loss: 0.0172 - val_mse: 0.0345 - val_mae: 0.1355 - val_rmse: 0.1856\n",
      "Epoch 60/1000\n",
      "629/629 [==============================] - 13s 20ms/step - loss: 0.0284 - mse: 0.0574 - mae: 0.1662 - rmse: 0.2395 - val_loss: 0.0174 - val_mse: 0.0348 - val_mae: 0.1357 - val_rmse: 0.1866\n",
      "Epoch 61/1000\n",
      "629/629 [==============================] - 13s 21ms/step - loss: 0.0283 - mse: 0.0571 - mae: 0.1659 - rmse: 0.2390 - val_loss: 0.0180 - val_mse: 0.0361 - val_mae: 0.1364 - val_rmse: 0.1899\n",
      "Epoch 62/1000\n",
      "629/629 [==============================] - 13s 21ms/step - loss: 0.0282 - mse: 0.0569 - mae: 0.1655 - rmse: 0.2385 - val_loss: 0.0172 - val_mse: 0.0345 - val_mae: 0.1340 - val_rmse: 0.1857\n",
      "Epoch 63/1000\n",
      "627/629 [============================>.] - ETA: 0s - loss: 0.0280 - mse: 0.0565 - mae: 0.1649 - rmse: 0.2378"
     ]
    },
    {
     "name": "stderr",
     "output_type": "stream",
     "text": [
      "WARNING:absl:Found untraced functions such as _jit_compiled_convolution_op, _jit_compiled_convolution_op, _jit_compiled_convolution_op while saving (showing 3 of 3). These functions will not be directly callable after loading.\n"
     ]
    },
    {
     "name": "stdout",
     "output_type": "stream",
     "text": [
      "INFO:tensorflow:Assets written to: ../models/NNmodel/1DCNN_final_architecture/fftAndLocalTides/93as/bestModel_93as_fold1.tf/assets\n"
     ]
    },
    {
     "name": "stderr",
     "output_type": "stream",
     "text": [
      "INFO:tensorflow:Assets written to: ../models/NNmodel/1DCNN_final_architecture/fftAndLocalTides/93as/bestModel_93as_fold1.tf/assets\n"
     ]
    },
    {
     "name": "stdout",
     "output_type": "stream",
     "text": [
      "629/629 [==============================] - 15s 24ms/step - loss: 0.0280 - mse: 0.0565 - mae: 0.1649 - rmse: 0.2378 - val_loss: 0.0164 - val_mse: 0.0328 - val_mae: 0.1324 - val_rmse: 0.1811\n",
      "Epoch 64/1000\n",
      "629/629 [==============================] - 13s 21ms/step - loss: 0.0280 - mse: 0.0565 - mae: 0.1648 - rmse: 0.2377 - val_loss: 0.0180 - val_mse: 0.0360 - val_mae: 0.1363 - val_rmse: 0.1897\n",
      "Epoch 65/1000\n",
      "629/629 [==============================] - 13s 21ms/step - loss: 0.0277 - mse: 0.0559 - mae: 0.1641 - rmse: 0.2364 - val_loss: 0.0179 - val_mse: 0.0358 - val_mae: 0.1355 - val_rmse: 0.1892\n",
      "Epoch 66/1000\n",
      "629/629 [==============================] - 13s 21ms/step - loss: 0.0275 - mse: 0.0556 - mae: 0.1635 - rmse: 0.2358 - val_loss: 0.0180 - val_mse: 0.0360 - val_mae: 0.1353 - val_rmse: 0.1897\n",
      "Epoch 67/1000\n",
      "629/629 [==============================] - 13s 21ms/step - loss: 0.0274 - mse: 0.0553 - mae: 0.1631 - rmse: 0.2353 - val_loss: 0.0179 - val_mse: 0.0357 - val_mae: 0.1352 - val_rmse: 0.1891\n",
      "Epoch 68/1000\n",
      "628/629 [============================>.] - ETA: 0s - loss: 0.0272 - mse: 0.0549 - mae: 0.1624 - rmse: 0.2342"
     ]
    },
    {
     "name": "stderr",
     "output_type": "stream",
     "text": [
      "WARNING:absl:Found untraced functions such as _jit_compiled_convolution_op, _jit_compiled_convolution_op, _jit_compiled_convolution_op while saving (showing 3 of 3). These functions will not be directly callable after loading.\n"
     ]
    },
    {
     "name": "stdout",
     "output_type": "stream",
     "text": [
      "INFO:tensorflow:Assets written to: ../models/NNmodel/1DCNN_final_architecture/fftAndLocalTides/93as/bestModel_93as_fold1.tf/assets\n"
     ]
    },
    {
     "name": "stderr",
     "output_type": "stream",
     "text": [
      "INFO:tensorflow:Assets written to: ../models/NNmodel/1DCNN_final_architecture/fftAndLocalTides/93as/bestModel_93as_fold1.tf/assets\n"
     ]
    },
    {
     "name": "stdout",
     "output_type": "stream",
     "text": [
      "629/629 [==============================] - 15s 23ms/step - loss: 0.0272 - mse: 0.0549 - mae: 0.1624 - rmse: 0.2342 - val_loss: 0.0164 - val_mse: 0.0328 - val_mae: 0.1314 - val_rmse: 0.1811\n",
      "Epoch 69/1000\n",
      "629/629 [==============================] - ETA: 0s - loss: 0.0271 - mse: 0.0548 - mae: 0.1623 - rmse: 0.2342"
     ]
    },
    {
     "name": "stderr",
     "output_type": "stream",
     "text": [
      "WARNING:absl:Found untraced functions such as _jit_compiled_convolution_op, _jit_compiled_convolution_op, _jit_compiled_convolution_op while saving (showing 3 of 3). These functions will not be directly callable after loading.\n"
     ]
    },
    {
     "name": "stdout",
     "output_type": "stream",
     "text": [
      "INFO:tensorflow:Assets written to: ../models/NNmodel/1DCNN_final_architecture/fftAndLocalTides/93as/bestModel_93as_fold1.tf/assets\n"
     ]
    },
    {
     "name": "stderr",
     "output_type": "stream",
     "text": [
      "INFO:tensorflow:Assets written to: ../models/NNmodel/1DCNN_final_architecture/fftAndLocalTides/93as/bestModel_93as_fold1.tf/assets\n"
     ]
    },
    {
     "name": "stdout",
     "output_type": "stream",
     "text": [
      "629/629 [==============================] - 15s 24ms/step - loss: 0.0271 - mse: 0.0548 - mae: 0.1623 - rmse: 0.2342 - val_loss: 0.0161 - val_mse: 0.0323 - val_mae: 0.1304 - val_rmse: 0.1797\n",
      "Epoch 70/1000\n",
      "629/629 [==============================] - 13s 21ms/step - loss: 0.0268 - mse: 0.0540 - mae: 0.1612 - rmse: 0.2325 - val_loss: 0.0182 - val_mse: 0.0364 - val_mae: 0.1360 - val_rmse: 0.1909\n",
      "Epoch 71/1000\n",
      "629/629 [==============================] - 13s 21ms/step - loss: 0.0267 - mse: 0.0538 - mae: 0.1610 - rmse: 0.2320 - val_loss: 0.0173 - val_mse: 0.0346 - val_mae: 0.1332 - val_rmse: 0.1859\n",
      "Epoch 72/1000\n",
      "629/629 [==============================] - 13s 21ms/step - loss: 0.0268 - mse: 0.0542 - mae: 0.1614 - rmse: 0.2327 - val_loss: 0.0169 - val_mse: 0.0338 - val_mae: 0.1324 - val_rmse: 0.1839\n",
      "Epoch 73/1000\n",
      "629/629 [==============================] - 13s 21ms/step - loss: 0.0266 - mse: 0.0538 - mae: 0.1608 - rmse: 0.2319 - val_loss: 0.0165 - val_mse: 0.0331 - val_mae: 0.1317 - val_rmse: 0.1819\n",
      "Epoch 74/1000\n",
      "629/629 [==============================] - 13s 20ms/step - loss: 0.0265 - mse: 0.0535 - mae: 0.1601 - rmse: 0.2313 - val_loss: 0.0180 - val_mse: 0.0361 - val_mae: 0.1353 - val_rmse: 0.1900\n",
      "Epoch 75/1000\n",
      "629/629 [==============================] - 13s 21ms/step - loss: 0.0264 - mse: 0.0534 - mae: 0.1599 - rmse: 0.2311 - val_loss: 0.0169 - val_mse: 0.0337 - val_mae: 0.1319 - val_rmse: 0.1837\n",
      "Epoch 76/1000\n",
      "629/629 [==============================] - 13s 21ms/step - loss: 0.0262 - mse: 0.0528 - mae: 0.1593 - rmse: 0.2298 - val_loss: 0.0166 - val_mse: 0.0333 - val_mae: 0.1313 - val_rmse: 0.1824\n",
      "Epoch 77/1000\n",
      "629/629 [==============================] - 13s 21ms/step - loss: 0.0262 - mse: 0.0529 - mae: 0.1594 - rmse: 0.2299 - val_loss: 0.0172 - val_mse: 0.0345 - val_mae: 0.1327 - val_rmse: 0.1856\n",
      "Epoch 78/1000\n",
      "629/629 [==============================] - 13s 20ms/step - loss: 0.0260 - mse: 0.0525 - mae: 0.1586 - rmse: 0.2291 - val_loss: 0.0167 - val_mse: 0.0334 - val_mae: 0.1313 - val_rmse: 0.1827\n",
      "Epoch 79/1000\n",
      "629/629 [==============================] - 13s 21ms/step - loss: 0.0257 - mse: 0.0518 - mae: 0.1577 - rmse: 0.2276 - val_loss: 0.0178 - val_mse: 0.0357 - val_mae: 0.1341 - val_rmse: 0.1888\n",
      "Epoch 80/1000\n",
      "629/629 [==============================] - ETA: 0s - loss: 0.0257 - mse: 0.0520 - mae: 0.1579 - rmse: 0.2279"
     ]
    },
    {
     "name": "stderr",
     "output_type": "stream",
     "text": [
      "WARNING:absl:Found untraced functions such as _jit_compiled_convolution_op, _jit_compiled_convolution_op, _jit_compiled_convolution_op while saving (showing 3 of 3). These functions will not be directly callable after loading.\n"
     ]
    },
    {
     "name": "stdout",
     "output_type": "stream",
     "text": [
      "INFO:tensorflow:Assets written to: ../models/NNmodel/1DCNN_final_architecture/fftAndLocalTides/93as/bestModel_93as_fold1.tf/assets\n"
     ]
    },
    {
     "name": "stderr",
     "output_type": "stream",
     "text": [
      "INFO:tensorflow:Assets written to: ../models/NNmodel/1DCNN_final_architecture/fftAndLocalTides/93as/bestModel_93as_fold1.tf/assets\n"
     ]
    },
    {
     "name": "stdout",
     "output_type": "stream",
     "text": [
      "629/629 [==============================] - 15s 24ms/step - loss: 0.0257 - mse: 0.0520 - mae: 0.1579 - rmse: 0.2279 - val_loss: 0.0160 - val_mse: 0.0320 - val_mae: 0.1288 - val_rmse: 0.1789\n",
      "Epoch 81/1000\n",
      "629/629 [==============================] - 13s 21ms/step - loss: 0.0256 - mse: 0.0517 - mae: 0.1575 - rmse: 0.2273 - val_loss: 0.0170 - val_mse: 0.0341 - val_mae: 0.1321 - val_rmse: 0.1846\n",
      "Epoch 82/1000\n",
      "628/629 [============================>.] - ETA: 0s - loss: 0.0256 - mse: 0.0516 - mae: 0.1574 - rmse: 0.2271"
     ]
    },
    {
     "name": "stderr",
     "output_type": "stream",
     "text": [
      "WARNING:absl:Found untraced functions such as _jit_compiled_convolution_op, _jit_compiled_convolution_op, _jit_compiled_convolution_op while saving (showing 3 of 3). These functions will not be directly callable after loading.\n"
     ]
    },
    {
     "name": "stdout",
     "output_type": "stream",
     "text": [
      "INFO:tensorflow:Assets written to: ../models/NNmodel/1DCNN_final_architecture/fftAndLocalTides/93as/bestModel_93as_fold1.tf/assets\n"
     ]
    },
    {
     "name": "stderr",
     "output_type": "stream",
     "text": [
      "INFO:tensorflow:Assets written to: ../models/NNmodel/1DCNN_final_architecture/fftAndLocalTides/93as/bestModel_93as_fold1.tf/assets\n"
     ]
    },
    {
     "name": "stdout",
     "output_type": "stream",
     "text": [
      "629/629 [==============================] - 15s 24ms/step - loss: 0.0256 - mse: 0.0516 - mae: 0.1574 - rmse: 0.2271 - val_loss: 0.0158 - val_mse: 0.0316 - val_mae: 0.1278 - val_rmse: 0.1777\n",
      "Epoch 83/1000\n",
      "629/629 [==============================] - 13s 21ms/step - loss: 0.0255 - mse: 0.0515 - mae: 0.1571 - rmse: 0.2269 - val_loss: 0.0161 - val_mse: 0.0322 - val_mae: 0.1291 - val_rmse: 0.1795\n",
      "Epoch 84/1000\n",
      "628/629 [============================>.] - ETA: 0s - loss: 0.0256 - mse: 0.0516 - mae: 0.1572 - rmse: 0.2272"
     ]
    },
    {
     "name": "stderr",
     "output_type": "stream",
     "text": [
      "WARNING:absl:Found untraced functions such as _jit_compiled_convolution_op, _jit_compiled_convolution_op, _jit_compiled_convolution_op while saving (showing 3 of 3). These functions will not be directly callable after loading.\n"
     ]
    },
    {
     "name": "stdout",
     "output_type": "stream",
     "text": [
      "INFO:tensorflow:Assets written to: ../models/NNmodel/1DCNN_final_architecture/fftAndLocalTides/93as/bestModel_93as_fold1.tf/assets\n"
     ]
    },
    {
     "name": "stderr",
     "output_type": "stream",
     "text": [
      "INFO:tensorflow:Assets written to: ../models/NNmodel/1DCNN_final_architecture/fftAndLocalTides/93as/bestModel_93as_fold1.tf/assets\n"
     ]
    },
    {
     "name": "stdout",
     "output_type": "stream",
     "text": [
      "629/629 [==============================] - 15s 24ms/step - loss: 0.0256 - mse: 0.0516 - mae: 0.1572 - rmse: 0.2272 - val_loss: 0.0156 - val_mse: 0.0311 - val_mae: 0.1278 - val_rmse: 0.1765\n",
      "Epoch 85/1000\n",
      "629/629 [==============================] - 13s 21ms/step - loss: 0.0253 - mse: 0.0510 - mae: 0.1564 - rmse: 0.2259 - val_loss: 0.0164 - val_mse: 0.0327 - val_mae: 0.1298 - val_rmse: 0.1809\n",
      "Epoch 86/1000\n",
      "629/629 [==============================] - ETA: 0s - loss: 0.0249 - mse: 0.0502 - mae: 0.1555 - rmse: 0.2241"
     ]
    },
    {
     "name": "stderr",
     "output_type": "stream",
     "text": [
      "WARNING:absl:Found untraced functions such as _jit_compiled_convolution_op, _jit_compiled_convolution_op, _jit_compiled_convolution_op while saving (showing 3 of 3). These functions will not be directly callable after loading.\n"
     ]
    },
    {
     "name": "stdout",
     "output_type": "stream",
     "text": [
      "INFO:tensorflow:Assets written to: ../models/NNmodel/1DCNN_final_architecture/fftAndLocalTides/93as/bestModel_93as_fold1.tf/assets\n"
     ]
    },
    {
     "name": "stderr",
     "output_type": "stream",
     "text": [
      "INFO:tensorflow:Assets written to: ../models/NNmodel/1DCNN_final_architecture/fftAndLocalTides/93as/bestModel_93as_fold1.tf/assets\n"
     ]
    },
    {
     "name": "stdout",
     "output_type": "stream",
     "text": [
      "629/629 [==============================] - 15s 24ms/step - loss: 0.0249 - mse: 0.0502 - mae: 0.1555 - rmse: 0.2241 - val_loss: 0.0154 - val_mse: 0.0309 - val_mae: 0.1270 - val_rmse: 0.1758\n",
      "Epoch 87/1000\n",
      "629/629 [==============================] - 13s 20ms/step - loss: 0.0251 - mse: 0.0507 - mae: 0.1560 - rmse: 0.2252 - val_loss: 0.0165 - val_mse: 0.0329 - val_mae: 0.1303 - val_rmse: 0.1815\n",
      "Epoch 88/1000\n",
      "628/629 [============================>.] - ETA: 0s - loss: 0.0248 - mse: 0.0500 - mae: 0.1550 - rmse: 0.2237"
     ]
    },
    {
     "name": "stderr",
     "output_type": "stream",
     "text": [
      "WARNING:absl:Found untraced functions such as _jit_compiled_convolution_op, _jit_compiled_convolution_op, _jit_compiled_convolution_op while saving (showing 3 of 3). These functions will not be directly callable after loading.\n"
     ]
    },
    {
     "name": "stdout",
     "output_type": "stream",
     "text": [
      "INFO:tensorflow:Assets written to: ../models/NNmodel/1DCNN_final_architecture/fftAndLocalTides/93as/bestModel_93as_fold1.tf/assets\n"
     ]
    },
    {
     "name": "stderr",
     "output_type": "stream",
     "text": [
      "INFO:tensorflow:Assets written to: ../models/NNmodel/1DCNN_final_architecture/fftAndLocalTides/93as/bestModel_93as_fold1.tf/assets\n"
     ]
    },
    {
     "name": "stdout",
     "output_type": "stream",
     "text": [
      "629/629 [==============================] - 15s 23ms/step - loss: 0.0248 - mse: 0.0500 - mae: 0.1550 - rmse: 0.2237 - val_loss: 0.0154 - val_mse: 0.0308 - val_mae: 0.1265 - val_rmse: 0.1755\n",
      "Epoch 89/1000\n",
      "629/629 [==============================] - ETA: 0s - loss: 0.0247 - mse: 0.0498 - mae: 0.1549 - rmse: 0.2232"
     ]
    },
    {
     "name": "stderr",
     "output_type": "stream",
     "text": [
      "WARNING:absl:Found untraced functions such as _jit_compiled_convolution_op, _jit_compiled_convolution_op, _jit_compiled_convolution_op while saving (showing 3 of 3). These functions will not be directly callable after loading.\n"
     ]
    },
    {
     "name": "stdout",
     "output_type": "stream",
     "text": [
      "INFO:tensorflow:Assets written to: ../models/NNmodel/1DCNN_final_architecture/fftAndLocalTides/93as/bestModel_93as_fold1.tf/assets\n"
     ]
    },
    {
     "name": "stderr",
     "output_type": "stream",
     "text": [
      "INFO:tensorflow:Assets written to: ../models/NNmodel/1DCNN_final_architecture/fftAndLocalTides/93as/bestModel_93as_fold1.tf/assets\n"
     ]
    },
    {
     "name": "stdout",
     "output_type": "stream",
     "text": [
      "629/629 [==============================] - 15s 24ms/step - loss: 0.0247 - mse: 0.0498 - mae: 0.1549 - rmse: 0.2232 - val_loss: 0.0151 - val_mse: 0.0302 - val_mae: 0.1262 - val_rmse: 0.1738\n",
      "Epoch 90/1000\n",
      "629/629 [==============================] - 13s 21ms/step - loss: 0.0249 - mse: 0.0503 - mae: 0.1554 - rmse: 0.2243 - val_loss: 0.0173 - val_mse: 0.0347 - val_mae: 0.1324 - val_rmse: 0.1862\n",
      "Epoch 91/1000\n",
      "629/629 [==============================] - 13s 21ms/step - loss: 0.0246 - mse: 0.0497 - mae: 0.1542 - rmse: 0.2230 - val_loss: 0.0156 - val_mse: 0.0312 - val_mae: 0.1270 - val_rmse: 0.1767\n",
      "Epoch 92/1000\n",
      "629/629 [==============================] - 13s 21ms/step - loss: 0.0245 - mse: 0.0494 - mae: 0.1539 - rmse: 0.2222 - val_loss: 0.0168 - val_mse: 0.0336 - val_mae: 0.1313 - val_rmse: 0.1834\n",
      "Epoch 93/1000\n",
      "629/629 [==============================] - 13s 21ms/step - loss: 0.0246 - mse: 0.0496 - mae: 0.1541 - rmse: 0.2228 - val_loss: 0.0170 - val_mse: 0.0341 - val_mae: 0.1307 - val_rmse: 0.1847\n",
      "Epoch 94/1000\n",
      "629/629 [==============================] - 13s 21ms/step - loss: 0.0245 - mse: 0.0494 - mae: 0.1536 - rmse: 0.2223 - val_loss: 0.0160 - val_mse: 0.0321 - val_mae: 0.1281 - val_rmse: 0.1792\n",
      "Epoch 95/1000\n",
      "629/629 [==============================] - 13s 21ms/step - loss: 0.0243 - mse: 0.0490 - mae: 0.1532 - rmse: 0.2214 - val_loss: 0.0161 - val_mse: 0.0323 - val_mae: 0.1282 - val_rmse: 0.1796\n",
      "Epoch 96/1000\n",
      "629/629 [==============================] - 13s 21ms/step - loss: 0.0244 - mse: 0.0491 - mae: 0.1533 - rmse: 0.2217 - val_loss: 0.0162 - val_mse: 0.0325 - val_mae: 0.1280 - val_rmse: 0.1802\n",
      "Epoch 97/1000\n",
      "629/629 [==============================] - 13s 21ms/step - loss: 0.0241 - mse: 0.0486 - mae: 0.1526 - rmse: 0.2204 - val_loss: 0.0159 - val_mse: 0.0318 - val_mae: 0.1278 - val_rmse: 0.1784\n",
      "Epoch 98/1000\n",
      "627/629 [============================>.] - ETA: 0s - loss: 0.0240 - mse: 0.0483 - mae: 0.1521 - rmse: 0.2198"
     ]
    },
    {
     "name": "stderr",
     "output_type": "stream",
     "text": [
      "WARNING:absl:Found untraced functions such as _jit_compiled_convolution_op, _jit_compiled_convolution_op, _jit_compiled_convolution_op while saving (showing 3 of 3). These functions will not be directly callable after loading.\n"
     ]
    },
    {
     "name": "stdout",
     "output_type": "stream",
     "text": [
      "INFO:tensorflow:Assets written to: ../models/NNmodel/1DCNN_final_architecture/fftAndLocalTides/93as/bestModel_93as_fold1.tf/assets\n"
     ]
    },
    {
     "name": "stderr",
     "output_type": "stream",
     "text": [
      "INFO:tensorflow:Assets written to: ../models/NNmodel/1DCNN_final_architecture/fftAndLocalTides/93as/bestModel_93as_fold1.tf/assets\n"
     ]
    },
    {
     "name": "stdout",
     "output_type": "stream",
     "text": [
      "629/629 [==============================] - 16s 25ms/step - loss: 0.0240 - mse: 0.0483 - mae: 0.1521 - rmse: 0.2199 - val_loss: 0.0150 - val_mse: 0.0301 - val_mae: 0.1244 - val_rmse: 0.1734\n",
      "Epoch 99/1000\n",
      "629/629 [==============================] - 13s 21ms/step - loss: 0.0240 - mse: 0.0485 - mae: 0.1522 - rmse: 0.2201 - val_loss: 0.0169 - val_mse: 0.0339 - val_mae: 0.1297 - val_rmse: 0.1841\n",
      "Epoch 100/1000\n",
      "629/629 [==============================] - 13s 21ms/step - loss: 0.0238 - mse: 0.0480 - mae: 0.1517 - rmse: 0.2191 - val_loss: 0.0155 - val_mse: 0.0310 - val_mae: 0.1266 - val_rmse: 0.1760\n",
      "Epoch 101/1000\n",
      "627/629 [============================>.] - ETA: 0s - loss: 0.0238 - mse: 0.0479 - mae: 0.1516 - rmse: 0.2188"
     ]
    },
    {
     "name": "stderr",
     "output_type": "stream",
     "text": [
      "WARNING:absl:Found untraced functions such as _jit_compiled_convolution_op, _jit_compiled_convolution_op, _jit_compiled_convolution_op while saving (showing 3 of 3). These functions will not be directly callable after loading.\n"
     ]
    },
    {
     "name": "stdout",
     "output_type": "stream",
     "text": [
      "INFO:tensorflow:Assets written to: ../models/NNmodel/1DCNN_final_architecture/fftAndLocalTides/93as/bestModel_93as_fold1.tf/assets\n"
     ]
    },
    {
     "name": "stderr",
     "output_type": "stream",
     "text": [
      "INFO:tensorflow:Assets written to: ../models/NNmodel/1DCNN_final_architecture/fftAndLocalTides/93as/bestModel_93as_fold1.tf/assets\n"
     ]
    },
    {
     "name": "stdout",
     "output_type": "stream",
     "text": [
      "629/629 [==============================] - 15s 23ms/step - loss: 0.0238 - mse: 0.0479 - mae: 0.1516 - rmse: 0.2189 - val_loss: 0.0148 - val_mse: 0.0296 - val_mae: 0.1244 - val_rmse: 0.1721\n",
      "Epoch 102/1000\n",
      "629/629 [==============================] - 13s 21ms/step - loss: 0.0237 - mse: 0.0479 - mae: 0.1512 - rmse: 0.2189 - val_loss: 0.0150 - val_mse: 0.0301 - val_mae: 0.1254 - val_rmse: 0.1734\n",
      "Epoch 103/1000\n",
      "629/629 [==============================] - 13s 20ms/step - loss: 0.0236 - mse: 0.0476 - mae: 0.1511 - rmse: 0.2181 - val_loss: 0.0151 - val_mse: 0.0302 - val_mae: 0.1258 - val_rmse: 0.1739\n",
      "Epoch 104/1000\n",
      "629/629 [==============================] - 13s 20ms/step - loss: 0.0236 - mse: 0.0476 - mae: 0.1508 - rmse: 0.2181 - val_loss: 0.0162 - val_mse: 0.0324 - val_mae: 0.1276 - val_rmse: 0.1799\n",
      "Epoch 105/1000\n",
      "628/629 [============================>.] - ETA: 0s - loss: 0.0235 - mse: 0.0474 - mae: 0.1507 - rmse: 0.2178"
     ]
    },
    {
     "name": "stderr",
     "output_type": "stream",
     "text": [
      "WARNING:absl:Found untraced functions such as _jit_compiled_convolution_op, _jit_compiled_convolution_op, _jit_compiled_convolution_op while saving (showing 3 of 3). These functions will not be directly callable after loading.\n"
     ]
    },
    {
     "name": "stdout",
     "output_type": "stream",
     "text": [
      "INFO:tensorflow:Assets written to: ../models/NNmodel/1DCNN_final_architecture/fftAndLocalTides/93as/bestModel_93as_fold1.tf/assets\n"
     ]
    },
    {
     "name": "stderr",
     "output_type": "stream",
     "text": [
      "INFO:tensorflow:Assets written to: ../models/NNmodel/1DCNN_final_architecture/fftAndLocalTides/93as/bestModel_93as_fold1.tf/assets\n"
     ]
    },
    {
     "name": "stdout",
     "output_type": "stream",
     "text": [
      "629/629 [==============================] - 15s 23ms/step - loss: 0.0235 - mse: 0.0474 - mae: 0.1507 - rmse: 0.2178 - val_loss: 0.0136 - val_mse: 0.0273 - val_mae: 0.1205 - val_rmse: 0.1651\n",
      "Epoch 106/1000\n",
      "629/629 [==============================] - 13s 21ms/step - loss: 0.0233 - mse: 0.0470 - mae: 0.1502 - rmse: 0.2169 - val_loss: 0.0145 - val_mse: 0.0291 - val_mae: 0.1227 - val_rmse: 0.1705\n",
      "Epoch 107/1000\n",
      "629/629 [==============================] - 13s 21ms/step - loss: 0.0232 - mse: 0.0468 - mae: 0.1495 - rmse: 0.2162 - val_loss: 0.0157 - val_mse: 0.0314 - val_mae: 0.1262 - val_rmse: 0.1771\n",
      "Epoch 108/1000\n",
      "629/629 [==============================] - 13s 21ms/step - loss: 0.0232 - mse: 0.0468 - mae: 0.1498 - rmse: 0.2163 - val_loss: 0.0145 - val_mse: 0.0291 - val_mae: 0.1226 - val_rmse: 0.1705\n",
      "Epoch 109/1000\n",
      "629/629 [==============================] - 13s 21ms/step - loss: 0.0233 - mse: 0.0471 - mae: 0.1499 - rmse: 0.2169 - val_loss: 0.0150 - val_mse: 0.0300 - val_mae: 0.1236 - val_rmse: 0.1731\n",
      "Epoch 110/1000\n",
      "629/629 [==============================] - 13s 21ms/step - loss: 0.0232 - mse: 0.0467 - mae: 0.1494 - rmse: 0.2161 - val_loss: 0.0148 - val_mse: 0.0296 - val_mae: 0.1237 - val_rmse: 0.1722\n",
      "Epoch 111/1000\n",
      "629/629 [==============================] - 13s 21ms/step - loss: 0.0233 - mse: 0.0470 - mae: 0.1496 - rmse: 0.2167 - val_loss: 0.0152 - val_mse: 0.0305 - val_mae: 0.1259 - val_rmse: 0.1746\n",
      "Epoch 112/1000\n",
      "629/629 [==============================] - 13s 21ms/step - loss: 0.0232 - mse: 0.0467 - mae: 0.1494 - rmse: 0.2160 - val_loss: 0.0144 - val_mse: 0.0288 - val_mae: 0.1222 - val_rmse: 0.1697\n",
      "Epoch 113/1000\n",
      "629/629 [==============================] - 13s 21ms/step - loss: 0.0228 - mse: 0.0459 - mae: 0.1486 - rmse: 0.2143 - val_loss: 0.0163 - val_mse: 0.0327 - val_mae: 0.1271 - val_rmse: 0.1808\n",
      "Epoch 114/1000\n",
      "629/629 [==============================] - 13s 20ms/step - loss: 0.0228 - mse: 0.0460 - mae: 0.1484 - rmse: 0.2146 - val_loss: 0.0145 - val_mse: 0.0290 - val_mae: 0.1229 - val_rmse: 0.1703\n",
      "Epoch 115/1000\n",
      "629/629 [==============================] - 13s 21ms/step - loss: 0.0228 - mse: 0.0459 - mae: 0.1482 - rmse: 0.2142 - val_loss: 0.0161 - val_mse: 0.0323 - val_mae: 0.1268 - val_rmse: 0.1796\n",
      "Epoch 116/1000\n",
      "629/629 [==============================] - 13s 21ms/step - loss: 0.0228 - mse: 0.0460 - mae: 0.1482 - rmse: 0.2144 - val_loss: 0.0145 - val_mse: 0.0291 - val_mae: 0.1225 - val_rmse: 0.1706\n",
      "Epoch 117/1000\n",
      "629/629 [==============================] - 13s 21ms/step - loss: 0.0227 - mse: 0.0457 - mae: 0.1478 - rmse: 0.2138 - val_loss: 0.0137 - val_mse: 0.0274 - val_mae: 0.1200 - val_rmse: 0.1654\n",
      "Epoch 118/1000\n",
      "629/629 [==============================] - 13s 21ms/step - loss: 0.0225 - mse: 0.0454 - mae: 0.1475 - rmse: 0.2131 - val_loss: 0.0138 - val_mse: 0.0276 - val_mae: 0.1199 - val_rmse: 0.1660\n",
      "Epoch 119/1000\n",
      "629/629 [==============================] - 13s 21ms/step - loss: 0.0226 - mse: 0.0455 - mae: 0.1475 - rmse: 0.2134 - val_loss: 0.0147 - val_mse: 0.0295 - val_mae: 0.1226 - val_rmse: 0.1718\n",
      "Epoch 120/1000\n",
      "629/629 [==============================] - 13s 21ms/step - loss: 0.0224 - mse: 0.0451 - mae: 0.1469 - rmse: 0.2124 - val_loss: 0.0153 - val_mse: 0.0307 - val_mae: 0.1251 - val_rmse: 0.1752\n",
      "Epoch 121/1000\n",
      "629/629 [==============================] - 13s 21ms/step - loss: 0.0225 - mse: 0.0453 - mae: 0.1473 - rmse: 0.2128 - val_loss: 0.0146 - val_mse: 0.0291 - val_mae: 0.1224 - val_rmse: 0.1706\n",
      "Epoch 122/1000\n",
      "629/629 [==============================] - 13s 21ms/step - loss: 0.0224 - mse: 0.0451 - mae: 0.1469 - rmse: 0.2125 - val_loss: 0.0140 - val_mse: 0.0279 - val_mae: 0.1207 - val_rmse: 0.1672\n",
      "Epoch 123/1000\n",
      "629/629 [==============================] - 13s 20ms/step - loss: 0.0225 - mse: 0.0453 - mae: 0.1470 - rmse: 0.2129 - val_loss: 0.0152 - val_mse: 0.0304 - val_mae: 0.1237 - val_rmse: 0.1744\n",
      "Epoch 124/1000\n",
      "629/629 [==============================] - 13s 20ms/step - loss: 0.0222 - mse: 0.0447 - mae: 0.1464 - rmse: 0.2115 - val_loss: 0.0144 - val_mse: 0.0288 - val_mae: 0.1218 - val_rmse: 0.1696\n",
      "Epoch 125/1000\n",
      "628/629 [============================>.] - ETA: 0s - loss: 0.0222 - mse: 0.0446 - mae: 0.1463 - rmse: 0.2112"
     ]
    },
    {
     "name": "stderr",
     "output_type": "stream",
     "text": [
      "WARNING:absl:Found untraced functions such as _jit_compiled_convolution_op, _jit_compiled_convolution_op, _jit_compiled_convolution_op while saving (showing 3 of 3). These functions will not be directly callable after loading.\n"
     ]
    },
    {
     "name": "stdout",
     "output_type": "stream",
     "text": [
      "INFO:tensorflow:Assets written to: ../models/NNmodel/1DCNN_final_architecture/fftAndLocalTides/93as/bestModel_93as_fold1.tf/assets\n"
     ]
    },
    {
     "name": "stderr",
     "output_type": "stream",
     "text": [
      "INFO:tensorflow:Assets written to: ../models/NNmodel/1DCNN_final_architecture/fftAndLocalTides/93as/bestModel_93as_fold1.tf/assets\n"
     ]
    },
    {
     "name": "stdout",
     "output_type": "stream",
     "text": [
      "629/629 [==============================] - 15s 24ms/step - loss: 0.0222 - mse: 0.0446 - mae: 0.1463 - rmse: 0.2112 - val_loss: 0.0132 - val_mse: 0.0265 - val_mae: 0.1182 - val_rmse: 0.1627\n",
      "Epoch 126/1000\n",
      "629/629 [==============================] - 13s 20ms/step - loss: 0.0221 - mse: 0.0444 - mae: 0.1457 - rmse: 0.2108 - val_loss: 0.0139 - val_mse: 0.0278 - val_mae: 0.1207 - val_rmse: 0.1667\n",
      "Epoch 127/1000\n",
      "629/629 [==============================] - 13s 21ms/step - loss: 0.0220 - mse: 0.0442 - mae: 0.1454 - rmse: 0.2102 - val_loss: 0.0142 - val_mse: 0.0285 - val_mae: 0.1213 - val_rmse: 0.1688\n",
      "Epoch 128/1000\n",
      "629/629 [==============================] - 13s 21ms/step - loss: 0.0221 - mse: 0.0446 - mae: 0.1459 - rmse: 0.2112 - val_loss: 0.0138 - val_mse: 0.0277 - val_mae: 0.1200 - val_rmse: 0.1663\n",
      "Epoch 129/1000\n",
      "629/629 [==============================] - 13s 21ms/step - loss: 0.0219 - mse: 0.0441 - mae: 0.1455 - rmse: 0.2100 - val_loss: 0.0139 - val_mse: 0.0279 - val_mae: 0.1200 - val_rmse: 0.1670\n",
      "Epoch 130/1000\n",
      "629/629 [==============================] - 13s 21ms/step - loss: 0.0221 - mse: 0.0446 - mae: 0.1459 - rmse: 0.2111 - val_loss: 0.0145 - val_mse: 0.0290 - val_mae: 0.1220 - val_rmse: 0.1704\n",
      "Epoch 131/1000\n",
      "629/629 [==============================] - 13s 21ms/step - loss: 0.0218 - mse: 0.0440 - mae: 0.1452 - rmse: 0.2097 - val_loss: 0.0142 - val_mse: 0.0284 - val_mae: 0.1213 - val_rmse: 0.1686\n",
      "Epoch 132/1000\n",
      "629/629 [==============================] - 13s 21ms/step - loss: 0.0218 - mse: 0.0439 - mae: 0.1447 - rmse: 0.2094 - val_loss: 0.0141 - val_mse: 0.0282 - val_mae: 0.1208 - val_rmse: 0.1680\n",
      "Epoch 133/1000\n",
      "629/629 [==============================] - 13s 21ms/step - loss: 0.0218 - mse: 0.0440 - mae: 0.1448 - rmse: 0.2097 - val_loss: 0.0133 - val_mse: 0.0266 - val_mae: 0.1176 - val_rmse: 0.1630\n",
      "Epoch 134/1000\n",
      "629/629 [==============================] - 13s 21ms/step - loss: 0.0217 - mse: 0.0437 - mae: 0.1445 - rmse: 0.2090 - val_loss: 0.0150 - val_mse: 0.0301 - val_mae: 0.1237 - val_rmse: 0.1734\n",
      "Epoch 135/1000\n",
      "629/629 [==============================] - 13s 20ms/step - loss: 0.0217 - mse: 0.0438 - mae: 0.1446 - rmse: 0.2092 - val_loss: 0.0137 - val_mse: 0.0274 - val_mae: 0.1192 - val_rmse: 0.1655\n",
      "Epoch 136/1000\n",
      "629/629 [==============================] - 13s 21ms/step - loss: 0.0217 - mse: 0.0437 - mae: 0.1445 - rmse: 0.2090 - val_loss: 0.0137 - val_mse: 0.0274 - val_mae: 0.1188 - val_rmse: 0.1656\n",
      "Epoch 137/1000\n",
      "629/629 [==============================] - 13s 21ms/step - loss: 0.0217 - mse: 0.0437 - mae: 0.1444 - rmse: 0.2090 - val_loss: 0.0140 - val_mse: 0.0280 - val_mae: 0.1205 - val_rmse: 0.1674\n",
      "Epoch 138/1000\n",
      "629/629 [==============================] - 13s 21ms/step - loss: 0.0216 - mse: 0.0435 - mae: 0.1440 - rmse: 0.2085 - val_loss: 0.0135 - val_mse: 0.0270 - val_mae: 0.1185 - val_rmse: 0.1644\n",
      "Epoch 139/1000\n",
      "629/629 [==============================] - ETA: 0s - loss: 0.0216 - mse: 0.0435 - mae: 0.1441 - rmse: 0.2086"
     ]
    },
    {
     "name": "stderr",
     "output_type": "stream",
     "text": [
      "WARNING:absl:Found untraced functions such as _jit_compiled_convolution_op, _jit_compiled_convolution_op, _jit_compiled_convolution_op while saving (showing 3 of 3). These functions will not be directly callable after loading.\n"
     ]
    },
    {
     "name": "stdout",
     "output_type": "stream",
     "text": [
      "INFO:tensorflow:Assets written to: ../models/NNmodel/1DCNN_final_architecture/fftAndLocalTides/93as/bestModel_93as_fold1.tf/assets\n"
     ]
    },
    {
     "name": "stderr",
     "output_type": "stream",
     "text": [
      "INFO:tensorflow:Assets written to: ../models/NNmodel/1DCNN_final_architecture/fftAndLocalTides/93as/bestModel_93as_fold1.tf/assets\n"
     ]
    },
    {
     "name": "stdout",
     "output_type": "stream",
     "text": [
      "629/629 [==============================] - 15s 24ms/step - loss: 0.0216 - mse: 0.0435 - mae: 0.1441 - rmse: 0.2086 - val_loss: 0.0132 - val_mse: 0.0264 - val_mae: 0.1172 - val_rmse: 0.1625\n",
      "Epoch 140/1000\n",
      "629/629 [==============================] - ETA: 0s - loss: 0.0213 - mse: 0.0430 - mae: 0.1433 - rmse: 0.2073"
     ]
    },
    {
     "name": "stderr",
     "output_type": "stream",
     "text": [
      "WARNING:absl:Found untraced functions such as _jit_compiled_convolution_op, _jit_compiled_convolution_op, _jit_compiled_convolution_op while saving (showing 3 of 3). These functions will not be directly callable after loading.\n"
     ]
    },
    {
     "name": "stdout",
     "output_type": "stream",
     "text": [
      "INFO:tensorflow:Assets written to: ../models/NNmodel/1DCNN_final_architecture/fftAndLocalTides/93as/bestModel_93as_fold1.tf/assets\n"
     ]
    },
    {
     "name": "stderr",
     "output_type": "stream",
     "text": [
      "INFO:tensorflow:Assets written to: ../models/NNmodel/1DCNN_final_architecture/fftAndLocalTides/93as/bestModel_93as_fold1.tf/assets\n"
     ]
    },
    {
     "name": "stdout",
     "output_type": "stream",
     "text": [
      "629/629 [==============================] - 15s 24ms/step - loss: 0.0213 - mse: 0.0430 - mae: 0.1433 - rmse: 0.2073 - val_loss: 0.0128 - val_mse: 0.0255 - val_mae: 0.1163 - val_rmse: 0.1598\n",
      "Epoch 141/1000\n",
      "629/629 [==============================] - 13s 21ms/step - loss: 0.0214 - mse: 0.0431 - mae: 0.1434 - rmse: 0.2075 - val_loss: 0.0151 - val_mse: 0.0302 - val_mae: 0.1231 - val_rmse: 0.1738\n",
      "Epoch 142/1000\n",
      "629/629 [==============================] - 13s 20ms/step - loss: 0.0215 - mse: 0.0434 - mae: 0.1438 - rmse: 0.2082 - val_loss: 0.0149 - val_mse: 0.0299 - val_mae: 0.1223 - val_rmse: 0.1729\n",
      "Epoch 143/1000\n",
      "629/629 [==============================] - 13s 20ms/step - loss: 0.0215 - mse: 0.0433 - mae: 0.1435 - rmse: 0.2080 - val_loss: 0.0154 - val_mse: 0.0309 - val_mae: 0.1238 - val_rmse: 0.1757\n",
      "Epoch 144/1000\n",
      "629/629 [==============================] - 13s 21ms/step - loss: 0.0213 - mse: 0.0428 - mae: 0.1431 - rmse: 0.2069 - val_loss: 0.0159 - val_mse: 0.0318 - val_mae: 0.1254 - val_rmse: 0.1783\n",
      "Epoch 145/1000\n",
      "629/629 [==============================] - 13s 21ms/step - loss: 0.0214 - mse: 0.0431 - mae: 0.1432 - rmse: 0.2075 - val_loss: 0.0132 - val_mse: 0.0265 - val_mae: 0.1170 - val_rmse: 0.1627\n",
      "Epoch 146/1000\n",
      "629/629 [==============================] - 13s 21ms/step - loss: 0.0213 - mse: 0.0429 - mae: 0.1431 - rmse: 0.2071 - val_loss: 0.0136 - val_mse: 0.0273 - val_mae: 0.1191 - val_rmse: 0.1652\n",
      "Epoch 147/1000\n",
      "629/629 [==============================] - 13s 20ms/step - loss: 0.0212 - mse: 0.0426 - mae: 0.1425 - rmse: 0.2064 - val_loss: 0.0135 - val_mse: 0.0270 - val_mae: 0.1178 - val_rmse: 0.1644\n",
      "Epoch 148/1000\n",
      "629/629 [==============================] - 13s 20ms/step - loss: 0.0211 - mse: 0.0425 - mae: 0.1423 - rmse: 0.2062 - val_loss: 0.0157 - val_mse: 0.0313 - val_mae: 0.1245 - val_rmse: 0.1770\n",
      "Epoch 149/1000\n",
      "629/629 [==============================] - 13s 20ms/step - loss: 0.0210 - mse: 0.0423 - mae: 0.1420 - rmse: 0.2058 - val_loss: 0.0139 - val_mse: 0.0279 - val_mae: 0.1195 - val_rmse: 0.1669\n",
      "Epoch 150/1000\n",
      "629/629 [==============================] - 13s 21ms/step - loss: 0.0211 - mse: 0.0424 - mae: 0.1422 - rmse: 0.2059 - val_loss: 0.0150 - val_mse: 0.0300 - val_mae: 0.1226 - val_rmse: 0.1731\n",
      "Epoch 151/1000\n",
      "629/629 [==============================] - 13s 21ms/step - loss: 0.0211 - mse: 0.0424 - mae: 0.1421 - rmse: 0.2059 - val_loss: 0.0129 - val_mse: 0.0258 - val_mae: 0.1164 - val_rmse: 0.1607\n",
      "Epoch 152/1000\n",
      "629/629 [==============================] - 13s 21ms/step - loss: 0.0211 - mse: 0.0425 - mae: 0.1418 - rmse: 0.2062 - val_loss: 0.0157 - val_mse: 0.0313 - val_mae: 0.1236 - val_rmse: 0.1770\n",
      "Epoch 153/1000\n",
      "629/629 [==============================] - 13s 21ms/step - loss: 0.0209 - mse: 0.0422 - mae: 0.1417 - rmse: 0.2054 - val_loss: 0.0145 - val_mse: 0.0290 - val_mae: 0.1211 - val_rmse: 0.1702\n",
      "Epoch 154/1000\n",
      "629/629 [==============================] - 14s 22ms/step - loss: 0.0209 - mse: 0.0421 - mae: 0.1415 - rmse: 0.2052 - val_loss: 0.0128 - val_mse: 0.0256 - val_mae: 0.1152 - val_rmse: 0.1601\n",
      "Epoch 155/1000\n",
      "629/629 [==============================] - 13s 21ms/step - loss: 0.0208 - mse: 0.0419 - mae: 0.1411 - rmse: 0.2046 - val_loss: 0.0139 - val_mse: 0.0277 - val_mae: 0.1188 - val_rmse: 0.1665\n",
      "Epoch 156/1000\n",
      "629/629 [==============================] - 13s 21ms/step - loss: 0.0208 - mse: 0.0420 - mae: 0.1412 - rmse: 0.2048 - val_loss: 0.0130 - val_mse: 0.0260 - val_mae: 0.1168 - val_rmse: 0.1612\n",
      "Epoch 157/1000\n",
      "629/629 [==============================] - ETA: 0s - loss: 0.0208 - mse: 0.0419 - mae: 0.1410 - rmse: 0.2046"
     ]
    },
    {
     "name": "stderr",
     "output_type": "stream",
     "text": [
      "WARNING:absl:Found untraced functions such as _jit_compiled_convolution_op, _jit_compiled_convolution_op, _jit_compiled_convolution_op while saving (showing 3 of 3). These functions will not be directly callable after loading.\n"
     ]
    },
    {
     "name": "stdout",
     "output_type": "stream",
     "text": [
      "INFO:tensorflow:Assets written to: ../models/NNmodel/1DCNN_final_architecture/fftAndLocalTides/93as/bestModel_93as_fold1.tf/assets\n"
     ]
    },
    {
     "name": "stderr",
     "output_type": "stream",
     "text": [
      "INFO:tensorflow:Assets written to: ../models/NNmodel/1DCNN_final_architecture/fftAndLocalTides/93as/bestModel_93as_fold1.tf/assets\n"
     ]
    },
    {
     "name": "stdout",
     "output_type": "stream",
     "text": [
      "629/629 [==============================] - 15s 24ms/step - loss: 0.0208 - mse: 0.0419 - mae: 0.1410 - rmse: 0.2046 - val_loss: 0.0127 - val_mse: 0.0254 - val_mae: 0.1149 - val_rmse: 0.1593\n",
      "Epoch 158/1000\n",
      "629/629 [==============================] - 13s 21ms/step - loss: 0.0209 - mse: 0.0420 - mae: 0.1410 - rmse: 0.2049 - val_loss: 0.0133 - val_mse: 0.0267 - val_mae: 0.1171 - val_rmse: 0.1633\n",
      "Epoch 159/1000\n",
      "629/629 [==============================] - 13s 20ms/step - loss: 0.0206 - mse: 0.0416 - mae: 0.1405 - rmse: 0.2040 - val_loss: 0.0144 - val_mse: 0.0289 - val_mae: 0.1204 - val_rmse: 0.1700\n",
      "Epoch 160/1000\n",
      "629/629 [==============================] - 13s 21ms/step - loss: 0.0208 - mse: 0.0418 - mae: 0.1407 - rmse: 0.2045 - val_loss: 0.0141 - val_mse: 0.0281 - val_mae: 0.1196 - val_rmse: 0.1677\n",
      "Epoch 161/1000\n",
      "629/629 [==============================] - 13s 21ms/step - loss: 0.0206 - mse: 0.0414 - mae: 0.1403 - rmse: 0.2035 - val_loss: 0.0134 - val_mse: 0.0269 - val_mae: 0.1179 - val_rmse: 0.1640\n",
      "Epoch 162/1000\n",
      "629/629 [==============================] - 13s 21ms/step - loss: 0.0206 - mse: 0.0414 - mae: 0.1403 - rmse: 0.2036 - val_loss: 0.0147 - val_mse: 0.0295 - val_mae: 0.1207 - val_rmse: 0.1718\n",
      "Epoch 163/1000\n",
      "628/629 [============================>.] - ETA: 0s - loss: 0.0205 - mse: 0.0413 - mae: 0.1399 - rmse: 0.2032"
     ]
    },
    {
     "name": "stderr",
     "output_type": "stream",
     "text": [
      "WARNING:absl:Found untraced functions such as _jit_compiled_convolution_op, _jit_compiled_convolution_op, _jit_compiled_convolution_op while saving (showing 3 of 3). These functions will not be directly callable after loading.\n"
     ]
    },
    {
     "name": "stdout",
     "output_type": "stream",
     "text": [
      "INFO:tensorflow:Assets written to: ../models/NNmodel/1DCNN_final_architecture/fftAndLocalTides/93as/bestModel_93as_fold1.tf/assets\n"
     ]
    },
    {
     "name": "stderr",
     "output_type": "stream",
     "text": [
      "INFO:tensorflow:Assets written to: ../models/NNmodel/1DCNN_final_architecture/fftAndLocalTides/93as/bestModel_93as_fold1.tf/assets\n"
     ]
    },
    {
     "name": "stdout",
     "output_type": "stream",
     "text": [
      "629/629 [==============================] - 15s 24ms/step - loss: 0.0205 - mse: 0.0413 - mae: 0.1399 - rmse: 0.2032 - val_loss: 0.0122 - val_mse: 0.0244 - val_mae: 0.1133 - val_rmse: 0.1562\n",
      "Epoch 164/1000\n",
      "629/629 [==============================] - 13s 21ms/step - loss: 0.0204 - mse: 0.0412 - mae: 0.1396 - rmse: 0.2029 - val_loss: 0.0151 - val_mse: 0.0301 - val_mae: 0.1220 - val_rmse: 0.1736\n",
      "Epoch 165/1000\n",
      "629/629 [==============================] - 13s 21ms/step - loss: 0.0204 - mse: 0.0411 - mae: 0.1396 - rmse: 0.2026 - val_loss: 0.0128 - val_mse: 0.0257 - val_mae: 0.1147 - val_rmse: 0.1602\n",
      "Epoch 166/1000\n",
      "629/629 [==============================] - 13s 21ms/step - loss: 0.0205 - mse: 0.0412 - mae: 0.1397 - rmse: 0.2030 - val_loss: 0.0144 - val_mse: 0.0288 - val_mae: 0.1205 - val_rmse: 0.1698\n",
      "Epoch 167/1000\n",
      "629/629 [==============================] - 13s 21ms/step - loss: 0.0205 - mse: 0.0414 - mae: 0.1396 - rmse: 0.2034 - val_loss: 0.0128 - val_mse: 0.0256 - val_mae: 0.1152 - val_rmse: 0.1599\n",
      "Epoch 168/1000\n",
      "629/629 [==============================] - ETA: 0s - loss: 0.0204 - mse: 0.0410 - mae: 0.1394 - rmse: 0.2025"
     ]
    },
    {
     "name": "stderr",
     "output_type": "stream",
     "text": [
      "WARNING:absl:Found untraced functions such as _jit_compiled_convolution_op, _jit_compiled_convolution_op, _jit_compiled_convolution_op while saving (showing 3 of 3). These functions will not be directly callable after loading.\n"
     ]
    },
    {
     "name": "stdout",
     "output_type": "stream",
     "text": [
      "INFO:tensorflow:Assets written to: ../models/NNmodel/1DCNN_final_architecture/fftAndLocalTides/93as/bestModel_93as_fold1.tf/assets\n"
     ]
    },
    {
     "name": "stderr",
     "output_type": "stream",
     "text": [
      "INFO:tensorflow:Assets written to: ../models/NNmodel/1DCNN_final_architecture/fftAndLocalTides/93as/bestModel_93as_fold1.tf/assets\n"
     ]
    },
    {
     "name": "stdout",
     "output_type": "stream",
     "text": [
      "629/629 [==============================] - 15s 24ms/step - loss: 0.0204 - mse: 0.0410 - mae: 0.1394 - rmse: 0.2025 - val_loss: 0.0117 - val_mse: 0.0235 - val_mae: 0.1115 - val_rmse: 0.1533\n",
      "Epoch 169/1000\n",
      "629/629 [==============================] - 13s 21ms/step - loss: 0.0204 - mse: 0.0412 - mae: 0.1394 - rmse: 0.2029 - val_loss: 0.0138 - val_mse: 0.0275 - val_mae: 0.1183 - val_rmse: 0.1659\n",
      "Epoch 170/1000\n",
      "629/629 [==============================] - 13s 21ms/step - loss: 0.0202 - mse: 0.0407 - mae: 0.1389 - rmse: 0.2018 - val_loss: 0.0130 - val_mse: 0.0260 - val_mae: 0.1158 - val_rmse: 0.1611\n",
      "Epoch 171/1000\n",
      "629/629 [==============================] - 13s 21ms/step - loss: 0.0204 - mse: 0.0411 - mae: 0.1392 - rmse: 0.2026 - val_loss: 0.0140 - val_mse: 0.0279 - val_mae: 0.1195 - val_rmse: 0.1671\n",
      "Epoch 172/1000\n",
      "629/629 [==============================] - 13s 21ms/step - loss: 0.0202 - mse: 0.0407 - mae: 0.1391 - rmse: 0.2018 - val_loss: 0.0127 - val_mse: 0.0253 - val_mae: 0.1146 - val_rmse: 0.1592\n",
      "Epoch 173/1000\n",
      "629/629 [==============================] - 13s 21ms/step - loss: 0.0202 - mse: 0.0407 - mae: 0.1388 - rmse: 0.2016 - val_loss: 0.0142 - val_mse: 0.0283 - val_mae: 0.1189 - val_rmse: 0.1683\n",
      "Epoch 174/1000\n",
      "629/629 [==============================] - 13s 20ms/step - loss: 0.0202 - mse: 0.0405 - mae: 0.1384 - rmse: 0.2013 - val_loss: 0.0156 - val_mse: 0.0313 - val_mae: 0.1237 - val_rmse: 0.1768\n",
      "Epoch 175/1000\n",
      "629/629 [==============================] - 13s 21ms/step - loss: 0.0203 - mse: 0.0409 - mae: 0.1387 - rmse: 0.2022 - val_loss: 0.0132 - val_mse: 0.0263 - val_mae: 0.1153 - val_rmse: 0.1623\n",
      "Epoch 176/1000\n",
      "629/629 [==============================] - 13s 21ms/step - loss: 0.0200 - mse: 0.0402 - mae: 0.1381 - rmse: 0.2005 - val_loss: 0.0128 - val_mse: 0.0257 - val_mae: 0.1149 - val_rmse: 0.1602\n",
      "Epoch 177/1000\n",
      "629/629 [==============================] - 13s 21ms/step - loss: 0.0201 - mse: 0.0404 - mae: 0.1383 - rmse: 0.2011 - val_loss: 0.0128 - val_mse: 0.0256 - val_mae: 0.1147 - val_rmse: 0.1600\n",
      "Epoch 178/1000\n",
      "629/629 [==============================] - 13s 21ms/step - loss: 0.0201 - mse: 0.0404 - mae: 0.1383 - rmse: 0.2011 - val_loss: 0.0125 - val_mse: 0.0251 - val_mae: 0.1132 - val_rmse: 0.1583\n",
      "Epoch 179/1000\n",
      "629/629 [==============================] - 13s 21ms/step - loss: 0.0200 - mse: 0.0402 - mae: 0.1379 - rmse: 0.2005 - val_loss: 0.0134 - val_mse: 0.0269 - val_mae: 0.1161 - val_rmse: 0.1640\n",
      "Epoch 180/1000\n",
      "629/629 [==============================] - 13s 21ms/step - loss: 0.0199 - mse: 0.0401 - mae: 0.1376 - rmse: 0.2002 - val_loss: 0.0123 - val_mse: 0.0246 - val_mae: 0.1130 - val_rmse: 0.1567\n",
      "Epoch 181/1000\n",
      "629/629 [==============================] - 13s 20ms/step - loss: 0.0199 - mse: 0.0400 - mae: 0.1376 - rmse: 0.2000 - val_loss: 0.0142 - val_mse: 0.0283 - val_mae: 0.1183 - val_rmse: 0.1684\n",
      "Epoch 182/1000\n",
      "629/629 [==============================] - 13s 21ms/step - loss: 0.0198 - mse: 0.0399 - mae: 0.1374 - rmse: 0.1998 - val_loss: 0.0140 - val_mse: 0.0279 - val_mae: 0.1177 - val_rmse: 0.1671\n",
      "Epoch 183/1000\n",
      "629/629 [==============================] - 13s 21ms/step - loss: 0.0199 - mse: 0.0400 - mae: 0.1375 - rmse: 0.2000 - val_loss: 0.0126 - val_mse: 0.0253 - val_mae: 0.1135 - val_rmse: 0.1590\n",
      "Epoch 184/1000\n",
      "629/629 [==============================] - 13s 21ms/step - loss: 0.0199 - mse: 0.0401 - mae: 0.1376 - rmse: 0.2003 - val_loss: 0.0137 - val_mse: 0.0273 - val_mae: 0.1167 - val_rmse: 0.1654\n",
      "Epoch 185/1000\n",
      "629/629 [==============================] - 13s 20ms/step - loss: 0.0198 - mse: 0.0399 - mae: 0.1374 - rmse: 0.1996 - val_loss: 0.0139 - val_mse: 0.0278 - val_mae: 0.1188 - val_rmse: 0.1668\n",
      "Epoch 186/1000\n",
      "629/629 [==============================] - 13s 20ms/step - loss: 0.0198 - mse: 0.0399 - mae: 0.1374 - rmse: 0.1998 - val_loss: 0.0119 - val_mse: 0.0238 - val_mae: 0.1113 - val_rmse: 0.1542\n",
      "Epoch 187/1000\n",
      "629/629 [==============================] - 13s 21ms/step - loss: 0.0197 - mse: 0.0397 - mae: 0.1370 - rmse: 0.1994 - val_loss: 0.0141 - val_mse: 0.0282 - val_mae: 0.1184 - val_rmse: 0.1680\n",
      "Epoch 188/1000\n",
      "629/629 [==============================] - 13s 21ms/step - loss: 0.0196 - mse: 0.0394 - mae: 0.1365 - rmse: 0.1986 - val_loss: 0.0120 - val_mse: 0.0241 - val_mae: 0.1118 - val_rmse: 0.1552\n",
      "Epoch 189/1000\n",
      "629/629 [==============================] - 13s 20ms/step - loss: 0.0196 - mse: 0.0396 - mae: 0.1367 - rmse: 0.1989 - val_loss: 0.0127 - val_mse: 0.0255 - val_mae: 0.1141 - val_rmse: 0.1595\n",
      "Epoch 190/1000\n",
      "629/629 [==============================] - 13s 21ms/step - loss: 0.0197 - mse: 0.0397 - mae: 0.1369 - rmse: 0.1993 - val_loss: 0.0134 - val_mse: 0.0267 - val_mae: 0.1156 - val_rmse: 0.1635\n",
      "Epoch 191/1000\n",
      "629/629 [==============================] - 13s 20ms/step - loss: 0.0196 - mse: 0.0395 - mae: 0.1367 - rmse: 0.1988 - val_loss: 0.0137 - val_mse: 0.0273 - val_mae: 0.1167 - val_rmse: 0.1653\n",
      "Epoch 192/1000\n",
      "629/629 [==============================] - 13s 20ms/step - loss: 0.0196 - mse: 0.0395 - mae: 0.1365 - rmse: 0.1987 - val_loss: 0.0130 - val_mse: 0.0259 - val_mae: 0.1147 - val_rmse: 0.1610\n",
      "Epoch 193/1000\n",
      "629/629 [==============================] - 13s 20ms/step - loss: 0.0196 - mse: 0.0394 - mae: 0.1362 - rmse: 0.1984 - val_loss: 0.0130 - val_mse: 0.0261 - val_mae: 0.1139 - val_rmse: 0.1615\n",
      "Epoch 194/1000\n",
      "629/629 [==============================] - 13s 20ms/step - loss: 0.0196 - mse: 0.0394 - mae: 0.1363 - rmse: 0.1984 - val_loss: 0.0128 - val_mse: 0.0256 - val_mae: 0.1139 - val_rmse: 0.1600\n",
      "Epoch 195/1000\n",
      "629/629 [==============================] - 13s 20ms/step - loss: 0.0195 - mse: 0.0393 - mae: 0.1361 - rmse: 0.1982 - val_loss: 0.0121 - val_mse: 0.0242 - val_mae: 0.1119 - val_rmse: 0.1556\n",
      "Epoch 196/1000\n",
      "629/629 [==============================] - 13s 20ms/step - loss: 0.0194 - mse: 0.0390 - mae: 0.1356 - rmse: 0.1974 - val_loss: 0.0129 - val_mse: 0.0258 - val_mae: 0.1138 - val_rmse: 0.1607\n",
      "Epoch 197/1000\n",
      "629/629 [==============================] - 13s 20ms/step - loss: 0.0194 - mse: 0.0392 - mae: 0.1359 - rmse: 0.1980 - val_loss: 0.0141 - val_mse: 0.0282 - val_mae: 0.1182 - val_rmse: 0.1681\n",
      "Epoch 198/1000\n",
      "629/629 [==============================] - 13s 20ms/step - loss: 0.0195 - mse: 0.0392 - mae: 0.1359 - rmse: 0.1981 - val_loss: 0.0132 - val_mse: 0.0264 - val_mae: 0.1155 - val_rmse: 0.1626\n",
      "Epoch 199/1000\n",
      "629/629 [==============================] - 13s 20ms/step - loss: 0.0194 - mse: 0.0390 - mae: 0.1355 - rmse: 0.1974 - val_loss: 0.0130 - val_mse: 0.0260 - val_mae: 0.1138 - val_rmse: 0.1612\n",
      "Epoch 200/1000\n",
      "629/629 [==============================] - 13s 20ms/step - loss: 0.0195 - mse: 0.0392 - mae: 0.1360 - rmse: 0.1980 - val_loss: 0.0140 - val_mse: 0.0279 - val_mae: 0.1175 - val_rmse: 0.1671\n",
      "Epoch 201/1000\n",
      "629/629 [==============================] - 13s 20ms/step - loss: 0.0194 - mse: 0.0391 - mae: 0.1357 - rmse: 0.1979 - val_loss: 0.0122 - val_mse: 0.0245 - val_mae: 0.1124 - val_rmse: 0.1564\n",
      "Epoch 202/1000\n",
      "627/629 [============================>.] - ETA: 0s - loss: 0.0194 - mse: 0.0390 - mae: 0.1354 - rmse: 0.1975"
     ]
    },
    {
     "name": "stderr",
     "output_type": "stream",
     "text": [
      "WARNING:absl:Found untraced functions such as _jit_compiled_convolution_op, _jit_compiled_convolution_op, _jit_compiled_convolution_op while saving (showing 3 of 3). These functions will not be directly callable after loading.\n"
     ]
    },
    {
     "name": "stdout",
     "output_type": "stream",
     "text": [
      "INFO:tensorflow:Assets written to: ../models/NNmodel/1DCNN_final_architecture/fftAndLocalTides/93as/bestModel_93as_fold1.tf/assets\n"
     ]
    },
    {
     "name": "stderr",
     "output_type": "stream",
     "text": [
      "INFO:tensorflow:Assets written to: ../models/NNmodel/1DCNN_final_architecture/fftAndLocalTides/93as/bestModel_93as_fold1.tf/assets\n"
     ]
    },
    {
     "name": "stdout",
     "output_type": "stream",
     "text": [
      "629/629 [==============================] - 15s 24ms/step - loss: 0.0194 - mse: 0.0390 - mae: 0.1354 - rmse: 0.1975 - val_loss: 0.0116 - val_mse: 0.0232 - val_mae: 0.1096 - val_rmse: 0.1523\n",
      "Epoch 203/1000\n",
      "629/629 [==============================] - 13s 20ms/step - loss: 0.0192 - mse: 0.0387 - mae: 0.1350 - rmse: 0.1967 - val_loss: 0.0116 - val_mse: 0.0233 - val_mae: 0.1099 - val_rmse: 0.1526\n",
      "Epoch 204/1000\n",
      "629/629 [==============================] - 13s 20ms/step - loss: 0.0193 - mse: 0.0387 - mae: 0.1351 - rmse: 0.1968 - val_loss: 0.0140 - val_mse: 0.0280 - val_mae: 0.1183 - val_rmse: 0.1674\n",
      "Epoch 205/1000\n",
      "629/629 [==============================] - 13s 20ms/step - loss: 0.0192 - mse: 0.0386 - mae: 0.1349 - rmse: 0.1966 - val_loss: 0.0151 - val_mse: 0.0302 - val_mae: 0.1208 - val_rmse: 0.1738\n",
      "Epoch 206/1000\n",
      "629/629 [==============================] - 13s 21ms/step - loss: 0.0191 - mse: 0.0385 - mae: 0.1348 - rmse: 0.1962 - val_loss: 0.0119 - val_mse: 0.0238 - val_mae: 0.1107 - val_rmse: 0.1542\n",
      "Epoch 207/1000\n",
      "629/629 [==============================] - 13s 20ms/step - loss: 0.0191 - mse: 0.0385 - mae: 0.1347 - rmse: 0.1962 - val_loss: 0.0119 - val_mse: 0.0238 - val_mae: 0.1107 - val_rmse: 0.1543\n",
      "Epoch 208/1000\n",
      "628/629 [============================>.] - ETA: 0s - loss: 0.0190 - mse: 0.0382 - mae: 0.1342 - rmse: 0.1956"
     ]
    },
    {
     "name": "stderr",
     "output_type": "stream",
     "text": [
      "WARNING:absl:Found untraced functions such as _jit_compiled_convolution_op, _jit_compiled_convolution_op, _jit_compiled_convolution_op while saving (showing 3 of 3). These functions will not be directly callable after loading.\n"
     ]
    },
    {
     "name": "stdout",
     "output_type": "stream",
     "text": [
      "INFO:tensorflow:Assets written to: ../models/NNmodel/1DCNN_final_architecture/fftAndLocalTides/93as/bestModel_93as_fold1.tf/assets\n"
     ]
    },
    {
     "name": "stderr",
     "output_type": "stream",
     "text": [
      "INFO:tensorflow:Assets written to: ../models/NNmodel/1DCNN_final_architecture/fftAndLocalTides/93as/bestModel_93as_fold1.tf/assets\n"
     ]
    },
    {
     "name": "stdout",
     "output_type": "stream",
     "text": [
      "629/629 [==============================] - 15s 24ms/step - loss: 0.0190 - mse: 0.0382 - mae: 0.1342 - rmse: 0.1956 - val_loss: 0.0116 - val_mse: 0.0231 - val_mae: 0.1093 - val_rmse: 0.1520\n",
      "Epoch 209/1000\n",
      "629/629 [==============================] - 13s 20ms/step - loss: 0.0192 - mse: 0.0387 - mae: 0.1348 - rmse: 0.1966 - val_loss: 0.0137 - val_mse: 0.0275 - val_mae: 0.1165 - val_rmse: 0.1657\n",
      "Epoch 210/1000\n",
      "629/629 [==============================] - 13s 20ms/step - loss: 0.0191 - mse: 0.0384 - mae: 0.1344 - rmse: 0.1959 - val_loss: 0.0121 - val_mse: 0.0241 - val_mae: 0.1114 - val_rmse: 0.1553\n",
      "Epoch 211/1000\n",
      "629/629 [==============================] - 13s 21ms/step - loss: 0.0190 - mse: 0.0383 - mae: 0.1344 - rmse: 0.1958 - val_loss: 0.0116 - val_mse: 0.0231 - val_mae: 0.1094 - val_rmse: 0.1521\n",
      "Epoch 212/1000\n",
      "629/629 [==============================] - 13s 20ms/step - loss: 0.0191 - mse: 0.0385 - mae: 0.1344 - rmse: 0.1961 - val_loss: 0.0128 - val_mse: 0.0257 - val_mae: 0.1137 - val_rmse: 0.1602\n",
      "Epoch 213/1000\n",
      "629/629 [==============================] - 13s 21ms/step - loss: 0.0190 - mse: 0.0383 - mae: 0.1344 - rmse: 0.1956 - val_loss: 0.0123 - val_mse: 0.0247 - val_mae: 0.1120 - val_rmse: 0.1571\n",
      "Epoch 214/1000\n",
      "629/629 [==============================] - 13s 21ms/step - loss: 0.0191 - mse: 0.0384 - mae: 0.1342 - rmse: 0.1960 - val_loss: 0.0123 - val_mse: 0.0246 - val_mae: 0.1118 - val_rmse: 0.1567\n",
      "Epoch 215/1000\n",
      "629/629 [==============================] - 13s 21ms/step - loss: 0.0189 - mse: 0.0381 - mae: 0.1339 - rmse: 0.1953 - val_loss: 0.0145 - val_mse: 0.0291 - val_mae: 0.1189 - val_rmse: 0.1705\n",
      "Epoch 216/1000\n",
      "629/629 [==============================] - 13s 20ms/step - loss: 0.0190 - mse: 0.0382 - mae: 0.1340 - rmse: 0.1954 - val_loss: 0.0129 - val_mse: 0.0258 - val_mae: 0.1135 - val_rmse: 0.1606\n",
      "Epoch 217/1000\n",
      "629/629 [==============================] - 13s 20ms/step - loss: 0.0189 - mse: 0.0380 - mae: 0.1338 - rmse: 0.1950 - val_loss: 0.0122 - val_mse: 0.0244 - val_mae: 0.1115 - val_rmse: 0.1561\n",
      "Epoch 218/1000\n",
      "629/629 [==============================] - 13s 21ms/step - loss: 0.0189 - mse: 0.0381 - mae: 0.1340 - rmse: 0.1952 - val_loss: 0.0124 - val_mse: 0.0249 - val_mae: 0.1119 - val_rmse: 0.1577\n",
      "Epoch 219/1000\n",
      "629/629 [==============================] - 13s 20ms/step - loss: 0.0189 - mse: 0.0381 - mae: 0.1338 - rmse: 0.1952 - val_loss: 0.0125 - val_mse: 0.0250 - val_mae: 0.1125 - val_rmse: 0.1581\n",
      "Epoch 220/1000\n",
      "629/629 [==============================] - 13s 20ms/step - loss: 0.0189 - mse: 0.0380 - mae: 0.1337 - rmse: 0.1950 - val_loss: 0.0121 - val_mse: 0.0241 - val_mae: 0.1111 - val_rmse: 0.1553\n",
      "Epoch 221/1000\n",
      "629/629 [==============================] - 13s 20ms/step - loss: 0.0188 - mse: 0.0379 - mae: 0.1333 - rmse: 0.1946 - val_loss: 0.0120 - val_mse: 0.0240 - val_mae: 0.1113 - val_rmse: 0.1549\n",
      "Epoch 222/1000\n",
      "629/629 [==============================] - 13s 21ms/step - loss: 0.0187 - mse: 0.0376 - mae: 0.1330 - rmse: 0.1939 - val_loss: 0.0128 - val_mse: 0.0257 - val_mae: 0.1130 - val_rmse: 0.1602\n",
      "Epoch 223/1000\n",
      "629/629 [==============================] - 13s 21ms/step - loss: 0.0188 - mse: 0.0379 - mae: 0.1332 - rmse: 0.1946 - val_loss: 0.0116 - val_mse: 0.0232 - val_mae: 0.1089 - val_rmse: 0.1522\n",
      "Epoch 224/1000\n",
      "629/629 [==============================] - 13s 20ms/step - loss: 0.0187 - mse: 0.0377 - mae: 0.1332 - rmse: 0.1941 - val_loss: 0.0127 - val_mse: 0.0255 - val_mae: 0.1126 - val_rmse: 0.1596\n",
      "Epoch 225/1000\n",
      "629/629 [==============================] - 13s 20ms/step - loss: 0.0189 - mse: 0.0381 - mae: 0.1334 - rmse: 0.1952 - val_loss: 0.0119 - val_mse: 0.0238 - val_mae: 0.1096 - val_rmse: 0.1544\n",
      "Epoch 226/1000\n",
      "629/629 [==============================] - 13s 20ms/step - loss: 0.0187 - mse: 0.0376 - mae: 0.1329 - rmse: 0.1938 - val_loss: 0.0120 - val_mse: 0.0240 - val_mae: 0.1109 - val_rmse: 0.1549\n",
      "Epoch 227/1000\n",
      "629/629 [==============================] - 13s 20ms/step - loss: 0.0188 - mse: 0.0378 - mae: 0.1330 - rmse: 0.1943 - val_loss: 0.0121 - val_mse: 0.0243 - val_mae: 0.1116 - val_rmse: 0.1558\n",
      "Epoch 228/1000\n",
      "629/629 [==============================] - 13s 20ms/step - loss: 0.0187 - mse: 0.0376 - mae: 0.1328 - rmse: 0.1939 - val_loss: 0.0120 - val_mse: 0.0240 - val_mae: 0.1110 - val_rmse: 0.1548\n",
      "Epoch 229/1000\n",
      "629/629 [==============================] - 13s 20ms/step - loss: 0.0186 - mse: 0.0375 - mae: 0.1328 - rmse: 0.1936 - val_loss: 0.0119 - val_mse: 0.0239 - val_mae: 0.1102 - val_rmse: 0.1545\n",
      "Epoch 230/1000\n",
      "629/629 [==============================] - ETA: 0s - loss: 0.0187 - mse: 0.0376 - mae: 0.1326 - rmse: 0.1938"
     ]
    },
    {
     "name": "stderr",
     "output_type": "stream",
     "text": [
      "WARNING:absl:Found untraced functions such as _jit_compiled_convolution_op, _jit_compiled_convolution_op, _jit_compiled_convolution_op while saving (showing 3 of 3). These functions will not be directly callable after loading.\n"
     ]
    },
    {
     "name": "stdout",
     "output_type": "stream",
     "text": [
      "INFO:tensorflow:Assets written to: ../models/NNmodel/1DCNN_final_architecture/fftAndLocalTides/93as/bestModel_93as_fold1.tf/assets\n"
     ]
    },
    {
     "name": "stderr",
     "output_type": "stream",
     "text": [
      "INFO:tensorflow:Assets written to: ../models/NNmodel/1DCNN_final_architecture/fftAndLocalTides/93as/bestModel_93as_fold1.tf/assets\n"
     ]
    },
    {
     "name": "stdout",
     "output_type": "stream",
     "text": [
      "629/629 [==============================] - 15s 25ms/step - loss: 0.0187 - mse: 0.0376 - mae: 0.1326 - rmse: 0.1938 - val_loss: 0.0106 - val_mse: 0.0212 - val_mae: 0.1051 - val_rmse: 0.1454\n",
      "Epoch 231/1000\n",
      "629/629 [==============================] - 13s 21ms/step - loss: 0.0187 - mse: 0.0376 - mae: 0.1326 - rmse: 0.1939 - val_loss: 0.0112 - val_mse: 0.0224 - val_mae: 0.1078 - val_rmse: 0.1496\n",
      "Epoch 232/1000\n",
      "629/629 [==============================] - 13s 21ms/step - loss: 0.0187 - mse: 0.0376 - mae: 0.1324 - rmse: 0.1938 - val_loss: 0.0128 - val_mse: 0.0255 - val_mae: 0.1130 - val_rmse: 0.1598\n",
      "Epoch 233/1000\n",
      "629/629 [==============================] - 13s 21ms/step - loss: 0.0185 - mse: 0.0373 - mae: 0.1322 - rmse: 0.1931 - val_loss: 0.0132 - val_mse: 0.0265 - val_mae: 0.1143 - val_rmse: 0.1628\n",
      "Epoch 234/1000\n",
      "629/629 [==============================] - 13s 21ms/step - loss: 0.0185 - mse: 0.0373 - mae: 0.1323 - rmse: 0.1930 - val_loss: 0.0121 - val_mse: 0.0243 - val_mae: 0.1114 - val_rmse: 0.1559\n",
      "Epoch 235/1000\n",
      "629/629 [==============================] - 13s 21ms/step - loss: 0.0185 - mse: 0.0373 - mae: 0.1323 - rmse: 0.1932 - val_loss: 0.0120 - val_mse: 0.0241 - val_mae: 0.1107 - val_rmse: 0.1551\n",
      "Epoch 236/1000\n",
      "629/629 [==============================] - 13s 20ms/step - loss: 0.0185 - mse: 0.0372 - mae: 0.1321 - rmse: 0.1928 - val_loss: 0.0124 - val_mse: 0.0248 - val_mae: 0.1117 - val_rmse: 0.1574\n",
      "Epoch 237/1000\n",
      "629/629 [==============================] - 13s 21ms/step - loss: 0.0185 - mse: 0.0372 - mae: 0.1319 - rmse: 0.1928 - val_loss: 0.0127 - val_mse: 0.0253 - val_mae: 0.1130 - val_rmse: 0.1591\n",
      "Epoch 238/1000\n",
      "629/629 [==============================] - 13s 20ms/step - loss: 0.0184 - mse: 0.0370 - mae: 0.1318 - rmse: 0.1923 - val_loss: 0.0127 - val_mse: 0.0254 - val_mae: 0.1127 - val_rmse: 0.1595\n",
      "Epoch 239/1000\n",
      "629/629 [==============================] - 13s 21ms/step - loss: 0.0185 - mse: 0.0372 - mae: 0.1321 - rmse: 0.1929 - val_loss: 0.0122 - val_mse: 0.0243 - val_mae: 0.1100 - val_rmse: 0.1559\n",
      "Epoch 240/1000\n",
      "629/629 [==============================] - 13s 21ms/step - loss: 0.0184 - mse: 0.0369 - mae: 0.1317 - rmse: 0.1921 - val_loss: 0.0126 - val_mse: 0.0251 - val_mae: 0.1114 - val_rmse: 0.1585\n",
      "Epoch 241/1000\n",
      "629/629 [==============================] - 13s 20ms/step - loss: 0.0183 - mse: 0.0369 - mae: 0.1315 - rmse: 0.1920 - val_loss: 0.0111 - val_mse: 0.0222 - val_mae: 0.1071 - val_rmse: 0.1488\n",
      "Epoch 242/1000\n",
      "629/629 [==============================] - 13s 20ms/step - loss: 0.0184 - mse: 0.0370 - mae: 0.1318 - rmse: 0.1924 - val_loss: 0.0122 - val_mse: 0.0244 - val_mae: 0.1119 - val_rmse: 0.1561\n",
      "Epoch 243/1000\n",
      "629/629 [==============================] - 13s 21ms/step - loss: 0.0183 - mse: 0.0367 - mae: 0.1315 - rmse: 0.1915 - val_loss: 0.0143 - val_mse: 0.0287 - val_mae: 0.1180 - val_rmse: 0.1695\n",
      "Epoch 244/1000\n",
      "629/629 [==============================] - 13s 20ms/step - loss: 0.0184 - mse: 0.0369 - mae: 0.1318 - rmse: 0.1921 - val_loss: 0.0139 - val_mse: 0.0278 - val_mae: 0.1158 - val_rmse: 0.1667\n",
      "Epoch 245/1000\n",
      "629/629 [==============================] - 13s 21ms/step - loss: 0.0182 - mse: 0.0367 - mae: 0.1311 - rmse: 0.1916 - val_loss: 0.0111 - val_mse: 0.0221 - val_mae: 0.1077 - val_rmse: 0.1487\n",
      "Epoch 246/1000\n",
      "629/629 [==============================] - 13s 20ms/step - loss: 0.0183 - mse: 0.0369 - mae: 0.1314 - rmse: 0.1920 - val_loss: 0.0137 - val_mse: 0.0274 - val_mae: 0.1159 - val_rmse: 0.1655\n",
      "Epoch 247/1000\n",
      "629/629 [==============================] - 13s 21ms/step - loss: 0.0183 - mse: 0.0368 - mae: 0.1314 - rmse: 0.1917 - val_loss: 0.0123 - val_mse: 0.0247 - val_mae: 0.1117 - val_rmse: 0.1571\n",
      "Epoch 248/1000\n",
      "629/629 [==============================] - 13s 21ms/step - loss: 0.0182 - mse: 0.0367 - mae: 0.1312 - rmse: 0.1915 - val_loss: 0.0120 - val_mse: 0.0241 - val_mae: 0.1107 - val_rmse: 0.1551\n",
      "Epoch 249/1000\n",
      "629/629 [==============================] - 13s 20ms/step - loss: 0.0182 - mse: 0.0367 - mae: 0.1310 - rmse: 0.1915 - val_loss: 0.0114 - val_mse: 0.0228 - val_mae: 0.1082 - val_rmse: 0.1509\n",
      "Epoch 250/1000\n",
      "629/629 [==============================] - 13s 21ms/step - loss: 0.0182 - mse: 0.0366 - mae: 0.1309 - rmse: 0.1914 - val_loss: 0.0140 - val_mse: 0.0281 - val_mae: 0.1165 - val_rmse: 0.1675\n",
      "Epoch 251/1000\n",
      "629/629 [==============================] - 13s 20ms/step - loss: 0.0182 - mse: 0.0367 - mae: 0.1311 - rmse: 0.1916 - val_loss: 0.0118 - val_mse: 0.0237 - val_mae: 0.1099 - val_rmse: 0.1539\n",
      "Epoch 252/1000\n",
      "629/629 [==============================] - 13s 20ms/step - loss: 0.0183 - mse: 0.0369 - mae: 0.1312 - rmse: 0.1920 - val_loss: 0.0120 - val_mse: 0.0240 - val_mae: 0.1113 - val_rmse: 0.1550\n",
      "Epoch 253/1000\n",
      "629/629 [==============================] - 13s 20ms/step - loss: 0.0183 - mse: 0.0369 - mae: 0.1312 - rmse: 0.1921 - val_loss: 0.0116 - val_mse: 0.0232 - val_mae: 0.1090 - val_rmse: 0.1523\n",
      "Epoch 254/1000\n",
      "629/629 [==============================] - 13s 20ms/step - loss: 0.0182 - mse: 0.0367 - mae: 0.1310 - rmse: 0.1915 - val_loss: 0.0110 - val_mse: 0.0219 - val_mae: 0.1060 - val_rmse: 0.1481\n",
      "Epoch 255/1000\n",
      "629/629 [==============================] - 13s 21ms/step - loss: 0.0181 - mse: 0.0365 - mae: 0.1305 - rmse: 0.1910 - val_loss: 0.0114 - val_mse: 0.0228 - val_mae: 0.1078 - val_rmse: 0.1510\n",
      "Epoch 256/1000\n",
      "629/629 [==============================] - 13s 20ms/step - loss: 0.0182 - mse: 0.0366 - mae: 0.1309 - rmse: 0.1912 - val_loss: 0.0119 - val_mse: 0.0239 - val_mae: 0.1100 - val_rmse: 0.1545\n",
      "Epoch 257/1000\n",
      "629/629 [==============================] - 13s 20ms/step - loss: 0.0181 - mse: 0.0365 - mae: 0.1304 - rmse: 0.1909 - val_loss: 0.0117 - val_mse: 0.0234 - val_mae: 0.1087 - val_rmse: 0.1529\n",
      "Epoch 258/1000\n",
      "629/629 [==============================] - 13s 21ms/step - loss: 0.0181 - mse: 0.0363 - mae: 0.1305 - rmse: 0.1906 - val_loss: 0.0124 - val_mse: 0.0248 - val_mae: 0.1112 - val_rmse: 0.1575\n",
      "Epoch 259/1000\n",
      "629/629 [==============================] - 13s 20ms/step - loss: 0.0182 - mse: 0.0366 - mae: 0.1308 - rmse: 0.1914 - val_loss: 0.0118 - val_mse: 0.0236 - val_mae: 0.1094 - val_rmse: 0.1538\n",
      "Epoch 260/1000\n",
      "629/629 [==============================] - 13s 20ms/step - loss: 0.0180 - mse: 0.0363 - mae: 0.1303 - rmse: 0.1905 - val_loss: 0.0107 - val_mse: 0.0213 - val_mae: 0.1052 - val_rmse: 0.1461\n",
      "Epoch 261/1000\n",
      "629/629 [==============================] - 13s 20ms/step - loss: 0.0181 - mse: 0.0363 - mae: 0.1302 - rmse: 0.1905 - val_loss: 0.0121 - val_mse: 0.0242 - val_mae: 0.1097 - val_rmse: 0.1554\n",
      "Epoch 262/1000\n",
      "629/629 [==============================] - 13s 21ms/step - loss: 0.0181 - mse: 0.0364 - mae: 0.1304 - rmse: 0.1909 - val_loss: 0.0113 - val_mse: 0.0225 - val_mae: 0.1071 - val_rmse: 0.1501\n",
      "Epoch 263/1000\n",
      "629/629 [==============================] - 13s 20ms/step - loss: 0.0180 - mse: 0.0362 - mae: 0.1302 - rmse: 0.1902 - val_loss: 0.0116 - val_mse: 0.0231 - val_mae: 0.1083 - val_rmse: 0.1520\n",
      "Epoch 264/1000\n",
      "629/629 [==============================] - 13s 21ms/step - loss: 0.0179 - mse: 0.0361 - mae: 0.1301 - rmse: 0.1900 - val_loss: 0.0117 - val_mse: 0.0235 - val_mae: 0.1086 - val_rmse: 0.1532\n",
      "Epoch 265/1000\n",
      "629/629 [==============================] - 13s 20ms/step - loss: 0.0180 - mse: 0.0363 - mae: 0.1301 - rmse: 0.1905 - val_loss: 0.0122 - val_mse: 0.0243 - val_mae: 0.1103 - val_rmse: 0.1559\n",
      "Epoch 266/1000\n",
      "629/629 [==============================] - 13s 21ms/step - loss: 0.0180 - mse: 0.0361 - mae: 0.1299 - rmse: 0.1901 - val_loss: 0.0109 - val_mse: 0.0219 - val_mae: 0.1064 - val_rmse: 0.1479\n",
      "Epoch 267/1000\n",
      "629/629 [==============================] - 13s 20ms/step - loss: 0.0179 - mse: 0.0360 - mae: 0.1297 - rmse: 0.1898 - val_loss: 0.0110 - val_mse: 0.0220 - val_mae: 0.1064 - val_rmse: 0.1485\n",
      "Epoch 268/1000\n",
      "629/629 [==============================] - 13s 21ms/step - loss: 0.0177 - mse: 0.0357 - mae: 0.1292 - rmse: 0.1889 - val_loss: 0.0114 - val_mse: 0.0229 - val_mae: 0.1074 - val_rmse: 0.1512\n",
      "Epoch 269/1000\n",
      "629/629 [==============================] - 13s 20ms/step - loss: 0.0179 - mse: 0.0359 - mae: 0.1296 - rmse: 0.1895 - val_loss: 0.0137 - val_mse: 0.0274 - val_mae: 0.1154 - val_rmse: 0.1655\n",
      "Epoch 270/1000\n",
      "629/629 [==============================] - 13s 21ms/step - loss: 0.0180 - mse: 0.0363 - mae: 0.1300 - rmse: 0.1906 - val_loss: 0.0149 - val_mse: 0.0299 - val_mae: 0.1193 - val_rmse: 0.1730\n",
      "Epoch 271/1000\n",
      "629/629 [==============================] - 13s 20ms/step - loss: 0.0178 - mse: 0.0357 - mae: 0.1294 - rmse: 0.1889 - val_loss: 0.0115 - val_mse: 0.0230 - val_mae: 0.1078 - val_rmse: 0.1516\n",
      "Epoch 272/1000\n",
      "629/629 [==============================] - 13s 20ms/step - loss: 0.0178 - mse: 0.0358 - mae: 0.1293 - rmse: 0.1891 - val_loss: 0.0108 - val_mse: 0.0216 - val_mae: 0.1050 - val_rmse: 0.1469\n",
      "Epoch 273/1000\n",
      "629/629 [==============================] - 13s 21ms/step - loss: 0.0178 - mse: 0.0359 - mae: 0.1292 - rmse: 0.1894 - val_loss: 0.0116 - val_mse: 0.0233 - val_mae: 0.1086 - val_rmse: 0.1526\n",
      "Epoch 274/1000\n",
      "629/629 [==============================] - 13s 20ms/step - loss: 0.0178 - mse: 0.0357 - mae: 0.1293 - rmse: 0.1890 - val_loss: 0.0126 - val_mse: 0.0251 - val_mae: 0.1116 - val_rmse: 0.1585\n",
      "Epoch 275/1000\n",
      "629/629 [==============================] - 13s 20ms/step - loss: 0.0179 - mse: 0.0360 - mae: 0.1297 - rmse: 0.1896 - val_loss: 0.0116 - val_mse: 0.0231 - val_mae: 0.1080 - val_rmse: 0.1521\n",
      "Epoch 276/1000\n",
      "629/629 [==============================] - 13s 21ms/step - loss: 0.0177 - mse: 0.0356 - mae: 0.1290 - rmse: 0.1886 - val_loss: 0.0118 - val_mse: 0.0236 - val_mae: 0.1085 - val_rmse: 0.1535\n",
      "Epoch 277/1000\n",
      "629/629 [==============================] - 13s 21ms/step - loss: 0.0178 - mse: 0.0358 - mae: 0.1291 - rmse: 0.1893 - val_loss: 0.0120 - val_mse: 0.0240 - val_mae: 0.1101 - val_rmse: 0.1550\n",
      "Epoch 278/1000\n",
      "629/629 [==============================] - 13s 21ms/step - loss: 0.0179 - mse: 0.0361 - mae: 0.1296 - rmse: 0.1900 - val_loss: 0.0120 - val_mse: 0.0240 - val_mae: 0.1101 - val_rmse: 0.1550\n",
      "Epoch 279/1000\n",
      "629/629 [==============================] - 13s 21ms/step - loss: 0.0179 - mse: 0.0360 - mae: 0.1295 - rmse: 0.1897 - val_loss: 0.0143 - val_mse: 0.0287 - val_mae: 0.1165 - val_rmse: 0.1693\n",
      "Epoch 280/1000\n",
      "629/629 [==============================] - 13s 21ms/step - loss: 0.0178 - mse: 0.0358 - mae: 0.1290 - rmse: 0.1892 - val_loss: 0.0126 - val_mse: 0.0252 - val_mae: 0.1117 - val_rmse: 0.1587\n",
      "Epoch 281/1000\n",
      "629/629 [==============================] - 13s 21ms/step - loss: 0.0177 - mse: 0.0355 - mae: 0.1289 - rmse: 0.1885 - val_loss: 0.0136 - val_mse: 0.0271 - val_mae: 0.1147 - val_rmse: 0.1647\n",
      "Epoch 282/1000\n",
      "629/629 [==============================] - 13s 20ms/step - loss: 0.0177 - mse: 0.0357 - mae: 0.1291 - rmse: 0.1889 - val_loss: 0.0115 - val_mse: 0.0230 - val_mae: 0.1071 - val_rmse: 0.1517\n",
      "Epoch 283/1000\n",
      "629/629 [==============================] - 13s 21ms/step - loss: 0.0177 - mse: 0.0356 - mae: 0.1289 - rmse: 0.1887 - val_loss: 0.0127 - val_mse: 0.0255 - val_mae: 0.1113 - val_rmse: 0.1596\n",
      "Epoch 284/1000\n",
      "629/629 [==============================] - 13s 21ms/step - loss: 0.0177 - mse: 0.0357 - mae: 0.1289 - rmse: 0.1889 - val_loss: 0.0115 - val_mse: 0.0231 - val_mae: 0.1075 - val_rmse: 0.1519\n",
      "Epoch 285/1000\n",
      "629/629 [==============================] - 13s 20ms/step - loss: 0.0177 - mse: 0.0356 - mae: 0.1288 - rmse: 0.1886 - val_loss: 0.0126 - val_mse: 0.0252 - val_mae: 0.1110 - val_rmse: 0.1587\n",
      "Epoch 286/1000\n",
      "629/629 [==============================] - 13s 20ms/step - loss: 0.0177 - mse: 0.0356 - mae: 0.1288 - rmse: 0.1888 - val_loss: 0.0120 - val_mse: 0.0240 - val_mae: 0.1089 - val_rmse: 0.1548\n",
      "Epoch 287/1000\n",
      "629/629 [==============================] - 13s 20ms/step - loss: 0.0175 - mse: 0.0352 - mae: 0.1283 - rmse: 0.1876 - val_loss: 0.0115 - val_mse: 0.0231 - val_mae: 0.1076 - val_rmse: 0.1520\n",
      "Epoch 288/1000\n",
      "629/629 [==============================] - 12s 20ms/step - loss: 0.0176 - mse: 0.0354 - mae: 0.1286 - rmse: 0.1883 - val_loss: 0.0122 - val_mse: 0.0245 - val_mae: 0.1106 - val_rmse: 0.1565\n",
      "Epoch 289/1000\n",
      "629/629 [==============================] - 13s 20ms/step - loss: 0.0176 - mse: 0.0354 - mae: 0.1285 - rmse: 0.1882 - val_loss: 0.0123 - val_mse: 0.0246 - val_mae: 0.1106 - val_rmse: 0.1568\n",
      "Epoch 290/1000\n",
      "629/629 [==============================] - 13s 20ms/step - loss: 0.0178 - mse: 0.0357 - mae: 0.1290 - rmse: 0.1891 - val_loss: 0.0117 - val_mse: 0.0233 - val_mae: 0.1079 - val_rmse: 0.1528\n",
      "Epoch 291/1000\n",
      "629/629 [==============================] - 13s 21ms/step - loss: 0.0177 - mse: 0.0356 - mae: 0.1286 - rmse: 0.1887 - val_loss: 0.0112 - val_mse: 0.0223 - val_mae: 0.1068 - val_rmse: 0.1494\n",
      "Epoch 292/1000\n",
      "629/629 [==============================] - 13s 21ms/step - loss: 0.0176 - mse: 0.0354 - mae: 0.1284 - rmse: 0.1882 - val_loss: 0.0122 - val_mse: 0.0243 - val_mae: 0.1092 - val_rmse: 0.1560\n",
      "Epoch 293/1000\n",
      "628/629 [============================>.] - ETA: 0s - loss: 0.0176 - mse: 0.0355 - mae: 0.1285 - rmse: 0.1884"
     ]
    },
    {
     "name": "stderr",
     "output_type": "stream",
     "text": [
      "WARNING:absl:Found untraced functions such as _jit_compiled_convolution_op, _jit_compiled_convolution_op, _jit_compiled_convolution_op while saving (showing 3 of 3). These functions will not be directly callable after loading.\n"
     ]
    },
    {
     "name": "stdout",
     "output_type": "stream",
     "text": [
      "INFO:tensorflow:Assets written to: ../models/NNmodel/1DCNN_final_architecture/fftAndLocalTides/93as/bestModel_93as_fold1.tf/assets\n"
     ]
    },
    {
     "name": "stderr",
     "output_type": "stream",
     "text": [
      "INFO:tensorflow:Assets written to: ../models/NNmodel/1DCNN_final_architecture/fftAndLocalTides/93as/bestModel_93as_fold1.tf/assets\n"
     ]
    },
    {
     "name": "stdout",
     "output_type": "stream",
     "text": [
      "629/629 [==============================] - 15s 24ms/step - loss: 0.0176 - mse: 0.0355 - mae: 0.1285 - rmse: 0.1884 - val_loss: 0.0106 - val_mse: 0.0211 - val_mae: 0.1048 - val_rmse: 0.1453\n",
      "Epoch 294/1000\n",
      "629/629 [==============================] - 13s 20ms/step - loss: 0.0176 - mse: 0.0354 - mae: 0.1284 - rmse: 0.1881 - val_loss: 0.0119 - val_mse: 0.0238 - val_mae: 0.1094 - val_rmse: 0.1543\n",
      "Epoch 295/1000\n",
      "629/629 [==============================] - 13s 20ms/step - loss: 0.0175 - mse: 0.0352 - mae: 0.1280 - rmse: 0.1877 - val_loss: 0.0117 - val_mse: 0.0234 - val_mae: 0.1087 - val_rmse: 0.1529\n",
      "Epoch 296/1000\n",
      "629/629 [==============================] - 13s 20ms/step - loss: 0.0174 - mse: 0.0351 - mae: 0.1280 - rmse: 0.1872 - val_loss: 0.0115 - val_mse: 0.0230 - val_mae: 0.1074 - val_rmse: 0.1518\n",
      "Epoch 297/1000\n",
      "629/629 [==============================] - 13s 21ms/step - loss: 0.0175 - mse: 0.0351 - mae: 0.1281 - rmse: 0.1873 - val_loss: 0.0119 - val_mse: 0.0238 - val_mae: 0.1085 - val_rmse: 0.1542\n",
      "Epoch 298/1000\n",
      "629/629 [==============================] - 13s 20ms/step - loss: 0.0174 - mse: 0.0351 - mae: 0.1279 - rmse: 0.1872 - val_loss: 0.0110 - val_mse: 0.0220 - val_mae: 0.1053 - val_rmse: 0.1482\n",
      "Epoch 299/1000\n",
      "629/629 [==============================] - 13s 21ms/step - loss: 0.0174 - mse: 0.0349 - mae: 0.1274 - rmse: 0.1868 - val_loss: 0.0114 - val_mse: 0.0228 - val_mae: 0.1069 - val_rmse: 0.1510\n",
      "Epoch 300/1000\n",
      "629/629 [==============================] - 13s 21ms/step - loss: 0.0175 - mse: 0.0352 - mae: 0.1281 - rmse: 0.1876 - val_loss: 0.0119 - val_mse: 0.0237 - val_mae: 0.1085 - val_rmse: 0.1541\n",
      "Epoch 301/1000\n",
      "629/629 [==============================] - 13s 21ms/step - loss: 0.0174 - mse: 0.0350 - mae: 0.1279 - rmse: 0.1871 - val_loss: 0.0119 - val_mse: 0.0238 - val_mae: 0.1079 - val_rmse: 0.1543\n",
      "Epoch 302/1000\n",
      "629/629 [==============================] - 13s 21ms/step - loss: 0.0173 - mse: 0.0347 - mae: 0.1272 - rmse: 0.1863 - val_loss: 0.0114 - val_mse: 0.0227 - val_mae: 0.1066 - val_rmse: 0.1507\n",
      "Epoch 303/1000\n",
      "629/629 [==============================] - 13s 21ms/step - loss: 0.0175 - mse: 0.0351 - mae: 0.1279 - rmse: 0.1873 - val_loss: 0.0130 - val_mse: 0.0259 - val_mae: 0.1113 - val_rmse: 0.1610\n",
      "Epoch 304/1000\n",
      "629/629 [==============================] - 13s 20ms/step - loss: 0.0175 - mse: 0.0353 - mae: 0.1282 - rmse: 0.1878 - val_loss: 0.0108 - val_mse: 0.0216 - val_mae: 0.1047 - val_rmse: 0.1469\n",
      "Epoch 305/1000\n",
      "629/629 [==============================] - 13s 20ms/step - loss: 0.0174 - mse: 0.0351 - mae: 0.1277 - rmse: 0.1873 - val_loss: 0.0126 - val_mse: 0.0253 - val_mae: 0.1115 - val_rmse: 0.1590\n",
      "Epoch 306/1000\n",
      "629/629 [==============================] - 13s 21ms/step - loss: 0.0175 - mse: 0.0352 - mae: 0.1281 - rmse: 0.1875 - val_loss: 0.0118 - val_mse: 0.0237 - val_mae: 0.1085 - val_rmse: 0.1539\n",
      "Epoch 307/1000\n",
      "629/629 [==============================] - 13s 20ms/step - loss: 0.0174 - mse: 0.0350 - mae: 0.1275 - rmse: 0.1870 - val_loss: 0.0132 - val_mse: 0.0265 - val_mae: 0.1128 - val_rmse: 0.1626\n",
      "Epoch 308/1000\n",
      "629/629 [==============================] - 13s 20ms/step - loss: 0.0175 - mse: 0.0352 - mae: 0.1279 - rmse: 0.1876 - val_loss: 0.0106 - val_mse: 0.0212 - val_mae: 0.1042 - val_rmse: 0.1455\n",
      "Epoch 309/1000\n",
      "629/629 [==============================] - 13s 20ms/step - loss: 0.0175 - mse: 0.0352 - mae: 0.1278 - rmse: 0.1875 - val_loss: 0.0111 - val_mse: 0.0223 - val_mae: 0.1061 - val_rmse: 0.1492\n",
      "Epoch 310/1000\n",
      "628/629 [============================>.] - ETA: 0s - loss: 0.0174 - mse: 0.0350 - mae: 0.1275 - rmse: 0.1870"
     ]
    },
    {
     "name": "stderr",
     "output_type": "stream",
     "text": [
      "WARNING:absl:Found untraced functions such as _jit_compiled_convolution_op, _jit_compiled_convolution_op, _jit_compiled_convolution_op while saving (showing 3 of 3). These functions will not be directly callable after loading.\n"
     ]
    },
    {
     "name": "stdout",
     "output_type": "stream",
     "text": [
      "INFO:tensorflow:Assets written to: ../models/NNmodel/1DCNN_final_architecture/fftAndLocalTides/93as/bestModel_93as_fold1.tf/assets\n"
     ]
    },
    {
     "name": "stderr",
     "output_type": "stream",
     "text": [
      "INFO:tensorflow:Assets written to: ../models/NNmodel/1DCNN_final_architecture/fftAndLocalTides/93as/bestModel_93as_fold1.tf/assets\n"
     ]
    },
    {
     "name": "stdout",
     "output_type": "stream",
     "text": [
      "629/629 [==============================] - 16s 25ms/step - loss: 0.0174 - mse: 0.0350 - mae: 0.1276 - rmse: 0.1870 - val_loss: 0.0097 - val_mse: 0.0194 - val_mae: 0.1006 - val_rmse: 0.1393\n",
      "Epoch 311/1000\n",
      "629/629 [==============================] - 13s 21ms/step - loss: 0.0174 - mse: 0.0349 - mae: 0.1274 - rmse: 0.1869 - val_loss: 0.0109 - val_mse: 0.0217 - val_mae: 0.1052 - val_rmse: 0.1474\n",
      "Epoch 312/1000\n",
      "629/629 [==============================] - 13s 20ms/step - loss: 0.0173 - mse: 0.0348 - mae: 0.1273 - rmse: 0.1865 - val_loss: 0.0116 - val_mse: 0.0232 - val_mae: 0.1074 - val_rmse: 0.1522\n",
      "Epoch 313/1000\n",
      "629/629 [==============================] - 13s 21ms/step - loss: 0.0173 - mse: 0.0348 - mae: 0.1273 - rmse: 0.1866 - val_loss: 0.0109 - val_mse: 0.0218 - val_mae: 0.1046 - val_rmse: 0.1477\n",
      "Epoch 314/1000\n",
      "629/629 [==============================] - 13s 21ms/step - loss: 0.0172 - mse: 0.0345 - mae: 0.1269 - rmse: 0.1859 - val_loss: 0.0119 - val_mse: 0.0238 - val_mae: 0.1077 - val_rmse: 0.1542\n",
      "Epoch 315/1000\n",
      "629/629 [==============================] - 13s 21ms/step - loss: 0.0174 - mse: 0.0350 - mae: 0.1275 - rmse: 0.1870 - val_loss: 0.0113 - val_mse: 0.0227 - val_mae: 0.1068 - val_rmse: 0.1507\n",
      "Epoch 316/1000\n",
      "629/629 [==============================] - 13s 21ms/step - loss: 0.0171 - mse: 0.0344 - mae: 0.1268 - rmse: 0.1854 - val_loss: 0.0120 - val_mse: 0.0240 - val_mae: 0.1080 - val_rmse: 0.1549\n",
      "Epoch 317/1000\n",
      "629/629 [==============================] - 13s 20ms/step - loss: 0.0174 - mse: 0.0350 - mae: 0.1274 - rmse: 0.1872 - val_loss: 0.0119 - val_mse: 0.0238 - val_mae: 0.1082 - val_rmse: 0.1544\n",
      "Epoch 318/1000\n",
      "629/629 [==============================] - 13s 21ms/step - loss: 0.0171 - mse: 0.0344 - mae: 0.1270 - rmse: 0.1856 - val_loss: 0.0109 - val_mse: 0.0219 - val_mae: 0.1058 - val_rmse: 0.1478\n",
      "Epoch 319/1000\n",
      "629/629 [==============================] - 13s 21ms/step - loss: 0.0173 - mse: 0.0347 - mae: 0.1269 - rmse: 0.1864 - val_loss: 0.0109 - val_mse: 0.0217 - val_mae: 0.1050 - val_rmse: 0.1474\n",
      "Epoch 320/1000\n",
      "629/629 [==============================] - 13s 21ms/step - loss: 0.0172 - mse: 0.0347 - mae: 0.1268 - rmse: 0.1862 - val_loss: 0.0101 - val_mse: 0.0201 - val_mae: 0.1019 - val_rmse: 0.1418\n",
      "Epoch 321/1000\n",
      "629/629 [==============================] - 13s 21ms/step - loss: 0.0172 - mse: 0.0347 - mae: 0.1269 - rmse: 0.1862 - val_loss: 0.0113 - val_mse: 0.0225 - val_mae: 0.1064 - val_rmse: 0.1501\n",
      "Epoch 322/1000\n",
      "629/629 [==============================] - 13s 21ms/step - loss: 0.0172 - mse: 0.0346 - mae: 0.1269 - rmse: 0.1860 - val_loss: 0.0111 - val_mse: 0.0223 - val_mae: 0.1060 - val_rmse: 0.1492\n",
      "Epoch 323/1000\n",
      "629/629 [==============================] - 13s 20ms/step - loss: 0.0171 - mse: 0.0345 - mae: 0.1267 - rmse: 0.1858 - val_loss: 0.0116 - val_mse: 0.0233 - val_mae: 0.1071 - val_rmse: 0.1526\n",
      "Epoch 324/1000\n",
      "629/629 [==============================] - 13s 21ms/step - loss: 0.0171 - mse: 0.0344 - mae: 0.1267 - rmse: 0.1854 - val_loss: 0.0121 - val_mse: 0.0243 - val_mae: 0.1097 - val_rmse: 0.1559\n",
      "Epoch 325/1000\n",
      "629/629 [==============================] - 13s 21ms/step - loss: 0.0171 - mse: 0.0344 - mae: 0.1265 - rmse: 0.1854 - val_loss: 0.0108 - val_mse: 0.0216 - val_mae: 0.1054 - val_rmse: 0.1471\n",
      "Epoch 326/1000\n",
      "629/629 [==============================] - 13s 21ms/step - loss: 0.0171 - mse: 0.0344 - mae: 0.1265 - rmse: 0.1855 - val_loss: 0.0117 - val_mse: 0.0233 - val_mae: 0.1080 - val_rmse: 0.1528\n",
      "Epoch 327/1000\n",
      "629/629 [==============================] - 13s 21ms/step - loss: 0.0171 - mse: 0.0345 - mae: 0.1267 - rmse: 0.1857 - val_loss: 0.0120 - val_mse: 0.0240 - val_mae: 0.1088 - val_rmse: 0.1548\n",
      "Epoch 328/1000\n",
      "629/629 [==============================] - 14s 22ms/step - loss: 0.0172 - mse: 0.0345 - mae: 0.1267 - rmse: 0.1858 - val_loss: 0.0110 - val_mse: 0.0220 - val_mae: 0.1048 - val_rmse: 0.1485\n",
      "Epoch 329/1000\n",
      "629/629 [==============================] - 13s 21ms/step - loss: 0.0171 - mse: 0.0345 - mae: 0.1266 - rmse: 0.1857 - val_loss: 0.0121 - val_mse: 0.0241 - val_mae: 0.1097 - val_rmse: 0.1553\n",
      "Epoch 330/1000\n",
      "629/629 [==============================] - 13s 21ms/step - loss: 0.0170 - mse: 0.0342 - mae: 0.1264 - rmse: 0.1851 - val_loss: 0.0108 - val_mse: 0.0216 - val_mae: 0.1049 - val_rmse: 0.1470\n",
      "Epoch 331/1000\n",
      "629/629 [==============================] - 13s 21ms/step - loss: 0.0171 - mse: 0.0344 - mae: 0.1266 - rmse: 0.1855 - val_loss: 0.0123 - val_mse: 0.0246 - val_mae: 0.1101 - val_rmse: 0.1569\n",
      "Epoch 332/1000\n",
      "629/629 [==============================] - 13s 21ms/step - loss: 0.0170 - mse: 0.0342 - mae: 0.1260 - rmse: 0.1849 - val_loss: 0.0129 - val_mse: 0.0257 - val_mae: 0.1110 - val_rmse: 0.1604\n",
      "Epoch 333/1000\n",
      "629/629 [==============================] - 13s 21ms/step - loss: 0.0171 - mse: 0.0344 - mae: 0.1263 - rmse: 0.1854 - val_loss: 0.0118 - val_mse: 0.0237 - val_mae: 0.1084 - val_rmse: 0.1539\n",
      "Epoch 334/1000\n",
      "629/629 [==============================] - 13s 21ms/step - loss: 0.0171 - mse: 0.0344 - mae: 0.1264 - rmse: 0.1854 - val_loss: 0.0104 - val_mse: 0.0208 - val_mae: 0.1029 - val_rmse: 0.1443\n",
      "Epoch 335/1000\n",
      "629/629 [==============================] - 13s 21ms/step - loss: 0.0169 - mse: 0.0339 - mae: 0.1258 - rmse: 0.1841 - val_loss: 0.0127 - val_mse: 0.0253 - val_mae: 0.1101 - val_rmse: 0.1591\n",
      "Epoch 336/1000\n",
      "629/629 [==============================] - 13s 21ms/step - loss: 0.0170 - mse: 0.0343 - mae: 0.1261 - rmse: 0.1851 - val_loss: 0.0114 - val_mse: 0.0228 - val_mae: 0.1065 - val_rmse: 0.1510\n",
      "Epoch 337/1000\n",
      "628/629 [============================>.] - ETA: 0s - loss: 0.0171 - mse: 0.0343 - mae: 0.1263 - rmse: 0.1853"
     ]
    },
    {
     "name": "stderr",
     "output_type": "stream",
     "text": [
      "WARNING:absl:Found untraced functions such as _jit_compiled_convolution_op, _jit_compiled_convolution_op, _jit_compiled_convolution_op while saving (showing 3 of 3). These functions will not be directly callable after loading.\n"
     ]
    },
    {
     "name": "stdout",
     "output_type": "stream",
     "text": [
      "INFO:tensorflow:Assets written to: ../models/NNmodel/1DCNN_final_architecture/fftAndLocalTides/93as/bestModel_93as_fold1.tf/assets\n"
     ]
    },
    {
     "name": "stderr",
     "output_type": "stream",
     "text": [
      "INFO:tensorflow:Assets written to: ../models/NNmodel/1DCNN_final_architecture/fftAndLocalTides/93as/bestModel_93as_fold1.tf/assets\n"
     ]
    },
    {
     "name": "stdout",
     "output_type": "stream",
     "text": [
      "629/629 [==============================] - 15s 24ms/step - loss: 0.0171 - mse: 0.0343 - mae: 0.1263 - rmse: 0.1853 - val_loss: 0.0097 - val_mse: 0.0194 - val_mae: 0.1006 - val_rmse: 0.1391\n",
      "Epoch 338/1000\n",
      "629/629 [==============================] - 13s 21ms/step - loss: 0.0170 - mse: 0.0342 - mae: 0.1259 - rmse: 0.1849 - val_loss: 0.0120 - val_mse: 0.0240 - val_mae: 0.1088 - val_rmse: 0.1549\n",
      "Epoch 339/1000\n",
      "629/629 [==============================] - 13s 20ms/step - loss: 0.0170 - mse: 0.0342 - mae: 0.1262 - rmse: 0.1850 - val_loss: 0.0116 - val_mse: 0.0232 - val_mae: 0.1064 - val_rmse: 0.1522\n",
      "Epoch 340/1000\n",
      "629/629 [==============================] - 13s 21ms/step - loss: 0.0169 - mse: 0.0341 - mae: 0.1259 - rmse: 0.1846 - val_loss: 0.0113 - val_mse: 0.0227 - val_mae: 0.1064 - val_rmse: 0.1506\n",
      "Epoch 341/1000\n",
      "629/629 [==============================] - 13s 21ms/step - loss: 0.0170 - mse: 0.0341 - mae: 0.1259 - rmse: 0.1847 - val_loss: 0.0121 - val_mse: 0.0241 - val_mae: 0.1086 - val_rmse: 0.1553\n",
      "Epoch 342/1000\n",
      "629/629 [==============================] - 13s 21ms/step - loss: 0.0170 - mse: 0.0342 - mae: 0.1260 - rmse: 0.1850 - val_loss: 0.0124 - val_mse: 0.0248 - val_mae: 0.1096 - val_rmse: 0.1574\n",
      "Epoch 343/1000\n",
      "629/629 [==============================] - 13s 20ms/step - loss: 0.0169 - mse: 0.0339 - mae: 0.1258 - rmse: 0.1842 - val_loss: 0.0101 - val_mse: 0.0202 - val_mae: 0.1019 - val_rmse: 0.1423\n",
      "Epoch 344/1000\n",
      "629/629 [==============================] - 13s 21ms/step - loss: 0.0169 - mse: 0.0341 - mae: 0.1257 - rmse: 0.1846 - val_loss: 0.0098 - val_mse: 0.0195 - val_mae: 0.1006 - val_rmse: 0.1397\n",
      "Epoch 345/1000\n",
      "629/629 [==============================] - 13s 21ms/step - loss: 0.0168 - mse: 0.0338 - mae: 0.1256 - rmse: 0.1839 - val_loss: 0.0109 - val_mse: 0.0218 - val_mae: 0.1042 - val_rmse: 0.1475\n",
      "Epoch 346/1000\n",
      "629/629 [==============================] - 13s 20ms/step - loss: 0.0169 - mse: 0.0341 - mae: 0.1257 - rmse: 0.1846 - val_loss: 0.0121 - val_mse: 0.0242 - val_mae: 0.1084 - val_rmse: 0.1555\n",
      "Epoch 347/1000\n",
      "629/629 [==============================] - 13s 21ms/step - loss: 0.0170 - mse: 0.0342 - mae: 0.1262 - rmse: 0.1851 - val_loss: 0.0103 - val_mse: 0.0205 - val_mae: 0.1019 - val_rmse: 0.1433\n",
      "Epoch 348/1000\n",
      "629/629 [==============================] - 13s 21ms/step - loss: 0.0170 - mse: 0.0341 - mae: 0.1258 - rmse: 0.1846 - val_loss: 0.0116 - val_mse: 0.0232 - val_mae: 0.1082 - val_rmse: 0.1523\n",
      "Epoch 349/1000\n",
      "629/629 [==============================] - 13s 20ms/step - loss: 0.0167 - mse: 0.0336 - mae: 0.1253 - rmse: 0.1834 - val_loss: 0.0103 - val_mse: 0.0207 - val_mae: 0.1024 - val_rmse: 0.1439\n",
      "Epoch 350/1000\n",
      "629/629 [==============================] - 13s 21ms/step - loss: 0.0169 - mse: 0.0340 - mae: 0.1258 - rmse: 0.1845 - val_loss: 0.0116 - val_mse: 0.0232 - val_mae: 0.1072 - val_rmse: 0.1524\n",
      "Epoch 351/1000\n",
      "629/629 [==============================] - 13s 20ms/step - loss: 0.0169 - mse: 0.0339 - mae: 0.1256 - rmse: 0.1842 - val_loss: 0.0106 - val_mse: 0.0212 - val_mae: 0.1031 - val_rmse: 0.1455\n",
      "Epoch 352/1000\n",
      "629/629 [==============================] - 13s 21ms/step - loss: 0.0167 - mse: 0.0336 - mae: 0.1251 - rmse: 0.1833 - val_loss: 0.0104 - val_mse: 0.0208 - val_mae: 0.1027 - val_rmse: 0.1444\n",
      "Epoch 353/1000\n",
      "629/629 [==============================] - 13s 21ms/step - loss: 0.0168 - mse: 0.0337 - mae: 0.1253 - rmse: 0.1835 - val_loss: 0.0108 - val_mse: 0.0216 - val_mae: 0.1047 - val_rmse: 0.1468\n",
      "Epoch 354/1000\n",
      "629/629 [==============================] - 13s 20ms/step - loss: 0.0169 - mse: 0.0340 - mae: 0.1256 - rmse: 0.1845 - val_loss: 0.0119 - val_mse: 0.0238 - val_mae: 0.1074 - val_rmse: 0.1543\n",
      "Epoch 355/1000\n",
      "629/629 [==============================] - 13s 20ms/step - loss: 0.0168 - mse: 0.0338 - mae: 0.1255 - rmse: 0.1838 - val_loss: 0.0114 - val_mse: 0.0228 - val_mae: 0.1062 - val_rmse: 0.1509\n",
      "Epoch 356/1000\n",
      "629/629 [==============================] - 13s 20ms/step - loss: 0.0167 - mse: 0.0337 - mae: 0.1251 - rmse: 0.1836 - val_loss: 0.0118 - val_mse: 0.0236 - val_mae: 0.1082 - val_rmse: 0.1536\n",
      "Epoch 357/1000\n",
      "629/629 [==============================] - 13s 21ms/step - loss: 0.0167 - mse: 0.0337 - mae: 0.1251 - rmse: 0.1835 - val_loss: 0.0110 - val_mse: 0.0219 - val_mae: 0.1044 - val_rmse: 0.1480\n",
      "Epoch 358/1000\n",
      "629/629 [==============================] - 13s 21ms/step - loss: 0.0167 - mse: 0.0335 - mae: 0.1251 - rmse: 0.1829 - val_loss: 0.0106 - val_mse: 0.0212 - val_mae: 0.1038 - val_rmse: 0.1454\n",
      "Epoch 359/1000\n",
      "629/629 [==============================] - 13s 21ms/step - loss: 0.0168 - mse: 0.0339 - mae: 0.1254 - rmse: 0.1840 - val_loss: 0.0105 - val_mse: 0.0210 - val_mae: 0.1036 - val_rmse: 0.1450\n",
      "Epoch 360/1000\n",
      "629/629 [==============================] - 13s 21ms/step - loss: 0.0169 - mse: 0.0340 - mae: 0.1254 - rmse: 0.1843 - val_loss: 0.0112 - val_mse: 0.0223 - val_mae: 0.1067 - val_rmse: 0.1495\n",
      "Epoch 361/1000\n",
      "629/629 [==============================] - 13s 21ms/step - loss: 0.0168 - mse: 0.0337 - mae: 0.1253 - rmse: 0.1837 - val_loss: 0.0120 - val_mse: 0.0240 - val_mae: 0.1074 - val_rmse: 0.1549\n",
      "Epoch 362/1000\n",
      "629/629 [==============================] - 13s 21ms/step - loss: 0.0166 - mse: 0.0333 - mae: 0.1247 - rmse: 0.1826 - val_loss: 0.0110 - val_mse: 0.0221 - val_mae: 0.1058 - val_rmse: 0.1486\n",
      "Epoch 363/1000\n",
      "629/629 [==============================] - 13s 21ms/step - loss: 0.0166 - mse: 0.0334 - mae: 0.1247 - rmse: 0.1828 - val_loss: 0.0110 - val_mse: 0.0220 - val_mae: 0.1045 - val_rmse: 0.1483\n",
      "Epoch 364/1000\n",
      "629/629 [==============================] - 13s 21ms/step - loss: 0.0167 - mse: 0.0335 - mae: 0.1249 - rmse: 0.1831 - val_loss: 0.0114 - val_mse: 0.0227 - val_mae: 0.1063 - val_rmse: 0.1508\n",
      "Epoch 365/1000\n",
      "629/629 [==============================] - 13s 21ms/step - loss: 0.0167 - mse: 0.0337 - mae: 0.1250 - rmse: 0.1835 - val_loss: 0.0117 - val_mse: 0.0235 - val_mae: 0.1079 - val_rmse: 0.1532\n",
      "Epoch 366/1000\n",
      "629/629 [==============================] - 13s 21ms/step - loss: 0.0167 - mse: 0.0335 - mae: 0.1246 - rmse: 0.1831 - val_loss: 0.0102 - val_mse: 0.0205 - val_mae: 0.1022 - val_rmse: 0.1432\n",
      "Epoch 367/1000\n",
      "629/629 [==============================] - 13s 20ms/step - loss: 0.0167 - mse: 0.0337 - mae: 0.1250 - rmse: 0.1835 - val_loss: 0.0115 - val_mse: 0.0231 - val_mae: 0.1058 - val_rmse: 0.1519\n",
      "Epoch 368/1000\n",
      "629/629 [==============================] - 13s 20ms/step - loss: 0.0167 - mse: 0.0335 - mae: 0.1248 - rmse: 0.1831 - val_loss: 0.0115 - val_mse: 0.0231 - val_mae: 0.1069 - val_rmse: 0.1519\n",
      "Epoch 369/1000\n",
      "629/629 [==============================] - 13s 21ms/step - loss: 0.0166 - mse: 0.0333 - mae: 0.1246 - rmse: 0.1824 - val_loss: 0.0122 - val_mse: 0.0245 - val_mae: 0.1081 - val_rmse: 0.1564\n",
      "Epoch 370/1000\n",
      "629/629 [==============================] - 13s 20ms/step - loss: 0.0167 - mse: 0.0335 - mae: 0.1247 - rmse: 0.1830 - val_loss: 0.0112 - val_mse: 0.0224 - val_mae: 0.1066 - val_rmse: 0.1498\n",
      "Epoch 371/1000\n",
      "629/629 [==============================] - 13s 20ms/step - loss: 0.0166 - mse: 0.0333 - mae: 0.1243 - rmse: 0.1824 - val_loss: 0.0111 - val_mse: 0.0222 - val_mae: 0.1049 - val_rmse: 0.1492\n",
      "Epoch 372/1000\n",
      "629/629 [==============================] - 13s 21ms/step - loss: 0.0167 - mse: 0.0335 - mae: 0.1246 - rmse: 0.1831 - val_loss: 0.0106 - val_mse: 0.0211 - val_mae: 0.1031 - val_rmse: 0.1454\n",
      "Epoch 373/1000\n",
      "629/629 [==============================] - 13s 20ms/step - loss: 0.0167 - mse: 0.0335 - mae: 0.1248 - rmse: 0.1830 - val_loss: 0.0113 - val_mse: 0.0226 - val_mae: 0.1065 - val_rmse: 0.1504\n",
      "Epoch 374/1000\n",
      "629/629 [==============================] - 13s 20ms/step - loss: 0.0167 - mse: 0.0336 - mae: 0.1249 - rmse: 0.1833 - val_loss: 0.0110 - val_mse: 0.0221 - val_mae: 0.1046 - val_rmse: 0.1486\n",
      "Epoch 375/1000\n",
      "629/629 [==============================] - 13s 21ms/step - loss: 0.0168 - mse: 0.0337 - mae: 0.1251 - rmse: 0.1836 - val_loss: 0.0117 - val_mse: 0.0234 - val_mae: 0.1076 - val_rmse: 0.1529\n",
      "Epoch 376/1000\n",
      "629/629 [==============================] - 13s 21ms/step - loss: 0.0166 - mse: 0.0334 - mae: 0.1245 - rmse: 0.1827 - val_loss: 0.0100 - val_mse: 0.0200 - val_mae: 0.1012 - val_rmse: 0.1414\n",
      "Epoch 377/1000\n",
      "629/629 [==============================] - 13s 20ms/step - loss: 0.0166 - mse: 0.0333 - mae: 0.1245 - rmse: 0.1825 - val_loss: 0.0112 - val_mse: 0.0224 - val_mae: 0.1059 - val_rmse: 0.1496\n",
      "Epoch 378/1000\n",
      "629/629 [==============================] - 13s 21ms/step - loss: 0.0166 - mse: 0.0333 - mae: 0.1246 - rmse: 0.1825 - val_loss: 0.0099 - val_mse: 0.0199 - val_mae: 0.1010 - val_rmse: 0.1409\n",
      "Epoch 379/1000\n",
      "629/629 [==============================] - 13s 21ms/step - loss: 0.0166 - mse: 0.0333 - mae: 0.1243 - rmse: 0.1825 - val_loss: 0.0121 - val_mse: 0.0242 - val_mae: 0.1081 - val_rmse: 0.1554\n",
      "Epoch 380/1000\n",
      "629/629 [==============================] - 13s 20ms/step - loss: 0.0164 - mse: 0.0330 - mae: 0.1238 - rmse: 0.1816 - val_loss: 0.0103 - val_mse: 0.0205 - val_mae: 0.1028 - val_rmse: 0.1433\n",
      "Epoch 381/1000\n",
      "629/629 [==============================] - 13s 21ms/step - loss: 0.0165 - mse: 0.0331 - mae: 0.1242 - rmse: 0.1821 - val_loss: 0.0102 - val_mse: 0.0204 - val_mae: 0.1019 - val_rmse: 0.1428\n",
      "Epoch 382/1000\n",
      "629/629 [==============================] - 13s 20ms/step - loss: 0.0165 - mse: 0.0332 - mae: 0.1242 - rmse: 0.1822 - val_loss: 0.0105 - val_mse: 0.0210 - val_mae: 0.1024 - val_rmse: 0.1450\n",
      "Epoch 383/1000\n",
      "629/629 [==============================] - 13s 21ms/step - loss: 0.0165 - mse: 0.0332 - mae: 0.1244 - rmse: 0.1823 - val_loss: 0.0104 - val_mse: 0.0208 - val_mae: 0.1017 - val_rmse: 0.1441\n",
      "Epoch 384/1000\n",
      "629/629 [==============================] - 13s 21ms/step - loss: 0.0166 - mse: 0.0333 - mae: 0.1244 - rmse: 0.1825 - val_loss: 0.0102 - val_mse: 0.0205 - val_mae: 0.1020 - val_rmse: 0.1432\n",
      "Epoch 385/1000\n",
      "629/629 [==============================] - ETA: 0s - loss: 0.0165 - mse: 0.0332 - mae: 0.1242 - rmse: 0.1823"
     ]
    },
    {
     "name": "stderr",
     "output_type": "stream",
     "text": [
      "WARNING:absl:Found untraced functions such as _jit_compiled_convolution_op, _jit_compiled_convolution_op, _jit_compiled_convolution_op while saving (showing 3 of 3). These functions will not be directly callable after loading.\n"
     ]
    },
    {
     "name": "stdout",
     "output_type": "stream",
     "text": [
      "INFO:tensorflow:Assets written to: ../models/NNmodel/1DCNN_final_architecture/fftAndLocalTides/93as/bestModel_93as_fold1.tf/assets\n"
     ]
    },
    {
     "name": "stderr",
     "output_type": "stream",
     "text": [
      "INFO:tensorflow:Assets written to: ../models/NNmodel/1DCNN_final_architecture/fftAndLocalTides/93as/bestModel_93as_fold1.tf/assets\n"
     ]
    },
    {
     "name": "stdout",
     "output_type": "stream",
     "text": [
      "629/629 [==============================] - 16s 25ms/step - loss: 0.0165 - mse: 0.0332 - mae: 0.1242 - rmse: 0.1823 - val_loss: 0.0094 - val_mse: 0.0188 - val_mae: 0.0985 - val_rmse: 0.1372\n",
      "Epoch 386/1000\n",
      "629/629 [==============================] - 13s 21ms/step - loss: 0.0164 - mse: 0.0331 - mae: 0.1239 - rmse: 0.1819 - val_loss: 0.0119 - val_mse: 0.0239 - val_mae: 0.1073 - val_rmse: 0.1545\n",
      "Epoch 387/1000\n",
      "629/629 [==============================] - 13s 21ms/step - loss: 0.0165 - mse: 0.0331 - mae: 0.1242 - rmse: 0.1818 - val_loss: 0.0119 - val_mse: 0.0239 - val_mae: 0.1079 - val_rmse: 0.1545\n",
      "Epoch 388/1000\n",
      "629/629 [==============================] - 13s 20ms/step - loss: 0.0165 - mse: 0.0332 - mae: 0.1242 - rmse: 0.1822 - val_loss: 0.0118 - val_mse: 0.0236 - val_mae: 0.1066 - val_rmse: 0.1536\n",
      "Epoch 389/1000\n",
      "629/629 [==============================] - 13s 21ms/step - loss: 0.0165 - mse: 0.0332 - mae: 0.1242 - rmse: 0.1823 - val_loss: 0.0104 - val_mse: 0.0208 - val_mae: 0.1022 - val_rmse: 0.1442\n",
      "Epoch 390/1000\n",
      "629/629 [==============================] - 13s 21ms/step - loss: 0.0165 - mse: 0.0332 - mae: 0.1238 - rmse: 0.1821 - val_loss: 0.0125 - val_mse: 0.0250 - val_mae: 0.1093 - val_rmse: 0.1582\n",
      "Epoch 391/1000\n",
      "629/629 [==============================] - 13s 20ms/step - loss: 0.0163 - mse: 0.0329 - mae: 0.1237 - rmse: 0.1813 - val_loss: 0.0108 - val_mse: 0.0216 - val_mae: 0.1034 - val_rmse: 0.1468\n",
      "Epoch 392/1000\n",
      "629/629 [==============================] - 13s 20ms/step - loss: 0.0163 - mse: 0.0328 - mae: 0.1238 - rmse: 0.1812 - val_loss: 0.0123 - val_mse: 0.0245 - val_mae: 0.1089 - val_rmse: 0.1566\n",
      "Epoch 393/1000\n",
      "629/629 [==============================] - 13s 21ms/step - loss: 0.0164 - mse: 0.0330 - mae: 0.1241 - rmse: 0.1817 - val_loss: 0.0106 - val_mse: 0.0212 - val_mae: 0.1030 - val_rmse: 0.1456\n",
      "Epoch 394/1000\n",
      "629/629 [==============================] - 13s 21ms/step - loss: 0.0164 - mse: 0.0329 - mae: 0.1239 - rmse: 0.1815 - val_loss: 0.0118 - val_mse: 0.0237 - val_mae: 0.1080 - val_rmse: 0.1538\n",
      "Epoch 395/1000\n",
      "629/629 [==============================] - 13s 21ms/step - loss: 0.0164 - mse: 0.0330 - mae: 0.1238 - rmse: 0.1816 - val_loss: 0.0126 - val_mse: 0.0251 - val_mae: 0.1119 - val_rmse: 0.1585\n",
      "Epoch 396/1000\n",
      "629/629 [==============================] - 13s 21ms/step - loss: 0.0163 - mse: 0.0327 - mae: 0.1234 - rmse: 0.1809 - val_loss: 0.0118 - val_mse: 0.0235 - val_mae: 0.1072 - val_rmse: 0.1533\n",
      "Epoch 397/1000\n",
      "629/629 [==============================] - 13s 21ms/step - loss: 0.0164 - mse: 0.0331 - mae: 0.1238 - rmse: 0.1818 - val_loss: 0.0107 - val_mse: 0.0214 - val_mae: 0.1032 - val_rmse: 0.1462\n",
      "Epoch 398/1000\n",
      "629/629 [==============================] - 13s 21ms/step - loss: 0.0163 - mse: 0.0327 - mae: 0.1234 - rmse: 0.1809 - val_loss: 0.0133 - val_mse: 0.0266 - val_mae: 0.1116 - val_rmse: 0.1632\n",
      "Epoch 399/1000\n",
      "629/629 [==============================] - 14s 22ms/step - loss: 0.0162 - mse: 0.0326 - mae: 0.1232 - rmse: 0.1807 - val_loss: 0.0108 - val_mse: 0.0216 - val_mae: 0.1035 - val_rmse: 0.1469\n",
      "Epoch 400/1000\n",
      "629/629 [==============================] - 13s 21ms/step - loss: 0.0165 - mse: 0.0332 - mae: 0.1240 - rmse: 0.1821 - val_loss: 0.0104 - val_mse: 0.0208 - val_mae: 0.1028 - val_rmse: 0.1441\n",
      "Epoch 401/1000\n",
      "629/629 [==============================] - 13s 21ms/step - loss: 0.0164 - mse: 0.0330 - mae: 0.1237 - rmse: 0.1818 - val_loss: 0.0111 - val_mse: 0.0221 - val_mae: 0.1053 - val_rmse: 0.1487\n",
      "Epoch 402/1000\n",
      "629/629 [==============================] - 13s 21ms/step - loss: 0.0163 - mse: 0.0329 - mae: 0.1235 - rmse: 0.1813 - val_loss: 0.0108 - val_mse: 0.0217 - val_mae: 0.1042 - val_rmse: 0.1472\n",
      "Epoch 403/1000\n",
      "629/629 [==============================] - 13s 21ms/step - loss: 0.0163 - mse: 0.0328 - mae: 0.1235 - rmse: 0.1812 - val_loss: 0.0114 - val_mse: 0.0228 - val_mae: 0.1064 - val_rmse: 0.1510\n",
      "Epoch 404/1000\n",
      "629/629 [==============================] - 13s 20ms/step - loss: 0.0164 - mse: 0.0330 - mae: 0.1237 - rmse: 0.1817 - val_loss: 0.0105 - val_mse: 0.0211 - val_mae: 0.1024 - val_rmse: 0.1453\n",
      "Epoch 405/1000\n",
      "629/629 [==============================] - 13s 21ms/step - loss: 0.0164 - mse: 0.0330 - mae: 0.1236 - rmse: 0.1816 - val_loss: 0.0109 - val_mse: 0.0217 - val_mae: 0.1041 - val_rmse: 0.1474\n",
      "Epoch 406/1000\n",
      "629/629 [==============================] - 13s 21ms/step - loss: 0.0164 - mse: 0.0330 - mae: 0.1239 - rmse: 0.1818 - val_loss: 0.0111 - val_mse: 0.0221 - val_mae: 0.1049 - val_rmse: 0.1488\n",
      "Epoch 407/1000\n",
      "629/629 [==============================] - 13s 21ms/step - loss: 0.0163 - mse: 0.0327 - mae: 0.1233 - rmse: 0.1809 - val_loss: 0.0123 - val_mse: 0.0246 - val_mae: 0.1089 - val_rmse: 0.1570\n",
      "Epoch 408/1000\n",
      "629/629 [==============================] - 13s 20ms/step - loss: 0.0163 - mse: 0.0328 - mae: 0.1233 - rmse: 0.1811 - val_loss: 0.0116 - val_mse: 0.0231 - val_mae: 0.1066 - val_rmse: 0.1521\n",
      "Epoch 409/1000\n",
      "629/629 [==============================] - 13s 21ms/step - loss: 0.0162 - mse: 0.0326 - mae: 0.1230 - rmse: 0.1804 - val_loss: 0.0096 - val_mse: 0.0191 - val_mae: 0.0992 - val_rmse: 0.1382\n",
      "Epoch 410/1000\n",
      "629/629 [==============================] - 13s 21ms/step - loss: 0.0163 - mse: 0.0327 - mae: 0.1229 - rmse: 0.1808 - val_loss: 0.0104 - val_mse: 0.0208 - val_mae: 0.1014 - val_rmse: 0.1443\n",
      "Epoch 411/1000\n",
      "629/629 [==============================] - 13s 20ms/step - loss: 0.0163 - mse: 0.0327 - mae: 0.1231 - rmse: 0.1808 - val_loss: 0.0099 - val_mse: 0.0198 - val_mae: 0.0999 - val_rmse: 0.1407\n",
      "Epoch 412/1000\n",
      "629/629 [==============================] - 13s 20ms/step - loss: 0.0163 - mse: 0.0328 - mae: 0.1232 - rmse: 0.1812 - val_loss: 0.0111 - val_mse: 0.0222 - val_mae: 0.1035 - val_rmse: 0.1489\n",
      "Epoch 413/1000\n",
      "629/629 [==============================] - 13s 20ms/step - loss: 0.0162 - mse: 0.0326 - mae: 0.1230 - rmse: 0.1805 - val_loss: 0.0115 - val_mse: 0.0230 - val_mae: 0.1052 - val_rmse: 0.1515\n",
      "Epoch 414/1000\n",
      "629/629 [==============================] - 13s 21ms/step - loss: 0.0162 - mse: 0.0326 - mae: 0.1231 - rmse: 0.1806 - val_loss: 0.0102 - val_mse: 0.0205 - val_mae: 0.1007 - val_rmse: 0.1431\n",
      "Epoch 415/1000\n",
      "629/629 [==============================] - 13s 20ms/step - loss: 0.0162 - mse: 0.0325 - mae: 0.1229 - rmse: 0.1803 - val_loss: 0.0128 - val_mse: 0.0257 - val_mae: 0.1100 - val_rmse: 0.1603\n",
      "Epoch 416/1000\n",
      "629/629 [==============================] - 13s 21ms/step - loss: 0.0161 - mse: 0.0324 - mae: 0.1227 - rmse: 0.1799 - val_loss: 0.0104 - val_mse: 0.0208 - val_mae: 0.1024 - val_rmse: 0.1443\n",
      "Epoch 417/1000\n",
      "629/629 [==============================] - 13s 20ms/step - loss: 0.0162 - mse: 0.0325 - mae: 0.1230 - rmse: 0.1803 - val_loss: 0.0119 - val_mse: 0.0238 - val_mae: 0.1075 - val_rmse: 0.1544\n",
      "Epoch 418/1000\n",
      "629/629 [==============================] - 13s 20ms/step - loss: 0.0162 - mse: 0.0326 - mae: 0.1231 - rmse: 0.1807 - val_loss: 0.0102 - val_mse: 0.0203 - val_mae: 0.1010 - val_rmse: 0.1425\n",
      "Epoch 419/1000\n",
      "629/629 [==============================] - 13s 21ms/step - loss: 0.0162 - mse: 0.0326 - mae: 0.1228 - rmse: 0.1805 - val_loss: 0.0104 - val_mse: 0.0209 - val_mae: 0.1024 - val_rmse: 0.1446\n",
      "Epoch 420/1000\n",
      "629/629 [==============================] - 13s 20ms/step - loss: 0.0160 - mse: 0.0323 - mae: 0.1225 - rmse: 0.1796 - val_loss: 0.0097 - val_mse: 0.0194 - val_mae: 0.0993 - val_rmse: 0.1392\n",
      "Epoch 421/1000\n",
      "629/629 [==============================] - 13s 21ms/step - loss: 0.0162 - mse: 0.0325 - mae: 0.1227 - rmse: 0.1804 - val_loss: 0.0110 - val_mse: 0.0220 - val_mae: 0.1037 - val_rmse: 0.1484\n",
      "Epoch 422/1000\n",
      "629/629 [==============================] - 13s 20ms/step - loss: 0.0161 - mse: 0.0323 - mae: 0.1226 - rmse: 0.1798 - val_loss: 0.0109 - val_mse: 0.0219 - val_mae: 0.1036 - val_rmse: 0.1479\n",
      "Epoch 423/1000\n",
      "629/629 [==============================] - 13s 20ms/step - loss: 0.0161 - mse: 0.0323 - mae: 0.1226 - rmse: 0.1798 - val_loss: 0.0122 - val_mse: 0.0244 - val_mae: 0.1092 - val_rmse: 0.1562\n",
      "Epoch 424/1000\n",
      "629/629 [==============================] - 13s 20ms/step - loss: 0.0161 - mse: 0.0324 - mae: 0.1228 - rmse: 0.1799 - val_loss: 0.0103 - val_mse: 0.0207 - val_mae: 0.1018 - val_rmse: 0.1437\n",
      "Epoch 425/1000\n",
      "629/629 [==============================] - 13s 21ms/step - loss: 0.0161 - mse: 0.0324 - mae: 0.1228 - rmse: 0.1799 - val_loss: 0.0103 - val_mse: 0.0206 - val_mae: 0.1016 - val_rmse: 0.1434\n",
      "Epoch 426/1000\n",
      "629/629 [==============================] - 13s 21ms/step - loss: 0.0162 - mse: 0.0326 - mae: 0.1228 - rmse: 0.1805 - val_loss: 0.0098 - val_mse: 0.0196 - val_mae: 0.1006 - val_rmse: 0.1401\n",
      "Epoch 427/1000\n",
      "629/629 [==============================] - 13s 20ms/step - loss: 0.0161 - mse: 0.0322 - mae: 0.1224 - rmse: 0.1795 - val_loss: 0.0117 - val_mse: 0.0235 - val_mae: 0.1071 - val_rmse: 0.1532\n",
      "Epoch 428/1000\n",
      "629/629 [==============================] - 13s 21ms/step - loss: 0.0160 - mse: 0.0321 - mae: 0.1223 - rmse: 0.1793 - val_loss: 0.0111 - val_mse: 0.0223 - val_mae: 0.1042 - val_rmse: 0.1493\n",
      "Epoch 429/1000\n",
      "629/629 [==============================] - 13s 20ms/step - loss: 0.0161 - mse: 0.0324 - mae: 0.1226 - rmse: 0.1799 - val_loss: 0.0111 - val_mse: 0.0222 - val_mae: 0.1042 - val_rmse: 0.1489\n",
      "Epoch 430/1000\n",
      "629/629 [==============================] - 13s 20ms/step - loss: 0.0159 - mse: 0.0319 - mae: 0.1218 - rmse: 0.1787 - val_loss: 0.0103 - val_mse: 0.0206 - val_mae: 0.1018 - val_rmse: 0.1435\n",
      "Epoch 431/1000\n",
      "629/629 [==============================] - 13s 21ms/step - loss: 0.0162 - mse: 0.0325 - mae: 0.1227 - rmse: 0.1803 - val_loss: 0.0107 - val_mse: 0.0214 - val_mae: 0.1031 - val_rmse: 0.1464\n",
      "Epoch 432/1000\n",
      "629/629 [==============================] - 13s 20ms/step - loss: 0.0161 - mse: 0.0323 - mae: 0.1225 - rmse: 0.1797 - val_loss: 0.0108 - val_mse: 0.0216 - val_mae: 0.1033 - val_rmse: 0.1470\n",
      "Epoch 433/1000\n",
      "629/629 [==============================] - 13s 21ms/step - loss: 0.0160 - mse: 0.0321 - mae: 0.1223 - rmse: 0.1792 - val_loss: 0.0112 - val_mse: 0.0223 - val_mae: 0.1050 - val_rmse: 0.1494\n",
      "Epoch 434/1000\n",
      "629/629 [==============================] - 13s 20ms/step - loss: 0.0160 - mse: 0.0321 - mae: 0.1220 - rmse: 0.1792 - val_loss: 0.0114 - val_mse: 0.0229 - val_mae: 0.1057 - val_rmse: 0.1512\n",
      "Epoch 435/1000\n",
      "629/629 [==============================] - 13s 20ms/step - loss: 0.0159 - mse: 0.0320 - mae: 0.1220 - rmse: 0.1789 - val_loss: 0.0108 - val_mse: 0.0216 - val_mae: 0.1033 - val_rmse: 0.1471\n",
      "Epoch 436/1000\n",
      "629/629 [==============================] - 13s 20ms/step - loss: 0.0161 - mse: 0.0323 - mae: 0.1222 - rmse: 0.1796 - val_loss: 0.0107 - val_mse: 0.0215 - val_mae: 0.1027 - val_rmse: 0.1465\n",
      "Epoch 437/1000\n",
      "629/629 [==============================] - 13s 21ms/step - loss: 0.0162 - mse: 0.0325 - mae: 0.1226 - rmse: 0.1803 - val_loss: 0.0106 - val_mse: 0.0213 - val_mae: 0.1026 - val_rmse: 0.1458\n",
      "Epoch 438/1000\n",
      "629/629 [==============================] - 13s 20ms/step - loss: 0.0160 - mse: 0.0321 - mae: 0.1220 - rmse: 0.1791 - val_loss: 0.0116 - val_mse: 0.0232 - val_mae: 0.1057 - val_rmse: 0.1522\n",
      "Epoch 439/1000\n",
      "629/629 [==============================] - 13s 20ms/step - loss: 0.0161 - mse: 0.0323 - mae: 0.1221 - rmse: 0.1798 - val_loss: 0.0116 - val_mse: 0.0232 - val_mae: 0.1068 - val_rmse: 0.1524\n",
      "Epoch 440/1000\n",
      "629/629 [==============================] - 13s 21ms/step - loss: 0.0159 - mse: 0.0319 - mae: 0.1218 - rmse: 0.1786 - val_loss: 0.0106 - val_mse: 0.0212 - val_mae: 0.1029 - val_rmse: 0.1457\n",
      "Epoch 441/1000\n",
      "629/629 [==============================] - 13s 20ms/step - loss: 0.0160 - mse: 0.0321 - mae: 0.1222 - rmse: 0.1792 - val_loss: 0.0105 - val_mse: 0.0210 - val_mae: 0.1031 - val_rmse: 0.1450\n",
      "Epoch 442/1000\n",
      "629/629 [==============================] - 13s 21ms/step - loss: 0.0160 - mse: 0.0321 - mae: 0.1220 - rmse: 0.1791 - val_loss: 0.0098 - val_mse: 0.0196 - val_mae: 0.1006 - val_rmse: 0.1398\n",
      "Epoch 443/1000\n",
      "629/629 [==============================] - 13s 20ms/step - loss: 0.0159 - mse: 0.0320 - mae: 0.1219 - rmse: 0.1788 - val_loss: 0.0111 - val_mse: 0.0223 - val_mae: 0.1041 - val_rmse: 0.1493\n",
      "Epoch 444/1000\n",
      "629/629 [==============================] - 13s 21ms/step - loss: 0.0160 - mse: 0.0321 - mae: 0.1218 - rmse: 0.1792 - val_loss: 0.0111 - val_mse: 0.0221 - val_mae: 0.1067 - val_rmse: 0.1488\n",
      "Epoch 445/1000\n",
      "629/629 [==============================] - 13s 20ms/step - loss: 0.0159 - mse: 0.0319 - mae: 0.1219 - rmse: 0.1787 - val_loss: 0.0107 - val_mse: 0.0215 - val_mae: 0.1030 - val_rmse: 0.1466\n",
      "Epoch 446/1000\n",
      "629/629 [==============================] - 13s 20ms/step - loss: 0.0159 - mse: 0.0321 - mae: 0.1218 - rmse: 0.1790 - val_loss: 0.0103 - val_mse: 0.0205 - val_mae: 0.1011 - val_rmse: 0.1432\n",
      "Epoch 447/1000\n",
      "629/629 [==============================] - 13s 20ms/step - loss: 0.0160 - mse: 0.0321 - mae: 0.1220 - rmse: 0.1792 - val_loss: 0.0104 - val_mse: 0.0208 - val_mae: 0.1018 - val_rmse: 0.1441\n",
      "Epoch 448/1000\n",
      "629/629 [==============================] - 13s 21ms/step - loss: 0.0159 - mse: 0.0319 - mae: 0.1217 - rmse: 0.1786 - val_loss: 0.0103 - val_mse: 0.0205 - val_mae: 0.1024 - val_rmse: 0.1432\n",
      "Epoch 449/1000\n",
      "629/629 [==============================] - 13s 21ms/step - loss: 0.0160 - mse: 0.0321 - mae: 0.1218 - rmse: 0.1792 - val_loss: 0.0108 - val_mse: 0.0216 - val_mae: 0.1033 - val_rmse: 0.1470\n",
      "Epoch 450/1000\n",
      "629/629 [==============================] - 13s 20ms/step - loss: 0.0159 - mse: 0.0320 - mae: 0.1217 - rmse: 0.1790 - val_loss: 0.0116 - val_mse: 0.0232 - val_mae: 0.1060 - val_rmse: 0.1522\n",
      "Epoch 451/1000\n",
      "629/629 [==============================] - 13s 21ms/step - loss: 0.0159 - mse: 0.0319 - mae: 0.1216 - rmse: 0.1787 - val_loss: 0.0098 - val_mse: 0.0196 - val_mae: 0.0997 - val_rmse: 0.1400\n",
      "Epoch 452/1000\n",
      "629/629 [==============================] - 13s 20ms/step - loss: 0.0159 - mse: 0.0320 - mae: 0.1217 - rmse: 0.1789 - val_loss: 0.0108 - val_mse: 0.0215 - val_mae: 0.1031 - val_rmse: 0.1468\n",
      "Epoch 453/1000\n",
      "629/629 [==============================] - 13s 21ms/step - loss: 0.0157 - mse: 0.0316 - mae: 0.1213 - rmse: 0.1777 - val_loss: 0.0112 - val_mse: 0.0224 - val_mae: 0.1050 - val_rmse: 0.1498\n",
      "Epoch 454/1000\n",
      "629/629 [==============================] - 13s 21ms/step - loss: 0.0158 - mse: 0.0318 - mae: 0.1213 - rmse: 0.1782 - val_loss: 0.0096 - val_mse: 0.0191 - val_mae: 0.0987 - val_rmse: 0.1383\n",
      "Epoch 455/1000\n",
      "629/629 [==============================] - 13s 20ms/step - loss: 0.0157 - mse: 0.0316 - mae: 0.1209 - rmse: 0.1778 - val_loss: 0.0108 - val_mse: 0.0217 - val_mae: 0.1034 - val_rmse: 0.1473\n",
      "Epoch 456/1000\n",
      "629/629 [==============================] - 13s 20ms/step - loss: 0.0158 - mse: 0.0317 - mae: 0.1212 - rmse: 0.1780 - val_loss: 0.0097 - val_mse: 0.0194 - val_mae: 0.0987 - val_rmse: 0.1394\n",
      "Epoch 457/1000\n",
      "629/629 [==============================] - 13s 20ms/step - loss: 0.0160 - mse: 0.0322 - mae: 0.1218 - rmse: 0.1794 - val_loss: 0.0111 - val_mse: 0.0223 - val_mae: 0.1050 - val_rmse: 0.1492\n",
      "Epoch 458/1000\n",
      "629/629 [==============================] - 13s 21ms/step - loss: 0.0157 - mse: 0.0316 - mae: 0.1211 - rmse: 0.1778 - val_loss: 0.0115 - val_mse: 0.0231 - val_mae: 0.1046 - val_rmse: 0.1520\n",
      "Epoch 459/1000\n",
      "629/629 [==============================] - 13s 20ms/step - loss: 0.0159 - mse: 0.0319 - mae: 0.1213 - rmse: 0.1786 - val_loss: 0.0103 - val_mse: 0.0206 - val_mae: 0.1015 - val_rmse: 0.1435\n",
      "Epoch 460/1000\n",
      "629/629 [==============================] - 13s 20ms/step - loss: 0.0158 - mse: 0.0318 - mae: 0.1215 - rmse: 0.1783 - val_loss: 0.0097 - val_mse: 0.0193 - val_mae: 0.0986 - val_rmse: 0.1391\n",
      "Epoch 461/1000\n",
      "629/629 [==============================] - 13s 21ms/step - loss: 0.0158 - mse: 0.0318 - mae: 0.1213 - rmse: 0.1783 - val_loss: 0.0102 - val_mse: 0.0203 - val_mae: 0.1001 - val_rmse: 0.1425\n",
      "Epoch 462/1000\n",
      "629/629 [==============================] - 13s 20ms/step - loss: 0.0158 - mse: 0.0317 - mae: 0.1211 - rmse: 0.1780 - val_loss: 0.0105 - val_mse: 0.0210 - val_mae: 0.1011 - val_rmse: 0.1450\n",
      "Epoch 463/1000\n",
      "629/629 [==============================] - 13s 20ms/step - loss: 0.0158 - mse: 0.0317 - mae: 0.1213 - rmse: 0.1782 - val_loss: 0.0103 - val_mse: 0.0205 - val_mae: 0.1008 - val_rmse: 0.1432\n",
      "Epoch 464/1000\n",
      "628/629 [============================>.] - ETA: 0s - loss: 0.0157 - mse: 0.0316 - mae: 0.1210 - rmse: 0.1778"
     ]
    },
    {
     "name": "stderr",
     "output_type": "stream",
     "text": [
      "WARNING:absl:Found untraced functions such as _jit_compiled_convolution_op, _jit_compiled_convolution_op, _jit_compiled_convolution_op while saving (showing 3 of 3). These functions will not be directly callable after loading.\n"
     ]
    },
    {
     "name": "stdout",
     "output_type": "stream",
     "text": [
      "INFO:tensorflow:Assets written to: ../models/NNmodel/1DCNN_final_architecture/fftAndLocalTides/93as/bestModel_93as_fold1.tf/assets\n"
     ]
    },
    {
     "name": "stderr",
     "output_type": "stream",
     "text": [
      "INFO:tensorflow:Assets written to: ../models/NNmodel/1DCNN_final_architecture/fftAndLocalTides/93as/bestModel_93as_fold1.tf/assets\n"
     ]
    },
    {
     "name": "stdout",
     "output_type": "stream",
     "text": [
      "629/629 [==============================] - 15s 24ms/step - loss: 0.0157 - mse: 0.0316 - mae: 0.1210 - rmse: 0.1778 - val_loss: 0.0089 - val_mse: 0.0179 - val_mae: 0.0960 - val_rmse: 0.1338\n",
      "Epoch 465/1000\n",
      "629/629 [==============================] - 13s 21ms/step - loss: 0.0159 - mse: 0.0319 - mae: 0.1213 - rmse: 0.1785 - val_loss: 0.0101 - val_mse: 0.0202 - val_mae: 0.1006 - val_rmse: 0.1422\n",
      "Epoch 466/1000\n",
      "629/629 [==============================] - 13s 21ms/step - loss: 0.0157 - mse: 0.0316 - mae: 0.1211 - rmse: 0.1776 - val_loss: 0.0110 - val_mse: 0.0220 - val_mae: 0.1037 - val_rmse: 0.1484\n",
      "Epoch 467/1000\n",
      "629/629 [==============================] - 13s 21ms/step - loss: 0.0159 - mse: 0.0319 - mae: 0.1213 - rmse: 0.1787 - val_loss: 0.0101 - val_mse: 0.0202 - val_mae: 0.0999 - val_rmse: 0.1422\n",
      "Epoch 468/1000\n",
      "629/629 [==============================] - 13s 20ms/step - loss: 0.0157 - mse: 0.0316 - mae: 0.1210 - rmse: 0.1778 - val_loss: 0.0095 - val_mse: 0.0191 - val_mae: 0.0990 - val_rmse: 0.1381\n",
      "Epoch 469/1000\n",
      "629/629 [==============================] - 13s 21ms/step - loss: 0.0158 - mse: 0.0317 - mae: 0.1208 - rmse: 0.1781 - val_loss: 0.0102 - val_mse: 0.0204 - val_mae: 0.1015 - val_rmse: 0.1427\n",
      "Epoch 470/1000\n",
      "629/629 [==============================] - 13s 20ms/step - loss: 0.0156 - mse: 0.0314 - mae: 0.1208 - rmse: 0.1772 - val_loss: 0.0112 - val_mse: 0.0223 - val_mae: 0.1039 - val_rmse: 0.1494\n",
      "Epoch 471/1000\n",
      "629/629 [==============================] - 13s 21ms/step - loss: 0.0157 - mse: 0.0316 - mae: 0.1208 - rmse: 0.1778 - val_loss: 0.0091 - val_mse: 0.0181 - val_mae: 0.0959 - val_rmse: 0.1346\n",
      "Epoch 472/1000\n",
      "629/629 [==============================] - 13s 20ms/step - loss: 0.0157 - mse: 0.0315 - mae: 0.1207 - rmse: 0.1774 - val_loss: 0.0099 - val_mse: 0.0199 - val_mae: 0.0998 - val_rmse: 0.1409\n",
      "Epoch 473/1000\n",
      "629/629 [==============================] - 13s 20ms/step - loss: 0.0155 - mse: 0.0312 - mae: 0.1203 - rmse: 0.1766 - val_loss: 0.0102 - val_mse: 0.0204 - val_mae: 0.1006 - val_rmse: 0.1428\n",
      "Epoch 474/1000\n",
      "629/629 [==============================] - 13s 21ms/step - loss: 0.0156 - mse: 0.0314 - mae: 0.1208 - rmse: 0.1772 - val_loss: 0.0109 - val_mse: 0.0218 - val_mae: 0.1036 - val_rmse: 0.1475\n",
      "Epoch 475/1000\n",
      "629/629 [==============================] - 13s 21ms/step - loss: 0.0156 - mse: 0.0314 - mae: 0.1206 - rmse: 0.1773 - val_loss: 0.0098 - val_mse: 0.0197 - val_mae: 0.0993 - val_rmse: 0.1402\n",
      "Epoch 476/1000\n",
      "629/629 [==============================] - 13s 20ms/step - loss: 0.0157 - mse: 0.0315 - mae: 0.1206 - rmse: 0.1774 - val_loss: 0.0090 - val_mse: 0.0180 - val_mae: 0.0954 - val_rmse: 0.1340\n",
      "Epoch 477/1000\n",
      "629/629 [==============================] - 13s 20ms/step - loss: 0.0157 - mse: 0.0315 - mae: 0.1208 - rmse: 0.1774 - val_loss: 0.0099 - val_mse: 0.0197 - val_mae: 0.0997 - val_rmse: 0.1404\n",
      "Epoch 478/1000\n",
      "629/629 [==============================] - 13s 21ms/step - loss: 0.0156 - mse: 0.0313 - mae: 0.1206 - rmse: 0.1770 - val_loss: 0.0107 - val_mse: 0.0215 - val_mae: 0.1023 - val_rmse: 0.1465\n",
      "Epoch 479/1000\n",
      "629/629 [==============================] - 13s 21ms/step - loss: 0.0157 - mse: 0.0317 - mae: 0.1209 - rmse: 0.1779 - val_loss: 0.0098 - val_mse: 0.0196 - val_mae: 0.1002 - val_rmse: 0.1401\n",
      "Epoch 480/1000\n",
      "629/629 [==============================] - 13s 20ms/step - loss: 0.0156 - mse: 0.0313 - mae: 0.1202 - rmse: 0.1769 - val_loss: 0.0119 - val_mse: 0.0237 - val_mae: 0.1060 - val_rmse: 0.1540\n",
      "Epoch 481/1000\n",
      "629/629 [==============================] - 13s 20ms/step - loss: 0.0156 - mse: 0.0313 - mae: 0.1203 - rmse: 0.1769 - val_loss: 0.0105 - val_mse: 0.0210 - val_mae: 0.1011 - val_rmse: 0.1448\n",
      "Epoch 482/1000\n",
      "629/629 [==============================] - 13s 20ms/step - loss: 0.0156 - mse: 0.0314 - mae: 0.1206 - rmse: 0.1773 - val_loss: 0.0110 - val_mse: 0.0220 - val_mae: 0.1036 - val_rmse: 0.1484\n",
      "Epoch 483/1000\n",
      "629/629 [==============================] - 13s 20ms/step - loss: 0.0155 - mse: 0.0312 - mae: 0.1201 - rmse: 0.1766 - val_loss: 0.0109 - val_mse: 0.0218 - val_mae: 0.1035 - val_rmse: 0.1475\n",
      "Epoch 484/1000\n",
      "629/629 [==============================] - 13s 20ms/step - loss: 0.0158 - mse: 0.0317 - mae: 0.1209 - rmse: 0.1781 - val_loss: 0.0100 - val_mse: 0.0199 - val_mae: 0.1000 - val_rmse: 0.1411\n",
      "Epoch 485/1000\n",
      "629/629 [==============================] - 13s 20ms/step - loss: 0.0156 - mse: 0.0313 - mae: 0.1204 - rmse: 0.1770 - val_loss: 0.0105 - val_mse: 0.0209 - val_mae: 0.1014 - val_rmse: 0.1447\n",
      "Epoch 486/1000\n",
      "629/629 [==============================] - 13s 20ms/step - loss: 0.0155 - mse: 0.0312 - mae: 0.1199 - rmse: 0.1765 - val_loss: 0.0097 - val_mse: 0.0195 - val_mae: 0.0994 - val_rmse: 0.1396\n",
      "Epoch 487/1000\n",
      "629/629 [==============================] - 13s 20ms/step - loss: 0.0154 - mse: 0.0310 - mae: 0.1199 - rmse: 0.1761 - val_loss: 0.0110 - val_mse: 0.0220 - val_mae: 0.1031 - val_rmse: 0.1483\n",
      "Epoch 488/1000\n",
      "629/629 [==============================] - 13s 21ms/step - loss: 0.0156 - mse: 0.0313 - mae: 0.1204 - rmse: 0.1770 - val_loss: 0.0109 - val_mse: 0.0218 - val_mae: 0.1033 - val_rmse: 0.1477\n",
      "Epoch 489/1000\n",
      "629/629 [==============================] - 13s 21ms/step - loss: 0.0154 - mse: 0.0309 - mae: 0.1199 - rmse: 0.1759 - val_loss: 0.0100 - val_mse: 0.0200 - val_mae: 0.1001 - val_rmse: 0.1416\n",
      "Epoch 490/1000\n",
      "629/629 [==============================] - 13s 21ms/step - loss: 0.0154 - mse: 0.0310 - mae: 0.1199 - rmse: 0.1760 - val_loss: 0.0092 - val_mse: 0.0185 - val_mae: 0.0967 - val_rmse: 0.1359\n",
      "Epoch 491/1000\n",
      "629/629 [==============================] - 13s 20ms/step - loss: 0.0155 - mse: 0.0311 - mae: 0.1200 - rmse: 0.1763 - val_loss: 0.0101 - val_mse: 0.0201 - val_mae: 0.0996 - val_rmse: 0.1419\n",
      "Epoch 492/1000\n",
      "629/629 [==============================] - 13s 21ms/step - loss: 0.0156 - mse: 0.0313 - mae: 0.1201 - rmse: 0.1769 - val_loss: 0.0097 - val_mse: 0.0195 - val_mae: 0.0996 - val_rmse: 0.1395\n",
      "Epoch 493/1000\n",
      "629/629 [==============================] - 13s 21ms/step - loss: 0.0156 - mse: 0.0313 - mae: 0.1202 - rmse: 0.1768 - val_loss: 0.0104 - val_mse: 0.0208 - val_mae: 0.1013 - val_rmse: 0.1442\n",
      "Epoch 494/1000\n",
      "629/629 [==============================] - 13s 21ms/step - loss: 0.0157 - mse: 0.0315 - mae: 0.1204 - rmse: 0.1776 - val_loss: 0.0097 - val_mse: 0.0194 - val_mae: 0.0991 - val_rmse: 0.1394\n",
      "Epoch 495/1000\n",
      "629/629 [==============================] - 13s 21ms/step - loss: 0.0154 - mse: 0.0310 - mae: 0.1199 - rmse: 0.1760 - val_loss: 0.0104 - val_mse: 0.0208 - val_mae: 0.1019 - val_rmse: 0.1441\n",
      "Epoch 496/1000\n",
      "629/629 [==============================] - 13s 21ms/step - loss: 0.0155 - mse: 0.0311 - mae: 0.1201 - rmse: 0.1765 - val_loss: 0.0119 - val_mse: 0.0238 - val_mae: 0.1064 - val_rmse: 0.1544\n",
      "Epoch 497/1000\n",
      "629/629 [==============================] - 13s 21ms/step - loss: 0.0155 - mse: 0.0311 - mae: 0.1199 - rmse: 0.1765 - val_loss: 0.0106 - val_mse: 0.0212 - val_mae: 0.1022 - val_rmse: 0.1456\n",
      "Epoch 498/1000\n",
      "629/629 [==============================] - 13s 20ms/step - loss: 0.0154 - mse: 0.0310 - mae: 0.1198 - rmse: 0.1760 - val_loss: 0.0107 - val_mse: 0.0214 - val_mae: 0.1012 - val_rmse: 0.1462\n",
      "Epoch 499/1000\n",
      "629/629 [==============================] - 13s 20ms/step - loss: 0.0155 - mse: 0.0312 - mae: 0.1201 - rmse: 0.1766 - val_loss: 0.0108 - val_mse: 0.0216 - val_mae: 0.1025 - val_rmse: 0.1468\n",
      "Epoch 500/1000\n",
      "629/629 [==============================] - 13s 21ms/step - loss: 0.0155 - mse: 0.0312 - mae: 0.1201 - rmse: 0.1767 - val_loss: 0.0104 - val_mse: 0.0209 - val_mae: 0.1007 - val_rmse: 0.1445\n",
      "Epoch 501/1000\n",
      "629/629 [==============================] - 13s 20ms/step - loss: 0.0155 - mse: 0.0312 - mae: 0.1200 - rmse: 0.1766 - val_loss: 0.0091 - val_mse: 0.0183 - val_mae: 0.0966 - val_rmse: 0.1352\n",
      "Epoch 502/1000\n",
      "629/629 [==============================] - 13s 20ms/step - loss: 0.0153 - mse: 0.0308 - mae: 0.1197 - rmse: 0.1755 - val_loss: 0.0097 - val_mse: 0.0195 - val_mae: 0.0988 - val_rmse: 0.1396\n",
      "Epoch 503/1000\n",
      "629/629 [==============================] - 13s 21ms/step - loss: 0.0155 - mse: 0.0311 - mae: 0.1199 - rmse: 0.1764 - val_loss: 0.0104 - val_mse: 0.0208 - val_mae: 0.1023 - val_rmse: 0.1443\n",
      "Epoch 504/1000\n",
      "629/629 [==============================] - 13s 21ms/step - loss: 0.0155 - mse: 0.0311 - mae: 0.1200 - rmse: 0.1764 - val_loss: 0.0102 - val_mse: 0.0204 - val_mae: 0.1003 - val_rmse: 0.1428\n",
      "Epoch 505/1000\n",
      "629/629 [==============================] - 13s 21ms/step - loss: 0.0154 - mse: 0.0309 - mae: 0.1195 - rmse: 0.1758 - val_loss: 0.0099 - val_mse: 0.0197 - val_mae: 0.0989 - val_rmse: 0.1405\n",
      "Epoch 506/1000\n",
      "629/629 [==============================] - 13s 21ms/step - loss: 0.0155 - mse: 0.0311 - mae: 0.1198 - rmse: 0.1763 - val_loss: 0.0105 - val_mse: 0.0210 - val_mae: 0.1015 - val_rmse: 0.1450\n",
      "Epoch 507/1000\n",
      "629/629 [==============================] - 13s 21ms/step - loss: 0.0155 - mse: 0.0311 - mae: 0.1198 - rmse: 0.1762 - val_loss: 0.0110 - val_mse: 0.0220 - val_mae: 0.1038 - val_rmse: 0.1482\n",
      "Epoch 508/1000\n",
      "629/629 [==============================] - 13s 21ms/step - loss: 0.0154 - mse: 0.0309 - mae: 0.1195 - rmse: 0.1757 - val_loss: 0.0110 - val_mse: 0.0220 - val_mae: 0.1036 - val_rmse: 0.1483\n",
      "Epoch 509/1000\n",
      "629/629 [==============================] - 13s 20ms/step - loss: 0.0154 - mse: 0.0308 - mae: 0.1196 - rmse: 0.1756 - val_loss: 0.0100 - val_mse: 0.0201 - val_mae: 0.0998 - val_rmse: 0.1417\n",
      "Epoch 510/1000\n",
      "629/629 [==============================] - 13s 20ms/step - loss: 0.0153 - mse: 0.0308 - mae: 0.1194 - rmse: 0.1756 - val_loss: 0.0114 - val_mse: 0.0229 - val_mae: 0.1040 - val_rmse: 0.1513\n",
      "Epoch 511/1000\n",
      "629/629 [==============================] - 13s 21ms/step - loss: 0.0154 - mse: 0.0310 - mae: 0.1194 - rmse: 0.1759 - val_loss: 0.0106 - val_mse: 0.0212 - val_mae: 0.1018 - val_rmse: 0.1456\n",
      "Epoch 512/1000\n",
      "629/629 [==============================] - 13s 20ms/step - loss: 0.0153 - mse: 0.0307 - mae: 0.1194 - rmse: 0.1751 - val_loss: 0.0111 - val_mse: 0.0223 - val_mae: 0.1040 - val_rmse: 0.1492\n",
      "Epoch 513/1000\n",
      "629/629 [==============================] - 13s 20ms/step - loss: 0.0152 - mse: 0.0306 - mae: 0.1191 - rmse: 0.1750 - val_loss: 0.0105 - val_mse: 0.0209 - val_mae: 0.1009 - val_rmse: 0.1447\n",
      "Epoch 514/1000\n",
      "629/629 [==============================] - 13s 20ms/step - loss: 0.0153 - mse: 0.0307 - mae: 0.1194 - rmse: 0.1752 - val_loss: 0.0117 - val_mse: 0.0233 - val_mae: 0.1058 - val_rmse: 0.1527\n",
      "Epoch 515/1000\n",
      "629/629 [==============================] - 13s 21ms/step - loss: 0.0154 - mse: 0.0309 - mae: 0.1194 - rmse: 0.1758 - val_loss: 0.0110 - val_mse: 0.0219 - val_mae: 0.1029 - val_rmse: 0.1481\n",
      "Epoch 516/1000\n",
      "629/629 [==============================] - 13s 20ms/step - loss: 0.0153 - mse: 0.0307 - mae: 0.1192 - rmse: 0.1753 - val_loss: 0.0104 - val_mse: 0.0208 - val_mae: 0.1012 - val_rmse: 0.1443\n",
      "Epoch 517/1000\n",
      "629/629 [==============================] - 13s 20ms/step - loss: 0.0153 - mse: 0.0307 - mae: 0.1190 - rmse: 0.1752 - val_loss: 0.0104 - val_mse: 0.0207 - val_mae: 0.1016 - val_rmse: 0.1439\n",
      "Epoch 518/1000\n",
      "629/629 [==============================] - 13s 20ms/step - loss: 0.0154 - mse: 0.0309 - mae: 0.1194 - rmse: 0.1759 - val_loss: 0.0109 - val_mse: 0.0219 - val_mae: 0.1021 - val_rmse: 0.1480\n",
      "Epoch 519/1000\n",
      "629/629 [==============================] - 13s 20ms/step - loss: 0.0153 - mse: 0.0308 - mae: 0.1194 - rmse: 0.1756 - val_loss: 0.0103 - val_mse: 0.0207 - val_mae: 0.1005 - val_rmse: 0.1437\n",
      "Epoch 520/1000\n",
      "629/629 [==============================] - 13s 20ms/step - loss: 0.0152 - mse: 0.0306 - mae: 0.1189 - rmse: 0.1749 - val_loss: 0.0115 - val_mse: 0.0231 - val_mae: 0.1049 - val_rmse: 0.1518\n",
      "Epoch 521/1000\n",
      "629/629 [==============================] - 13s 20ms/step - loss: 0.0153 - mse: 0.0308 - mae: 0.1193 - rmse: 0.1756 - val_loss: 0.0101 - val_mse: 0.0201 - val_mae: 0.0996 - val_rmse: 0.1419\n",
      "Epoch 522/1000\n",
      "629/629 [==============================] - 13s 20ms/step - loss: 0.0153 - mse: 0.0307 - mae: 0.1190 - rmse: 0.1753 - val_loss: 0.0098 - val_mse: 0.0196 - val_mae: 0.0984 - val_rmse: 0.1402\n",
      "Epoch 523/1000\n",
      "629/629 [==============================] - 13s 20ms/step - loss: 0.0152 - mse: 0.0306 - mae: 0.1189 - rmse: 0.1749 - val_loss: 0.0100 - val_mse: 0.0199 - val_mae: 0.0990 - val_rmse: 0.1411\n",
      "Epoch 524/1000\n",
      "629/629 [==============================] - 13s 21ms/step - loss: 0.0155 - mse: 0.0311 - mae: 0.1197 - rmse: 0.1763 - val_loss: 0.0100 - val_mse: 0.0200 - val_mae: 0.0991 - val_rmse: 0.1415\n",
      "Epoch 525/1000\n",
      "629/629 [==============================] - 13s 20ms/step - loss: 0.0153 - mse: 0.0308 - mae: 0.1193 - rmse: 0.1756 - val_loss: 0.0107 - val_mse: 0.0213 - val_mae: 0.1018 - val_rmse: 0.1460\n",
      "Epoch 526/1000\n",
      "629/629 [==============================] - 13s 21ms/step - loss: 0.0152 - mse: 0.0306 - mae: 0.1188 - rmse: 0.1750 - val_loss: 0.0105 - val_mse: 0.0210 - val_mae: 0.1017 - val_rmse: 0.1450\n",
      "Epoch 527/1000\n",
      "629/629 [==============================] - 13s 20ms/step - loss: 0.0153 - mse: 0.0307 - mae: 0.1192 - rmse: 0.1752 - val_loss: 0.0098 - val_mse: 0.0196 - val_mae: 0.0979 - val_rmse: 0.1400\n",
      "Epoch 528/1000\n",
      "629/629 [==============================] - 13s 20ms/step - loss: 0.0153 - mse: 0.0307 - mae: 0.1192 - rmse: 0.1752 - val_loss: 0.0107 - val_mse: 0.0215 - val_mae: 0.1025 - val_rmse: 0.1466\n",
      "Epoch 529/1000\n",
      "629/629 [==============================] - 13s 20ms/step - loss: 0.0153 - mse: 0.0307 - mae: 0.1193 - rmse: 0.1751 - val_loss: 0.0096 - val_mse: 0.0193 - val_mae: 0.0982 - val_rmse: 0.1389\n",
      "Epoch 530/1000\n",
      "629/629 [==============================] - 13s 20ms/step - loss: 0.0152 - mse: 0.0304 - mae: 0.1187 - rmse: 0.1745 - val_loss: 0.0099 - val_mse: 0.0197 - val_mae: 0.0985 - val_rmse: 0.1405\n",
      "Epoch 531/1000\n",
      "629/629 [==============================] - 13s 20ms/step - loss: 0.0153 - mse: 0.0308 - mae: 0.1192 - rmse: 0.1755 - val_loss: 0.0106 - val_mse: 0.0212 - val_mae: 0.1027 - val_rmse: 0.1457\n",
      "Epoch 532/1000\n",
      "629/629 [==============================] - 13s 20ms/step - loss: 0.0152 - mse: 0.0305 - mae: 0.1187 - rmse: 0.1747 - val_loss: 0.0092 - val_mse: 0.0184 - val_mae: 0.0965 - val_rmse: 0.1358\n",
      "Epoch 533/1000\n",
      "629/629 [==============================] - 13s 20ms/step - loss: 0.0153 - mse: 0.0307 - mae: 0.1189 - rmse: 0.1752 - val_loss: 0.0097 - val_mse: 0.0194 - val_mae: 0.0975 - val_rmse: 0.1394\n",
      "Epoch 534/1000\n",
      "629/629 [==============================] - 13s 20ms/step - loss: 0.0154 - mse: 0.0309 - mae: 0.1192 - rmse: 0.1757 - val_loss: 0.0096 - val_mse: 0.0191 - val_mae: 0.0992 - val_rmse: 0.1384\n",
      "Epoch 535/1000\n",
      "629/629 [==============================] - 13s 20ms/step - loss: 0.0152 - mse: 0.0306 - mae: 0.1188 - rmse: 0.1748 - val_loss: 0.0108 - val_mse: 0.0215 - val_mae: 0.1020 - val_rmse: 0.1467\n",
      "Epoch 536/1000\n",
      "629/629 [==============================] - 13s 21ms/step - loss: 0.0152 - mse: 0.0305 - mae: 0.1190 - rmse: 0.1748 - val_loss: 0.0109 - val_mse: 0.0219 - val_mae: 0.1045 - val_rmse: 0.1480\n",
      "Epoch 537/1000\n",
      "629/629 [==============================] - 13s 21ms/step - loss: 0.0152 - mse: 0.0306 - mae: 0.1188 - rmse: 0.1749 - val_loss: 0.0112 - val_mse: 0.0224 - val_mae: 0.1028 - val_rmse: 0.1496\n",
      "Epoch 538/1000\n",
      "629/629 [==============================] - 13s 21ms/step - loss: 0.0152 - mse: 0.0306 - mae: 0.1190 - rmse: 0.1749 - val_loss: 0.0101 - val_mse: 0.0202 - val_mae: 0.1002 - val_rmse: 0.1421\n",
      "Epoch 539/1000\n",
      "629/629 [==============================] - 13s 20ms/step - loss: 0.0151 - mse: 0.0303 - mae: 0.1184 - rmse: 0.1741 - val_loss: 0.0122 - val_mse: 0.0244 - val_mae: 0.1074 - val_rmse: 0.1561\n",
      "Epoch 540/1000\n",
      "629/629 [==============================] - 13s 20ms/step - loss: 0.0151 - mse: 0.0304 - mae: 0.1184 - rmse: 0.1742 - val_loss: 0.0103 - val_mse: 0.0205 - val_mae: 0.1016 - val_rmse: 0.1432\n",
      "Epoch 541/1000\n",
      "628/629 [============================>.] - ETA: 0s - loss: 0.0152 - mse: 0.0305 - mae: 0.1188 - rmse: 0.1746"
     ]
    },
    {
     "name": "stderr",
     "output_type": "stream",
     "text": [
      "WARNING:absl:Found untraced functions such as _jit_compiled_convolution_op, _jit_compiled_convolution_op, _jit_compiled_convolution_op while saving (showing 3 of 3). These functions will not be directly callable after loading.\n"
     ]
    },
    {
     "name": "stdout",
     "output_type": "stream",
     "text": [
      "INFO:tensorflow:Assets written to: ../models/NNmodel/1DCNN_final_architecture/fftAndLocalTides/93as/bestModel_93as_fold1.tf/assets\n"
     ]
    },
    {
     "name": "stderr",
     "output_type": "stream",
     "text": [
      "INFO:tensorflow:Assets written to: ../models/NNmodel/1DCNN_final_architecture/fftAndLocalTides/93as/bestModel_93as_fold1.tf/assets\n"
     ]
    },
    {
     "name": "stdout",
     "output_type": "stream",
     "text": [
      "629/629 [==============================] - 15s 24ms/step - loss: 0.0152 - mse: 0.0305 - mae: 0.1188 - rmse: 0.1745 - val_loss: 0.0085 - val_mse: 0.0171 - val_mae: 0.0937 - val_rmse: 0.1306\n",
      "Epoch 542/1000\n",
      "629/629 [==============================] - 13s 20ms/step - loss: 0.0153 - mse: 0.0308 - mae: 0.1190 - rmse: 0.1755 - val_loss: 0.0092 - val_mse: 0.0183 - val_mae: 0.0961 - val_rmse: 0.1354\n",
      "Epoch 543/1000\n",
      "629/629 [==============================] - 13s 20ms/step - loss: 0.0152 - mse: 0.0306 - mae: 0.1187 - rmse: 0.1749 - val_loss: 0.0101 - val_mse: 0.0201 - val_mae: 0.0997 - val_rmse: 0.1418\n",
      "Epoch 544/1000\n",
      "629/629 [==============================] - 13s 20ms/step - loss: 0.0151 - mse: 0.0303 - mae: 0.1185 - rmse: 0.1742 - val_loss: 0.0093 - val_mse: 0.0187 - val_mae: 0.0976 - val_rmse: 0.1366\n",
      "Epoch 545/1000\n",
      "629/629 [==============================] - 13s 20ms/step - loss: 0.0152 - mse: 0.0305 - mae: 0.1189 - rmse: 0.1747 - val_loss: 0.0115 - val_mse: 0.0229 - val_mae: 0.1069 - val_rmse: 0.1514\n",
      "Epoch 546/1000\n",
      "629/629 [==============================] - ETA: 0s - loss: 0.0152 - mse: 0.0305 - mae: 0.1185 - rmse: 0.1746"
     ]
    },
    {
     "name": "stderr",
     "output_type": "stream",
     "text": [
      "WARNING:absl:Found untraced functions such as _jit_compiled_convolution_op, _jit_compiled_convolution_op, _jit_compiled_convolution_op while saving (showing 3 of 3). These functions will not be directly callable after loading.\n"
     ]
    },
    {
     "name": "stdout",
     "output_type": "stream",
     "text": [
      "INFO:tensorflow:Assets written to: ../models/NNmodel/1DCNN_final_architecture/fftAndLocalTides/93as/bestModel_93as_fold1.tf/assets\n"
     ]
    },
    {
     "name": "stderr",
     "output_type": "stream",
     "text": [
      "INFO:tensorflow:Assets written to: ../models/NNmodel/1DCNN_final_architecture/fftAndLocalTides/93as/bestModel_93as_fold1.tf/assets\n"
     ]
    },
    {
     "name": "stdout",
     "output_type": "stream",
     "text": [
      "629/629 [==============================] - 15s 24ms/step - loss: 0.0152 - mse: 0.0305 - mae: 0.1185 - rmse: 0.1746 - val_loss: 0.0085 - val_mse: 0.0170 - val_mae: 0.0940 - val_rmse: 0.1303\n",
      "Epoch 547/1000\n",
      "629/629 [==============================] - 13s 21ms/step - loss: 0.0153 - mse: 0.0307 - mae: 0.1191 - rmse: 0.1753 - val_loss: 0.0101 - val_mse: 0.0202 - val_mae: 0.0990 - val_rmse: 0.1420\n",
      "Epoch 548/1000\n",
      "629/629 [==============================] - 13s 21ms/step - loss: 0.0152 - mse: 0.0306 - mae: 0.1189 - rmse: 0.1749 - val_loss: 0.0115 - val_mse: 0.0229 - val_mae: 0.1057 - val_rmse: 0.1514\n",
      "Epoch 549/1000\n",
      "629/629 [==============================] - 13s 21ms/step - loss: 0.0152 - mse: 0.0306 - mae: 0.1188 - rmse: 0.1749 - val_loss: 0.0109 - val_mse: 0.0217 - val_mae: 0.1021 - val_rmse: 0.1474\n",
      "Epoch 550/1000\n",
      "629/629 [==============================] - 13s 21ms/step - loss: 0.0151 - mse: 0.0302 - mae: 0.1184 - rmse: 0.1739 - val_loss: 0.0103 - val_mse: 0.0207 - val_mae: 0.1008 - val_rmse: 0.1437\n",
      "Epoch 551/1000\n",
      "629/629 [==============================] - 13s 21ms/step - loss: 0.0152 - mse: 0.0305 - mae: 0.1187 - rmse: 0.1747 - val_loss: 0.0108 - val_mse: 0.0216 - val_mae: 0.1024 - val_rmse: 0.1470\n",
      "Epoch 552/1000\n",
      "629/629 [==============================] - 13s 20ms/step - loss: 0.0151 - mse: 0.0303 - mae: 0.1185 - rmse: 0.1741 - val_loss: 0.0098 - val_mse: 0.0196 - val_mae: 0.0987 - val_rmse: 0.1399\n",
      "Epoch 553/1000\n",
      "629/629 [==============================] - 13s 21ms/step - loss: 0.0150 - mse: 0.0302 - mae: 0.1183 - rmse: 0.1738 - val_loss: 0.0105 - val_mse: 0.0210 - val_mae: 0.1009 - val_rmse: 0.1448\n",
      "Epoch 554/1000\n",
      "629/629 [==============================] - 13s 20ms/step - loss: 0.0151 - mse: 0.0304 - mae: 0.1183 - rmse: 0.1743 - val_loss: 0.0095 - val_mse: 0.0190 - val_mae: 0.0970 - val_rmse: 0.1378\n",
      "Epoch 555/1000\n",
      "629/629 [==============================] - 13s 20ms/step - loss: 0.0152 - mse: 0.0307 - mae: 0.1187 - rmse: 0.1751 - val_loss: 0.0096 - val_mse: 0.0191 - val_mae: 0.0973 - val_rmse: 0.1382\n",
      "Epoch 556/1000\n",
      "629/629 [==============================] - 13s 21ms/step - loss: 0.0150 - mse: 0.0302 - mae: 0.1181 - rmse: 0.1738 - val_loss: 0.0103 - val_mse: 0.0207 - val_mae: 0.1029 - val_rmse: 0.1437\n",
      "Epoch 557/1000\n",
      "629/629 [==============================] - 13s 21ms/step - loss: 0.0151 - mse: 0.0303 - mae: 0.1185 - rmse: 0.1742 - val_loss: 0.0104 - val_mse: 0.0208 - val_mae: 0.1008 - val_rmse: 0.1441\n",
      "Epoch 558/1000\n",
      "629/629 [==============================] - 13s 21ms/step - loss: 0.0149 - mse: 0.0300 - mae: 0.1180 - rmse: 0.1732 - val_loss: 0.0101 - val_mse: 0.0202 - val_mae: 0.1001 - val_rmse: 0.1420\n",
      "Epoch 559/1000\n",
      "629/629 [==============================] - 13s 21ms/step - loss: 0.0150 - mse: 0.0301 - mae: 0.1181 - rmse: 0.1735 - val_loss: 0.0107 - val_mse: 0.0214 - val_mae: 0.1024 - val_rmse: 0.1462\n",
      "Epoch 560/1000\n",
      "629/629 [==============================] - 13s 21ms/step - loss: 0.0151 - mse: 0.0302 - mae: 0.1183 - rmse: 0.1739 - val_loss: 0.0103 - val_mse: 0.0206 - val_mae: 0.1003 - val_rmse: 0.1434\n",
      "Epoch 561/1000\n",
      "629/629 [==============================] - 13s 21ms/step - loss: 0.0151 - mse: 0.0304 - mae: 0.1183 - rmse: 0.1743 - val_loss: 0.0096 - val_mse: 0.0192 - val_mae: 0.0978 - val_rmse: 0.1385\n",
      "Epoch 562/1000\n",
      "629/629 [==============================] - 13s 21ms/step - loss: 0.0150 - mse: 0.0301 - mae: 0.1182 - rmse: 0.1736 - val_loss: 0.0100 - val_mse: 0.0201 - val_mae: 0.0994 - val_rmse: 0.1417\n",
      "Epoch 563/1000\n",
      "629/629 [==============================] - 13s 20ms/step - loss: 0.0151 - mse: 0.0303 - mae: 0.1182 - rmse: 0.1740 - val_loss: 0.0089 - val_mse: 0.0178 - val_mae: 0.0951 - val_rmse: 0.1335\n",
      "Epoch 564/1000\n",
      "629/629 [==============================] - 13s 20ms/step - loss: 0.0151 - mse: 0.0303 - mae: 0.1182 - rmse: 0.1741 - val_loss: 0.0090 - val_mse: 0.0181 - val_mae: 0.0954 - val_rmse: 0.1344\n",
      "Epoch 565/1000\n",
      "629/629 [==============================] - 13s 21ms/step - loss: 0.0149 - mse: 0.0300 - mae: 0.1178 - rmse: 0.1732 - val_loss: 0.0100 - val_mse: 0.0199 - val_mae: 0.0999 - val_rmse: 0.1412\n",
      "Epoch 566/1000\n",
      "629/629 [==============================] - 13s 21ms/step - loss: 0.0150 - mse: 0.0302 - mae: 0.1182 - rmse: 0.1738 - val_loss: 0.0100 - val_mse: 0.0200 - val_mae: 0.0985 - val_rmse: 0.1413\n",
      "Epoch 567/1000\n",
      "629/629 [==============================] - 13s 21ms/step - loss: 0.0150 - mse: 0.0301 - mae: 0.1180 - rmse: 0.1734 - val_loss: 0.0111 - val_mse: 0.0222 - val_mae: 0.1035 - val_rmse: 0.1489\n",
      "Epoch 568/1000\n",
      "629/629 [==============================] - 13s 21ms/step - loss: 0.0150 - mse: 0.0302 - mae: 0.1181 - rmse: 0.1739 - val_loss: 0.0102 - val_mse: 0.0204 - val_mae: 0.1000 - val_rmse: 0.1428\n",
      "Epoch 569/1000\n",
      "629/629 [==============================] - 13s 20ms/step - loss: 0.0149 - mse: 0.0300 - mae: 0.1178 - rmse: 0.1733 - val_loss: 0.0107 - val_mse: 0.0214 - val_mae: 0.1017 - val_rmse: 0.1461\n",
      "Epoch 570/1000\n",
      "629/629 [==============================] - 13s 21ms/step - loss: 0.0151 - mse: 0.0303 - mae: 0.1182 - rmse: 0.1740 - val_loss: 0.0106 - val_mse: 0.0213 - val_mae: 0.1015 - val_rmse: 0.1458\n",
      "Epoch 571/1000\n",
      "629/629 [==============================] - 13s 21ms/step - loss: 0.0152 - mse: 0.0305 - mae: 0.1184 - rmse: 0.1748 - val_loss: 0.0098 - val_mse: 0.0195 - val_mae: 0.0983 - val_rmse: 0.1398\n",
      "Epoch 572/1000\n",
      "629/629 [==============================] - 13s 21ms/step - loss: 0.0150 - mse: 0.0302 - mae: 0.1180 - rmse: 0.1738 - val_loss: 0.0104 - val_mse: 0.0208 - val_mae: 0.1016 - val_rmse: 0.1442\n",
      "Epoch 573/1000\n",
      "629/629 [==============================] - 13s 20ms/step - loss: 0.0150 - mse: 0.0301 - mae: 0.1178 - rmse: 0.1734 - val_loss: 0.0101 - val_mse: 0.0203 - val_mae: 0.0995 - val_rmse: 0.1424\n",
      "Epoch 574/1000\n",
      "629/629 [==============================] - 13s 20ms/step - loss: 0.0150 - mse: 0.0302 - mae: 0.1179 - rmse: 0.1739 - val_loss: 0.0097 - val_mse: 0.0194 - val_mae: 0.0982 - val_rmse: 0.1393\n",
      "Epoch 575/1000\n",
      "629/629 [==============================] - 13s 20ms/step - loss: 0.0149 - mse: 0.0300 - mae: 0.1176 - rmse: 0.1732 - val_loss: 0.0110 - val_mse: 0.0221 - val_mae: 0.1029 - val_rmse: 0.1485\n",
      "Epoch 576/1000\n",
      "629/629 [==============================] - 13s 20ms/step - loss: 0.0150 - mse: 0.0300 - mae: 0.1178 - rmse: 0.1733 - val_loss: 0.0101 - val_mse: 0.0202 - val_mae: 0.0986 - val_rmse: 0.1420\n",
      "Epoch 577/1000\n",
      "629/629 [==============================] - 13s 20ms/step - loss: 0.0149 - mse: 0.0299 - mae: 0.1178 - rmse: 0.1730 - val_loss: 0.0095 - val_mse: 0.0190 - val_mae: 0.0976 - val_rmse: 0.1380\n",
      "Epoch 578/1000\n",
      "629/629 [==============================] - 13s 20ms/step - loss: 0.0150 - mse: 0.0302 - mae: 0.1178 - rmse: 0.1738 - val_loss: 0.0108 - val_mse: 0.0217 - val_mae: 0.1018 - val_rmse: 0.1472\n",
      "Epoch 579/1000\n",
      "629/629 [==============================] - 13s 20ms/step - loss: 0.0150 - mse: 0.0301 - mae: 0.1178 - rmse: 0.1736 - val_loss: 0.0101 - val_mse: 0.0202 - val_mae: 0.0994 - val_rmse: 0.1421\n",
      "Epoch 580/1000\n",
      "629/629 [==============================] - 13s 21ms/step - loss: 0.0149 - mse: 0.0299 - mae: 0.1175 - rmse: 0.1730 - val_loss: 0.0099 - val_mse: 0.0199 - val_mae: 0.0996 - val_rmse: 0.1410\n",
      "Epoch 581/1000\n",
      "629/629 [==============================] - 13s 21ms/step - loss: 0.0150 - mse: 0.0300 - mae: 0.1178 - rmse: 0.1733 - val_loss: 0.0101 - val_mse: 0.0202 - val_mae: 0.0996 - val_rmse: 0.1422\n",
      "Epoch 582/1000\n",
      "629/629 [==============================] - 13s 21ms/step - loss: 0.0149 - mse: 0.0299 - mae: 0.1175 - rmse: 0.1729 - val_loss: 0.0103 - val_mse: 0.0206 - val_mae: 0.1030 - val_rmse: 0.1437\n",
      "Epoch 583/1000\n",
      "629/629 [==============================] - 13s 21ms/step - loss: 0.0150 - mse: 0.0301 - mae: 0.1177 - rmse: 0.1735 - val_loss: 0.0104 - val_mse: 0.0209 - val_mae: 0.1006 - val_rmse: 0.1444\n",
      "Epoch 584/1000\n",
      "629/629 [==============================] - 13s 20ms/step - loss: 0.0149 - mse: 0.0300 - mae: 0.1174 - rmse: 0.1731 - val_loss: 0.0100 - val_mse: 0.0200 - val_mae: 0.1012 - val_rmse: 0.1413\n",
      "Epoch 585/1000\n",
      "629/629 [==============================] - 13s 20ms/step - loss: 0.0149 - mse: 0.0300 - mae: 0.1177 - rmse: 0.1733 - val_loss: 0.0092 - val_mse: 0.0184 - val_mae: 0.0961 - val_rmse: 0.1358\n",
      "Epoch 586/1000\n",
      "629/629 [==============================] - 13s 20ms/step - loss: 0.0149 - mse: 0.0299 - mae: 0.1173 - rmse: 0.1728 - val_loss: 0.0104 - val_mse: 0.0208 - val_mae: 0.1009 - val_rmse: 0.1443\n",
      "Epoch 587/1000\n",
      "629/629 [==============================] - 13s 20ms/step - loss: 0.0148 - mse: 0.0297 - mae: 0.1173 - rmse: 0.1724 - val_loss: 0.0100 - val_mse: 0.0200 - val_mae: 0.0981 - val_rmse: 0.1416\n",
      "Epoch 588/1000\n",
      "629/629 [==============================] - 13s 21ms/step - loss: 0.0148 - mse: 0.0297 - mae: 0.1172 - rmse: 0.1722 - val_loss: 0.0100 - val_mse: 0.0200 - val_mae: 0.0992 - val_rmse: 0.1415\n",
      "Epoch 589/1000\n",
      "629/629 [==============================] - 13s 21ms/step - loss: 0.0149 - mse: 0.0299 - mae: 0.1175 - rmse: 0.1730 - val_loss: 0.0099 - val_mse: 0.0198 - val_mae: 0.0984 - val_rmse: 0.1406\n",
      "Epoch 590/1000\n",
      "629/629 [==============================] - 13s 21ms/step - loss: 0.0149 - mse: 0.0300 - mae: 0.1176 - rmse: 0.1732 - val_loss: 0.0096 - val_mse: 0.0191 - val_mae: 0.0968 - val_rmse: 0.1384\n",
      "Epoch 591/1000\n",
      "629/629 [==============================] - 13s 21ms/step - loss: 0.0148 - mse: 0.0297 - mae: 0.1174 - rmse: 0.1725 - val_loss: 0.0087 - val_mse: 0.0173 - val_mae: 0.0935 - val_rmse: 0.1316\n",
      "Epoch 592/1000\n",
      "629/629 [==============================] - 13s 20ms/step - loss: 0.0148 - mse: 0.0298 - mae: 0.1172 - rmse: 0.1725 - val_loss: 0.0096 - val_mse: 0.0192 - val_mae: 0.0983 - val_rmse: 0.1387\n",
      "Epoch 593/1000\n",
      "629/629 [==============================] - 13s 21ms/step - loss: 0.0149 - mse: 0.0300 - mae: 0.1175 - rmse: 0.1732 - val_loss: 0.0099 - val_mse: 0.0198 - val_mae: 0.0981 - val_rmse: 0.1406\n",
      "Epoch 594/1000\n",
      "629/629 [==============================] - 13s 20ms/step - loss: 0.0149 - mse: 0.0299 - mae: 0.1175 - rmse: 0.1729 - val_loss: 0.0093 - val_mse: 0.0186 - val_mae: 0.0958 - val_rmse: 0.1365\n",
      "Epoch 595/1000\n",
      "629/629 [==============================] - 13s 20ms/step - loss: 0.0148 - mse: 0.0298 - mae: 0.1172 - rmse: 0.1725 - val_loss: 0.0094 - val_mse: 0.0189 - val_mae: 0.0969 - val_rmse: 0.1374\n",
      "Epoch 596/1000\n",
      "629/629 [==============================] - 13s 20ms/step - loss: 0.0148 - mse: 0.0296 - mae: 0.1170 - rmse: 0.1721 - val_loss: 0.0088 - val_mse: 0.0175 - val_mae: 0.0946 - val_rmse: 0.1325\n",
      "Epoch 597/1000\n",
      "629/629 [==============================] - 13s 20ms/step - loss: 0.0149 - mse: 0.0300 - mae: 0.1173 - rmse: 0.1732 - val_loss: 0.0096 - val_mse: 0.0192 - val_mae: 0.0990 - val_rmse: 0.1385\n",
      "Epoch 598/1000\n",
      "629/629 [==============================] - 13s 20ms/step - loss: 0.0149 - mse: 0.0299 - mae: 0.1173 - rmse: 0.1728 - val_loss: 0.0099 - val_mse: 0.0197 - val_mae: 0.0984 - val_rmse: 0.1405\n",
      "Epoch 599/1000\n",
      "629/629 [==============================] - 13s 21ms/step - loss: 0.0148 - mse: 0.0298 - mae: 0.1172 - rmse: 0.1727 - val_loss: 0.0101 - val_mse: 0.0201 - val_mae: 0.0999 - val_rmse: 0.1419\n",
      "Epoch 600/1000\n",
      "629/629 [==============================] - 13s 21ms/step - loss: 0.0149 - mse: 0.0300 - mae: 0.1176 - rmse: 0.1732 - val_loss: 0.0093 - val_mse: 0.0185 - val_mae: 0.0964 - val_rmse: 0.1360\n",
      "Epoch 601/1000\n",
      "629/629 [==============================] - 13s 20ms/step - loss: 0.0149 - mse: 0.0299 - mae: 0.1174 - rmse: 0.1731 - val_loss: 0.0099 - val_mse: 0.0197 - val_mae: 0.0988 - val_rmse: 0.1404\n",
      "Epoch 602/1000\n",
      "629/629 [==============================] - 13s 21ms/step - loss: 0.0148 - mse: 0.0296 - mae: 0.1170 - rmse: 0.1722 - val_loss: 0.0101 - val_mse: 0.0203 - val_mae: 0.0994 - val_rmse: 0.1424\n",
      "Epoch 603/1000\n",
      "629/629 [==============================] - 13s 21ms/step - loss: 0.0149 - mse: 0.0300 - mae: 0.1174 - rmse: 0.1732 - val_loss: 0.0097 - val_mse: 0.0194 - val_mae: 0.0974 - val_rmse: 0.1394\n",
      "Epoch 604/1000\n",
      "629/629 [==============================] - 13s 20ms/step - loss: 0.0147 - mse: 0.0296 - mae: 0.1169 - rmse: 0.1721 - val_loss: 0.0095 - val_mse: 0.0190 - val_mae: 0.0976 - val_rmse: 0.1378\n",
      "Epoch 605/1000\n",
      "629/629 [==============================] - 13s 20ms/step - loss: 0.0147 - mse: 0.0295 - mae: 0.1167 - rmse: 0.1718 - val_loss: 0.0090 - val_mse: 0.0179 - val_mae: 0.0953 - val_rmse: 0.1339\n",
      "Epoch 606/1000\n",
      "629/629 [==============================] - 13s 21ms/step - loss: 0.0150 - mse: 0.0302 - mae: 0.1177 - rmse: 0.1738 - val_loss: 0.0105 - val_mse: 0.0210 - val_mae: 0.1006 - val_rmse: 0.1447\n",
      "Epoch 607/1000\n",
      "629/629 [==============================] - 13s 21ms/step - loss: 0.0148 - mse: 0.0297 - mae: 0.1170 - rmse: 0.1723 - val_loss: 0.0096 - val_mse: 0.0192 - val_mae: 0.0977 - val_rmse: 0.1385\n",
      "Epoch 608/1000\n",
      "629/629 [==============================] - 13s 20ms/step - loss: 0.0148 - mse: 0.0297 - mae: 0.1171 - rmse: 0.1723 - val_loss: 0.0106 - val_mse: 0.0212 - val_mae: 0.1001 - val_rmse: 0.1455\n",
      "Epoch 609/1000\n",
      "629/629 [==============================] - 13s 20ms/step - loss: 0.0148 - mse: 0.0297 - mae: 0.1171 - rmse: 0.1722 - val_loss: 0.0106 - val_mse: 0.0213 - val_mae: 0.1012 - val_rmse: 0.1458\n",
      "Epoch 610/1000\n",
      "629/629 [==============================] - 13s 20ms/step - loss: 0.0147 - mse: 0.0295 - mae: 0.1169 - rmse: 0.1717 - val_loss: 0.0100 - val_mse: 0.0201 - val_mae: 0.0982 - val_rmse: 0.1417\n",
      "Epoch 611/1000\n",
      "629/629 [==============================] - 13s 20ms/step - loss: 0.0148 - mse: 0.0298 - mae: 0.1171 - rmse: 0.1727 - val_loss: 0.0089 - val_mse: 0.0179 - val_mae: 0.0949 - val_rmse: 0.1336\n",
      "Epoch 612/1000\n",
      "629/629 [==============================] - 13s 20ms/step - loss: 0.0147 - mse: 0.0296 - mae: 0.1169 - rmse: 0.1719 - val_loss: 0.0095 - val_mse: 0.0190 - val_mae: 0.0972 - val_rmse: 0.1379\n",
      "Epoch 613/1000\n",
      "629/629 [==============================] - 13s 20ms/step - loss: 0.0148 - mse: 0.0296 - mae: 0.1169 - rmse: 0.1722 - val_loss: 0.0090 - val_mse: 0.0181 - val_mae: 0.0966 - val_rmse: 0.1345\n",
      "Epoch 614/1000\n",
      "629/629 [==============================] - 13s 20ms/step - loss: 0.0148 - mse: 0.0296 - mae: 0.1170 - rmse: 0.1722 - val_loss: 0.0100 - val_mse: 0.0199 - val_mae: 0.0982 - val_rmse: 0.1411\n",
      "Epoch 615/1000\n",
      "629/629 [==============================] - 13s 21ms/step - loss: 0.0147 - mse: 0.0295 - mae: 0.1167 - rmse: 0.1717 - val_loss: 0.0099 - val_mse: 0.0198 - val_mae: 0.0984 - val_rmse: 0.1408\n",
      "Epoch 616/1000\n",
      "629/629 [==============================] - 13s 20ms/step - loss: 0.0148 - mse: 0.0298 - mae: 0.1173 - rmse: 0.1726 - val_loss: 0.0091 - val_mse: 0.0182 - val_mae: 0.0956 - val_rmse: 0.1350\n",
      "Epoch 617/1000\n",
      "629/629 [==============================] - 13s 21ms/step - loss: 0.0149 - mse: 0.0300 - mae: 0.1172 - rmse: 0.1731 - val_loss: 0.0091 - val_mse: 0.0182 - val_mae: 0.0954 - val_rmse: 0.1350\n",
      "Epoch 618/1000\n",
      "629/629 [==============================] - ETA: 0s - loss: 0.0147 - mse: 0.0295 - mae: 0.1167 - rmse: 0.1718"
     ]
    },
    {
     "name": "stderr",
     "output_type": "stream",
     "text": [
      "WARNING:absl:Found untraced functions such as _jit_compiled_convolution_op, _jit_compiled_convolution_op, _jit_compiled_convolution_op while saving (showing 3 of 3). These functions will not be directly callable after loading.\n"
     ]
    },
    {
     "name": "stdout",
     "output_type": "stream",
     "text": [
      "INFO:tensorflow:Assets written to: ../models/NNmodel/1DCNN_final_architecture/fftAndLocalTides/93as/bestModel_93as_fold1.tf/assets\n"
     ]
    },
    {
     "name": "stderr",
     "output_type": "stream",
     "text": [
      "INFO:tensorflow:Assets written to: ../models/NNmodel/1DCNN_final_architecture/fftAndLocalTides/93as/bestModel_93as_fold1.tf/assets\n"
     ]
    },
    {
     "name": "stdout",
     "output_type": "stream",
     "text": [
      "629/629 [==============================] - 15s 25ms/step - loss: 0.0147 - mse: 0.0295 - mae: 0.1167 - rmse: 0.1718 - val_loss: 0.0082 - val_mse: 0.0163 - val_mae: 0.0915 - val_rmse: 0.1278\n",
      "Epoch 619/1000\n",
      "629/629 [==============================] - 13s 21ms/step - loss: 0.0147 - mse: 0.0296 - mae: 0.1170 - rmse: 0.1721 - val_loss: 0.0091 - val_mse: 0.0182 - val_mae: 0.0959 - val_rmse: 0.1350\n",
      "Epoch 620/1000\n",
      "629/629 [==============================] - 13s 21ms/step - loss: 0.0147 - mse: 0.0295 - mae: 0.1165 - rmse: 0.1717 - val_loss: 0.0101 - val_mse: 0.0202 - val_mae: 0.0992 - val_rmse: 0.1421\n",
      "Epoch 621/1000\n",
      "629/629 [==============================] - 13s 20ms/step - loss: 0.0147 - mse: 0.0295 - mae: 0.1166 - rmse: 0.1717 - val_loss: 0.0102 - val_mse: 0.0203 - val_mae: 0.0994 - val_rmse: 0.1426\n",
      "Epoch 622/1000\n",
      "629/629 [==============================] - 13s 20ms/step - loss: 0.0149 - mse: 0.0299 - mae: 0.1172 - rmse: 0.1730 - val_loss: 0.0102 - val_mse: 0.0204 - val_mae: 0.1005 - val_rmse: 0.1429\n",
      "Epoch 623/1000\n",
      "629/629 [==============================] - 13s 21ms/step - loss: 0.0146 - mse: 0.0294 - mae: 0.1167 - rmse: 0.1714 - val_loss: 0.0102 - val_mse: 0.0204 - val_mae: 0.0986 - val_rmse: 0.1430\n",
      "Epoch 624/1000\n",
      "629/629 [==============================] - 13s 21ms/step - loss: 0.0147 - mse: 0.0295 - mae: 0.1168 - rmse: 0.1716 - val_loss: 0.0102 - val_mse: 0.0203 - val_mae: 0.0996 - val_rmse: 0.1426\n",
      "Epoch 625/1000\n",
      "629/629 [==============================] - 13s 21ms/step - loss: 0.0147 - mse: 0.0295 - mae: 0.1165 - rmse: 0.1716 - val_loss: 0.0093 - val_mse: 0.0185 - val_mae: 0.0956 - val_rmse: 0.1362\n",
      "Epoch 626/1000\n",
      "629/629 [==============================] - 13s 20ms/step - loss: 0.0148 - mse: 0.0296 - mae: 0.1170 - rmse: 0.1722 - val_loss: 0.0090 - val_mse: 0.0181 - val_mae: 0.0951 - val_rmse: 0.1345\n",
      "Epoch 627/1000\n",
      "629/629 [==============================] - 13s 21ms/step - loss: 0.0148 - mse: 0.0298 - mae: 0.1170 - rmse: 0.1726 - val_loss: 0.0094 - val_mse: 0.0187 - val_mae: 0.0966 - val_rmse: 0.1369\n",
      "Epoch 628/1000\n",
      "629/629 [==============================] - 13s 20ms/step - loss: 0.0148 - mse: 0.0297 - mae: 0.1168 - rmse: 0.1723 - val_loss: 0.0097 - val_mse: 0.0195 - val_mae: 0.0969 - val_rmse: 0.1395\n",
      "Epoch 629/1000\n",
      "629/629 [==============================] - 13s 20ms/step - loss: 0.0147 - mse: 0.0296 - mae: 0.1168 - rmse: 0.1721 - val_loss: 0.0090 - val_mse: 0.0180 - val_mae: 0.0951 - val_rmse: 0.1343\n",
      "Epoch 630/1000\n",
      "629/629 [==============================] - 13s 21ms/step - loss: 0.0147 - mse: 0.0295 - mae: 0.1168 - rmse: 0.1719 - val_loss: 0.0098 - val_mse: 0.0197 - val_mae: 0.0975 - val_rmse: 0.1402\n",
      "Epoch 631/1000\n",
      "629/629 [==============================] - 13s 21ms/step - loss: 0.0148 - mse: 0.0296 - mae: 0.1168 - rmse: 0.1722 - val_loss: 0.0105 - val_mse: 0.0211 - val_mae: 0.1002 - val_rmse: 0.1452\n",
      "Epoch 632/1000\n",
      "629/629 [==============================] - 13s 20ms/step - loss: 0.0147 - mse: 0.0295 - mae: 0.1167 - rmse: 0.1719 - val_loss: 0.0108 - val_mse: 0.0215 - val_mae: 0.1009 - val_rmse: 0.1466\n",
      "Epoch 633/1000\n",
      "629/629 [==============================] - 13s 20ms/step - loss: 0.0148 - mse: 0.0296 - mae: 0.1167 - rmse: 0.1721 - val_loss: 0.0100 - val_mse: 0.0199 - val_mae: 0.0986 - val_rmse: 0.1411\n",
      "Epoch 634/1000\n",
      "629/629 [==============================] - 13s 21ms/step - loss: 0.0146 - mse: 0.0294 - mae: 0.1164 - rmse: 0.1714 - val_loss: 0.0086 - val_mse: 0.0173 - val_mae: 0.0939 - val_rmse: 0.1314\n",
      "Epoch 635/1000\n",
      "629/629 [==============================] - 13s 21ms/step - loss: 0.0147 - mse: 0.0296 - mae: 0.1167 - rmse: 0.1719 - val_loss: 0.0108 - val_mse: 0.0216 - val_mae: 0.1008 - val_rmse: 0.1470\n",
      "Epoch 636/1000\n",
      "629/629 [==============================] - 13s 21ms/step - loss: 0.0147 - mse: 0.0296 - mae: 0.1167 - rmse: 0.1720 - val_loss: 0.0100 - val_mse: 0.0200 - val_mae: 0.1009 - val_rmse: 0.1412\n",
      "Epoch 637/1000\n",
      "629/629 [==============================] - 13s 21ms/step - loss: 0.0147 - mse: 0.0295 - mae: 0.1166 - rmse: 0.1716 - val_loss: 0.0101 - val_mse: 0.0201 - val_mae: 0.0995 - val_rmse: 0.1418\n",
      "Epoch 638/1000\n",
      "629/629 [==============================] - 13s 20ms/step - loss: 0.0147 - mse: 0.0295 - mae: 0.1164 - rmse: 0.1717 - val_loss: 0.0101 - val_mse: 0.0202 - val_mae: 0.0990 - val_rmse: 0.1421\n",
      "Epoch 639/1000\n",
      "629/629 [==============================] - 13s 21ms/step - loss: 0.0146 - mse: 0.0294 - mae: 0.1162 - rmse: 0.1715 - val_loss: 0.0096 - val_mse: 0.0192 - val_mae: 0.0977 - val_rmse: 0.1387\n",
      "Epoch 640/1000\n",
      "629/629 [==============================] - 13s 21ms/step - loss: 0.0146 - mse: 0.0293 - mae: 0.1162 - rmse: 0.1711 - val_loss: 0.0104 - val_mse: 0.0207 - val_mae: 0.1003 - val_rmse: 0.1440\n",
      "Epoch 641/1000\n",
      "629/629 [==============================] - 13s 20ms/step - loss: 0.0145 - mse: 0.0292 - mae: 0.1162 - rmse: 0.1710 - val_loss: 0.0095 - val_mse: 0.0191 - val_mae: 0.0965 - val_rmse: 0.1381\n",
      "Epoch 642/1000\n",
      "629/629 [==============================] - 13s 20ms/step - loss: 0.0147 - mse: 0.0296 - mae: 0.1168 - rmse: 0.1720 - val_loss: 0.0090 - val_mse: 0.0179 - val_mae: 0.0972 - val_rmse: 0.1339\n",
      "Epoch 643/1000\n",
      "629/629 [==============================] - 13s 21ms/step - loss: 0.0147 - mse: 0.0295 - mae: 0.1164 - rmse: 0.1718 - val_loss: 0.0100 - val_mse: 0.0200 - val_mae: 0.0995 - val_rmse: 0.1416\n",
      "Epoch 644/1000\n",
      "629/629 [==============================] - 13s 20ms/step - loss: 0.0148 - mse: 0.0297 - mae: 0.1167 - rmse: 0.1722 - val_loss: 0.0100 - val_mse: 0.0201 - val_mae: 0.0992 - val_rmse: 0.1417\n",
      "Epoch 645/1000\n",
      "629/629 [==============================] - 13s 20ms/step - loss: 0.0146 - mse: 0.0294 - mae: 0.1165 - rmse: 0.1714 - val_loss: 0.0092 - val_mse: 0.0185 - val_mae: 0.0969 - val_rmse: 0.1358\n",
      "Epoch 646/1000\n",
      "629/629 [==============================] - 13s 20ms/step - loss: 0.0147 - mse: 0.0294 - mae: 0.1166 - rmse: 0.1716 - val_loss: 0.0094 - val_mse: 0.0188 - val_mae: 0.0972 - val_rmse: 0.1369\n",
      "Epoch 647/1000\n",
      "629/629 [==============================] - 13s 20ms/step - loss: 0.0146 - mse: 0.0294 - mae: 0.1164 - rmse: 0.1715 - val_loss: 0.0094 - val_mse: 0.0187 - val_mae: 0.0964 - val_rmse: 0.1369\n",
      "Epoch 648/1000\n",
      "629/629 [==============================] - 13s 20ms/step - loss: 0.0145 - mse: 0.0291 - mae: 0.1162 - rmse: 0.1707 - val_loss: 0.0101 - val_mse: 0.0202 - val_mae: 0.0990 - val_rmse: 0.1422\n",
      "Epoch 649/1000\n",
      "629/629 [==============================] - 13s 20ms/step - loss: 0.0146 - mse: 0.0293 - mae: 0.1164 - rmse: 0.1712 - val_loss: 0.0096 - val_mse: 0.0192 - val_mae: 0.0973 - val_rmse: 0.1387\n",
      "Epoch 650/1000\n",
      "629/629 [==============================] - 13s 20ms/step - loss: 0.0147 - mse: 0.0294 - mae: 0.1167 - rmse: 0.1716 - val_loss: 0.0102 - val_mse: 0.0205 - val_mae: 0.0996 - val_rmse: 0.1431\n",
      "Epoch 651/1000\n",
      "629/629 [==============================] - 13s 21ms/step - loss: 0.0146 - mse: 0.0293 - mae: 0.1164 - rmse: 0.1713 - val_loss: 0.0096 - val_mse: 0.0192 - val_mae: 0.0979 - val_rmse: 0.1387\n",
      "Epoch 652/1000\n",
      "629/629 [==============================] - 13s 21ms/step - loss: 0.0146 - mse: 0.0293 - mae: 0.1162 - rmse: 0.1713 - val_loss: 0.0098 - val_mse: 0.0195 - val_mae: 0.0972 - val_rmse: 0.1398\n",
      "Epoch 653/1000\n",
      "629/629 [==============================] - 13s 21ms/step - loss: 0.0145 - mse: 0.0292 - mae: 0.1160 - rmse: 0.1709 - val_loss: 0.0091 - val_mse: 0.0181 - val_mae: 0.0949 - val_rmse: 0.1346\n",
      "Epoch 654/1000\n",
      "629/629 [==============================] - 13s 21ms/step - loss: 0.0146 - mse: 0.0293 - mae: 0.1162 - rmse: 0.1711 - val_loss: 0.0100 - val_mse: 0.0199 - val_mae: 0.0980 - val_rmse: 0.1411\n",
      "Epoch 655/1000\n",
      "629/629 [==============================] - 13s 21ms/step - loss: 0.0145 - mse: 0.0292 - mae: 0.1162 - rmse: 0.1710 - val_loss: 0.0101 - val_mse: 0.0202 - val_mae: 0.0980 - val_rmse: 0.1421\n",
      "Epoch 656/1000\n",
      "629/629 [==============================] - 13s 20ms/step - loss: 0.0147 - mse: 0.0296 - mae: 0.1166 - rmse: 0.1720 - val_loss: 0.0102 - val_mse: 0.0204 - val_mae: 0.0994 - val_rmse: 0.1428\n",
      "Epoch 657/1000\n",
      "629/629 [==============================] - 13s 20ms/step - loss: 0.0146 - mse: 0.0293 - mae: 0.1162 - rmse: 0.1711 - val_loss: 0.0088 - val_mse: 0.0177 - val_mae: 0.0949 - val_rmse: 0.1329\n",
      "Epoch 658/1000\n",
      "629/629 [==============================] - 13s 21ms/step - loss: 0.0146 - mse: 0.0293 - mae: 0.1164 - rmse: 0.1713 - val_loss: 0.0098 - val_mse: 0.0197 - val_mae: 0.0973 - val_rmse: 0.1402\n",
      "Epoch 659/1000\n",
      "629/629 [==============================] - 13s 21ms/step - loss: 0.0144 - mse: 0.0290 - mae: 0.1157 - rmse: 0.1702 - val_loss: 0.0091 - val_mse: 0.0183 - val_mae: 0.0960 - val_rmse: 0.1353\n",
      "Epoch 660/1000\n",
      "629/629 [==============================] - 13s 20ms/step - loss: 0.0147 - mse: 0.0294 - mae: 0.1166 - rmse: 0.1715 - val_loss: 0.0096 - val_mse: 0.0191 - val_mae: 0.0979 - val_rmse: 0.1384\n",
      "Epoch 661/1000\n",
      "629/629 [==============================] - 13s 20ms/step - loss: 0.0146 - mse: 0.0293 - mae: 0.1164 - rmse: 0.1712 - val_loss: 0.0089 - val_mse: 0.0178 - val_mae: 0.0940 - val_rmse: 0.1334\n",
      "Epoch 662/1000\n",
      "629/629 [==============================] - 13s 21ms/step - loss: 0.0146 - mse: 0.0293 - mae: 0.1162 - rmse: 0.1713 - val_loss: 0.0098 - val_mse: 0.0197 - val_mae: 0.0978 - val_rmse: 0.1402\n",
      "Epoch 663/1000\n",
      "629/629 [==============================] - 13s 21ms/step - loss: 0.0146 - mse: 0.0292 - mae: 0.1161 - rmse: 0.1710 - val_loss: 0.0091 - val_mse: 0.0181 - val_mae: 0.0955 - val_rmse: 0.1346\n",
      "Epoch 664/1000\n",
      "629/629 [==============================] - 13s 20ms/step - loss: 0.0146 - mse: 0.0293 - mae: 0.1163 - rmse: 0.1712 - val_loss: 0.0101 - val_mse: 0.0202 - val_mae: 0.0995 - val_rmse: 0.1423\n",
      "Epoch 665/1000\n",
      "629/629 [==============================] - 13s 21ms/step - loss: 0.0146 - mse: 0.0293 - mae: 0.1159 - rmse: 0.1711 - val_loss: 0.0089 - val_mse: 0.0177 - val_mae: 0.0941 - val_rmse: 0.1330\n",
      "Epoch 666/1000\n",
      "629/629 [==============================] - 13s 21ms/step - loss: 0.0145 - mse: 0.0290 - mae: 0.1157 - rmse: 0.1704 - val_loss: 0.0091 - val_mse: 0.0181 - val_mae: 0.0963 - val_rmse: 0.1347\n",
      "Epoch 667/1000\n",
      "629/629 [==============================] - 13s 21ms/step - loss: 0.0146 - mse: 0.0293 - mae: 0.1161 - rmse: 0.1711 - val_loss: 0.0100 - val_mse: 0.0199 - val_mae: 0.0978 - val_rmse: 0.1411\n",
      "Epoch 668/1000\n",
      "629/629 [==============================] - 13s 21ms/step - loss: 0.0146 - mse: 0.0294 - mae: 0.1161 - rmse: 0.1715 - val_loss: 0.0098 - val_mse: 0.0196 - val_mae: 0.0978 - val_rmse: 0.1400\n",
      "Epoch 669/1000\n",
      "629/629 [==============================] - 13s 21ms/step - loss: 0.0146 - mse: 0.0293 - mae: 0.1160 - rmse: 0.1712 - val_loss: 0.0101 - val_mse: 0.0202 - val_mae: 0.0993 - val_rmse: 0.1422\n",
      "Epoch 670/1000\n",
      "629/629 [==============================] - 13s 20ms/step - loss: 0.0147 - mse: 0.0296 - mae: 0.1164 - rmse: 0.1721 - val_loss: 0.0091 - val_mse: 0.0182 - val_mae: 0.0960 - val_rmse: 0.1348\n",
      "Epoch 671/1000\n",
      "629/629 [==============================] - 13s 20ms/step - loss: 0.0144 - mse: 0.0290 - mae: 0.1158 - rmse: 0.1702 - val_loss: 0.0093 - val_mse: 0.0185 - val_mae: 0.0957 - val_rmse: 0.1362\n",
      "Epoch 672/1000\n",
      "629/629 [==============================] - 13s 20ms/step - loss: 0.0146 - mse: 0.0293 - mae: 0.1162 - rmse: 0.1713 - val_loss: 0.0093 - val_mse: 0.0186 - val_mae: 0.0958 - val_rmse: 0.1365\n",
      "Epoch 673/1000\n",
      "629/629 [==============================] - 13s 21ms/step - loss: 0.0146 - mse: 0.0294 - mae: 0.1162 - rmse: 0.1715 - val_loss: 0.0093 - val_mse: 0.0185 - val_mae: 0.0954 - val_rmse: 0.1360\n",
      "Epoch 674/1000\n",
      "629/629 [==============================] - 13s 21ms/step - loss: 0.0145 - mse: 0.0292 - mae: 0.1160 - rmse: 0.1708 - val_loss: 0.0091 - val_mse: 0.0183 - val_mae: 0.0953 - val_rmse: 0.1353\n",
      "Epoch 675/1000\n",
      "629/629 [==============================] - 13s 20ms/step - loss: 0.0144 - mse: 0.0290 - mae: 0.1156 - rmse: 0.1704 - val_loss: 0.0100 - val_mse: 0.0200 - val_mae: 0.0983 - val_rmse: 0.1414\n",
      "Epoch 676/1000\n",
      "629/629 [==============================] - 13s 21ms/step - loss: 0.0145 - mse: 0.0291 - mae: 0.1156 - rmse: 0.1706 - val_loss: 0.0106 - val_mse: 0.0211 - val_mae: 0.1004 - val_rmse: 0.1453\n",
      "Epoch 677/1000\n",
      "629/629 [==============================] - 13s 21ms/step - loss: 0.0146 - mse: 0.0293 - mae: 0.1161 - rmse: 0.1711 - val_loss: 0.0088 - val_mse: 0.0176 - val_mae: 0.0944 - val_rmse: 0.1326\n",
      "Epoch 678/1000\n",
      "629/629 [==============================] - 13s 20ms/step - loss: 0.0145 - mse: 0.0290 - mae: 0.1157 - rmse: 0.1704 - val_loss: 0.0104 - val_mse: 0.0209 - val_mae: 0.0992 - val_rmse: 0.1445\n",
      "Epoch 679/1000\n",
      "629/629 [==============================] - 13s 20ms/step - loss: 0.0145 - mse: 0.0291 - mae: 0.1158 - rmse: 0.1707 - val_loss: 0.0097 - val_mse: 0.0195 - val_mae: 0.0987 - val_rmse: 0.1396\n",
      "Epoch 680/1000\n",
      "629/629 [==============================] - 13s 20ms/step - loss: 0.0144 - mse: 0.0290 - mae: 0.1157 - rmse: 0.1703 - val_loss: 0.0096 - val_mse: 0.0192 - val_mae: 0.0973 - val_rmse: 0.1387\n",
      "Epoch 681/1000\n",
      "629/629 [==============================] - 13s 20ms/step - loss: 0.0145 - mse: 0.0290 - mae: 0.1157 - rmse: 0.1704 - val_loss: 0.0096 - val_mse: 0.0192 - val_mae: 0.0965 - val_rmse: 0.1384\n",
      "Epoch 682/1000\n",
      "629/629 [==============================] - 13s 21ms/step - loss: 0.0144 - mse: 0.0289 - mae: 0.1157 - rmse: 0.1700 - val_loss: 0.0102 - val_mse: 0.0204 - val_mae: 0.0999 - val_rmse: 0.1430\n",
      "Epoch 683/1000\n",
      "629/629 [==============================] - 13s 21ms/step - loss: 0.0144 - mse: 0.0290 - mae: 0.1157 - rmse: 0.1702 - val_loss: 0.0096 - val_mse: 0.0192 - val_mae: 0.0971 - val_rmse: 0.1386\n",
      "Epoch 684/1000\n",
      "629/629 [==============================] - 13s 21ms/step - loss: 0.0144 - mse: 0.0290 - mae: 0.1157 - rmse: 0.1704 - val_loss: 0.0107 - val_mse: 0.0213 - val_mae: 0.1009 - val_rmse: 0.1460\n",
      "Epoch 685/1000\n",
      "629/629 [==============================] - 13s 21ms/step - loss: 0.0145 - mse: 0.0291 - mae: 0.1156 - rmse: 0.1705 - val_loss: 0.0089 - val_mse: 0.0179 - val_mae: 0.0943 - val_rmse: 0.1337\n",
      "Epoch 686/1000\n",
      "629/629 [==============================] - 13s 21ms/step - loss: 0.0145 - mse: 0.0292 - mae: 0.1159 - rmse: 0.1708 - val_loss: 0.0104 - val_mse: 0.0208 - val_mae: 0.0996 - val_rmse: 0.1441\n",
      "Epoch 687/1000\n",
      "629/629 [==============================] - 13s 21ms/step - loss: 0.0145 - mse: 0.0291 - mae: 0.1158 - rmse: 0.1706 - val_loss: 0.0084 - val_mse: 0.0169 - val_mae: 0.0926 - val_rmse: 0.1300\n",
      "Epoch 688/1000\n",
      "629/629 [==============================] - 13s 21ms/step - loss: 0.0146 - mse: 0.0293 - mae: 0.1162 - rmse: 0.1713 - val_loss: 0.0095 - val_mse: 0.0190 - val_mae: 0.0969 - val_rmse: 0.1380\n",
      "Epoch 689/1000\n",
      "629/629 [==============================] - 13s 21ms/step - loss: 0.0145 - mse: 0.0291 - mae: 0.1158 - rmse: 0.1705 - val_loss: 0.0097 - val_mse: 0.0194 - val_mae: 0.0981 - val_rmse: 0.1393\n",
      "Epoch 690/1000\n",
      "629/629 [==============================] - 13s 21ms/step - loss: 0.0145 - mse: 0.0292 - mae: 0.1159 - rmse: 0.1709 - val_loss: 0.0100 - val_mse: 0.0199 - val_mae: 0.0979 - val_rmse: 0.1412\n",
      "Epoch 691/1000\n",
      "629/629 [==============================] - 13s 20ms/step - loss: 0.0145 - mse: 0.0290 - mae: 0.1157 - rmse: 0.1704 - val_loss: 0.0101 - val_mse: 0.0201 - val_mae: 0.0981 - val_rmse: 0.1419\n",
      "Epoch 692/1000\n",
      "629/629 [==============================] - 13s 20ms/step - loss: 0.0145 - mse: 0.0291 - mae: 0.1159 - rmse: 0.1707 - val_loss: 0.0100 - val_mse: 0.0199 - val_mae: 0.1004 - val_rmse: 0.1412\n",
      "Epoch 693/1000\n",
      "629/629 [==============================] - 13s 21ms/step - loss: 0.0144 - mse: 0.0288 - mae: 0.1155 - rmse: 0.1698 - val_loss: 0.0106 - val_mse: 0.0212 - val_mae: 0.1010 - val_rmse: 0.1457\n",
      "Epoch 694/1000\n",
      "629/629 [==============================] - 13s 21ms/step - loss: 0.0144 - mse: 0.0289 - mae: 0.1154 - rmse: 0.1700 - val_loss: 0.0097 - val_mse: 0.0193 - val_mae: 0.0977 - val_rmse: 0.1391\n",
      "Epoch 695/1000\n",
      "629/629 [==============================] - 13s 21ms/step - loss: 0.0144 - mse: 0.0289 - mae: 0.1157 - rmse: 0.1701 - val_loss: 0.0095 - val_mse: 0.0189 - val_mae: 0.0965 - val_rmse: 0.1376\n",
      "Epoch 696/1000\n",
      "629/629 [==============================] - 13s 21ms/step - loss: 0.0145 - mse: 0.0292 - mae: 0.1159 - rmse: 0.1709 - val_loss: 0.0089 - val_mse: 0.0179 - val_mae: 0.0950 - val_rmse: 0.1336\n",
      "Epoch 697/1000\n",
      "629/629 [==============================] - 13s 21ms/step - loss: 0.0146 - mse: 0.0293 - mae: 0.1159 - rmse: 0.1712 - val_loss: 0.0095 - val_mse: 0.0189 - val_mae: 0.0961 - val_rmse: 0.1376\n",
      "Epoch 698/1000\n",
      "629/629 [==============================] - 13s 21ms/step - loss: 0.0142 - mse: 0.0285 - mae: 0.1149 - rmse: 0.1689 - val_loss: 0.0097 - val_mse: 0.0193 - val_mae: 0.0965 - val_rmse: 0.1390\n",
      "Epoch 699/1000\n",
      "629/629 [==============================] - 13s 21ms/step - loss: 0.0145 - mse: 0.0292 - mae: 0.1157 - rmse: 0.1707 - val_loss: 0.0095 - val_mse: 0.0189 - val_mae: 0.0979 - val_rmse: 0.1376\n",
      "Epoch 700/1000\n",
      "629/629 [==============================] - 13s 21ms/step - loss: 0.0145 - mse: 0.0292 - mae: 0.1157 - rmse: 0.1708 - val_loss: 0.0092 - val_mse: 0.0183 - val_mae: 0.0959 - val_rmse: 0.1354\n",
      "Epoch 701/1000\n",
      "629/629 [==============================] - 13s 21ms/step - loss: 0.0145 - mse: 0.0292 - mae: 0.1158 - rmse: 0.1708 - val_loss: 0.0103 - val_mse: 0.0205 - val_mae: 0.1008 - val_rmse: 0.1432\n",
      "Epoch 702/1000\n",
      "629/629 [==============================] - 13s 20ms/step - loss: 0.0145 - mse: 0.0291 - mae: 0.1157 - rmse: 0.1706 - val_loss: 0.0100 - val_mse: 0.0199 - val_mae: 0.0986 - val_rmse: 0.1411\n",
      "Epoch 703/1000\n",
      "629/629 [==============================] - 13s 20ms/step - loss: 0.0144 - mse: 0.0290 - mae: 0.1156 - rmse: 0.1703 - val_loss: 0.0097 - val_mse: 0.0194 - val_mae: 0.0976 - val_rmse: 0.1393\n",
      "Epoch 704/1000\n",
      "629/629 [==============================] - 12s 20ms/step - loss: 0.0144 - mse: 0.0289 - mae: 0.1152 - rmse: 0.1700 - val_loss: 0.0095 - val_mse: 0.0190 - val_mae: 0.0969 - val_rmse: 0.1378\n",
      "Epoch 705/1000\n",
      "629/629 [==============================] - 12s 20ms/step - loss: 0.0144 - mse: 0.0289 - mae: 0.1155 - rmse: 0.1699 - val_loss: 0.0102 - val_mse: 0.0205 - val_mae: 0.0990 - val_rmse: 0.1431\n",
      "Epoch 706/1000\n",
      "629/629 [==============================] - 13s 20ms/step - loss: 0.0144 - mse: 0.0289 - mae: 0.1151 - rmse: 0.1701 - val_loss: 0.0102 - val_mse: 0.0205 - val_mae: 0.0990 - val_rmse: 0.1432\n",
      "Epoch 707/1000\n",
      "629/629 [==============================] - 13s 21ms/step - loss: 0.0144 - mse: 0.0290 - mae: 0.1154 - rmse: 0.1703 - val_loss: 0.0098 - val_mse: 0.0197 - val_mae: 0.0992 - val_rmse: 0.1403\n",
      "Epoch 708/1000\n",
      "629/629 [==============================] - 13s 21ms/step - loss: 0.0144 - mse: 0.0289 - mae: 0.1153 - rmse: 0.1700 - val_loss: 0.0095 - val_mse: 0.0189 - val_mae: 0.0961 - val_rmse: 0.1375\n",
      "Epoch 709/1000\n",
      "629/629 [==============================] - 13s 20ms/step - loss: 0.0144 - mse: 0.0289 - mae: 0.1153 - rmse: 0.1699 - val_loss: 0.0107 - val_mse: 0.0215 - val_mae: 0.1027 - val_rmse: 0.1465\n",
      "Epoch 710/1000\n",
      "629/629 [==============================] - 13s 20ms/step - loss: 0.0143 - mse: 0.0287 - mae: 0.1151 - rmse: 0.1695 - val_loss: 0.0094 - val_mse: 0.0188 - val_mae: 0.0961 - val_rmse: 0.1372\n",
      "Epoch 711/1000\n",
      "629/629 [==============================] - 13s 20ms/step - loss: 0.0144 - mse: 0.0289 - mae: 0.1155 - rmse: 0.1700 - val_loss: 0.0091 - val_mse: 0.0182 - val_mae: 0.0949 - val_rmse: 0.1350\n",
      "Epoch 712/1000\n",
      "629/629 [==============================] - 13s 21ms/step - loss: 0.0143 - mse: 0.0287 - mae: 0.1152 - rmse: 0.1694 - val_loss: 0.0093 - val_mse: 0.0186 - val_mae: 0.0953 - val_rmse: 0.1364\n",
      "Epoch 713/1000\n",
      "629/629 [==============================] - 13s 21ms/step - loss: 0.0144 - mse: 0.0290 - mae: 0.1154 - rmse: 0.1704 - val_loss: 0.0094 - val_mse: 0.0188 - val_mae: 0.0959 - val_rmse: 0.1370\n",
      "Epoch 714/1000\n",
      "629/629 [==============================] - 13s 20ms/step - loss: 0.0143 - mse: 0.0286 - mae: 0.1150 - rmse: 0.1692 - val_loss: 0.0091 - val_mse: 0.0182 - val_mae: 0.0952 - val_rmse: 0.1348\n",
      "Epoch 715/1000\n",
      "629/629 [==============================] - 13s 21ms/step - loss: 0.0143 - mse: 0.0288 - mae: 0.1153 - rmse: 0.1698 - val_loss: 0.0101 - val_mse: 0.0201 - val_mae: 0.0990 - val_rmse: 0.1418\n",
      "Epoch 716/1000\n",
      "629/629 [==============================] - 13s 21ms/step - loss: 0.0144 - mse: 0.0290 - mae: 0.1155 - rmse: 0.1701 - val_loss: 0.0094 - val_mse: 0.0189 - val_mae: 0.0962 - val_rmse: 0.1374\n",
      "Epoch 717/1000\n",
      "629/629 [==============================] - 13s 21ms/step - loss: 0.0143 - mse: 0.0288 - mae: 0.1152 - rmse: 0.1697 - val_loss: 0.0102 - val_mse: 0.0204 - val_mae: 0.0991 - val_rmse: 0.1428\n",
      "Epoch 718/1000\n",
      "629/629 [==============================] - 13s 21ms/step - loss: 0.0144 - mse: 0.0288 - mae: 0.1152 - rmse: 0.1698 - val_loss: 0.0088 - val_mse: 0.0177 - val_mae: 0.0942 - val_rmse: 0.1330\n",
      "Epoch 719/1000\n",
      "629/629 [==============================] - 13s 21ms/step - loss: 0.0144 - mse: 0.0290 - mae: 0.1155 - rmse: 0.1702 - val_loss: 0.0083 - val_mse: 0.0165 - val_mae: 0.0911 - val_rmse: 0.1285\n",
      "Epoch 720/1000\n",
      "629/629 [==============================] - 13s 21ms/step - loss: 0.0143 - mse: 0.0288 - mae: 0.1152 - rmse: 0.1698 - val_loss: 0.0096 - val_mse: 0.0192 - val_mae: 0.0967 - val_rmse: 0.1384\n",
      "Epoch 721/1000\n",
      "629/629 [==============================] - 13s 21ms/step - loss: 0.0144 - mse: 0.0290 - mae: 0.1155 - rmse: 0.1704 - val_loss: 0.0092 - val_mse: 0.0184 - val_mae: 0.0947 - val_rmse: 0.1358\n",
      "Epoch 722/1000\n",
      "629/629 [==============================] - 13s 21ms/step - loss: 0.0144 - mse: 0.0290 - mae: 0.1154 - rmse: 0.1702 - val_loss: 0.0093 - val_mse: 0.0186 - val_mae: 0.0977 - val_rmse: 0.1364\n",
      "Epoch 723/1000\n",
      "629/629 [==============================] - 13s 20ms/step - loss: 0.0144 - mse: 0.0290 - mae: 0.1155 - rmse: 0.1703 - val_loss: 0.0097 - val_mse: 0.0195 - val_mae: 0.0995 - val_rmse: 0.1396\n",
      "Epoch 724/1000\n",
      "629/629 [==============================] - 13s 20ms/step - loss: 0.0143 - mse: 0.0286 - mae: 0.1150 - rmse: 0.1692 - val_loss: 0.0099 - val_mse: 0.0198 - val_mae: 0.0988 - val_rmse: 0.1408\n",
      "Epoch 725/1000\n",
      "629/629 [==============================] - 13s 20ms/step - loss: 0.0144 - mse: 0.0288 - mae: 0.1152 - rmse: 0.1698 - val_loss: 0.0098 - val_mse: 0.0196 - val_mae: 0.0975 - val_rmse: 0.1399\n",
      "Epoch 726/1000\n",
      "629/629 [==============================] - 13s 21ms/step - loss: 0.0144 - mse: 0.0288 - mae: 0.1151 - rmse: 0.1698 - val_loss: 0.0097 - val_mse: 0.0194 - val_mae: 0.0981 - val_rmse: 0.1391\n",
      "Epoch 727/1000\n",
      "629/629 [==============================] - 13s 21ms/step - loss: 0.0143 - mse: 0.0287 - mae: 0.1151 - rmse: 0.1695 - val_loss: 0.0097 - val_mse: 0.0194 - val_mae: 0.0969 - val_rmse: 0.1394\n",
      "Epoch 728/1000\n",
      "629/629 [==============================] - 13s 20ms/step - loss: 0.0144 - mse: 0.0290 - mae: 0.1153 - rmse: 0.1703 - val_loss: 0.0093 - val_mse: 0.0187 - val_mae: 0.0965 - val_rmse: 0.1366\n",
      "Epoch 729/1000\n",
      "629/629 [==============================] - 13s 20ms/step - loss: 0.0144 - mse: 0.0289 - mae: 0.1154 - rmse: 0.1699 - val_loss: 0.0095 - val_mse: 0.0189 - val_mae: 0.0965 - val_rmse: 0.1375\n",
      "Epoch 730/1000\n",
      "629/629 [==============================] - 13s 20ms/step - loss: 0.0144 - mse: 0.0289 - mae: 0.1153 - rmse: 0.1700 - val_loss: 0.0103 - val_mse: 0.0207 - val_mae: 0.1011 - val_rmse: 0.1438\n",
      "Epoch 731/1000\n",
      "629/629 [==============================] - 13s 21ms/step - loss: 0.0143 - mse: 0.0287 - mae: 0.1152 - rmse: 0.1695 - val_loss: 0.0093 - val_mse: 0.0185 - val_mae: 0.0953 - val_rmse: 0.1361\n",
      "Epoch 732/1000\n",
      "629/629 [==============================] - 13s 21ms/step - loss: 0.0144 - mse: 0.0289 - mae: 0.1151 - rmse: 0.1700 - val_loss: 0.0098 - val_mse: 0.0196 - val_mae: 0.0975 - val_rmse: 0.1399\n",
      "Epoch 733/1000\n",
      "629/629 [==============================] - 13s 20ms/step - loss: 0.0144 - mse: 0.0289 - mae: 0.1152 - rmse: 0.1699 - val_loss: 0.0094 - val_mse: 0.0188 - val_mae: 0.0958 - val_rmse: 0.1372\n",
      "Epoch 734/1000\n",
      "629/629 [==============================] - 13s 20ms/step - loss: 0.0143 - mse: 0.0287 - mae: 0.1152 - rmse: 0.1695 - val_loss: 0.0102 - val_mse: 0.0204 - val_mae: 0.0991 - val_rmse: 0.1427\n",
      "Epoch 735/1000\n",
      "629/629 [==============================] - 13s 21ms/step - loss: 0.0143 - mse: 0.0287 - mae: 0.1151 - rmse: 0.1694 - val_loss: 0.0096 - val_mse: 0.0192 - val_mae: 0.0974 - val_rmse: 0.1387\n",
      "Epoch 736/1000\n",
      "629/629 [==============================] - 13s 21ms/step - loss: 0.0143 - mse: 0.0287 - mae: 0.1150 - rmse: 0.1694 - val_loss: 0.0100 - val_mse: 0.0200 - val_mae: 0.0988 - val_rmse: 0.1413\n",
      "Epoch 737/1000\n",
      "629/629 [==============================] - 13s 20ms/step - loss: 0.0143 - mse: 0.0286 - mae: 0.1149 - rmse: 0.1693 - val_loss: 0.0083 - val_mse: 0.0166 - val_mae: 0.0911 - val_rmse: 0.1288\n",
      "Epoch 738/1000\n",
      "629/629 [==============================] - 13s 20ms/step - loss: 0.0141 - mse: 0.0284 - mae: 0.1146 - rmse: 0.1685 - val_loss: 0.0089 - val_mse: 0.0179 - val_mae: 0.0948 - val_rmse: 0.1337\n",
      "Epoch 739/1000\n",
      "629/629 [==============================] - 13s 20ms/step - loss: 0.0144 - mse: 0.0289 - mae: 0.1152 - rmse: 0.1701 - val_loss: 0.0088 - val_mse: 0.0177 - val_mae: 0.0938 - val_rmse: 0.1329\n",
      "Epoch 740/1000\n",
      "629/629 [==============================] - 13s 21ms/step - loss: 0.0143 - mse: 0.0287 - mae: 0.1149 - rmse: 0.1695 - val_loss: 0.0103 - val_mse: 0.0206 - val_mae: 0.0985 - val_rmse: 0.1435\n",
      "Epoch 741/1000\n",
      "629/629 [==============================] - 13s 21ms/step - loss: 0.0143 - mse: 0.0288 - mae: 0.1150 - rmse: 0.1697 - val_loss: 0.0095 - val_mse: 0.0190 - val_mae: 0.0972 - val_rmse: 0.1377\n",
      "Epoch 742/1000\n",
      "629/629 [==============================] - 13s 20ms/step - loss: 0.0143 - mse: 0.0286 - mae: 0.1149 - rmse: 0.1692 - val_loss: 0.0107 - val_mse: 0.0213 - val_mae: 0.1005 - val_rmse: 0.1460\n",
      "Epoch 743/1000\n",
      "629/629 [==============================] - 13s 20ms/step - loss: 0.0143 - mse: 0.0286 - mae: 0.1149 - rmse: 0.1692 - val_loss: 0.0102 - val_mse: 0.0203 - val_mae: 0.0991 - val_rmse: 0.1426\n",
      "Epoch 744/1000\n",
      "629/629 [==============================] - 13s 21ms/step - loss: 0.0142 - mse: 0.0286 - mae: 0.1148 - rmse: 0.1691 - val_loss: 0.0086 - val_mse: 0.0173 - val_mae: 0.0930 - val_rmse: 0.1314\n",
      "Epoch 745/1000\n",
      "629/629 [==============================] - 13s 21ms/step - loss: 0.0141 - mse: 0.0283 - mae: 0.1145 - rmse: 0.1683 - val_loss: 0.0106 - val_mse: 0.0211 - val_mae: 0.1003 - val_rmse: 0.1453\n",
      "Epoch 746/1000\n",
      "629/629 [==============================] - 13s 20ms/step - loss: 0.0142 - mse: 0.0285 - mae: 0.1146 - rmse: 0.1689 - val_loss: 0.0083 - val_mse: 0.0166 - val_mae: 0.0919 - val_rmse: 0.1289\n",
      "Epoch 747/1000\n",
      "629/629 [==============================] - 13s 21ms/step - loss: 0.0142 - mse: 0.0285 - mae: 0.1146 - rmse: 0.1688 - val_loss: 0.0104 - val_mse: 0.0209 - val_mae: 0.1006 - val_rmse: 0.1445\n",
      "Epoch 748/1000\n",
      "629/629 [==============================] - 13s 21ms/step - loss: 0.0141 - mse: 0.0284 - mae: 0.1146 - rmse: 0.1685 - val_loss: 0.0094 - val_mse: 0.0188 - val_mae: 0.0971 - val_rmse: 0.1371\n",
      "Epoch 749/1000\n",
      "629/629 [==============================] - 13s 21ms/step - loss: 0.0143 - mse: 0.0288 - mae: 0.1151 - rmse: 0.1698 - val_loss: 0.0100 - val_mse: 0.0199 - val_mae: 0.0994 - val_rmse: 0.1412\n",
      "Epoch 750/1000\n",
      "629/629 [==============================] - 13s 21ms/step - loss: 0.0142 - mse: 0.0286 - mae: 0.1150 - rmse: 0.1690 - val_loss: 0.0114 - val_mse: 0.0229 - val_mae: 0.1058 - val_rmse: 0.1512\n",
      "Epoch 751/1000\n",
      "629/629 [==============================] - 13s 21ms/step - loss: 0.0142 - mse: 0.0286 - mae: 0.1149 - rmse: 0.1692 - val_loss: 0.0101 - val_mse: 0.0203 - val_mae: 0.0997 - val_rmse: 0.1424\n",
      "Epoch 752/1000\n",
      "629/629 [==============================] - 13s 21ms/step - loss: 0.0142 - mse: 0.0285 - mae: 0.1148 - rmse: 0.1689 - val_loss: 0.0090 - val_mse: 0.0180 - val_mae: 0.0948 - val_rmse: 0.1340\n",
      "Epoch 753/1000\n",
      "629/629 [==============================] - 13s 20ms/step - loss: 0.0143 - mse: 0.0288 - mae: 0.1147 - rmse: 0.1696 - val_loss: 0.0090 - val_mse: 0.0179 - val_mae: 0.0944 - val_rmse: 0.1340\n",
      "Epoch 754/1000\n",
      "629/629 [==============================] - 13s 20ms/step - loss: 0.0142 - mse: 0.0284 - mae: 0.1145 - rmse: 0.1686 - val_loss: 0.0091 - val_mse: 0.0182 - val_mae: 0.0957 - val_rmse: 0.1349\n",
      "Epoch 755/1000\n",
      "629/629 [==============================] - ETA: 0s - loss: 0.0141 - mse: 0.0284 - mae: 0.1143 - rmse: 0.1684"
     ]
    },
    {
     "name": "stderr",
     "output_type": "stream",
     "text": [
      "WARNING:absl:Found untraced functions such as _jit_compiled_convolution_op, _jit_compiled_convolution_op, _jit_compiled_convolution_op while saving (showing 3 of 3). These functions will not be directly callable after loading.\n"
     ]
    },
    {
     "name": "stdout",
     "output_type": "stream",
     "text": [
      "INFO:tensorflow:Assets written to: ../models/NNmodel/1DCNN_final_architecture/fftAndLocalTides/93as/bestModel_93as_fold1.tf/assets\n"
     ]
    },
    {
     "name": "stderr",
     "output_type": "stream",
     "text": [
      "INFO:tensorflow:Assets written to: ../models/NNmodel/1DCNN_final_architecture/fftAndLocalTides/93as/bestModel_93as_fold1.tf/assets\n"
     ]
    },
    {
     "name": "stdout",
     "output_type": "stream",
     "text": [
      "629/629 [==============================] - 15s 24ms/step - loss: 0.0141 - mse: 0.0284 - mae: 0.1143 - rmse: 0.1684 - val_loss: 0.0081 - val_mse: 0.0161 - val_mae: 0.0901 - val_rmse: 0.1269\n",
      "Epoch 756/1000\n",
      "629/629 [==============================] - 13s 20ms/step - loss: 0.0142 - mse: 0.0286 - mae: 0.1148 - rmse: 0.1690 - val_loss: 0.0088 - val_mse: 0.0175 - val_mae: 0.0939 - val_rmse: 0.1325\n",
      "Epoch 757/1000\n",
      "629/629 [==============================] - 13s 20ms/step - loss: 0.0142 - mse: 0.0285 - mae: 0.1148 - rmse: 0.1689 - val_loss: 0.0092 - val_mse: 0.0184 - val_mae: 0.0947 - val_rmse: 0.1358\n",
      "Epoch 758/1000\n",
      "629/629 [==============================] - 13s 21ms/step - loss: 0.0142 - mse: 0.0285 - mae: 0.1146 - rmse: 0.1687 - val_loss: 0.0085 - val_mse: 0.0171 - val_mae: 0.0929 - val_rmse: 0.1306\n",
      "Epoch 759/1000\n",
      "629/629 [==============================] - 13s 21ms/step - loss: 0.0142 - mse: 0.0285 - mae: 0.1146 - rmse: 0.1687 - val_loss: 0.0094 - val_mse: 0.0188 - val_mae: 0.0956 - val_rmse: 0.1371\n",
      "Epoch 760/1000\n",
      "629/629 [==============================] - 13s 21ms/step - loss: 0.0141 - mse: 0.0283 - mae: 0.1142 - rmse: 0.1683 - val_loss: 0.0095 - val_mse: 0.0190 - val_mae: 0.0958 - val_rmse: 0.1380\n",
      "Epoch 761/1000\n",
      "629/629 [==============================] - 13s 20ms/step - loss: 0.0142 - mse: 0.0284 - mae: 0.1145 - rmse: 0.1687 - val_loss: 0.0113 - val_mse: 0.0225 - val_mae: 0.1031 - val_rmse: 0.1500\n",
      "Epoch 762/1000\n",
      "629/629 [==============================] - 13s 21ms/step - loss: 0.0141 - mse: 0.0284 - mae: 0.1146 - rmse: 0.1685 - val_loss: 0.0083 - val_mse: 0.0166 - val_mae: 0.0918 - val_rmse: 0.1289\n",
      "Epoch 763/1000\n",
      "629/629 [==============================] - 13s 21ms/step - loss: 0.0141 - mse: 0.0284 - mae: 0.1145 - rmse: 0.1685 - val_loss: 0.0092 - val_mse: 0.0183 - val_mae: 0.0958 - val_rmse: 0.1354\n",
      "Epoch 764/1000\n",
      "629/629 [==============================] - 13s 21ms/step - loss: 0.0143 - mse: 0.0287 - mae: 0.1150 - rmse: 0.1695 - val_loss: 0.0082 - val_mse: 0.0165 - val_mae: 0.0912 - val_rmse: 0.1283\n",
      "Epoch 765/1000\n",
      "629/629 [==============================] - 13s 21ms/step - loss: 0.0143 - mse: 0.0287 - mae: 0.1148 - rmse: 0.1694 - val_loss: 0.0093 - val_mse: 0.0187 - val_mae: 0.0962 - val_rmse: 0.1367\n",
      "Epoch 766/1000\n",
      "629/629 [==============================] - 13s 21ms/step - loss: 0.0143 - mse: 0.0288 - mae: 0.1149 - rmse: 0.1696 - val_loss: 0.0090 - val_mse: 0.0181 - val_mae: 0.0949 - val_rmse: 0.1344\n",
      "Epoch 767/1000\n",
      "629/629 [==============================] - 13s 21ms/step - loss: 0.0142 - mse: 0.0285 - mae: 0.1146 - rmse: 0.1688 - val_loss: 0.0084 - val_mse: 0.0168 - val_mae: 0.0920 - val_rmse: 0.1297\n",
      "Epoch 768/1000\n",
      "629/629 [==============================] - 13s 20ms/step - loss: 0.0142 - mse: 0.0285 - mae: 0.1144 - rmse: 0.1689 - val_loss: 0.0097 - val_mse: 0.0194 - val_mae: 0.0976 - val_rmse: 0.1392\n",
      "Epoch 769/1000\n",
      "629/629 [==============================] - 13s 21ms/step - loss: 0.0142 - mse: 0.0285 - mae: 0.1145 - rmse: 0.1689 - val_loss: 0.0082 - val_mse: 0.0164 - val_mae: 0.0909 - val_rmse: 0.1282\n",
      "Epoch 770/1000\n",
      "629/629 [==============================] - 13s 20ms/step - loss: 0.0142 - mse: 0.0286 - mae: 0.1148 - rmse: 0.1691 - val_loss: 0.0094 - val_mse: 0.0188 - val_mae: 0.0962 - val_rmse: 0.1369\n",
      "Epoch 771/1000\n",
      "629/629 [==============================] - 13s 20ms/step - loss: 0.0141 - mse: 0.0284 - mae: 0.1145 - rmse: 0.1685 - val_loss: 0.0093 - val_mse: 0.0187 - val_mae: 0.0955 - val_rmse: 0.1367\n",
      "Epoch 772/1000\n",
      "629/629 [==============================] - 13s 21ms/step - loss: 0.0142 - mse: 0.0286 - mae: 0.1145 - rmse: 0.1690 - val_loss: 0.0086 - val_mse: 0.0173 - val_mae: 0.0930 - val_rmse: 0.1313\n",
      "Epoch 773/1000\n",
      "629/629 [==============================] - 13s 21ms/step - loss: 0.0142 - mse: 0.0286 - mae: 0.1146 - rmse: 0.1691 - val_loss: 0.0107 - val_mse: 0.0214 - val_mae: 0.1017 - val_rmse: 0.1463\n",
      "Epoch 774/1000\n",
      "629/629 [==============================] - 13s 21ms/step - loss: 0.0141 - mse: 0.0283 - mae: 0.1143 - rmse: 0.1682 - val_loss: 0.0094 - val_mse: 0.0187 - val_mae: 0.0967 - val_rmse: 0.1368\n",
      "Epoch 775/1000\n",
      "629/629 [==============================] - 13s 20ms/step - loss: 0.0144 - mse: 0.0289 - mae: 0.1150 - rmse: 0.1700 - val_loss: 0.0104 - val_mse: 0.0208 - val_mae: 0.1005 - val_rmse: 0.1443\n",
      "Epoch 776/1000\n",
      "629/629 [==============================] - 13s 20ms/step - loss: 0.0141 - mse: 0.0283 - mae: 0.1144 - rmse: 0.1684 - val_loss: 0.0100 - val_mse: 0.0201 - val_mae: 0.0991 - val_rmse: 0.1416\n",
      "Epoch 777/1000\n",
      "629/629 [==============================] - 13s 21ms/step - loss: 0.0141 - mse: 0.0283 - mae: 0.1143 - rmse: 0.1682 - val_loss: 0.0097 - val_mse: 0.0193 - val_mae: 0.0972 - val_rmse: 0.1391\n",
      "Epoch 778/1000\n",
      "629/629 [==============================] - 13s 21ms/step - loss: 0.0142 - mse: 0.0286 - mae: 0.1146 - rmse: 0.1690 - val_loss: 0.0106 - val_mse: 0.0211 - val_mae: 0.1013 - val_rmse: 0.1454\n",
      "Epoch 779/1000\n",
      "629/629 [==============================] - 13s 20ms/step - loss: 0.0142 - mse: 0.0284 - mae: 0.1146 - rmse: 0.1687 - val_loss: 0.0086 - val_mse: 0.0172 - val_mae: 0.0937 - val_rmse: 0.1311\n",
      "Epoch 780/1000\n",
      "629/629 [==============================] - 13s 21ms/step - loss: 0.0141 - mse: 0.0283 - mae: 0.1142 - rmse: 0.1682 - val_loss: 0.0095 - val_mse: 0.0190 - val_mae: 0.0964 - val_rmse: 0.1380\n",
      "Epoch 781/1000\n",
      "629/629 [==============================] - 13s 21ms/step - loss: 0.0141 - mse: 0.0283 - mae: 0.1143 - rmse: 0.1683 - val_loss: 0.0089 - val_mse: 0.0177 - val_mae: 0.0937 - val_rmse: 0.1332\n",
      "Epoch 782/1000\n",
      "629/629 [==============================] - 13s 21ms/step - loss: 0.0142 - mse: 0.0285 - mae: 0.1144 - rmse: 0.1688 - val_loss: 0.0099 - val_mse: 0.0199 - val_mae: 0.0988 - val_rmse: 0.1410\n",
      "Epoch 783/1000\n",
      "628/629 [============================>.] - ETA: 0s - loss: 0.0142 - mse: 0.0286 - mae: 0.1145 - rmse: 0.1691"
     ]
    },
    {
     "name": "stderr",
     "output_type": "stream",
     "text": [
      "WARNING:absl:Found untraced functions such as _jit_compiled_convolution_op, _jit_compiled_convolution_op, _jit_compiled_convolution_op while saving (showing 3 of 3). These functions will not be directly callable after loading.\n"
     ]
    },
    {
     "name": "stdout",
     "output_type": "stream",
     "text": [
      "INFO:tensorflow:Assets written to: ../models/NNmodel/1DCNN_final_architecture/fftAndLocalTides/93as/bestModel_93as_fold1.tf/assets\n"
     ]
    },
    {
     "name": "stderr",
     "output_type": "stream",
     "text": [
      "INFO:tensorflow:Assets written to: ../models/NNmodel/1DCNN_final_architecture/fftAndLocalTides/93as/bestModel_93as_fold1.tf/assets\n"
     ]
    },
    {
     "name": "stdout",
     "output_type": "stream",
     "text": [
      "629/629 [==============================] - 16s 25ms/step - loss: 0.0142 - mse: 0.0286 - mae: 0.1145 - rmse: 0.1691 - val_loss: 0.0079 - val_mse: 0.0159 - val_mae: 0.0900 - val_rmse: 0.1260\n",
      "Epoch 784/1000\n",
      "629/629 [==============================] - 13s 21ms/step - loss: 0.0142 - mse: 0.0285 - mae: 0.1144 - rmse: 0.1688 - val_loss: 0.0084 - val_mse: 0.0167 - val_mae: 0.0922 - val_rmse: 0.1293\n",
      "Epoch 785/1000\n",
      "629/629 [==============================] - 13s 21ms/step - loss: 0.0140 - mse: 0.0282 - mae: 0.1141 - rmse: 0.1678 - val_loss: 0.0093 - val_mse: 0.0186 - val_mae: 0.0958 - val_rmse: 0.1365\n",
      "Epoch 786/1000\n",
      "629/629 [==============================] - 13s 20ms/step - loss: 0.0142 - mse: 0.0284 - mae: 0.1143 - rmse: 0.1687 - val_loss: 0.0090 - val_mse: 0.0179 - val_mae: 0.0940 - val_rmse: 0.1339\n",
      "Epoch 787/1000\n",
      "629/629 [==============================] - 13s 20ms/step - loss: 0.0141 - mse: 0.0282 - mae: 0.1141 - rmse: 0.1680 - val_loss: 0.0094 - val_mse: 0.0188 - val_mae: 0.0966 - val_rmse: 0.1372\n",
      "Epoch 788/1000\n",
      "629/629 [==============================] - 13s 21ms/step - loss: 0.0142 - mse: 0.0285 - mae: 0.1144 - rmse: 0.1688 - val_loss: 0.0090 - val_mse: 0.0180 - val_mae: 0.0951 - val_rmse: 0.1341\n",
      "Epoch 789/1000\n",
      "629/629 [==============================] - 13s 21ms/step - loss: 0.0142 - mse: 0.0286 - mae: 0.1147 - rmse: 0.1691 - val_loss: 0.0107 - val_mse: 0.0215 - val_mae: 0.1035 - val_rmse: 0.1465\n",
      "Epoch 790/1000\n",
      "629/629 [==============================] - 13s 21ms/step - loss: 0.0140 - mse: 0.0282 - mae: 0.1142 - rmse: 0.1679 - val_loss: 0.0095 - val_mse: 0.0190 - val_mae: 0.0980 - val_rmse: 0.1380\n",
      "Epoch 791/1000\n",
      "629/629 [==============================] - 13s 21ms/step - loss: 0.0142 - mse: 0.0286 - mae: 0.1145 - rmse: 0.1691 - val_loss: 0.0091 - val_mse: 0.0182 - val_mae: 0.0950 - val_rmse: 0.1348\n",
      "Epoch 792/1000\n",
      "629/629 [==============================] - 13s 21ms/step - loss: 0.0141 - mse: 0.0284 - mae: 0.1144 - rmse: 0.1686 - val_loss: 0.0096 - val_mse: 0.0191 - val_mae: 0.0962 - val_rmse: 0.1383\n",
      "Epoch 793/1000\n",
      "629/629 [==============================] - 13s 21ms/step - loss: 0.0141 - mse: 0.0283 - mae: 0.1142 - rmse: 0.1681 - val_loss: 0.0097 - val_mse: 0.0194 - val_mae: 0.0963 - val_rmse: 0.1395\n",
      "Epoch 794/1000\n",
      "629/629 [==============================] - 13s 21ms/step - loss: 0.0141 - mse: 0.0284 - mae: 0.1144 - rmse: 0.1684 - val_loss: 0.0102 - val_mse: 0.0205 - val_mae: 0.1011 - val_rmse: 0.1431\n",
      "Epoch 795/1000\n",
      "629/629 [==============================] - 13s 20ms/step - loss: 0.0141 - mse: 0.0284 - mae: 0.1143 - rmse: 0.1684 - val_loss: 0.0097 - val_mse: 0.0193 - val_mae: 0.0963 - val_rmse: 0.1390\n",
      "Epoch 796/1000\n",
      "629/629 [==============================] - 13s 20ms/step - loss: 0.0141 - mse: 0.0284 - mae: 0.1143 - rmse: 0.1684 - val_loss: 0.0095 - val_mse: 0.0190 - val_mae: 0.0970 - val_rmse: 0.1380\n",
      "Epoch 797/1000\n",
      "629/629 [==============================] - 13s 21ms/step - loss: 0.0141 - mse: 0.0283 - mae: 0.1142 - rmse: 0.1683 - val_loss: 0.0092 - val_mse: 0.0185 - val_mae: 0.0956 - val_rmse: 0.1359\n",
      "Epoch 798/1000\n",
      "629/629 [==============================] - 13s 21ms/step - loss: 0.0141 - mse: 0.0283 - mae: 0.1140 - rmse: 0.1684 - val_loss: 0.0094 - val_mse: 0.0188 - val_mae: 0.0967 - val_rmse: 0.1370\n",
      "Epoch 799/1000\n",
      "629/629 [==============================] - 13s 20ms/step - loss: 0.0142 - mse: 0.0285 - mae: 0.1144 - rmse: 0.1688 - val_loss: 0.0085 - val_mse: 0.0170 - val_mae: 0.0924 - val_rmse: 0.1305\n",
      "Epoch 800/1000\n",
      "629/629 [==============================] - 13s 21ms/step - loss: 0.0141 - mse: 0.0283 - mae: 0.1143 - rmse: 0.1682 - val_loss: 0.0105 - val_mse: 0.0211 - val_mae: 0.1004 - val_rmse: 0.1452\n",
      "Epoch 801/1000\n",
      "629/629 [==============================] - 13s 20ms/step - loss: 0.0140 - mse: 0.0282 - mae: 0.1141 - rmse: 0.1678 - val_loss: 0.0103 - val_mse: 0.0205 - val_mae: 0.0997 - val_rmse: 0.1433\n",
      "Epoch 802/1000\n",
      "629/629 [==============================] - 13s 20ms/step - loss: 0.0142 - mse: 0.0285 - mae: 0.1144 - rmse: 0.1689 - val_loss: 0.0088 - val_mse: 0.0176 - val_mae: 0.0942 - val_rmse: 0.1327\n",
      "Epoch 803/1000\n",
      "629/629 [==============================] - 13s 20ms/step - loss: 0.0141 - mse: 0.0283 - mae: 0.1141 - rmse: 0.1682 - val_loss: 0.0093 - val_mse: 0.0187 - val_mae: 0.0946 - val_rmse: 0.1367\n",
      "Epoch 804/1000\n",
      "629/629 [==============================] - 13s 21ms/step - loss: 0.0142 - mse: 0.0284 - mae: 0.1143 - rmse: 0.1686 - val_loss: 0.0093 - val_mse: 0.0186 - val_mae: 0.0951 - val_rmse: 0.1365\n",
      "Epoch 805/1000\n",
      "629/629 [==============================] - 13s 21ms/step - loss: 0.0140 - mse: 0.0281 - mae: 0.1141 - rmse: 0.1678 - val_loss: 0.0097 - val_mse: 0.0194 - val_mae: 0.0974 - val_rmse: 0.1392\n",
      "Epoch 806/1000\n",
      "629/629 [==============================] - 13s 21ms/step - loss: 0.0142 - mse: 0.0284 - mae: 0.1142 - rmse: 0.1687 - val_loss: 0.0083 - val_mse: 0.0165 - val_mae: 0.0923 - val_rmse: 0.1286\n",
      "Epoch 807/1000\n",
      "629/629 [==============================] - 13s 20ms/step - loss: 0.0142 - mse: 0.0284 - mae: 0.1144 - rmse: 0.1687 - val_loss: 0.0091 - val_mse: 0.0182 - val_mae: 0.0952 - val_rmse: 0.1351\n",
      "Epoch 808/1000\n",
      "629/629 [==============================] - 14s 21ms/step - loss: 0.0142 - mse: 0.0284 - mae: 0.1144 - rmse: 0.1686 - val_loss: 0.0091 - val_mse: 0.0183 - val_mae: 0.0948 - val_rmse: 0.1351\n",
      "Epoch 809/1000\n",
      "629/629 [==============================] - 13s 20ms/step - loss: 0.0142 - mse: 0.0285 - mae: 0.1143 - rmse: 0.1688 - val_loss: 0.0089 - val_mse: 0.0179 - val_mae: 0.0942 - val_rmse: 0.1336\n",
      "Epoch 810/1000\n",
      "629/629 [==============================] - 13s 20ms/step - loss: 0.0140 - mse: 0.0280 - mae: 0.1139 - rmse: 0.1675 - val_loss: 0.0101 - val_mse: 0.0202 - val_mae: 0.0978 - val_rmse: 0.1421\n",
      "Epoch 811/1000\n",
      "629/629 [==============================] - 13s 20ms/step - loss: 0.0142 - mse: 0.0285 - mae: 0.1144 - rmse: 0.1687 - val_loss: 0.0083 - val_mse: 0.0166 - val_mae: 0.0920 - val_rmse: 0.1289\n",
      "Epoch 812/1000\n",
      "629/629 [==============================] - 13s 20ms/step - loss: 0.0140 - mse: 0.0282 - mae: 0.1140 - rmse: 0.1679 - val_loss: 0.0091 - val_mse: 0.0181 - val_mae: 0.0942 - val_rmse: 0.1346\n",
      "Epoch 813/1000\n",
      "629/629 [==============================] - 13s 21ms/step - loss: 0.0141 - mse: 0.0282 - mae: 0.1140 - rmse: 0.1680 - val_loss: 0.0091 - val_mse: 0.0181 - val_mae: 0.0945 - val_rmse: 0.1346\n",
      "Epoch 814/1000\n",
      "629/629 [==============================] - 13s 21ms/step - loss: 0.0142 - mse: 0.0284 - mae: 0.1145 - rmse: 0.1687 - val_loss: 0.0090 - val_mse: 0.0179 - val_mae: 0.0941 - val_rmse: 0.1338\n",
      "Epoch 815/1000\n",
      "629/629 [==============================] - 13s 21ms/step - loss: 0.0140 - mse: 0.0281 - mae: 0.1141 - rmse: 0.1677 - val_loss: 0.0092 - val_mse: 0.0184 - val_mae: 0.0956 - val_rmse: 0.1356\n",
      "Epoch 816/1000\n",
      "629/629 [==============================] - 13s 21ms/step - loss: 0.0140 - mse: 0.0281 - mae: 0.1140 - rmse: 0.1678 - val_loss: 0.0094 - val_mse: 0.0188 - val_mae: 0.0964 - val_rmse: 0.1371\n",
      "Epoch 817/1000\n",
      "629/629 [==============================] - ETA: 0s - loss: 0.0141 - mse: 0.0283 - mae: 0.1142 - rmse: 0.1682"
     ]
    },
    {
     "name": "stderr",
     "output_type": "stream",
     "text": [
      "WARNING:absl:Found untraced functions such as _jit_compiled_convolution_op, _jit_compiled_convolution_op, _jit_compiled_convolution_op while saving (showing 3 of 3). These functions will not be directly callable after loading.\n"
     ]
    },
    {
     "name": "stdout",
     "output_type": "stream",
     "text": [
      "INFO:tensorflow:Assets written to: ../models/NNmodel/1DCNN_final_architecture/fftAndLocalTides/93as/bestModel_93as_fold1.tf/assets\n"
     ]
    },
    {
     "name": "stderr",
     "output_type": "stream",
     "text": [
      "INFO:tensorflow:Assets written to: ../models/NNmodel/1DCNN_final_architecture/fftAndLocalTides/93as/bestModel_93as_fold1.tf/assets\n"
     ]
    },
    {
     "name": "stdout",
     "output_type": "stream",
     "text": [
      "629/629 [==============================] - 16s 25ms/step - loss: 0.0141 - mse: 0.0283 - mae: 0.1142 - rmse: 0.1682 - val_loss: 0.0079 - val_mse: 0.0158 - val_mae: 0.0900 - val_rmse: 0.1257\n",
      "Epoch 818/1000\n",
      "629/629 [==============================] - 13s 21ms/step - loss: 0.0142 - mse: 0.0285 - mae: 0.1142 - rmse: 0.1687 - val_loss: 0.0099 - val_mse: 0.0199 - val_mae: 0.0973 - val_rmse: 0.1410\n",
      "Epoch 819/1000\n",
      "629/629 [==============================] - 13s 20ms/step - loss: 0.0140 - mse: 0.0281 - mae: 0.1140 - rmse: 0.1677 - val_loss: 0.0099 - val_mse: 0.0198 - val_mae: 0.0987 - val_rmse: 0.1406\n",
      "Epoch 820/1000\n",
      "629/629 [==============================] - 13s 20ms/step - loss: 0.0140 - mse: 0.0281 - mae: 0.1139 - rmse: 0.1678 - val_loss: 0.0092 - val_mse: 0.0183 - val_mae: 0.0957 - val_rmse: 0.1354\n",
      "Epoch 821/1000\n",
      "629/629 [==============================] - 13s 21ms/step - loss: 0.0141 - mse: 0.0283 - mae: 0.1140 - rmse: 0.1683 - val_loss: 0.0089 - val_mse: 0.0178 - val_mae: 0.0944 - val_rmse: 0.1335\n",
      "Epoch 822/1000\n",
      "629/629 [==============================] - 13s 21ms/step - loss: 0.0140 - mse: 0.0281 - mae: 0.1139 - rmse: 0.1675 - val_loss: 0.0087 - val_mse: 0.0173 - val_mae: 0.0932 - val_rmse: 0.1317\n",
      "Epoch 823/1000\n",
      "629/629 [==============================] - 13s 20ms/step - loss: 0.0141 - mse: 0.0283 - mae: 0.1141 - rmse: 0.1682 - val_loss: 0.0096 - val_mse: 0.0192 - val_mae: 0.0965 - val_rmse: 0.1387\n",
      "Epoch 824/1000\n",
      "629/629 [==============================] - 13s 21ms/step - loss: 0.0140 - mse: 0.0281 - mae: 0.1137 - rmse: 0.1676 - val_loss: 0.0100 - val_mse: 0.0200 - val_mae: 0.0987 - val_rmse: 0.1416\n",
      "Epoch 825/1000\n",
      "629/629 [==============================] - 13s 21ms/step - loss: 0.0140 - mse: 0.0281 - mae: 0.1140 - rmse: 0.1678 - val_loss: 0.0093 - val_mse: 0.0185 - val_mae: 0.0954 - val_rmse: 0.1361\n",
      "Epoch 826/1000\n",
      "629/629 [==============================] - 13s 21ms/step - loss: 0.0141 - mse: 0.0284 - mae: 0.1139 - rmse: 0.1685 - val_loss: 0.0087 - val_mse: 0.0175 - val_mae: 0.0934 - val_rmse: 0.1322\n",
      "Epoch 827/1000\n",
      "629/629 [==============================] - 13s 21ms/step - loss: 0.0140 - mse: 0.0280 - mae: 0.1136 - rmse: 0.1675 - val_loss: 0.0083 - val_mse: 0.0165 - val_mae: 0.0925 - val_rmse: 0.1285\n",
      "Epoch 828/1000\n",
      "629/629 [==============================] - 13s 21ms/step - loss: 0.0141 - mse: 0.0283 - mae: 0.1141 - rmse: 0.1681 - val_loss: 0.0095 - val_mse: 0.0190 - val_mae: 0.0965 - val_rmse: 0.1378\n",
      "Epoch 829/1000\n",
      "629/629 [==============================] - 13s 21ms/step - loss: 0.0140 - mse: 0.0281 - mae: 0.1137 - rmse: 0.1675 - val_loss: 0.0095 - val_mse: 0.0189 - val_mae: 0.0963 - val_rmse: 0.1375\n",
      "Epoch 830/1000\n",
      "629/629 [==============================] - 13s 21ms/step - loss: 0.0140 - mse: 0.0281 - mae: 0.1139 - rmse: 0.1677 - val_loss: 0.0099 - val_mse: 0.0198 - val_mae: 0.0979 - val_rmse: 0.1408\n",
      "Epoch 831/1000\n",
      "629/629 [==============================] - 13s 21ms/step - loss: 0.0142 - mse: 0.0284 - mae: 0.1143 - rmse: 0.1686 - val_loss: 0.0082 - val_mse: 0.0164 - val_mae: 0.0919 - val_rmse: 0.1281\n",
      "Epoch 832/1000\n",
      "629/629 [==============================] - 13s 21ms/step - loss: 0.0140 - mse: 0.0282 - mae: 0.1142 - rmse: 0.1679 - val_loss: 0.0109 - val_mse: 0.0218 - val_mae: 0.1020 - val_rmse: 0.1477\n",
      "Epoch 833/1000\n",
      "629/629 [==============================] - 13s 20ms/step - loss: 0.0141 - mse: 0.0284 - mae: 0.1142 - rmse: 0.1685 - val_loss: 0.0102 - val_mse: 0.0203 - val_mae: 0.0988 - val_rmse: 0.1425\n",
      "Epoch 834/1000\n",
      "629/629 [==============================] - 13s 20ms/step - loss: 0.0140 - mse: 0.0282 - mae: 0.1140 - rmse: 0.1679 - val_loss: 0.0104 - val_mse: 0.0208 - val_mae: 0.1009 - val_rmse: 0.1444\n",
      "Epoch 835/1000\n",
      "629/629 [==============================] - 13s 20ms/step - loss: 0.0140 - mse: 0.0281 - mae: 0.1136 - rmse: 0.1675 - val_loss: 0.0087 - val_mse: 0.0173 - val_mae: 0.0933 - val_rmse: 0.1317\n",
      "Epoch 836/1000\n",
      "629/629 [==============================] - 13s 20ms/step - loss: 0.0141 - mse: 0.0283 - mae: 0.1141 - rmse: 0.1682 - val_loss: 0.0103 - val_mse: 0.0205 - val_mae: 0.0997 - val_rmse: 0.1433\n",
      "Epoch 837/1000\n",
      "629/629 [==============================] - 13s 21ms/step - loss: 0.0140 - mse: 0.0282 - mae: 0.1140 - rmse: 0.1678 - val_loss: 0.0098 - val_mse: 0.0195 - val_mae: 0.0982 - val_rmse: 0.1397\n",
      "Epoch 838/1000\n",
      "629/629 [==============================] - 13s 21ms/step - loss: 0.0140 - mse: 0.0280 - mae: 0.1138 - rmse: 0.1674 - val_loss: 0.0091 - val_mse: 0.0183 - val_mae: 0.0940 - val_rmse: 0.1352\n",
      "Epoch 839/1000\n",
      "629/629 [==============================] - 13s 20ms/step - loss: 0.0140 - mse: 0.0281 - mae: 0.1139 - rmse: 0.1677 - val_loss: 0.0094 - val_mse: 0.0188 - val_mae: 0.0956 - val_rmse: 0.1371\n",
      "Epoch 840/1000\n",
      "629/629 [==============================] - 13s 21ms/step - loss: 0.0140 - mse: 0.0281 - mae: 0.1139 - rmse: 0.1677 - val_loss: 0.0095 - val_mse: 0.0190 - val_mae: 0.0965 - val_rmse: 0.1380\n",
      "Epoch 841/1000\n",
      "629/629 [==============================] - 13s 21ms/step - loss: 0.0140 - mse: 0.0281 - mae: 0.1139 - rmse: 0.1676 - val_loss: 0.0106 - val_mse: 0.0212 - val_mae: 0.1018 - val_rmse: 0.1458\n",
      "Epoch 842/1000\n",
      "629/629 [==============================] - 13s 21ms/step - loss: 0.0140 - mse: 0.0281 - mae: 0.1137 - rmse: 0.1677 - val_loss: 0.0083 - val_mse: 0.0165 - val_mae: 0.0915 - val_rmse: 0.1285\n",
      "Epoch 843/1000\n",
      "629/629 [==============================] - 13s 21ms/step - loss: 0.0139 - mse: 0.0279 - mae: 0.1135 - rmse: 0.1672 - val_loss: 0.0102 - val_mse: 0.0203 - val_mae: 0.0978 - val_rmse: 0.1425\n",
      "Epoch 844/1000\n",
      "629/629 [==============================] - 13s 21ms/step - loss: 0.0141 - mse: 0.0284 - mae: 0.1140 - rmse: 0.1684 - val_loss: 0.0093 - val_mse: 0.0187 - val_mae: 0.0953 - val_rmse: 0.1366\n",
      "Epoch 845/1000\n",
      "629/629 [==============================] - 13s 21ms/step - loss: 0.0141 - mse: 0.0283 - mae: 0.1140 - rmse: 0.1681 - val_loss: 0.0097 - val_mse: 0.0194 - val_mae: 0.0985 - val_rmse: 0.1393\n",
      "Epoch 846/1000\n",
      "629/629 [==============================] - 13s 21ms/step - loss: 0.0140 - mse: 0.0281 - mae: 0.1138 - rmse: 0.1678 - val_loss: 0.0091 - val_mse: 0.0181 - val_mae: 0.0951 - val_rmse: 0.1346\n",
      "Epoch 847/1000\n",
      "629/629 [==============================] - 13s 21ms/step - loss: 0.0141 - mse: 0.0283 - mae: 0.1140 - rmse: 0.1683 - val_loss: 0.0092 - val_mse: 0.0185 - val_mae: 0.0951 - val_rmse: 0.1358\n",
      "Epoch 848/1000\n",
      "629/629 [==============================] - 13s 21ms/step - loss: 0.0140 - mse: 0.0282 - mae: 0.1138 - rmse: 0.1679 - val_loss: 0.0095 - val_mse: 0.0191 - val_mae: 0.0971 - val_rmse: 0.1380\n",
      "Epoch 849/1000\n",
      "628/629 [============================>.] - ETA: 0s - loss: 0.0140 - mse: 0.0281 - mae: 0.1136 - rmse: 0.1676"
     ]
    },
    {
     "name": "stderr",
     "output_type": "stream",
     "text": [
      "WARNING:absl:Found untraced functions such as _jit_compiled_convolution_op, _jit_compiled_convolution_op, _jit_compiled_convolution_op while saving (showing 3 of 3). These functions will not be directly callable after loading.\n"
     ]
    },
    {
     "name": "stdout",
     "output_type": "stream",
     "text": [
      "INFO:tensorflow:Assets written to: ../models/NNmodel/1DCNN_final_architecture/fftAndLocalTides/93as/bestModel_93as_fold1.tf/assets\n"
     ]
    },
    {
     "name": "stderr",
     "output_type": "stream",
     "text": [
      "INFO:tensorflow:Assets written to: ../models/NNmodel/1DCNN_final_architecture/fftAndLocalTides/93as/bestModel_93as_fold1.tf/assets\n"
     ]
    },
    {
     "name": "stdout",
     "output_type": "stream",
     "text": [
      "629/629 [==============================] - 15s 24ms/step - loss: 0.0140 - mse: 0.0281 - mae: 0.1136 - rmse: 0.1676 - val_loss: 0.0078 - val_mse: 0.0156 - val_mae: 0.0897 - val_rmse: 0.1250\n",
      "Epoch 850/1000\n",
      "629/629 [==============================] - 13s 20ms/step - loss: 0.0140 - mse: 0.0280 - mae: 0.1135 - rmse: 0.1675 - val_loss: 0.0091 - val_mse: 0.0182 - val_mae: 0.0943 - val_rmse: 0.1348\n",
      "Epoch 851/1000\n",
      "629/629 [==============================] - 13s 21ms/step - loss: 0.0140 - mse: 0.0281 - mae: 0.1138 - rmse: 0.1677 - val_loss: 0.0093 - val_mse: 0.0187 - val_mae: 0.0953 - val_rmse: 0.1367\n",
      "Epoch 852/1000\n",
      "629/629 [==============================] - 13s 21ms/step - loss: 0.0140 - mse: 0.0280 - mae: 0.1136 - rmse: 0.1674 - val_loss: 0.0089 - val_mse: 0.0178 - val_mae: 0.0936 - val_rmse: 0.1335\n",
      "Epoch 853/1000\n",
      "629/629 [==============================] - 13s 21ms/step - loss: 0.0140 - mse: 0.0281 - mae: 0.1136 - rmse: 0.1675 - val_loss: 0.0092 - val_mse: 0.0185 - val_mae: 0.0963 - val_rmse: 0.1359\n",
      "Epoch 854/1000\n",
      "629/629 [==============================] - 13s 21ms/step - loss: 0.0139 - mse: 0.0279 - mae: 0.1135 - rmse: 0.1671 - val_loss: 0.0097 - val_mse: 0.0194 - val_mae: 0.0968 - val_rmse: 0.1393\n",
      "Epoch 855/1000\n",
      "628/629 [============================>.] - ETA: 0s - loss: 0.0141 - mse: 0.0283 - mae: 0.1143 - rmse: 0.1683"
     ]
    },
    {
     "name": "stderr",
     "output_type": "stream",
     "text": [
      "WARNING:absl:Found untraced functions such as _jit_compiled_convolution_op, _jit_compiled_convolution_op, _jit_compiled_convolution_op while saving (showing 3 of 3). These functions will not be directly callable after loading.\n"
     ]
    },
    {
     "name": "stdout",
     "output_type": "stream",
     "text": [
      "INFO:tensorflow:Assets written to: ../models/NNmodel/1DCNN_final_architecture/fftAndLocalTides/93as/bestModel_93as_fold1.tf/assets\n"
     ]
    },
    {
     "name": "stderr",
     "output_type": "stream",
     "text": [
      "INFO:tensorflow:Assets written to: ../models/NNmodel/1DCNN_final_architecture/fftAndLocalTides/93as/bestModel_93as_fold1.tf/assets\n"
     ]
    },
    {
     "name": "stdout",
     "output_type": "stream",
     "text": [
      "629/629 [==============================] - 16s 25ms/step - loss: 0.0141 - mse: 0.0283 - mae: 0.1143 - rmse: 0.1683 - val_loss: 0.0077 - val_mse: 0.0153 - val_mae: 0.0886 - val_rmse: 0.1237\n",
      "Epoch 856/1000\n",
      "629/629 [==============================] - 13s 21ms/step - loss: 0.0139 - mse: 0.0279 - mae: 0.1133 - rmse: 0.1669 - val_loss: 0.0096 - val_mse: 0.0193 - val_mae: 0.0969 - val_rmse: 0.1388\n",
      "Epoch 857/1000\n",
      "629/629 [==============================] - 13s 21ms/step - loss: 0.0139 - mse: 0.0280 - mae: 0.1135 - rmse: 0.1672 - val_loss: 0.0097 - val_mse: 0.0193 - val_mae: 0.0974 - val_rmse: 0.1390\n",
      "Epoch 858/1000\n",
      "629/629 [==============================] - 13s 21ms/step - loss: 0.0139 - mse: 0.0278 - mae: 0.1132 - rmse: 0.1669 - val_loss: 0.0091 - val_mse: 0.0182 - val_mae: 0.0955 - val_rmse: 0.1351\n",
      "Epoch 859/1000\n",
      "629/629 [==============================] - 13s 21ms/step - loss: 0.0139 - mse: 0.0279 - mae: 0.1134 - rmse: 0.1670 - val_loss: 0.0094 - val_mse: 0.0188 - val_mae: 0.0959 - val_rmse: 0.1372\n",
      "Epoch 860/1000\n",
      "629/629 [==============================] - 13s 21ms/step - loss: 0.0140 - mse: 0.0281 - mae: 0.1137 - rmse: 0.1677 - val_loss: 0.0088 - val_mse: 0.0176 - val_mae: 0.0944 - val_rmse: 0.1328\n",
      "Epoch 861/1000\n",
      "629/629 [==============================] - 13s 21ms/step - loss: 0.0139 - mse: 0.0279 - mae: 0.1134 - rmse: 0.1669 - val_loss: 0.0092 - val_mse: 0.0185 - val_mae: 0.0959 - val_rmse: 0.1359\n",
      "Epoch 862/1000\n",
      "629/629 [==============================] - 13s 21ms/step - loss: 0.0140 - mse: 0.0282 - mae: 0.1137 - rmse: 0.1678 - val_loss: 0.0086 - val_mse: 0.0172 - val_mae: 0.0928 - val_rmse: 0.1311\n",
      "Epoch 863/1000\n",
      "629/629 [==============================] - 13s 21ms/step - loss: 0.0140 - mse: 0.0281 - mae: 0.1137 - rmse: 0.1677 - val_loss: 0.0096 - val_mse: 0.0193 - val_mae: 0.0962 - val_rmse: 0.1389\n",
      "Epoch 864/1000\n",
      "629/629 [==============================] - 13s 21ms/step - loss: 0.0139 - mse: 0.0280 - mae: 0.1137 - rmse: 0.1672 - val_loss: 0.0097 - val_mse: 0.0194 - val_mae: 0.0973 - val_rmse: 0.1394\n",
      "Epoch 865/1000\n",
      "629/629 [==============================] - 13s 21ms/step - loss: 0.0140 - mse: 0.0282 - mae: 0.1137 - rmse: 0.1678 - val_loss: 0.0085 - val_mse: 0.0170 - val_mae: 0.0926 - val_rmse: 0.1305\n",
      "Epoch 866/1000\n",
      "629/629 [==============================] - 13s 21ms/step - loss: 0.0139 - mse: 0.0278 - mae: 0.1133 - rmse: 0.1667 - val_loss: 0.0096 - val_mse: 0.0191 - val_mae: 0.0969 - val_rmse: 0.1384\n",
      "Epoch 867/1000\n",
      "629/629 [==============================] - 13s 21ms/step - loss: 0.0140 - mse: 0.0281 - mae: 0.1135 - rmse: 0.1676 - val_loss: 0.0090 - val_mse: 0.0181 - val_mae: 0.0941 - val_rmse: 0.1345\n",
      "Epoch 868/1000\n",
      "629/629 [==============================] - 13s 21ms/step - loss: 0.0140 - mse: 0.0281 - mae: 0.1135 - rmse: 0.1676 - val_loss: 0.0098 - val_mse: 0.0196 - val_mae: 0.0981 - val_rmse: 0.1400\n",
      "Epoch 869/1000\n",
      "629/629 [==============================] - 13s 21ms/step - loss: 0.0139 - mse: 0.0279 - mae: 0.1133 - rmse: 0.1669 - val_loss: 0.0091 - val_mse: 0.0182 - val_mae: 0.0966 - val_rmse: 0.1347\n",
      "Epoch 870/1000\n",
      "629/629 [==============================] - 13s 21ms/step - loss: 0.0140 - mse: 0.0281 - mae: 0.1137 - rmse: 0.1675 - val_loss: 0.0100 - val_mse: 0.0199 - val_mae: 0.0978 - val_rmse: 0.1411\n",
      "Epoch 871/1000\n",
      "629/629 [==============================] - 13s 21ms/step - loss: 0.0140 - mse: 0.0281 - mae: 0.1137 - rmse: 0.1677 - val_loss: 0.0088 - val_mse: 0.0176 - val_mae: 0.0937 - val_rmse: 0.1325\n",
      "Epoch 872/1000\n",
      "629/629 [==============================] - 13s 21ms/step - loss: 0.0140 - mse: 0.0281 - mae: 0.1137 - rmse: 0.1676 - val_loss: 0.0099 - val_mse: 0.0199 - val_mae: 0.0982 - val_rmse: 0.1410\n",
      "Epoch 873/1000\n",
      "629/629 [==============================] - 13s 21ms/step - loss: 0.0138 - mse: 0.0278 - mae: 0.1133 - rmse: 0.1667 - val_loss: 0.0093 - val_mse: 0.0186 - val_mae: 0.0961 - val_rmse: 0.1364\n",
      "Epoch 874/1000\n",
      "629/629 [==============================] - 13s 21ms/step - loss: 0.0141 - mse: 0.0283 - mae: 0.1138 - rmse: 0.1681 - val_loss: 0.0100 - val_mse: 0.0200 - val_mae: 0.0982 - val_rmse: 0.1413\n",
      "Epoch 875/1000\n",
      "629/629 [==============================] - 13s 21ms/step - loss: 0.0138 - mse: 0.0276 - mae: 0.1130 - rmse: 0.1662 - val_loss: 0.0085 - val_mse: 0.0170 - val_mae: 0.0926 - val_rmse: 0.1303\n",
      "Epoch 876/1000\n",
      "629/629 [==============================] - 13s 21ms/step - loss: 0.0140 - mse: 0.0282 - mae: 0.1137 - rmse: 0.1679 - val_loss: 0.0100 - val_mse: 0.0200 - val_mae: 0.0989 - val_rmse: 0.1415\n",
      "Epoch 877/1000\n",
      "629/629 [==============================] - 13s 21ms/step - loss: 0.0139 - mse: 0.0280 - mae: 0.1134 - rmse: 0.1672 - val_loss: 0.0092 - val_mse: 0.0185 - val_mae: 0.0953 - val_rmse: 0.1358\n",
      "Epoch 878/1000\n",
      "629/629 [==============================] - 13s 21ms/step - loss: 0.0140 - mse: 0.0282 - mae: 0.1137 - rmse: 0.1678 - val_loss: 0.0097 - val_mse: 0.0194 - val_mae: 0.0975 - val_rmse: 0.1392\n",
      "Epoch 879/1000\n",
      "629/629 [==============================] - 13s 21ms/step - loss: 0.0140 - mse: 0.0280 - mae: 0.1136 - rmse: 0.1674 - val_loss: 0.0088 - val_mse: 0.0176 - val_mae: 0.0932 - val_rmse: 0.1327\n",
      "Epoch 880/1000\n",
      "629/629 [==============================] - 13s 21ms/step - loss: 0.0138 - mse: 0.0277 - mae: 0.1131 - rmse: 0.1665 - val_loss: 0.0094 - val_mse: 0.0189 - val_mae: 0.0965 - val_rmse: 0.1374\n",
      "Epoch 881/1000\n",
      "629/629 [==============================] - 13s 20ms/step - loss: 0.0139 - mse: 0.0280 - mae: 0.1134 - rmse: 0.1673 - val_loss: 0.0096 - val_mse: 0.0193 - val_mae: 0.0977 - val_rmse: 0.1389\n",
      "Epoch 882/1000\n",
      "629/629 [==============================] - 13s 21ms/step - loss: 0.0138 - mse: 0.0278 - mae: 0.1134 - rmse: 0.1667 - val_loss: 0.0089 - val_mse: 0.0177 - val_mae: 0.0941 - val_rmse: 0.1332\n",
      "Epoch 883/1000\n",
      "629/629 [==============================] - 13s 21ms/step - loss: 0.0139 - mse: 0.0280 - mae: 0.1133 - rmse: 0.1673 - val_loss: 0.0088 - val_mse: 0.0176 - val_mae: 0.0934 - val_rmse: 0.1326\n",
      "Epoch 884/1000\n",
      "629/629 [==============================] - 13s 20ms/step - loss: 0.0141 - mse: 0.0282 - mae: 0.1140 - rmse: 0.1680 - val_loss: 0.0099 - val_mse: 0.0198 - val_mae: 0.0975 - val_rmse: 0.1406\n",
      "Epoch 885/1000\n",
      "629/629 [==============================] - 13s 21ms/step - loss: 0.0138 - mse: 0.0278 - mae: 0.1131 - rmse: 0.1667 - val_loss: 0.0098 - val_mse: 0.0196 - val_mae: 0.0982 - val_rmse: 0.1402\n",
      "Epoch 886/1000\n",
      "629/629 [==============================] - 13s 21ms/step - loss: 0.0139 - mse: 0.0280 - mae: 0.1134 - rmse: 0.1672 - val_loss: 0.0088 - val_mse: 0.0176 - val_mae: 0.0933 - val_rmse: 0.1326\n",
      "Epoch 887/1000\n",
      "629/629 [==============================] - 13s 21ms/step - loss: 0.0139 - mse: 0.0279 - mae: 0.1133 - rmse: 0.1672 - val_loss: 0.0092 - val_mse: 0.0184 - val_mae: 0.0956 - val_rmse: 0.1358\n",
      "Epoch 888/1000\n",
      "629/629 [==============================] - 13s 21ms/step - loss: 0.0138 - mse: 0.0278 - mae: 0.1133 - rmse: 0.1668 - val_loss: 0.0085 - val_mse: 0.0171 - val_mae: 0.0942 - val_rmse: 0.1308\n",
      "Epoch 889/1000\n",
      "629/629 [==============================] - 13s 21ms/step - loss: 0.0138 - mse: 0.0277 - mae: 0.1132 - rmse: 0.1666 - val_loss: 0.0092 - val_mse: 0.0184 - val_mae: 0.0952 - val_rmse: 0.1358\n",
      "Epoch 890/1000\n",
      "629/629 [==============================] - 13s 21ms/step - loss: 0.0139 - mse: 0.0278 - mae: 0.1131 - rmse: 0.1669 - val_loss: 0.0081 - val_mse: 0.0161 - val_mae: 0.0906 - val_rmse: 0.1271\n",
      "Epoch 891/1000\n",
      "629/629 [==============================] - 13s 21ms/step - loss: 0.0139 - mse: 0.0280 - mae: 0.1134 - rmse: 0.1672 - val_loss: 0.0086 - val_mse: 0.0171 - val_mae: 0.0932 - val_rmse: 0.1309\n",
      "Epoch 892/1000\n",
      "629/629 [==============================] - 13s 21ms/step - loss: 0.0139 - mse: 0.0279 - mae: 0.1135 - rmse: 0.1671 - val_loss: 0.0090 - val_mse: 0.0180 - val_mae: 0.0941 - val_rmse: 0.1342\n",
      "Epoch 893/1000\n",
      "629/629 [==============================] - 13s 21ms/step - loss: 0.0140 - mse: 0.0281 - mae: 0.1135 - rmse: 0.1676 - val_loss: 0.0098 - val_mse: 0.0197 - val_mae: 0.0977 - val_rmse: 0.1403\n",
      "Epoch 894/1000\n",
      "629/629 [==============================] - 13s 21ms/step - loss: 0.0140 - mse: 0.0282 - mae: 0.1138 - rmse: 0.1679 - val_loss: 0.0096 - val_mse: 0.0192 - val_mae: 0.0961 - val_rmse: 0.1385\n",
      "Epoch 895/1000\n",
      "629/629 [==============================] - 13s 21ms/step - loss: 0.0139 - mse: 0.0280 - mae: 0.1136 - rmse: 0.1674 - val_loss: 0.0093 - val_mse: 0.0186 - val_mae: 0.0949 - val_rmse: 0.1366\n",
      "Epoch 896/1000\n",
      "629/629 [==============================] - 13s 21ms/step - loss: 0.0139 - mse: 0.0279 - mae: 0.1137 - rmse: 0.1672 - val_loss: 0.0097 - val_mse: 0.0194 - val_mae: 0.0976 - val_rmse: 0.1393\n",
      "Epoch 897/1000\n",
      "629/629 [==============================] - 13s 21ms/step - loss: 0.0138 - mse: 0.0278 - mae: 0.1132 - rmse: 0.1667 - val_loss: 0.0098 - val_mse: 0.0196 - val_mae: 0.0970 - val_rmse: 0.1399\n",
      "Epoch 898/1000\n",
      "629/629 [==============================] - 13s 21ms/step - loss: 0.0138 - mse: 0.0278 - mae: 0.1131 - rmse: 0.1667 - val_loss: 0.0087 - val_mse: 0.0173 - val_mae: 0.0930 - val_rmse: 0.1316\n",
      "Epoch 899/1000\n",
      "629/629 [==============================] - 13s 21ms/step - loss: 0.0139 - mse: 0.0279 - mae: 0.1132 - rmse: 0.1670 - val_loss: 0.0095 - val_mse: 0.0189 - val_mae: 0.0966 - val_rmse: 0.1376\n",
      "Epoch 900/1000\n",
      "629/629 [==============================] - 13s 21ms/step - loss: 0.0140 - mse: 0.0281 - mae: 0.1133 - rmse: 0.1675 - val_loss: 0.0089 - val_mse: 0.0179 - val_mae: 0.0941 - val_rmse: 0.1337\n",
      "Epoch 901/1000\n",
      "629/629 [==============================] - 13s 20ms/step - loss: 0.0140 - mse: 0.0280 - mae: 0.1135 - rmse: 0.1674 - val_loss: 0.0081 - val_mse: 0.0163 - val_mae: 0.0911 - val_rmse: 0.1275\n",
      "Epoch 902/1000\n",
      "629/629 [==============================] - 13s 20ms/step - loss: 0.0138 - mse: 0.0278 - mae: 0.1131 - rmse: 0.1666 - val_loss: 0.0092 - val_mse: 0.0183 - val_mae: 0.0947 - val_rmse: 0.1355\n",
      "Epoch 903/1000\n",
      "629/629 [==============================] - 13s 20ms/step - loss: 0.0139 - mse: 0.0279 - mae: 0.1132 - rmse: 0.1671 - val_loss: 0.0101 - val_mse: 0.0202 - val_mae: 0.0982 - val_rmse: 0.1423\n",
      "Epoch 904/1000\n",
      "629/629 [==============================] - 13s 21ms/step - loss: 0.0139 - mse: 0.0279 - mae: 0.1132 - rmse: 0.1669 - val_loss: 0.0088 - val_mse: 0.0176 - val_mae: 0.0933 - val_rmse: 0.1326\n",
      "Epoch 905/1000\n",
      "629/629 [==============================] - 13s 21ms/step - loss: 0.0139 - mse: 0.0279 - mae: 0.1131 - rmse: 0.1669 - val_loss: 0.0085 - val_mse: 0.0170 - val_mae: 0.0922 - val_rmse: 0.1302\n",
      "Epoch 906/1000\n",
      "629/629 [==============================] - 13s 21ms/step - loss: 0.0138 - mse: 0.0278 - mae: 0.1131 - rmse: 0.1667 - val_loss: 0.0098 - val_mse: 0.0196 - val_mae: 0.0978 - val_rmse: 0.1402\n",
      "Epoch 907/1000\n",
      "629/629 [==============================] - 13s 21ms/step - loss: 0.0139 - mse: 0.0278 - mae: 0.1134 - rmse: 0.1669 - val_loss: 0.0088 - val_mse: 0.0176 - val_mae: 0.0944 - val_rmse: 0.1327\n",
      "Epoch 908/1000\n",
      "629/629 [==============================] - 13s 21ms/step - loss: 0.0139 - mse: 0.0278 - mae: 0.1133 - rmse: 0.1669 - val_loss: 0.0090 - val_mse: 0.0180 - val_mae: 0.0945 - val_rmse: 0.1340\n",
      "Epoch 909/1000\n",
      "629/629 [==============================] - 13s 21ms/step - loss: 0.0139 - mse: 0.0280 - mae: 0.1135 - rmse: 0.1673 - val_loss: 0.0096 - val_mse: 0.0192 - val_mae: 0.0967 - val_rmse: 0.1385\n",
      "Epoch 910/1000\n",
      "629/629 [==============================] - 13s 21ms/step - loss: 0.0137 - mse: 0.0276 - mae: 0.1129 - rmse: 0.1662 - val_loss: 0.0089 - val_mse: 0.0177 - val_mae: 0.0945 - val_rmse: 0.1331\n",
      "Epoch 911/1000\n",
      "629/629 [==============================] - 13s 21ms/step - loss: 0.0138 - mse: 0.0277 - mae: 0.1129 - rmse: 0.1665 - val_loss: 0.0092 - val_mse: 0.0184 - val_mae: 0.0952 - val_rmse: 0.1358\n",
      "Epoch 912/1000\n",
      "629/629 [==============================] - 13s 21ms/step - loss: 0.0139 - mse: 0.0278 - mae: 0.1133 - rmse: 0.1668 - val_loss: 0.0100 - val_mse: 0.0199 - val_mae: 0.0975 - val_rmse: 0.1412\n",
      "Epoch 913/1000\n",
      "629/629 [==============================] - 13s 21ms/step - loss: 0.0137 - mse: 0.0276 - mae: 0.1130 - rmse: 0.1660 - val_loss: 0.0095 - val_mse: 0.0190 - val_mae: 0.0960 - val_rmse: 0.1377\n",
      "Epoch 914/1000\n",
      "629/629 [==============================] - 13s 21ms/step - loss: 0.0138 - mse: 0.0276 - mae: 0.1129 - rmse: 0.1662 - val_loss: 0.0094 - val_mse: 0.0187 - val_mae: 0.0973 - val_rmse: 0.1369\n",
      "Epoch 915/1000\n",
      "629/629 [==============================] - 13s 21ms/step - loss: 0.0138 - mse: 0.0277 - mae: 0.1129 - rmse: 0.1663 - val_loss: 0.0105 - val_mse: 0.0209 - val_mae: 0.1004 - val_rmse: 0.1446\n",
      "Epoch 916/1000\n",
      "629/629 [==============================] - 13s 20ms/step - loss: 0.0137 - mse: 0.0276 - mae: 0.1130 - rmse: 0.1661 - val_loss: 0.0087 - val_mse: 0.0173 - val_mae: 0.0931 - val_rmse: 0.1316\n",
      "Epoch 917/1000\n",
      "629/629 [==============================] - 13s 20ms/step - loss: 0.0138 - mse: 0.0277 - mae: 0.1130 - rmse: 0.1664 - val_loss: 0.0089 - val_mse: 0.0178 - val_mae: 0.0944 - val_rmse: 0.1335\n",
      "Epoch 918/1000\n",
      "629/629 [==============================] - 13s 21ms/step - loss: 0.0138 - mse: 0.0278 - mae: 0.1129 - rmse: 0.1666 - val_loss: 0.0089 - val_mse: 0.0178 - val_mae: 0.0942 - val_rmse: 0.1333\n",
      "Epoch 919/1000\n",
      "629/629 [==============================] - 13s 21ms/step - loss: 0.0138 - mse: 0.0277 - mae: 0.1132 - rmse: 0.1665 - val_loss: 0.0081 - val_mse: 0.0161 - val_mae: 0.0912 - val_rmse: 0.1270\n",
      "Epoch 920/1000\n",
      "629/629 [==============================] - 13s 20ms/step - loss: 0.0138 - mse: 0.0277 - mae: 0.1129 - rmse: 0.1664 - val_loss: 0.0093 - val_mse: 0.0186 - val_mae: 0.0955 - val_rmse: 0.1364\n",
      "Epoch 921/1000\n",
      "629/629 [==============================] - 13s 21ms/step - loss: 0.0138 - mse: 0.0278 - mae: 0.1130 - rmse: 0.1668 - val_loss: 0.0086 - val_mse: 0.0171 - val_mae: 0.0925 - val_rmse: 0.1309\n",
      "Epoch 922/1000\n",
      "629/629 [==============================] - 13s 21ms/step - loss: 0.0138 - mse: 0.0277 - mae: 0.1130 - rmse: 0.1666 - val_loss: 0.0099 - val_mse: 0.0198 - val_mae: 0.0974 - val_rmse: 0.1406\n",
      "Epoch 923/1000\n",
      "629/629 [==============================] - 13s 21ms/step - loss: 0.0139 - mse: 0.0279 - mae: 0.1131 - rmse: 0.1670 - val_loss: 0.0087 - val_mse: 0.0175 - val_mae: 0.0927 - val_rmse: 0.1321\n",
      "Epoch 924/1000\n",
      "629/629 [==============================] - 13s 21ms/step - loss: 0.0138 - mse: 0.0277 - mae: 0.1128 - rmse: 0.1665 - val_loss: 0.0091 - val_mse: 0.0182 - val_mae: 0.0952 - val_rmse: 0.1351\n",
      "Epoch 925/1000\n",
      "629/629 [==============================] - 13s 21ms/step - loss: 0.0138 - mse: 0.0277 - mae: 0.1130 - rmse: 0.1664 - val_loss: 0.0086 - val_mse: 0.0172 - val_mae: 0.0940 - val_rmse: 0.1310\n",
      "Epoch 926/1000\n",
      "629/629 [==============================] - 13s 20ms/step - loss: 0.0137 - mse: 0.0276 - mae: 0.1129 - rmse: 0.1662 - val_loss: 0.0090 - val_mse: 0.0180 - val_mae: 0.0947 - val_rmse: 0.1342\n",
      "Epoch 927/1000\n",
      "629/629 [==============================] - 13s 21ms/step - loss: 0.0138 - mse: 0.0277 - mae: 0.1129 - rmse: 0.1665 - val_loss: 0.0087 - val_mse: 0.0173 - val_mae: 0.0938 - val_rmse: 0.1317\n",
      "Epoch 928/1000\n",
      "629/629 [==============================] - 13s 20ms/step - loss: 0.0137 - mse: 0.0275 - mae: 0.1126 - rmse: 0.1659 - val_loss: 0.0090 - val_mse: 0.0180 - val_mae: 0.0944 - val_rmse: 0.1340\n",
      "Epoch 929/1000\n",
      "629/629 [==============================] - 13s 20ms/step - loss: 0.0137 - mse: 0.0276 - mae: 0.1129 - rmse: 0.1662 - val_loss: 0.0108 - val_mse: 0.0215 - val_mae: 0.1011 - val_rmse: 0.1467\n",
      "Epoch 930/1000\n",
      "629/629 [==============================] - 13s 21ms/step - loss: 0.0138 - mse: 0.0277 - mae: 0.1131 - rmse: 0.1664 - val_loss: 0.0096 - val_mse: 0.0192 - val_mae: 0.0966 - val_rmse: 0.1385\n",
      "Epoch 931/1000\n",
      "629/629 [==============================] - 13s 20ms/step - loss: 0.0137 - mse: 0.0275 - mae: 0.1128 - rmse: 0.1659 - val_loss: 0.0103 - val_mse: 0.0205 - val_mae: 0.1005 - val_rmse: 0.1432\n",
      "Epoch 932/1000\n",
      "629/629 [==============================] - 13s 21ms/step - loss: 0.0138 - mse: 0.0277 - mae: 0.1129 - rmse: 0.1663 - val_loss: 0.0103 - val_mse: 0.0207 - val_mae: 0.1002 - val_rmse: 0.1438\n",
      "Epoch 933/1000\n",
      "629/629 [==============================] - 13s 20ms/step - loss: 0.0139 - mse: 0.0279 - mae: 0.1131 - rmse: 0.1671 - val_loss: 0.0087 - val_mse: 0.0175 - val_mae: 0.0931 - val_rmse: 0.1323\n",
      "Epoch 934/1000\n",
      "629/629 [==============================] - 13s 20ms/step - loss: 0.0138 - mse: 0.0276 - mae: 0.1130 - rmse: 0.1663 - val_loss: 0.0095 - val_mse: 0.0189 - val_mae: 0.0961 - val_rmse: 0.1376\n",
      "Epoch 935/1000\n",
      "629/629 [==============================] - 13s 21ms/step - loss: 0.0139 - mse: 0.0280 - mae: 0.1133 - rmse: 0.1672 - val_loss: 0.0092 - val_mse: 0.0184 - val_mae: 0.0955 - val_rmse: 0.1356\n",
      "Epoch 936/1000\n",
      "629/629 [==============================] - 13s 21ms/step - loss: 0.0139 - mse: 0.0279 - mae: 0.1132 - rmse: 0.1669 - val_loss: 0.0093 - val_mse: 0.0185 - val_mae: 0.0952 - val_rmse: 0.1361\n",
      "Epoch 937/1000\n",
      "629/629 [==============================] - 13s 21ms/step - loss: 0.0137 - mse: 0.0276 - mae: 0.1129 - rmse: 0.1662 - val_loss: 0.0093 - val_mse: 0.0187 - val_mae: 0.0958 - val_rmse: 0.1366\n",
      "Epoch 938/1000\n",
      "629/629 [==============================] - 14s 22ms/step - loss: 0.0140 - mse: 0.0281 - mae: 0.1133 - rmse: 0.1676 - val_loss: 0.0097 - val_mse: 0.0194 - val_mae: 0.0968 - val_rmse: 0.1392\n",
      "Epoch 939/1000\n",
      "629/629 [==============================] - 13s 21ms/step - loss: 0.0138 - mse: 0.0278 - mae: 0.1129 - rmse: 0.1667 - val_loss: 0.0083 - val_mse: 0.0165 - val_mae: 0.0911 - val_rmse: 0.1286\n",
      "Epoch 940/1000\n",
      "629/629 [==============================] - 13s 21ms/step - loss: 0.0138 - mse: 0.0276 - mae: 0.1128 - rmse: 0.1662 - val_loss: 0.0081 - val_mse: 0.0163 - val_mae: 0.0906 - val_rmse: 0.1275\n",
      "Epoch 941/1000\n",
      "629/629 [==============================] - 13s 21ms/step - loss: 0.0138 - mse: 0.0278 - mae: 0.1130 - rmse: 0.1666 - val_loss: 0.0093 - val_mse: 0.0186 - val_mae: 0.0949 - val_rmse: 0.1364\n",
      "Epoch 942/1000\n",
      "629/629 [==============================] - 13s 21ms/step - loss: 0.0138 - mse: 0.0276 - mae: 0.1127 - rmse: 0.1662 - val_loss: 0.0084 - val_mse: 0.0167 - val_mae: 0.0920 - val_rmse: 0.1294\n",
      "Epoch 943/1000\n",
      "629/629 [==============================] - 13s 21ms/step - loss: 0.0138 - mse: 0.0276 - mae: 0.1128 - rmse: 0.1663 - val_loss: 0.0085 - val_mse: 0.0171 - val_mae: 0.0920 - val_rmse: 0.1306\n",
      "Epoch 944/1000\n",
      "629/629 [==============================] - 13s 21ms/step - loss: 0.0139 - mse: 0.0278 - mae: 0.1130 - rmse: 0.1668 - val_loss: 0.0089 - val_mse: 0.0178 - val_mae: 0.0935 - val_rmse: 0.1334\n",
      "Epoch 945/1000\n",
      "629/629 [==============================] - 13s 21ms/step - loss: 0.0138 - mse: 0.0277 - mae: 0.1129 - rmse: 0.1664 - val_loss: 0.0091 - val_mse: 0.0181 - val_mae: 0.0946 - val_rmse: 0.1346\n",
      "Epoch 946/1000\n",
      "629/629 [==============================] - 13s 20ms/step - loss: 0.0139 - mse: 0.0279 - mae: 0.1134 - rmse: 0.1672 - val_loss: 0.0087 - val_mse: 0.0174 - val_mae: 0.0932 - val_rmse: 0.1317\n",
      "Epoch 947/1000\n",
      "629/629 [==============================] - 13s 20ms/step - loss: 0.0138 - mse: 0.0276 - mae: 0.1130 - rmse: 0.1663 - val_loss: 0.0088 - val_mse: 0.0175 - val_mae: 0.0933 - val_rmse: 0.1324\n",
      "Epoch 948/1000\n",
      "629/629 [==============================] - 13s 20ms/step - loss: 0.0139 - mse: 0.0279 - mae: 0.1130 - rmse: 0.1669 - val_loss: 0.0087 - val_mse: 0.0174 - val_mae: 0.0922 - val_rmse: 0.1318\n",
      "Epoch 949/1000\n",
      "629/629 [==============================] - 13s 20ms/step - loss: 0.0138 - mse: 0.0277 - mae: 0.1130 - rmse: 0.1665 - val_loss: 0.0085 - val_mse: 0.0170 - val_mae: 0.0921 - val_rmse: 0.1302\n",
      "Epoch 950/1000\n",
      "629/629 [==============================] - 13s 21ms/step - loss: 0.0137 - mse: 0.0276 - mae: 0.1126 - rmse: 0.1660 - val_loss: 0.0084 - val_mse: 0.0168 - val_mae: 0.0925 - val_rmse: 0.1297\n",
      "Epoch 951/1000\n",
      "629/629 [==============================] - 13s 21ms/step - loss: 0.0138 - mse: 0.0277 - mae: 0.1129 - rmse: 0.1663 - val_loss: 0.0099 - val_mse: 0.0198 - val_mae: 0.0974 - val_rmse: 0.1408\n",
      "Epoch 952/1000\n",
      "629/629 [==============================] - 13s 21ms/step - loss: 0.0136 - mse: 0.0273 - mae: 0.1123 - rmse: 0.1652 - val_loss: 0.0101 - val_mse: 0.0201 - val_mae: 0.0985 - val_rmse: 0.1418\n",
      "Epoch 953/1000\n",
      "629/629 [==============================] - 13s 21ms/step - loss: 0.0138 - mse: 0.0276 - mae: 0.1130 - rmse: 0.1662 - val_loss: 0.0089 - val_mse: 0.0179 - val_mae: 0.0944 - val_rmse: 0.1338\n",
      "Epoch 954/1000\n",
      "629/629 [==============================] - 13s 21ms/step - loss: 0.0136 - mse: 0.0274 - mae: 0.1124 - rmse: 0.1655 - val_loss: 0.0087 - val_mse: 0.0173 - val_mae: 0.0930 - val_rmse: 0.1316\n",
      "Epoch 955/1000\n",
      "629/629 [==============================] - 13s 21ms/step - loss: 0.0138 - mse: 0.0277 - mae: 0.1129 - rmse: 0.1664 - val_loss: 0.0096 - val_mse: 0.0193 - val_mae: 0.0964 - val_rmse: 0.1388\n",
      "Epoch 956/1000\n",
      "629/629 [==============================] - 13s 21ms/step - loss: 0.0138 - mse: 0.0277 - mae: 0.1130 - rmse: 0.1665 - val_loss: 0.0093 - val_mse: 0.0186 - val_mae: 0.0957 - val_rmse: 0.1363\n",
      "Epoch 957/1000\n",
      "629/629 [==============================] - 13s 21ms/step - loss: 0.0138 - mse: 0.0276 - mae: 0.1128 - rmse: 0.1662 - val_loss: 0.0081 - val_mse: 0.0162 - val_mae: 0.0909 - val_rmse: 0.1275\n",
      "Epoch 958/1000\n",
      "629/629 [==============================] - 13s 20ms/step - loss: 0.0138 - mse: 0.0276 - mae: 0.1130 - rmse: 0.1662 - val_loss: 0.0094 - val_mse: 0.0187 - val_mae: 0.0952 - val_rmse: 0.1368\n",
      "Epoch 959/1000\n",
      "629/629 [==============================] - 13s 21ms/step - loss: 0.0138 - mse: 0.0276 - mae: 0.1127 - rmse: 0.1663 - val_loss: 0.0106 - val_mse: 0.0212 - val_mae: 0.0998 - val_rmse: 0.1456\n",
      "Epoch 960/1000\n",
      "629/629 [==============================] - 13s 21ms/step - loss: 0.0138 - mse: 0.0278 - mae: 0.1131 - rmse: 0.1666 - val_loss: 0.0086 - val_mse: 0.0173 - val_mae: 0.0936 - val_rmse: 0.1313\n",
      "Epoch 961/1000\n",
      "629/629 [==============================] - 13s 21ms/step - loss: 0.0138 - mse: 0.0277 - mae: 0.1129 - rmse: 0.1663 - val_loss: 0.0078 - val_mse: 0.0156 - val_mae: 0.0897 - val_rmse: 0.1250\n",
      "Epoch 962/1000\n",
      "629/629 [==============================] - 13s 21ms/step - loss: 0.0137 - mse: 0.0275 - mae: 0.1126 - rmse: 0.1657 - val_loss: 0.0093 - val_mse: 0.0185 - val_mae: 0.0943 - val_rmse: 0.1361\n",
      "Epoch 963/1000\n",
      "629/629 [==============================] - 13s 21ms/step - loss: 0.0136 - mse: 0.0274 - mae: 0.1125 - rmse: 0.1655 - val_loss: 0.0097 - val_mse: 0.0193 - val_mae: 0.0970 - val_rmse: 0.1390\n",
      "Epoch 964/1000\n",
      "629/629 [==============================] - 13s 20ms/step - loss: 0.0137 - mse: 0.0275 - mae: 0.1125 - rmse: 0.1657 - val_loss: 0.0096 - val_mse: 0.0193 - val_mae: 0.0966 - val_rmse: 0.1388\n",
      "Epoch 965/1000\n",
      "629/629 [==============================] - 13s 21ms/step - loss: 0.0138 - mse: 0.0277 - mae: 0.1128 - rmse: 0.1665 - val_loss: 0.0096 - val_mse: 0.0192 - val_mae: 0.0965 - val_rmse: 0.1385\n",
      "Epoch 966/1000\n",
      "629/629 [==============================] - 13s 21ms/step - loss: 0.0138 - mse: 0.0277 - mae: 0.1128 - rmse: 0.1664 - val_loss: 0.0101 - val_mse: 0.0203 - val_mae: 0.0978 - val_rmse: 0.1423\n",
      "Epoch 967/1000\n",
      "629/629 [==============================] - 13s 21ms/step - loss: 0.0137 - mse: 0.0274 - mae: 0.1123 - rmse: 0.1656 - val_loss: 0.0088 - val_mse: 0.0176 - val_mae: 0.0931 - val_rmse: 0.1328\n",
      "Epoch 968/1000\n",
      "629/629 [==============================] - 13s 21ms/step - loss: 0.0137 - mse: 0.0276 - mae: 0.1126 - rmse: 0.1660 - val_loss: 0.0094 - val_mse: 0.0188 - val_mae: 0.0962 - val_rmse: 0.1370\n",
      "Epoch 969/1000\n",
      "629/629 [==============================] - 13s 21ms/step - loss: 0.0136 - mse: 0.0274 - mae: 0.1124 - rmse: 0.1655 - val_loss: 0.0085 - val_mse: 0.0170 - val_mae: 0.0918 - val_rmse: 0.1303\n",
      "Epoch 970/1000\n",
      "629/629 [==============================] - 13s 21ms/step - loss: 0.0136 - mse: 0.0273 - mae: 0.1123 - rmse: 0.1653 - val_loss: 0.0089 - val_mse: 0.0178 - val_mae: 0.0932 - val_rmse: 0.1334\n",
      "Epoch 971/1000\n",
      "629/629 [==============================] - 13s 21ms/step - loss: 0.0137 - mse: 0.0276 - mae: 0.1126 - rmse: 0.1660 - val_loss: 0.0097 - val_mse: 0.0194 - val_mae: 0.0973 - val_rmse: 0.1394\n",
      "Epoch 972/1000\n",
      "629/629 [==============================] - 13s 21ms/step - loss: 0.0138 - mse: 0.0277 - mae: 0.1126 - rmse: 0.1663 - val_loss: 0.0098 - val_mse: 0.0195 - val_mae: 0.0965 - val_rmse: 0.1397\n",
      "Epoch 973/1000\n",
      "629/629 [==============================] - 13s 21ms/step - loss: 0.0137 - mse: 0.0276 - mae: 0.1125 - rmse: 0.1661 - val_loss: 0.0085 - val_mse: 0.0169 - val_mae: 0.0925 - val_rmse: 0.1302\n",
      "Epoch 974/1000\n",
      "629/629 [==============================] - 13s 21ms/step - loss: 0.0137 - mse: 0.0275 - mae: 0.1125 - rmse: 0.1657 - val_loss: 0.0092 - val_mse: 0.0184 - val_mae: 0.0947 - val_rmse: 0.1357\n",
      "Epoch 975/1000\n",
      "629/629 [==============================] - 13s 21ms/step - loss: 0.0137 - mse: 0.0274 - mae: 0.1124 - rmse: 0.1656 - val_loss: 0.0090 - val_mse: 0.0181 - val_mae: 0.0948 - val_rmse: 0.1345\n",
      "Epoch 976/1000\n",
      "629/629 [==============================] - 13s 21ms/step - loss: 0.0137 - mse: 0.0275 - mae: 0.1127 - rmse: 0.1660 - val_loss: 0.0091 - val_mse: 0.0181 - val_mae: 0.0939 - val_rmse: 0.1346\n",
      "Epoch 977/1000\n",
      "629/629 [==============================] - 13s 21ms/step - loss: 0.0137 - mse: 0.0274 - mae: 0.1125 - rmse: 0.1656 - val_loss: 0.0094 - val_mse: 0.0187 - val_mae: 0.0964 - val_rmse: 0.1369\n",
      "Epoch 978/1000\n",
      "629/629 [==============================] - 13s 21ms/step - loss: 0.0138 - mse: 0.0277 - mae: 0.1128 - rmse: 0.1663 - val_loss: 0.0087 - val_mse: 0.0173 - val_mae: 0.0936 - val_rmse: 0.1316\n",
      "Epoch 979/1000\n",
      "629/629 [==============================] - 13s 21ms/step - loss: 0.0137 - mse: 0.0275 - mae: 0.1125 - rmse: 0.1660 - val_loss: 0.0102 - val_mse: 0.0203 - val_mae: 0.0983 - val_rmse: 0.1426\n",
      "Epoch 980/1000\n",
      "629/629 [==============================] - 13s 21ms/step - loss: 0.0137 - mse: 0.0276 - mae: 0.1125 - rmse: 0.1662 - val_loss: 0.0086 - val_mse: 0.0173 - val_mae: 0.0925 - val_rmse: 0.1315\n",
      "Epoch 981/1000\n",
      "629/629 [==============================] - 13s 20ms/step - loss: 0.0136 - mse: 0.0274 - mae: 0.1125 - rmse: 0.1656 - val_loss: 0.0088 - val_mse: 0.0176 - val_mae: 0.0941 - val_rmse: 0.1328\n",
      "Epoch 982/1000\n",
      "629/629 [==============================] - 13s 21ms/step - loss: 0.0137 - mse: 0.0276 - mae: 0.1126 - rmse: 0.1661 - val_loss: 0.0102 - val_mse: 0.0204 - val_mae: 0.0986 - val_rmse: 0.1429\n",
      "Epoch 983/1000\n",
      "629/629 [==============================] - 13s 21ms/step - loss: 0.0136 - mse: 0.0274 - mae: 0.1121 - rmse: 0.1655 - val_loss: 0.0089 - val_mse: 0.0179 - val_mae: 0.0941 - val_rmse: 0.1338\n",
      "Epoch 984/1000\n",
      "629/629 [==============================] - 13s 21ms/step - loss: 0.0136 - mse: 0.0273 - mae: 0.1124 - rmse: 0.1653 - val_loss: 0.0108 - val_mse: 0.0216 - val_mae: 0.1035 - val_rmse: 0.1470\n",
      "Epoch 985/1000\n",
      "629/629 [==============================] - 13s 21ms/step - loss: 0.0136 - mse: 0.0274 - mae: 0.1124 - rmse: 0.1656 - val_loss: 0.0087 - val_mse: 0.0174 - val_mae: 0.0935 - val_rmse: 0.1319\n",
      "Epoch 986/1000\n",
      "629/629 [==============================] - 13s 21ms/step - loss: 0.0136 - mse: 0.0274 - mae: 0.1123 - rmse: 0.1655 - val_loss: 0.0096 - val_mse: 0.0192 - val_mae: 0.0961 - val_rmse: 0.1386\n",
      "Epoch 987/1000\n",
      "629/629 [==============================] - 13s 21ms/step - loss: 0.0136 - mse: 0.0274 - mae: 0.1125 - rmse: 0.1655 - val_loss: 0.0097 - val_mse: 0.0194 - val_mae: 0.0963 - val_rmse: 0.1394\n",
      "Epoch 988/1000\n",
      "629/629 [==============================] - 13s 21ms/step - loss: 0.0137 - mse: 0.0276 - mae: 0.1125 - rmse: 0.1661 - val_loss: 0.0105 - val_mse: 0.0210 - val_mae: 0.1013 - val_rmse: 0.1450\n",
      "Epoch 989/1000\n",
      "629/629 [==============================] - 13s 21ms/step - loss: 0.0137 - mse: 0.0275 - mae: 0.1124 - rmse: 0.1658 - val_loss: 0.0080 - val_mse: 0.0160 - val_mae: 0.0907 - val_rmse: 0.1265\n",
      "Epoch 990/1000\n",
      "629/629 [==============================] - 13s 21ms/step - loss: 0.0136 - mse: 0.0273 - mae: 0.1122 - rmse: 0.1652 - val_loss: 0.0088 - val_mse: 0.0175 - val_mae: 0.0941 - val_rmse: 0.1323\n",
      "Epoch 991/1000\n",
      "629/629 [==============================] - 13s 21ms/step - loss: 0.0137 - mse: 0.0275 - mae: 0.1126 - rmse: 0.1659 - val_loss: 0.0097 - val_mse: 0.0194 - val_mae: 0.0967 - val_rmse: 0.1393\n",
      "Epoch 992/1000\n",
      "629/629 [==============================] - 13s 21ms/step - loss: 0.0137 - mse: 0.0276 - mae: 0.1125 - rmse: 0.1661 - val_loss: 0.0104 - val_mse: 0.0209 - val_mae: 0.0989 - val_rmse: 0.1446\n",
      "Epoch 993/1000\n",
      "629/629 [==============================] - 13s 21ms/step - loss: 0.0136 - mse: 0.0274 - mae: 0.1122 - rmse: 0.1655 - val_loss: 0.0087 - val_mse: 0.0174 - val_mae: 0.0932 - val_rmse: 0.1318\n",
      "Epoch 994/1000\n",
      "629/629 [==============================] - 13s 21ms/step - loss: 0.0136 - mse: 0.0273 - mae: 0.1121 - rmse: 0.1652 - val_loss: 0.0100 - val_mse: 0.0201 - val_mae: 0.0985 - val_rmse: 0.1416\n",
      "Epoch 995/1000\n",
      "629/629 [==============================] - 13s 20ms/step - loss: 0.0137 - mse: 0.0275 - mae: 0.1124 - rmse: 0.1658 - val_loss: 0.0101 - val_mse: 0.0202 - val_mae: 0.0995 - val_rmse: 0.1422\n",
      "Epoch 996/1000\n",
      "629/629 [==============================] - 13s 21ms/step - loss: 0.0136 - mse: 0.0273 - mae: 0.1120 - rmse: 0.1651 - val_loss: 0.0089 - val_mse: 0.0178 - val_mae: 0.0935 - val_rmse: 0.1334\n",
      "Epoch 997/1000\n",
      "629/629 [==============================] - 13s 21ms/step - loss: 0.0136 - mse: 0.0273 - mae: 0.1122 - rmse: 0.1652 - val_loss: 0.0092 - val_mse: 0.0183 - val_mae: 0.0945 - val_rmse: 0.1353\n",
      "Epoch 998/1000\n",
      "629/629 [==============================] - 13s 21ms/step - loss: 0.0137 - mse: 0.0274 - mae: 0.1123 - rmse: 0.1657 - val_loss: 0.0095 - val_mse: 0.0191 - val_mae: 0.0967 - val_rmse: 0.1382\n",
      "Epoch 999/1000\n",
      "629/629 [==============================] - 13s 21ms/step - loss: 0.0136 - mse: 0.0274 - mae: 0.1122 - rmse: 0.1656 - val_loss: 0.0094 - val_mse: 0.0188 - val_mae: 0.0963 - val_rmse: 0.1372\n",
      "Epoch 1000/1000\n",
      "629/629 [==============================] - 13s 21ms/step - loss: 0.0137 - mse: 0.0275 - mae: 0.1122 - rmse: 0.1658 - val_loss: 0.0093 - val_mse: 0.0186 - val_mae: 0.0959 - val_rmse: 0.1362\n",
      "Training time: 3.647 hrs\n"
     ]
    }
   ],
   "source": [
    "try:\n",
    "    os.mkdir(pathOut)\n",
    "except:\n",
    "    pass\n",
    "\n",
    "#### Define model\n",
    "model = Sequential([\n",
    "                Masking(-9999, input_shape=(X_train_sub2.shape[1:])),\n",
    "                Conv1D(16, kernel_size=3, activation='relu'),\n",
    "                BatchNormalization(),\n",
    "                MaxPooling1D(pool_size=2),\n",
    "                Conv1D(32, kernel_size=3, activation='relu'),\n",
    "                BatchNormalization(),\n",
    "                MaxPooling1D(pool_size=2),\n",
    "                Conv1D(64, kernel_size=3, activation='relu'),\n",
    "                BatchNormalization(),\n",
    "                MaxPooling1D(pool_size=2),\n",
    "                Flatten(),\n",
    "                Dense(64, activation='relu'),\n",
    "                Dropout(0.2),\n",
    "                Dense(32, activation='relu'),\n",
    "                Dropout(0.2),\n",
    "                Dense(6, activation='relu'),\n",
    "            ])\n",
    "\n",
    "optimizer = RMSprop(learning_rate = 1e-4)\n",
    "model.compile(optimizer=optimizer, loss=tf.keras.losses.Huber(), \n",
    "                metrics=['mse', 'mae', tf.keras.metrics.RootMeanSquaredError(name='rmse')])\n",
    "model.summary()\n",
    "\n",
    "#### callback to save model with lower val_loss\n",
    "callback = CustomCallback(pathOut, fold=fold, modelID=modelID)\n",
    "#### train the model\n",
    "t0 = time.time()\n",
    "history = model.fit(X_train_sub2, y_train_sub, batch_size=batch_size, epochs=epochs, verbose=1,\n",
    "                        validation_data = (X_val2, y_val), callbacks=[callback])\n",
    "print(f'Training time: {(time.time() - t0)/3600:0.3f} hrs')\n",
    "\n",
    "#### save outputs\n",
    "dfhist = pd.DataFrame.from_dict(history.history)\n",
    "dfhist.to_csv(pathOut/f'history_{modelID}_fold{fold}.csv')"
   ]
  },
  {
   "cell_type": "code",
   "execution_count": 5,
   "metadata": {},
   "outputs": [
    {
     "data": {
      "image/png": "[encoded data removed]",
      "text/plain": [
       "<Figure size 1200x400 with 1 Axes>"
      ]
     },
     "metadata": {},
     "output_type": "display_data"
    }
   ],
   "source": [
    "fig, ax = plt.subplots(figsize = (12, 4))\n",
    "dfhist[['loss', 'val_loss']].plot(ax = ax)\n",
    "ax.set_xlabel('Epochs [-]')\n",
    "ax.set_ylabel('MSE [m2]')\n",
    "fig.savefig(pathOut/f'trainValCurve_{modelID}_fold{fold}.png', dpi = 100, \n",
    "            bbox_inches = 'tight')"
   ]
  },
  {
   "cell_type": "code",
   "execution_count": 6,
   "metadata": {},
   "outputs": [
    {
     "name": "stdout",
     "output_type": "stream",
     "text": [
      "492/492 [==============================] - 3s 6ms/step\n"
     ]
    }
   ],
   "source": [
    "predictions = callback.best_model.predict(X_val2)"
   ]
  },
  {
   "cell_type": "code",
   "execution_count": 7,
   "metadata": {},
   "outputs": [],
   "source": [
    "dfVal = pd.DataFrame(y_val.reshape(y_val.shape[:2]), columns = NOAAstations)\n",
    "dfPred = pd.DataFrame(predictions, columns = [f'{x}_pred' for x in NOAAstations])\n",
    "dfAll = pd.concat([dfVal, dfPred], axis = 1)\n",
    "dfAll.to_csv(pathOut/f'predValSet_{modelID}.csv')"
   ]
  },
  {
   "cell_type": "code",
   "execution_count": 8,
   "metadata": {},
   "outputs": [
    {
     "data": {
      "image/png": "[encoded data removed]",
      "text/plain": [
       "<Figure size 400x400 with 1 Axes>"
      ]
     },
     "metadata": {},
     "output_type": "display_data"
    },
    {
     "data": {
      "image/png": "[encoded data removed]",
      "text/plain": [
       "<Figure size 400x400 with 1 Axes>"
      ]
     },
     "metadata": {},
     "output_type": "display_data"
    },
    {
     "data": {
      "image/png": "[encoded data removed]",
      "text/plain": [
       "<Figure size 400x400 with 1 Axes>"
      ]
     },
     "metadata": {},
     "output_type": "display_data"
    },
    {
     "data": {
      "image/png": "[encoded data removed]",
      "text/plain": [
       "<Figure size 400x400 with 1 Axes>"
      ]
     },
     "metadata": {},
     "output_type": "display_data"
    },
    {
     "data": {
      "image/png": "[encoded data removed]",
      "text/plain": [
       "<Figure size 400x400 with 1 Axes>"
      ]
     },
     "metadata": {},
     "output_type": "display_data"
    },
    {
     "data": {
      "image/png": "[encoded data removed]",
      "text/plain": [
       "<Figure size 400x400 with 1 Axes>"
      ]
     },
     "metadata": {},
     "output_type": "display_data"
    }
   ],
   "source": [
    "for i in range(6):\n",
    "    fig, ax = plt.subplots(figsize = (4,4))\n",
    "    sns.regplot(x = dfVal.iloc[:, i], y = dfPred.iloc[:, i], ax = ax, fit_reg = False)\n",
    "    ax.plot(np.arange(0, 5, 0.5), np.arange(0, 5, 0.5), ls = '--', c = 'k')\n",
    "    ax.set_title(f'{NOAAstations[i]}')\n",
    "    fig.savefig(pathOut/f'predValSet_{modelID}_{NOAAstations[i]}.png',\n",
    "                dpi = 100, bbox_inches = 'tight')"
   ]
  },
  {
   "cell_type": "code",
   "execution_count": 9,
   "metadata": {},
   "outputs": [],
   "source": [
    "#### delete model\n",
    "tf.keras.backend.clear_session()\n",
    "del model\n",
    "del optimizer\n",
    "del callback"
   ]
  },
  {
   "cell_type": "code",
   "execution_count": null,
   "metadata": {},
   "outputs": [],
   "source": []
  }
 ],
 "metadata": {
  "kernelspec": {
   "display_name": "tf2",
   "language": "python",
   "name": "python3"
  },
  "language_info": {
   "codemirror_mode": {
    "name": "ipython",
    "version": 3
   },
   "file_extension": ".py",
   "mimetype": "text/x-python",
   "name": "python",
   "nbconvert_exporter": "python",
   "pygments_lexer": "ipython3",
   "version": "3.10.13"
  }
 },
 "nbformat": 4,
 "nbformat_minor": 2
}
