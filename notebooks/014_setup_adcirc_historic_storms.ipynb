{
 "cells": [
  {
   "cell_type": "code",
   "execution_count": 1,
   "id": "73360685",
   "metadata": {},
   "outputs": [],
   "source": [
    "import os\n",
    "import sys\n",
    "import shutil\n",
    "import pickle\n",
    "import numpy as np\n",
    "import pandas as pd\n",
    "import datetime\n",
    "from pathlib import Path\n",
    "from tqdm import tqdm\n",
    "\n",
    "from concorde.tools import ascii_replace\n",
    "import matplotlib.pyplot as plt\n",
    "import warnings\n",
    "warnings.filterwarnings('ignore')\n",
    "from shapely.geometry import Point\n",
    "import geopandas as gpd"
   ]
  },
  {
   "cell_type": "code",
   "execution_count": 2,
   "id": "a0afd254",
   "metadata": {},
   "outputs": [],
   "source": [
    "path = Path(r'../data/tracks/climada')\n",
    "with open(path/'tracksNC_historicalStorms.pkl', 'rb') as fin:\n",
    "    dctTracks = pickle.load(fin)"
   ]
  },
  {
   "cell_type": "code",
   "execution_count": 3,
   "id": "c3903a89",
   "metadata": {},
   "outputs": [
    {
     "data": {
      "text/plain": [
       "dict_keys(['ISABEL', 'IRENE', 'ARTHUR', 'MATTHEW', 'FLORENCE', 'DORIAN', 'ISAIAS'])"
      ]
     },
     "execution_count": 3,
     "metadata": {},
     "output_type": "execute_result"
    }
   ],
   "source": [
    "dctTracks.keys()"
   ]
  },
  {
   "cell_type": "code",
   "execution_count": 4,
   "id": "f18537a6",
   "metadata": {},
   "outputs": [],
   "source": [
    "mask = gpd.read_file(r'../gis/gpkg/polygon_coastline_NC.gpkg')\n",
    "def radImpact(vmax, rmax, vr = 33, beta = 1):\n",
    "    r1 = rmax\n",
    "    if rmax == 0:\n",
    "        return 1\n",
    "    else:\n",
    "        while True:\n",
    "            r = rmax * (vr / vmax)**(-2 / beta) * (np.exp(1 - (rmax / r1)**beta))**(1 / beta)\n",
    "            if np.abs(r - r1) < 1e-5:\n",
    "                break\n",
    "            r1 = r\n",
    "        if r == 0:\n",
    "            return rmax\n",
    "        else:\n",
    "            return r"
   ]
  },
  {
   "cell_type": "code",
   "execution_count": 11,
   "id": "692e7e63",
   "metadata": {},
   "outputs": [
    {
     "name": "stderr",
     "output_type": "stream",
     "text": [
      "100%|██████████| 7/7 [00:00<00:00, 79.13it/s]\n"
     ]
    }
   ],
   "source": [
    "dctTracksShorted = {}\n",
    "for k in tqdm(dctTracks.keys()):\n",
    "    aux = dctTracks[k]\n",
    "    ri = [radImpact(aux.loc[i, 'max_sustained_wind']/1.94384, \n",
    "                    aux.loc[i, 'radius_max_wind']) for i in aux.index]\n",
    "    inter = []\n",
    "    for i, r in zip(aux.index, ri):\n",
    "        pnt = Point((aux.loc[i, 'lon'], aux.loc[i, 'lat']))\n",
    "        pol = pnt.buffer(r/110)\n",
    "        if mask.iloc[0].geometry.intersects(pol):\n",
    "            inter.append(1)\n",
    "        else:\n",
    "            inter.append(0)\n",
    "    aux['windIntersectNC'] = inter\n",
    "    indEnter = list(aux['windIntersectNC']).index(1) ## 1st time step with intersection\n",
    "    indStart = max(indEnter - 4*8, 0) ## 4 days and 8 time steps per day\n",
    "    indLeave = len(aux) - 1 - list(aux['windIntersectNC'])[::-1].index(1)\n",
    "    indFinish = min(indLeave + 1*8, len(aux) - 1) ## 1 day and 8 time steps per day\n",
    "    auxShort = aux.iloc[indStart:indFinish, :]\n",
    "    aux = aux.drop(['windIntersectNC'], axis = 1)\n",
    "    dctTracksShorted[f'{k}'] = aux.loc[auxShort.index, :]"
   ]
  },
  {
   "attachments": {},
   "cell_type": "markdown",
   "id": "413ba2d8",
   "metadata": {},
   "source": [
    "##### Setup simulations"
   ]
  },
  {
   "attachments": {},
   "cell_type": "markdown",
   "id": "a9c51dde",
   "metadata": {},
   "source": [
    "Function to get the random tide was deleted by accident"
   ]
  },
  {
   "cell_type": "code",
   "execution_count": 12,
   "id": "9ccf72ed",
   "metadata": {},
   "outputs": [],
   "source": [
    "def getRandomTide(dfs, k):\n",
    "    ''' updated function 01/05/2023 only one storm as input\n",
    "    '''\n",
    "    # dfs = df[df['tc_number'] == tc]\n",
    "    dur = (dfs['randomDate'].iloc[-1] - dfs['randomDate'].iloc[0]).total_seconds()/86400 + 3\n",
    "    hh = dfs['randomDate'].iloc[0].hour\n",
    "    dd = dfs['randomDate'].iloc[0].day\n",
    "    mm = dfs['randomDate'].iloc[0].month\n",
    "    yy = dfs['randomDate'].iloc[0].year\n",
    "    with open(r'TideFac-Code-Executable/dates.txt', 'w') as fout:\n",
    "        fout.write(f'{dur:0.3f}\\n')\n",
    "        fout.write(f'{hh:02d},{dd},{mm},{yy}')\n",
    "    os.system(r'TideFac-Code-Executable/a.out < TideFac-Code-Executable/dates.txt > TideFac-Code-Executable/screen.txt')\n",
    "    \n",
    "    aux = pd.read_csv('tide_fac.out', skiprows=9, header = None, delim_whitespace = True,\n",
    "                           names = [f'node_factor_{k}', f'eq_arg_{k}'])\n",
    "    \n",
    "    return aux"
   ]
  },
  {
   "cell_type": "code",
   "execution_count": 13,
   "id": "be9bfdae",
   "metadata": {},
   "outputs": [],
   "source": [
    "pathout = Path(r'../models/adcirc/concorde/batch02/02c')\n",
    "pathtemplate = pathout/'_template'"
   ]
  },
  {
   "cell_type": "code",
   "execution_count": 14,
   "id": "24312094",
   "metadata": {},
   "outputs": [
    {
     "name": "stderr",
     "output_type": "stream",
     "text": [
      "7it [00:00, 73.09it/s]\n"
     ]
    }
   ],
   "source": [
    "for itc, tc in tqdm(enumerate(dctTracks.keys())):\n",
    "\n",
    "    dfs1 = dctTracksShorted[tc] ## shortened track\n",
    "    dfs1 = dfs1[['lon', 'lat', 'max_sustained_wind', 'central_pressure', 'radius_max_wind']]\n",
    "    dfs1['randomDate'] = dfs1.index\n",
    "    dfs1.index = range(len(dfs1))\n",
    "    dfr = pd.DataFrame(np.broadcast_to(dfs1.iloc[0, :].values, (8*3 + 1, len(dfs1.columns))),\n",
    "                    columns = dfs1.columns)\n",
    "    ## ramp period date, starts from first timesteps going backwards 3 days\n",
    "    rampDates = [dfs1['randomDate'].iloc[0] - i*pd.Timedelta(hours = 3) for i in range(1, len(dfr)+1)][::-1]\n",
    "    dfr['randomDate'] = rampDates\n",
    "    dfr['central_pressure'] = [1013] * len(dfr) ## atmospheric pressure\n",
    "    dfr['max_sustained_wind'] = [1] * len(dfr) ## 1knot wind speed\n",
    "\n",
    "    date_aux0 = dfr['randomDate'].iloc[0]\n",
    "    if date_aux0.hour == 0:\n",
    "        dfr2 = dfr.copy()\n",
    "    else:\n",
    "        ## df ramp is extended until the starting hour is 00\n",
    "        date_aux1 = datetime.datetime(date_aux0.year, date_aux0.month, date_aux0.day, 0)\n",
    "        r_extra = pd.date_range(start = str(date_aux1), end = str(date_aux0), freq = '3H')\n",
    "        dfr_extra = dfr.iloc[0:len(r_extra)-1, :]\n",
    "        dfr_extra['randomDate'] = r_extra[:-1]\n",
    "        dfr2 = pd.concat([dfr_extra, dfr])\n",
    "        dfr2.index = range(len(dfr2))\n",
    "\n",
    "    dfe = pd.concat([dfr2, dfs1], ignore_index = True)\n",
    "    dftides = getRandomTide(dfe, tc)\n",
    "\n",
    "    namerun = tc\n",
    "\n",
    "    try:\n",
    "        os.mkdir(pathout/namerun)\n",
    "    except:\n",
    "        pass\n",
    "\n",
    "    ## write fort22\n",
    "    with open(pathout/namerun/'fort.22', 'w') as fout:\n",
    "        for i in dfe.index:\n",
    "            d = dfe.loc[i, 'randomDate'].strftime('%Y%m%d%H')\n",
    "            inc = int((dfe.loc[i, 'randomDate'] - dfe['randomDate'].iloc[0]).total_seconds()/(3600))\n",
    "            lat = int(np.round(dfe.loc[i, 'lat'], 1)*10)\n",
    "            lon = int(np.abs(np.round(dfe.loc[i, 'lon'], 1))*10)\n",
    "            ws = int(np.round(dfe.loc[i, 'max_sustained_wind']*1.94384, 0)) ## meter per second to knots\n",
    "            p = int(np.round(dfe.loc[i, 'central_pressure'], 0))\n",
    "            rmw = int(np.round(dfe.loc[i, 'radius_max_wind'], 0))\n",
    "            text = (\n",
    "                    f'AL, 00, {d},   , BEST, {inc:3},{lat:4}N, {lon:4}W, '\n",
    "                    f'{ws:3}, {p:4},   ,  00, XXX,  000,  000,   00,  000, 0000,     ,'\n",
    "                    f' {rmw:3},     ,    ,    ,    ,    ,000,  00,  {tc}  ,  00,    0, 0, 0, 0, 0,     00.0,'\n",
    "                    f'   00.0,   00.0,   00.0,    0.0000,   0.0000,   0.0000,   0.0000,   0.0000,'\n",
    "                    f' 000.0000, 000.0000, 000.0000, 000.0000\\n')\n",
    "            fout.write(text)\n",
    "\n",
    "    pathout_sub = pathout/namerun\n",
    "    \n",
    "    ## modify fort.15\n",
    "    filein = pathtemplate/'fort.15'\n",
    "    fileout = pathout_sub/'fort.15'\n",
    "    olds = ['XX1', 'XX2', 'YYYY_MM_DD_HHmm', 'DDD', 'RRR',\n",
    "            'M2NODF1', 'M2EQA1', 'S2NODF1', 'S2EQA1', 'N2NODF1', 'N2EQA1', 'K2NODF1', 'K2EQA1', 'K1NODF1', 'K1EQA1', \n",
    "            'O1NODF1', 'O1EQA1', 'P1NODF1', 'P1EQA1', 'Q1NODF1', 'Q1EQA1',\n",
    "            'M2NODF2', 'M2EQA2', 'S2NODF2', 'S2EQA2', 'N2NODF2', 'N2EQA2', 'K2NODF2', 'K2EQA2', 'K1NODF2', 'K1EQA2', \n",
    "            'O1NODF2', 'O1EQA2', 'P1NODF2', 'P1EQA2', 'Q1NODF2', 'Q1EQA2',\n",
    "            'datedate']\n",
    "\n",
    "    dftides_sub = dftides.loc[['M2', 'S2', 'N2', 'K2', 'K1', 'O1', 'P1', 'Q1'], [x for x in dftides.columns if x.endswith(f'_{tc}')]]\n",
    "    constituents = [f'{x:.5f}' for x in dftides_sub.values.reshape(-1)]\n",
    "    dur = (dfe['randomDate'].iloc[-1] - dfe['randomDate'].iloc[0]).total_seconds()/86400\n",
    "\n",
    "    dramp = (dfr2['randomDate'].iloc[-1] - dfr2['randomDate'].iloc[0]).total_seconds()/86400\n",
    "    news = [f'{itc:04d}', f'STORM{tc}', dfe['randomDate'].iloc[0].strftime('%Y %m %d %H00'), str(dur), str(dramp)]\n",
    "    news.extend(constituents)\n",
    "    news.extend(constituents)\n",
    "    news.extend([str(dfe['randomDate'].iloc[0])])\n",
    "    ascii_replace(filein, fileout, olds, news)\n",
    "    \n",
    "    ## modify adcprep and padcirc scripts\n",
    "    # if hpc == 'hazel':\n",
    "    olds0_hazel = ['ADCPREPADCPREP', 'XXX']\n",
    "    news0_hazel = [f'{namerun}prep', '128']\n",
    "    ascii_replace(pathtemplate/'adcprep.csh', pathout_sub/'adcprep.csh', olds0_hazel, news0_hazel)\n",
    "\n",
    "    olds1_hazel = ['RUNRUN', 'NODESNODES']\n",
    "    news1_hazel = [namerun, '128']\n",
    "    ascii_replace(pathtemplate/'padcirc.csh', pathout_sub/'padcirc.csh', olds1_hazel, news1_hazel)"
   ]
  },
  {
   "cell_type": "code",
   "execution_count": null,
   "id": "7e62d886",
   "metadata": {},
   "outputs": [],
   "source": [
    "## copy fort.13 fort.14 and executables\n",
    "pathout = Path(r'/scratch/09536/tacuevas/02')\n",
    "runs = [x for x in os.listdir(pathout) if x.isdigit()]\n",
    "\n",
    "pathtemplate = pathout/'_template'\n",
    "for r in runs:\n",
    "    \n",
    "    namerun = f'{r:04d}'\n",
    "    pathout_sub = pathout/namerun\n",
    "    filesIn = ['fort.13', 'fort.14', 'adcprep', 'padcirc']\n",
    "    filesOut = ['fort.13', 'fort.14', 'adcprep', 'padcirc']\n",
    "\n",
    "    for fi, fo in zip(filesIn, filesOut):\n",
    "        shutil.copy(pathtemplate/fi, pathout_sub/fo)"
   ]
  }
 ],
 "metadata": {
  "kernelspec": {
   "display_name": "Python 3",
   "language": "python",
   "name": "python3"
  },
  "language_info": {
   "codemirror_mode": {
    "name": "ipython",
    "version": 3
   },
   "file_extension": ".py",
   "mimetype": "text/x-python",
   "name": "python",
   "nbconvert_exporter": "python",
   "pygments_lexer": "ipython3",
   "version": "3.11.3"
  },
  "vscode": {
   "interpreter": {
    "hash": "916dbcbb3f70747c44a77c7bcd40155683ae19c65e1c03b4aa3499c5328201f1"
   }
  }
 },
 "nbformat": 4,
 "nbformat_minor": 5
}
