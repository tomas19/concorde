{
 "cells": [
  {
   "cell_type": "code",
   "execution_count": 1,
   "id": "3e5c27a1",
   "metadata": {},
   "outputs": [
    {
     "data": {
      "text/html": [
       "<style>.container { width:98% !important; }</style>"
      ],
      "text/plain": [
       "<IPython.core.display.HTML object>"
      ]
     },
     "metadata": {},
     "output_type": "display_data"
    }
   ],
   "source": [
    "import os\n",
    "import pandas as pd\n",
    "from pathlib import Path\n",
    "from tqdm import tqdm\n",
    "from scipy.spatial import cKDTree\n",
    "from scipy.spatial.distance import cdist\n",
    "import time\n",
    "import numpy as np\n",
    "from IPython.display import display, HTML\n",
    "display(HTML(\"<style>.container { width:98% !important; }</style>\"))\n",
    "import sys\n",
    "sys.path.append(r'C:\\Users\\tacuevas\\Documents\\GitHub\\concorde\\modules')\n",
    "from mda import anti_neighbors_vectorized, fnorm, fnorm_inv, normalize_df, unnormalize_df\n",
    "from plots import scatter_interpolate\n",
    "import matplotlib.pyplot as plt\n",
    "plt.style.use('seaborn-darkgrid')\n",
    "plt.rcParams.update({'font.size': 14})\n",
    "from matplotlib.offsetbox import AnchoredText\n",
    "from itertools import combinations, permutations"
   ]
  },
  {
   "cell_type": "code",
   "execution_count": 2,
   "id": "cbc84e7b",
   "metadata": {},
   "outputs": [
    {
     "data": {
      "application/javascript": [
       "IPython.notebook.kernel.execute('nb_name = \"' + IPython.notebook.notebook_name + '\"')\n"
      ],
      "text/plain": [
       "<IPython.core.display.Javascript object>"
      ]
     },
     "metadata": {},
     "output_type": "display_data"
    }
   ],
   "source": [
    "%%javascript\n",
    "IPython.notebook.kernel.execute('nb_name = \"' + IPython.notebook.notebook_name + '\"')"
   ]
  },
  {
   "cell_type": "markdown",
   "id": "0eececf5",
   "metadata": {
    "heading_collapsed": true
   },
   "source": [
    "#### Check new version of anti neighbors"
   ]
  },
  {
   "cell_type": "code",
   "execution_count": null,
   "id": "ae0f5d59",
   "metadata": {
    "hidden": true
   },
   "outputs": [],
   "source": [
    "# df = pd.read_pickle(r'..\\data\\STORM\\processed\\STORM_NA_R2_In_pnt.pkl')\n",
    "# df.index = range(len(df))\n",
    "# df = df.drop(['year', 'month', 'yr_tc_number', 'tc_id', 'max_cat'], axis = 1)\n",
    "# df = df.fillna(0)\n",
    "# df.head()"
   ]
  },
  {
   "cell_type": "code",
   "execution_count": null,
   "id": "6a60bd38",
   "metadata": {
    "hidden": true
   },
   "outputs": [],
   "source": [
    "# index = [1, 1, 1, 1, 1, 1, 1, 1, 1, 1, 1, 1, 1, 1, 1, 0, 0, 0]"
   ]
  },
  {
   "cell_type": "code",
   "execution_count": null,
   "id": "a83e7884",
   "metadata": {
    "hidden": true
   },
   "outputs": [],
   "source": [
    "# columns = ['lat_at_min_distNC', 'lon_at_min_distNC', 'min_press_at_min_press', 'max_ws_at_min_press', 'rad_to_max_ws_at_min_press',\n",
    "#           'mean_trajectory']\n",
    "# index = [1, 1, 1, 1, 1, 0]\n",
    "# df = df.loc[:, columns]"
   ]
  },
  {
   "cell_type": "markdown",
   "id": "75e267ad",
   "metadata": {
    "hidden": true
   },
   "source": [
    "###### WIthout definitive function"
   ]
  },
  {
   "cell_type": "code",
   "execution_count": null,
   "id": "fdc276f5",
   "metadata": {
    "hidden": true
   },
   "outputs": [],
   "source": [
    "# norm = normalize_df(df, index)"
   ]
  },
  {
   "cell_type": "code",
   "execution_count": null,
   "id": "f2047e9e",
   "metadata": {
    "hidden": true
   },
   "outputs": [],
   "source": [
    "# norm.head()"
   ]
  },
  {
   "cell_type": "code",
   "execution_count": null,
   "id": "763d157b",
   "metadata": {
    "hidden": true
   },
   "outputs": [],
   "source": [
    "# a, b = [], []\n",
    "# for i, j in enumerate(index):\n",
    "#     if j == 0:\n",
    "#         b.append(i)\n",
    "#     elif j == 1:\n",
    "#         a.append(i)"
   ]
  },
  {
   "cell_type": "code",
   "execution_count": null,
   "id": "474349db",
   "metadata": {
    "hidden": true
   },
   "outputs": [],
   "source": [
    "# for ib, bi in enumerate(b):\n",
    "#     aux = norm.iloc[:, bi].values\n",
    "#     m1 = np.broadcast_to(aux, (len(norm), len(norm)))\n",
    "#     if ib == 0:\n",
    "#         mdir = np.minimum(np.abs(m1 - m1.T), 2 - np.abs(m1 - m1.T))\n",
    "#     else:\n",
    "#         mdir = mdir + np.minimum(np.abs(m1 - m1.T), 2 - np.abs(m1 - m1.T))\n",
    "\n",
    "# aux = norm.iloc[:, a].values\n",
    "# msca = cdist(aux, aux, metric = 'sqeuclidean')\n",
    "\n",
    "# m = msca + mdir\n",
    "# del msca\n",
    "# del mdir"
   ]
  },
  {
   "cell_type": "code",
   "execution_count": null,
   "id": "72ab99a0",
   "metadata": {
    "hidden": true
   },
   "outputs": [],
   "source": [
    "# t0 = time.time()\n",
    "\n",
    "# k = 1000\n",
    "\n",
    "# points = [tuple(x) for x in norm.values]\n",
    "# dummy_index = list(df.index.values)\n",
    "# remaining_points = points[:]\n",
    "# solution_set = []\n",
    "# index_solution_set = []\n",
    "\n",
    "# tree = cKDTree(norm.values)\n",
    "# meanvalue = list(norm.mean())\n",
    "# ix_meanvalue = tree.query(meanvalue)[1]\n",
    "\n",
    "# solution_set.append(points[ix_meanvalue])\n",
    "# index_solution_set.append(dummy_index[ix_meanvalue])\n",
    "\n",
    "# # while len(solution_set) < k:\n",
    "# while len(solution_set) < k:\n",
    "#     t0 = time.time()\n",
    "#     if len(solution_set) == 1:\n",
    "#         ## iter 1, easy one\n",
    "#         distances = m[index_solution_set[-1], :]\n",
    "#         newSolIx = distances.argmax()\n",
    "#         solution_set.append(points[newSolIx])\n",
    "#         index_solution_set.append(newSolIx)\n",
    "#     else:\n",
    "#         ## iter 2, starts to get complicated\n",
    "#         distances = np.minimum(distances, m[index_solution_set[-1], :])\n",
    "#         newSolIx = distances.argmax()\n",
    "#         solution_set.append(points[newSolIx])\n",
    "#         index_solution_set.append(newSolIx)\n",
    "# #     print(f'Iter {time.time() - t0:0.4f}: s')\n",
    "        \n",
    "# normclusters = pd.DataFrame(columns = df.columns, data = solution_set)\n",
    "# clusters_wf = unnormalize_df(df, normclusters, index)\n",
    "# clusters_wf['index_cluster'] = index_solution_set"
   ]
  },
  {
   "cell_type": "code",
   "execution_count": null,
   "id": "a85e73ef",
   "metadata": {
    "hidden": true
   },
   "outputs": [],
   "source": [
    "# clusters_wf.index_cluster.nunique()"
   ]
  },
  {
   "cell_type": "markdown",
   "id": "968bc775",
   "metadata": {
    "hidden": true
   },
   "source": [
    "###### Using function"
   ]
  },
  {
   "cell_type": "code",
   "execution_count": null,
   "id": "817cc35f",
   "metadata": {
    "hidden": true
   },
   "outputs": [],
   "source": [
    "# clusters = anti_neighbors_vectorized(df, 1000, index)"
   ]
  },
  {
   "cell_type": "code",
   "execution_count": null,
   "id": "cac47e32",
   "metadata": {
    "hidden": true
   },
   "outputs": [],
   "source": [
    "# clusters.iloc[:, :-1].equals(clusters_wf)"
   ]
  },
  {
   "cell_type": "markdown",
   "id": "b3367c71",
   "metadata": {},
   "source": [
    "#### MDA"
   ]
  },
  {
   "cell_type": "code",
   "execution_count": 3,
   "id": "0ac825bc",
   "metadata": {},
   "outputs": [
    {
     "data": {
      "text/html": [
       "<div>\n",
       "<style scoped>\n",
       "    .dataframe tbody tr th:only-of-type {\n",
       "        vertical-align: middle;\n",
       "    }\n",
       "\n",
       "    .dataframe tbody tr th {\n",
       "        vertical-align: top;\n",
       "    }\n",
       "\n",
       "    .dataframe thead th {\n",
       "        text-align: right;\n",
       "    }\n",
       "</style>\n",
       "<table border=\"1\" class=\"dataframe\">\n",
       "  <thead>\n",
       "    <tr style=\"text-align: right;\">\n",
       "      <th></th>\n",
       "      <th>time_step_at_min_press</th>\n",
       "      <th>time_step_at_min_distNC</th>\n",
       "      <th>lat_at_min_press</th>\n",
       "      <th>lon_at_min_press</th>\n",
       "      <th>lat_at_min_distNC</th>\n",
       "      <th>lon_at_min_distNC</th>\n",
       "      <th>min_press_at_min_distNC</th>\n",
       "      <th>min_press_at_min_press</th>\n",
       "      <th>max_ws_at_min_distNC</th>\n",
       "      <th>max_ws_at_min_press</th>\n",
       "      <th>...</th>\n",
       "      <th>distNC_at_min_distNC</th>\n",
       "      <th>distNC_at_min_press</th>\n",
       "      <th>trajectory_at_min_distNC</th>\n",
       "      <th>trajectory_at_min_press</th>\n",
       "      <th>mean_trajectory</th>\n",
       "      <th>curvature</th>\n",
       "      <th>duration</th>\n",
       "      <th>lat_gen</th>\n",
       "      <th>lon_gen</th>\n",
       "      <th>length</th>\n",
       "    </tr>\n",
       "  </thead>\n",
       "  <tbody>\n",
       "    <tr>\n",
       "      <th>0</th>\n",
       "      <td>25.0</td>\n",
       "      <td>33.0</td>\n",
       "      <td>29.6</td>\n",
       "      <td>-76.2</td>\n",
       "      <td>30.5</td>\n",
       "      <td>-79.3</td>\n",
       "      <td>977.2</td>\n",
       "      <td>953.7</td>\n",
       "      <td>36.800000</td>\n",
       "      <td>50.8</td>\n",
       "      <td>...</td>\n",
       "      <td>571.303714</td>\n",
       "      <td>623.563360</td>\n",
       "      <td>284.036243</td>\n",
       "      <td>303.690068</td>\n",
       "      <td>306.734075</td>\n",
       "      <td>1.149159e-13</td>\n",
       "      <td>46.0</td>\n",
       "      <td>22.1</td>\n",
       "      <td>-67.9</td>\n",
       "      <td>1895.686058</td>\n",
       "    </tr>\n",
       "    <tr>\n",
       "      <th>1</th>\n",
       "      <td>20.0</td>\n",
       "      <td>49.0</td>\n",
       "      <td>17.2</td>\n",
       "      <td>-61.5</td>\n",
       "      <td>33.2</td>\n",
       "      <td>-68.2</td>\n",
       "      <td>954.5</td>\n",
       "      <td>939.2</td>\n",
       "      <td>46.600000</td>\n",
       "      <td>52.7</td>\n",
       "      <td>...</td>\n",
       "      <td>822.784684</td>\n",
       "      <td>2505.942098</td>\n",
       "      <td>21.801409</td>\n",
       "      <td>284.036243</td>\n",
       "      <td>347.184714</td>\n",
       "      <td>5.722621e-14</td>\n",
       "      <td>74.0</td>\n",
       "      <td>13.4</td>\n",
       "      <td>-49.4</td>\n",
       "      <td>6182.285591</td>\n",
       "    </tr>\n",
       "    <tr>\n",
       "      <th>2</th>\n",
       "      <td>4.0</td>\n",
       "      <td>8.0</td>\n",
       "      <td>25.9</td>\n",
       "      <td>-83.4</td>\n",
       "      <td>27.4</td>\n",
       "      <td>-82.8</td>\n",
       "      <td>1000.5</td>\n",
       "      <td>993.2</td>\n",
       "      <td>16.500000</td>\n",
       "      <td>22.0</td>\n",
       "      <td>...</td>\n",
       "      <td>1035.895766</td>\n",
       "      <td>1209.183408</td>\n",
       "      <td>36.869898</td>\n",
       "      <td>18.434949</td>\n",
       "      <td>19.242162</td>\n",
       "      <td>0.000000e+00</td>\n",
       "      <td>8.0</td>\n",
       "      <td>24.6</td>\n",
       "      <td>-83.8</td>\n",
       "      <td>331.580145</td>\n",
       "    </tr>\n",
       "    <tr>\n",
       "      <th>3</th>\n",
       "      <td>4.0</td>\n",
       "      <td>9.0</td>\n",
       "      <td>25.9</td>\n",
       "      <td>-83.4</td>\n",
       "      <td>27.7</td>\n",
       "      <td>-82.5</td>\n",
       "      <td>1000.5</td>\n",
       "      <td>993.2</td>\n",
       "      <td>16.525852</td>\n",
       "      <td>22.0</td>\n",
       "      <td>...</td>\n",
       "      <td>992.030799</td>\n",
       "      <td>1209.183408</td>\n",
       "      <td>45.000000</td>\n",
       "      <td>18.434949</td>\n",
       "      <td>22.104144</td>\n",
       "      <td>0.000000e+00</td>\n",
       "      <td>9.0</td>\n",
       "      <td>24.6</td>\n",
       "      <td>-83.8</td>\n",
       "      <td>376.112025</td>\n",
       "    </tr>\n",
       "    <tr>\n",
       "      <th>4</th>\n",
       "      <td>2.0</td>\n",
       "      <td>3.0</td>\n",
       "      <td>29.1</td>\n",
       "      <td>-76.9</td>\n",
       "      <td>29.2</td>\n",
       "      <td>-77.2</td>\n",
       "      <td>1003.8</td>\n",
       "      <td>1000.4</td>\n",
       "      <td>15.800000</td>\n",
       "      <td>18.5</td>\n",
       "      <td>...</td>\n",
       "      <td>666.410514</td>\n",
       "      <td>676.494047</td>\n",
       "      <td>288.434949</td>\n",
       "      <td>288.434949</td>\n",
       "      <td>276.144983</td>\n",
       "      <td>0.000000e+00</td>\n",
       "      <td>3.0</td>\n",
       "      <td>29.1</td>\n",
       "      <td>-76.6</td>\n",
       "      <td>60.426392</td>\n",
       "    </tr>\n",
       "  </tbody>\n",
       "</table>\n",
       "<p>5 rows × 23 columns</p>\n",
       "</div>"
      ],
      "text/plain": [
       "   time_step_at_min_press  time_step_at_min_distNC  lat_at_min_press  \\\n",
       "0                    25.0                     33.0              29.6   \n",
       "1                    20.0                     49.0              17.2   \n",
       "2                     4.0                      8.0              25.9   \n",
       "3                     4.0                      9.0              25.9   \n",
       "4                     2.0                      3.0              29.1   \n",
       "\n",
       "   lon_at_min_press  lat_at_min_distNC  lon_at_min_distNC  \\\n",
       "0             -76.2               30.5              -79.3   \n",
       "1             -61.5               33.2              -68.2   \n",
       "2             -83.4               27.4              -82.8   \n",
       "3             -83.4               27.7              -82.5   \n",
       "4             -76.9               29.2              -77.2   \n",
       "\n",
       "   min_press_at_min_distNC  min_press_at_min_press  max_ws_at_min_distNC  \\\n",
       "0                    977.2                   953.7             36.800000   \n",
       "1                    954.5                   939.2             46.600000   \n",
       "2                   1000.5                   993.2             16.500000   \n",
       "3                   1000.5                   993.2             16.525852   \n",
       "4                   1003.8                  1000.4             15.800000   \n",
       "\n",
       "   max_ws_at_min_press  ...  distNC_at_min_distNC  distNC_at_min_press  \\\n",
       "0                 50.8  ...            571.303714           623.563360   \n",
       "1                 52.7  ...            822.784684          2505.942098   \n",
       "2                 22.0  ...           1035.895766          1209.183408   \n",
       "3                 22.0  ...            992.030799          1209.183408   \n",
       "4                 18.5  ...            666.410514           676.494047   \n",
       "\n",
       "   trajectory_at_min_distNC  trajectory_at_min_press  mean_trajectory  \\\n",
       "0                284.036243               303.690068       306.734075   \n",
       "1                 21.801409               284.036243       347.184714   \n",
       "2                 36.869898                18.434949        19.242162   \n",
       "3                 45.000000                18.434949        22.104144   \n",
       "4                288.434949               288.434949       276.144983   \n",
       "\n",
       "      curvature  duration  lat_gen  lon_gen       length  \n",
       "0  1.149159e-13      46.0     22.1    -67.9  1895.686058  \n",
       "1  5.722621e-14      74.0     13.4    -49.4  6182.285591  \n",
       "2  0.000000e+00       8.0     24.6    -83.8   331.580145  \n",
       "3  0.000000e+00       9.0     24.6    -83.8   376.112025  \n",
       "4  0.000000e+00       3.0     29.1    -76.6    60.426392  \n",
       "\n",
       "[5 rows x 23 columns]"
      ]
     },
     "execution_count": 3,
     "metadata": {},
     "output_type": "execute_result"
    }
   ],
   "source": [
    "df = pd.read_pickle(r'..\\data\\STORM\\processed\\STORM_NA_R2_In_pnt.pkl')\n",
    "df.index = range(len(df))\n",
    "df = df.drop(['year', 'month', 'yr_tc_number', 'tc_id', 'max_cat'], axis = 1)\n",
    "# df = df.fillna(0)\n",
    "df.head()"
   ]
  },
  {
   "cell_type": "code",
   "execution_count": 16,
   "id": "561039f4",
   "metadata": {},
   "outputs": [
    {
     "data": {
      "text/html": [
       "<div>\n",
       "<style scoped>\n",
       "    .dataframe tbody tr th:only-of-type {\n",
       "        vertical-align: middle;\n",
       "    }\n",
       "\n",
       "    .dataframe tbody tr th {\n",
       "        vertical-align: top;\n",
       "    }\n",
       "\n",
       "    .dataframe thead th {\n",
       "        text-align: right;\n",
       "    }\n",
       "</style>\n",
       "<table border=\"1\" class=\"dataframe\">\n",
       "  <thead>\n",
       "    <tr style=\"text-align: right;\">\n",
       "      <th></th>\n",
       "      <th>count</th>\n",
       "      <th>mean</th>\n",
       "      <th>std</th>\n",
       "      <th>min</th>\n",
       "      <th>25%</th>\n",
       "      <th>50%</th>\n",
       "      <th>75%</th>\n",
       "      <th>max</th>\n",
       "    </tr>\n",
       "  </thead>\n",
       "  <tbody>\n",
       "    <tr>\n",
       "      <th>time_step_at_min_press</th>\n",
       "      <td>32247.0</td>\n",
       "      <td>2.040475e+01</td>\n",
       "      <td>2.035621e+01</td>\n",
       "      <td>0.000000e+00</td>\n",
       "      <td>5.000000</td>\n",
       "      <td>14.000000</td>\n",
       "      <td>2.900000e+01</td>\n",
       "      <td>2.220000e+02</td>\n",
       "    </tr>\n",
       "    <tr>\n",
       "      <th>time_step_at_min_distNC</th>\n",
       "      <td>32247.0</td>\n",
       "      <td>2.971759e+01</td>\n",
       "      <td>2.836426e+01</td>\n",
       "      <td>0.000000e+00</td>\n",
       "      <td>7.000000</td>\n",
       "      <td>19.000000</td>\n",
       "      <td>4.700000e+01</td>\n",
       "      <td>2.340000e+02</td>\n",
       "    </tr>\n",
       "    <tr>\n",
       "      <th>lat_at_min_press</th>\n",
       "      <td>32247.0</td>\n",
       "      <td>2.676754e+01</td>\n",
       "      <td>7.654801e+00</td>\n",
       "      <td>6.900000e+00</td>\n",
       "      <td>21.200000</td>\n",
       "      <td>26.500000</td>\n",
       "      <td>3.150000e+01</td>\n",
       "      <td>5.990000e+01</td>\n",
       "    </tr>\n",
       "    <tr>\n",
       "      <th>lon_at_min_press</th>\n",
       "      <td>32247.0</td>\n",
       "      <td>-6.933692e+01</td>\n",
       "      <td>1.067409e+01</td>\n",
       "      <td>-9.890000e+01</td>\n",
       "      <td>-77.100000</td>\n",
       "      <td>-70.500000</td>\n",
       "      <td>-6.270000e+01</td>\n",
       "      <td>-1.200000e+00</td>\n",
       "    </tr>\n",
       "    <tr>\n",
       "      <th>lat_at_min_distNC</th>\n",
       "      <td>32247.0</td>\n",
       "      <td>3.041307e+01</td>\n",
       "      <td>5.287352e+00</td>\n",
       "      <td>2.010000e+01</td>\n",
       "      <td>26.400000</td>\n",
       "      <td>31.200000</td>\n",
       "      <td>3.460000e+01</td>\n",
       "      <td>4.580000e+01</td>\n",
       "    </tr>\n",
       "    <tr>\n",
       "      <th>lon_at_min_distNC</th>\n",
       "      <td>32247.0</td>\n",
       "      <td>-7.318127e+01</td>\n",
       "      <td>6.704466e+00</td>\n",
       "      <td>-8.490000e+01</td>\n",
       "      <td>-78.700000</td>\n",
       "      <td>-73.800000</td>\n",
       "      <td>-6.770000e+01</td>\n",
       "      <td>-6.010000e+01</td>\n",
       "    </tr>\n",
       "    <tr>\n",
       "      <th>min_press_at_min_distNC</th>\n",
       "      <td>32247.0</td>\n",
       "      <td>9.862400e+02</td>\n",
       "      <td>2.011649e+01</td>\n",
       "      <td>9.034000e+02</td>\n",
       "      <td>975.400000</td>\n",
       "      <td>996.100000</td>\n",
       "      <td>1.000900e+03</td>\n",
       "      <td>1.012000e+03</td>\n",
       "    </tr>\n",
       "    <tr>\n",
       "      <th>min_press_at_min_press</th>\n",
       "      <td>32247.0</td>\n",
       "      <td>9.657081e+02</td>\n",
       "      <td>2.675121e+01</td>\n",
       "      <td>8.834000e+02</td>\n",
       "      <td>945.700000</td>\n",
       "      <td>971.500000</td>\n",
       "      <td>9.894000e+02</td>\n",
       "      <td>1.004200e+03</td>\n",
       "    </tr>\n",
       "    <tr>\n",
       "      <th>max_ws_at_min_distNC</th>\n",
       "      <td>32247.0</td>\n",
       "      <td>2.681077e+01</td>\n",
       "      <td>1.283903e+01</td>\n",
       "      <td>8.488401e+00</td>\n",
       "      <td>17.100000</td>\n",
       "      <td>20.900000</td>\n",
       "      <td>3.520000e+01</td>\n",
       "      <td>7.500000e+01</td>\n",
       "    </tr>\n",
       "    <tr>\n",
       "      <th>max_ws_at_min_press</th>\n",
       "      <td>32247.0</td>\n",
       "      <td>3.917857e+01</td>\n",
       "      <td>1.537323e+01</td>\n",
       "      <td>1.720000e+01</td>\n",
       "      <td>25.300000</td>\n",
       "      <td>35.700000</td>\n",
       "      <td>5.180000e+01</td>\n",
       "      <td>8.350287e+01</td>\n",
       "    </tr>\n",
       "    <tr>\n",
       "      <th>rad_to_max_ws_at_min_distNC</th>\n",
       "      <td>32247.0</td>\n",
       "      <td>5.430341e+01</td>\n",
       "      <td>2.842966e+01</td>\n",
       "      <td>9.260000e+00</td>\n",
       "      <td>37.040001</td>\n",
       "      <td>46.598711</td>\n",
       "      <td>6.482000e+01</td>\n",
       "      <td>4.444800e+02</td>\n",
       "    </tr>\n",
       "    <tr>\n",
       "      <th>rad_to_max_ws_at_min_press</th>\n",
       "      <td>32247.0</td>\n",
       "      <td>3.820609e+01</td>\n",
       "      <td>1.702642e+01</td>\n",
       "      <td>9.260000e+00</td>\n",
       "      <td>27.780001</td>\n",
       "      <td>37.040001</td>\n",
       "      <td>4.630000e+01</td>\n",
       "      <td>2.222400e+02</td>\n",
       "    </tr>\n",
       "    <tr>\n",
       "      <th>landfall</th>\n",
       "      <td>32247.0</td>\n",
       "      <td>5.968617e-01</td>\n",
       "      <td>4.905357e-01</td>\n",
       "      <td>0.000000e+00</td>\n",
       "      <td>0.000000</td>\n",
       "      <td>1.000000</td>\n",
       "      <td>1.000000e+00</td>\n",
       "      <td>1.000000e+00</td>\n",
       "    </tr>\n",
       "    <tr>\n",
       "      <th>distNC_at_min_distNC</th>\n",
       "      <td>32247.0</td>\n",
       "      <td>9.302990e+02</td>\n",
       "      <td>5.129960e+02</td>\n",
       "      <td>1.294118e-12</td>\n",
       "      <td>519.482225</td>\n",
       "      <td>919.104525</td>\n",
       "      <td>1.344575e+03</td>\n",
       "      <td>2.327874e+03</td>\n",
       "    </tr>\n",
       "    <tr>\n",
       "      <th>distNC_at_min_press</th>\n",
       "      <td>32247.0</td>\n",
       "      <td>1.522320e+03</td>\n",
       "      <td>9.075049e+02</td>\n",
       "      <td>1.294118e-12</td>\n",
       "      <td>885.317210</td>\n",
       "      <td>1372.840052</td>\n",
       "      <td>1.949160e+03</td>\n",
       "      <td>6.367608e+03</td>\n",
       "    </tr>\n",
       "    <tr>\n",
       "      <th>trajectory_at_min_distNC</th>\n",
       "      <td>32247.0</td>\n",
       "      <td>1.814955e+02</td>\n",
       "      <td>1.405957e+02</td>\n",
       "      <td>0.000000e+00</td>\n",
       "      <td>30.963757</td>\n",
       "      <td>261.869898</td>\n",
       "      <td>3.150000e+02</td>\n",
       "      <td>3.566335e+02</td>\n",
       "    </tr>\n",
       "    <tr>\n",
       "      <th>trajectory_at_min_press</th>\n",
       "      <td>32247.0</td>\n",
       "      <td>2.157850e+02</td>\n",
       "      <td>1.322187e+02</td>\n",
       "      <td>0.000000e+00</td>\n",
       "      <td>45.000000</td>\n",
       "      <td>288.434949</td>\n",
       "      <td>3.150000e+02</td>\n",
       "      <td>3.566335e+02</td>\n",
       "    </tr>\n",
       "    <tr>\n",
       "      <th>mean_trajectory</th>\n",
       "      <td>32247.0</td>\n",
       "      <td>2.326257e+02</td>\n",
       "      <td>1.328945e+02</td>\n",
       "      <td>0.000000e+00</td>\n",
       "      <td>40.376805</td>\n",
       "      <td>299.784142</td>\n",
       "      <td>3.254423e+02</td>\n",
       "      <td>3.600000e+02</td>\n",
       "    </tr>\n",
       "    <tr>\n",
       "      <th>curvature</th>\n",
       "      <td>32247.0</td>\n",
       "      <td>2.715388e-14</td>\n",
       "      <td>3.994203e-14</td>\n",
       "      <td>0.000000e+00</td>\n",
       "      <td>0.000000</td>\n",
       "      <td>0.000000</td>\n",
       "      <td>5.737717e-14</td>\n",
       "      <td>2.856069e-13</td>\n",
       "    </tr>\n",
       "    <tr>\n",
       "      <th>duration</th>\n",
       "      <td>32247.0</td>\n",
       "      <td>3.907979e+01</td>\n",
       "      <td>3.470938e+01</td>\n",
       "      <td>2.000000e+00</td>\n",
       "      <td>11.000000</td>\n",
       "      <td>28.000000</td>\n",
       "      <td>5.900000e+01</td>\n",
       "      <td>2.980000e+02</td>\n",
       "    </tr>\n",
       "    <tr>\n",
       "      <th>lat_gen</th>\n",
       "      <td>32247.0</td>\n",
       "      <td>2.084882e+01</td>\n",
       "      <td>7.615569e+00</td>\n",
       "      <td>5.100000e+00</td>\n",
       "      <td>13.900000</td>\n",
       "      <td>21.900000</td>\n",
       "      <td>2.680000e+01</td>\n",
       "      <td>4.400000e+01</td>\n",
       "    </tr>\n",
       "    <tr>\n",
       "      <th>lon_gen</th>\n",
       "      <td>32247.0</td>\n",
       "      <td>-6.184537e+01</td>\n",
       "      <td>1.571423e+01</td>\n",
       "      <td>-9.610000e+01</td>\n",
       "      <td>-74.300000</td>\n",
       "      <td>-64.900000</td>\n",
       "      <td>-5.100000e+01</td>\n",
       "      <td>-1.710000e+01</td>\n",
       "    </tr>\n",
       "    <tr>\n",
       "      <th>length</th>\n",
       "      <td>32247.0</td>\n",
       "      <td>2.892957e+03</td>\n",
       "      <td>2.582316e+03</td>\n",
       "      <td>1.108300e+01</td>\n",
       "      <td>694.328361</td>\n",
       "      <td>2084.370654</td>\n",
       "      <td>4.634639e+03</td>\n",
       "      <td>1.786501e+04</td>\n",
       "    </tr>\n",
       "  </tbody>\n",
       "</table>\n",
       "</div>"
      ],
      "text/plain": [
       "                               count          mean           std  \\\n",
       "time_step_at_min_press       32247.0  2.040475e+01  2.035621e+01   \n",
       "time_step_at_min_distNC      32247.0  2.971759e+01  2.836426e+01   \n",
       "lat_at_min_press             32247.0  2.676754e+01  7.654801e+00   \n",
       "lon_at_min_press             32247.0 -6.933692e+01  1.067409e+01   \n",
       "lat_at_min_distNC            32247.0  3.041307e+01  5.287352e+00   \n",
       "lon_at_min_distNC            32247.0 -7.318127e+01  6.704466e+00   \n",
       "min_press_at_min_distNC      32247.0  9.862400e+02  2.011649e+01   \n",
       "min_press_at_min_press       32247.0  9.657081e+02  2.675121e+01   \n",
       "max_ws_at_min_distNC         32247.0  2.681077e+01  1.283903e+01   \n",
       "max_ws_at_min_press          32247.0  3.917857e+01  1.537323e+01   \n",
       "rad_to_max_ws_at_min_distNC  32247.0  5.430341e+01  2.842966e+01   \n",
       "rad_to_max_ws_at_min_press   32247.0  3.820609e+01  1.702642e+01   \n",
       "landfall                     32247.0  5.968617e-01  4.905357e-01   \n",
       "distNC_at_min_distNC         32247.0  9.302990e+02  5.129960e+02   \n",
       "distNC_at_min_press          32247.0  1.522320e+03  9.075049e+02   \n",
       "trajectory_at_min_distNC     32247.0  1.814955e+02  1.405957e+02   \n",
       "trajectory_at_min_press      32247.0  2.157850e+02  1.322187e+02   \n",
       "mean_trajectory              32247.0  2.326257e+02  1.328945e+02   \n",
       "curvature                    32247.0  2.715388e-14  3.994203e-14   \n",
       "duration                     32247.0  3.907979e+01  3.470938e+01   \n",
       "lat_gen                      32247.0  2.084882e+01  7.615569e+00   \n",
       "lon_gen                      32247.0 -6.184537e+01  1.571423e+01   \n",
       "length                       32247.0  2.892957e+03  2.582316e+03   \n",
       "\n",
       "                                      min         25%          50%  \\\n",
       "time_step_at_min_press       0.000000e+00    5.000000    14.000000   \n",
       "time_step_at_min_distNC      0.000000e+00    7.000000    19.000000   \n",
       "lat_at_min_press             6.900000e+00   21.200000    26.500000   \n",
       "lon_at_min_press            -9.890000e+01  -77.100000   -70.500000   \n",
       "lat_at_min_distNC            2.010000e+01   26.400000    31.200000   \n",
       "lon_at_min_distNC           -8.490000e+01  -78.700000   -73.800000   \n",
       "min_press_at_min_distNC      9.034000e+02  975.400000   996.100000   \n",
       "min_press_at_min_press       8.834000e+02  945.700000   971.500000   \n",
       "max_ws_at_min_distNC         8.488401e+00   17.100000    20.900000   \n",
       "max_ws_at_min_press          1.720000e+01   25.300000    35.700000   \n",
       "rad_to_max_ws_at_min_distNC  9.260000e+00   37.040001    46.598711   \n",
       "rad_to_max_ws_at_min_press   9.260000e+00   27.780001    37.040001   \n",
       "landfall                     0.000000e+00    0.000000     1.000000   \n",
       "distNC_at_min_distNC         1.294118e-12  519.482225   919.104525   \n",
       "distNC_at_min_press          1.294118e-12  885.317210  1372.840052   \n",
       "trajectory_at_min_distNC     0.000000e+00   30.963757   261.869898   \n",
       "trajectory_at_min_press      0.000000e+00   45.000000   288.434949   \n",
       "mean_trajectory              0.000000e+00   40.376805   299.784142   \n",
       "curvature                    0.000000e+00    0.000000     0.000000   \n",
       "duration                     2.000000e+00   11.000000    28.000000   \n",
       "lat_gen                      5.100000e+00   13.900000    21.900000   \n",
       "lon_gen                     -9.610000e+01  -74.300000   -64.900000   \n",
       "length                       1.108300e+01  694.328361  2084.370654   \n",
       "\n",
       "                                      75%           max  \n",
       "time_step_at_min_press       2.900000e+01  2.220000e+02  \n",
       "time_step_at_min_distNC      4.700000e+01  2.340000e+02  \n",
       "lat_at_min_press             3.150000e+01  5.990000e+01  \n",
       "lon_at_min_press            -6.270000e+01 -1.200000e+00  \n",
       "lat_at_min_distNC            3.460000e+01  4.580000e+01  \n",
       "lon_at_min_distNC           -6.770000e+01 -6.010000e+01  \n",
       "min_press_at_min_distNC      1.000900e+03  1.012000e+03  \n",
       "min_press_at_min_press       9.894000e+02  1.004200e+03  \n",
       "max_ws_at_min_distNC         3.520000e+01  7.500000e+01  \n",
       "max_ws_at_min_press          5.180000e+01  8.350287e+01  \n",
       "rad_to_max_ws_at_min_distNC  6.482000e+01  4.444800e+02  \n",
       "rad_to_max_ws_at_min_press   4.630000e+01  2.222400e+02  \n",
       "landfall                     1.000000e+00  1.000000e+00  \n",
       "distNC_at_min_distNC         1.344575e+03  2.327874e+03  \n",
       "distNC_at_min_press          1.949160e+03  6.367608e+03  \n",
       "trajectory_at_min_distNC     3.150000e+02  3.566335e+02  \n",
       "trajectory_at_min_press      3.150000e+02  3.566335e+02  \n",
       "mean_trajectory              3.254423e+02  3.600000e+02  \n",
       "curvature                    5.737717e-14  2.856069e-13  \n",
       "duration                     5.900000e+01  2.980000e+02  \n",
       "lat_gen                      2.680000e+01  4.400000e+01  \n",
       "lon_gen                     -5.100000e+01 -1.710000e+01  \n",
       "length                       4.634639e+03  1.786501e+04  "
      ]
     },
     "execution_count": 16,
     "metadata": {},
     "output_type": "execute_result"
    }
   ],
   "source": [
    "df.describe().T"
   ]
  },
  {
   "cell_type": "code",
   "execution_count": 4,
   "id": "2dc0fce2",
   "metadata": {},
   "outputs": [],
   "source": [
    "index = [1, 1, 1, 1, 1, 1, 1, 1, 1, 1, 1, 1, 1, 1, 1, 0, 0, 0, 1, 1, 1, 1, 1]"
   ]
  },
  {
   "cell_type": "code",
   "execution_count": 5,
   "id": "1da98eb1",
   "metadata": {},
   "outputs": [
    {
     "name": "stderr",
     "output_type": "stream",
     "text": [
      "100%|████████████████████████████████████████████████████████████████████████████████| 999/999 [01:02<00:00, 15.94it/s]\n"
     ]
    }
   ],
   "source": [
    "cl0 = anti_neighbors_vectorized(df, 1000, index)"
   ]
  },
  {
   "cell_type": "code",
   "execution_count": 6,
   "id": "1c5eea1e",
   "metadata": {},
   "outputs": [
    {
     "name": "stdout",
     "output_type": "stream",
     "text": [
      "min weight: 0.00310\n",
      "max weight: 1.33036\n"
     ]
    }
   ],
   "source": [
    "print(f'min weight: {cl0.weight.min()*100:0.5f}')\n",
    "print(f'max weight: {cl0.weight.max()*100:0.5f}')"
   ]
  },
  {
   "cell_type": "code",
   "execution_count": 7,
   "id": "7cf0d993",
   "metadata": {},
   "outputs": [
    {
     "name": "stderr",
     "output_type": "stream",
     "text": [
      "100%|████████████████████████████████████████████████████████████████████████████████| 749/749 [00:32<00:00, 22.93it/s]\n"
     ]
    }
   ],
   "source": [
    "cl1 = anti_neighbors_vectorized(df, 750, index)"
   ]
  },
  {
   "cell_type": "code",
   "execution_count": 8,
   "id": "3fbb4307",
   "metadata": {},
   "outputs": [
    {
     "name": "stdout",
     "output_type": "stream",
     "text": [
      "min weight: 0.00310\n",
      "max weight: 1.56294\n"
     ]
    }
   ],
   "source": [
    "print(f'min weight: {cl1.weight.min()*100:0.5f}')\n",
    "print(f'max weight: {cl1.weight.max()*100:0.5f}')"
   ]
  },
  {
   "cell_type": "code",
   "execution_count": 9,
   "id": "2c559da3",
   "metadata": {},
   "outputs": [
    {
     "name": "stderr",
     "output_type": "stream",
     "text": [
      "100%|████████████████████████████████████████████████████████████████████████████████| 499/499 [00:14<00:00, 34.51it/s]\n"
     ]
    }
   ],
   "source": [
    "cl2 = anti_neighbors_vectorized(df, 500, index)"
   ]
  },
  {
   "cell_type": "code",
   "execution_count": 10,
   "id": "135af8f1",
   "metadata": {},
   "outputs": [
    {
     "name": "stdout",
     "output_type": "stream",
     "text": [
      "min weight: 0.00310\n",
      "max weight: 1.60325\n"
     ]
    }
   ],
   "source": [
    "print(f'min weight: {cl2.weight.min()*100:0.5f}')\n",
    "print(f'max weight: {cl2.weight.max()*100:0.5f}')"
   ]
  },
  {
   "cell_type": "code",
   "execution_count": 11,
   "id": "244c2e5b",
   "metadata": {},
   "outputs": [],
   "source": [
    "cl0.to_pickle(r'..\\data\\STORM\\processed\\MDA_output\\STORM_NA_R2_In_pnt_Clusters_MDAvec_1000_allvars.pkl')\n",
    "cl1.to_pickle(r'..\\data\\STORM\\processed\\MDA_output\\STORM_NA_R2_In_pnt_Clusters_MDAvec_0750_allvars.pkl')\n",
    "cl2.to_pickle(r'..\\data\\STORM\\processed\\MDA_output\\STORM_NA_R2_In_pnt_Clusters_MDAvec_0500_allvars.pkl')"
   ]
  },
  {
   "cell_type": "markdown",
   "id": "f32ba06a",
   "metadata": {},
   "source": [
    "#### Plot clusters"
   ]
  },
  {
   "cell_type": "code",
   "execution_count": 12,
   "id": "71de9a49",
   "metadata": {},
   "outputs": [],
   "source": [
    "perm = list(permutations(df.columns, 2))"
   ]
  },
  {
   "cell_type": "code",
   "execution_count": 13,
   "id": "f8a2d8fe",
   "metadata": {},
   "outputs": [],
   "source": [
    "pathout = Path(r'..\\data\\STORM\\processed\\MDA_output\\PLOTS_STORM_NA_R2_In_pnt_Clusters_MDAvec_allvars')"
   ]
  },
  {
   "cell_type": "code",
   "execution_count": 14,
   "id": "0b7ffb1c",
   "metadata": {},
   "outputs": [
    {
     "name": "stderr",
     "output_type": "stream",
     "text": [
      "100%|████████████████████████████████████████████████████████████████████████████████| 506/506 [07:06<00:00,  1.19it/s]\n"
     ]
    }
   ],
   "source": [
    "for p in tqdm(perm):\n",
    "    xcol = p[0]\n",
    "    ycol = p[1]\n",
    "    \n",
    "    x = df.loc[:, xcol]\n",
    "    y = df.loc[:, ycol]\n",
    "    z = scatter_interpolate(x,y)\n",
    "    idx = z.argsort()\n",
    "    x, y, z = x[idx], y[idx], z[idx]\n",
    "    cm = plt.cm.get_cmap('cividis')\n",
    "\n",
    "    fig, ax = plt.subplots(figsize = (6, 4))\n",
    "    ax.scatter(x, y, c = z, cmap = cm, alpha = 0.5)\n",
    "    ax.scatter(cl0.loc[:, xcol], cl0.loc[:, ycol], c = 'r', s = 5)\n",
    "    ax.scatter(cl1.loc[:, xcol], cl1.loc[:, ycol], c = 'orange', s = 5)\n",
    "    ax.scatter(cl2.loc[:, xcol], cl2.loc[:, ycol], c = 'magenta', s = 5)\n",
    "    \n",
    "    ax.set_xlabel(xcol)\n",
    "    ax.set_ylabel(ycol)\n",
    "    \n",
    "    text = AnchoredText(nb_name, 'upper right',frameon = False, borderpad = -2, prop=dict(fontsize = 'xx-small', alpha = 0.4))\n",
    "    ax.add_artist(text)\n",
    "    \n",
    "    fig.savefig(pathout/f'{xcol}_VS_{ycol}.png', dpi = 100, bbox_inches = 'tight')\n",
    "    plt.close()"
   ]
  },
  {
   "cell_type": "code",
   "execution_count": null,
   "id": "03905456",
   "metadata": {},
   "outputs": [],
   "source": []
  }
 ],
 "metadata": {
  "kernelspec": {
   "display_name": "Python 3 (ipykernel)",
   "language": "python",
   "name": "python3"
  },
  "language_info": {
   "codemirror_mode": {
    "name": "ipython",
    "version": 3
   },
   "file_extension": ".py",
   "mimetype": "text/x-python",
   "name": "python",
   "nbconvert_exporter": "python",
   "pygments_lexer": "ipython3",
   "version": "3.9.5"
  },
  "varInspector": {
   "cols": {
    "lenName": 16,
    "lenType": 16,
    "lenVar": 40
   },
   "kernels_config": {
    "python": {
     "delete_cmd_postfix": "",
     "delete_cmd_prefix": "del ",
     "library": "var_list.py",
     "varRefreshCmd": "print(var_dic_list())"
    },
    "r": {
     "delete_cmd_postfix": ") ",
     "delete_cmd_prefix": "rm(",
     "library": "var_list.r",
     "varRefreshCmd": "cat(var_dic_list()) "
    }
   },
   "types_to_exclude": [
    "module",
    "function",
    "builtin_function_or_method",
    "instance",
    "_Feature"
   ],
   "window_display": false
  }
 },
 "nbformat": 4,
 "nbformat_minor": 5
}
