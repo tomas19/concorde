{
 "cells": [
  {
   "cell_type": "code",
   "execution_count": 60,
   "id": "3e5c27a1",
   "metadata": {},
   "outputs": [
    {
     "data": {
      "text/html": [
       "<style>.container { width:98% !important; }</style>"
      ],
      "text/plain": [
       "<IPython.core.display.HTML object>"
      ]
     },
     "metadata": {},
     "output_type": "display_data"
    }
   ],
   "source": [
    "import os\n",
    "import pandas as pd\n",
    "from pathlib import Path\n",
    "from tqdm import tqdm\n",
    "from scipy.spatial import cKDTree\n",
    "from scipy.spatial.distance import cdist\n",
    "import time\n",
    "import numpy as np\n",
    "from IPython.display import display, HTML\n",
    "display(HTML(\"<style>.container { width:98% !important; }</style>\"))\n",
    "import sys\n",
    "sys.path.append(r'C:\\Users\\tacuevas\\Documents\\GitHub\\concorde')\n",
    "from mda import anti_neighbors_vectorized, fnorm, fnorm_inv, normalize_df, unnormalize_df\n",
    "from plots import scatter_interpolate\n",
    "import matplotlib.pyplot as plt\n",
    "plt.style.use('seaborn-darkgrid')\n",
    "plt.rcParams.update({'font.size': 14})\n",
    "from matplotlib.offsetbox import AnchoredText\n",
    "from itertools import combinations, permutations"
   ]
  },
  {
   "cell_type": "code",
   "execution_count": 33,
   "id": "cbc84e7b",
   "metadata": {},
   "outputs": [
    {
     "data": {
      "application/javascript": [
       "IPython.notebook.kernel.execute('nb_name = \"' + IPython.notebook.notebook_name + '\"')\n"
      ],
      "text/plain": [
       "<IPython.core.display.Javascript object>"
      ]
     },
     "metadata": {},
     "output_type": "display_data"
    }
   ],
   "source": [
    "%%javascript\n",
    "IPython.notebook.kernel.execute('nb_name = \"' + IPython.notebook.notebook_name + '\"')"
   ]
  },
  {
   "cell_type": "markdown",
   "id": "0eececf5",
   "metadata": {
    "heading_collapsed": true
   },
   "source": [
    "#### Check new version of anti neighbors"
   ]
  },
  {
   "cell_type": "code",
   "execution_count": 2,
   "id": "ae0f5d59",
   "metadata": {
    "hidden": true
   },
   "outputs": [
    {
     "data": {
      "text/html": [
       "<div>\n",
       "<style scoped>\n",
       "    .dataframe tbody tr th:only-of-type {\n",
       "        vertical-align: middle;\n",
       "    }\n",
       "\n",
       "    .dataframe tbody tr th {\n",
       "        vertical-align: top;\n",
       "    }\n",
       "\n",
       "    .dataframe thead th {\n",
       "        text-align: right;\n",
       "    }\n",
       "</style>\n",
       "<table border=\"1\" class=\"dataframe\">\n",
       "  <thead>\n",
       "    <tr style=\"text-align: right;\">\n",
       "      <th></th>\n",
       "      <th>time_step_at_min_press</th>\n",
       "      <th>time_step_at_min_distNC</th>\n",
       "      <th>lat_at_min_press</th>\n",
       "      <th>lon_at_min_press</th>\n",
       "      <th>lat_at_min_distNC</th>\n",
       "      <th>lon_at_min_distNC</th>\n",
       "      <th>min_press_at_min_distNC</th>\n",
       "      <th>min_press_at_min_press</th>\n",
       "      <th>max_ws_at_min_distNC</th>\n",
       "      <th>max_ws_at_min_press</th>\n",
       "      <th>rad_to_max_ws_at_min_distNC</th>\n",
       "      <th>rad_to_max_ws_at_min_press</th>\n",
       "      <th>landfall</th>\n",
       "      <th>distNC_at_min_distNC</th>\n",
       "      <th>distNC_at_min_press</th>\n",
       "      <th>trajectory_at_min_distNC</th>\n",
       "      <th>trajectory_at_min_press</th>\n",
       "      <th>mean_trajectory</th>\n",
       "    </tr>\n",
       "  </thead>\n",
       "  <tbody>\n",
       "    <tr>\n",
       "      <th>0</th>\n",
       "      <td>25.0</td>\n",
       "      <td>33.0</td>\n",
       "      <td>29.6</td>\n",
       "      <td>-76.2</td>\n",
       "      <td>30.5</td>\n",
       "      <td>-79.3</td>\n",
       "      <td>977.2</td>\n",
       "      <td>953.7</td>\n",
       "      <td>36.800000</td>\n",
       "      <td>36.800000</td>\n",
       "      <td>74.080002</td>\n",
       "      <td>74.080002</td>\n",
       "      <td>1.0</td>\n",
       "      <td>571.303714</td>\n",
       "      <td>623.563360</td>\n",
       "      <td>284.036243</td>\n",
       "      <td>303.690068</td>\n",
       "      <td>306.734075</td>\n",
       "    </tr>\n",
       "    <tr>\n",
       "      <th>1</th>\n",
       "      <td>20.0</td>\n",
       "      <td>49.0</td>\n",
       "      <td>17.2</td>\n",
       "      <td>-61.5</td>\n",
       "      <td>33.2</td>\n",
       "      <td>-68.2</td>\n",
       "      <td>954.5</td>\n",
       "      <td>939.2</td>\n",
       "      <td>46.600000</td>\n",
       "      <td>46.600000</td>\n",
       "      <td>74.080002</td>\n",
       "      <td>74.080002</td>\n",
       "      <td>0.0</td>\n",
       "      <td>822.784684</td>\n",
       "      <td>2505.942098</td>\n",
       "      <td>21.801409</td>\n",
       "      <td>284.036243</td>\n",
       "      <td>347.184714</td>\n",
       "    </tr>\n",
       "    <tr>\n",
       "      <th>2</th>\n",
       "      <td>4.0</td>\n",
       "      <td>8.0</td>\n",
       "      <td>25.9</td>\n",
       "      <td>-83.4</td>\n",
       "      <td>27.4</td>\n",
       "      <td>-82.8</td>\n",
       "      <td>1000.5</td>\n",
       "      <td>993.2</td>\n",
       "      <td>16.500000</td>\n",
       "      <td>16.500000</td>\n",
       "      <td>55.560001</td>\n",
       "      <td>27.780001</td>\n",
       "      <td>0.0</td>\n",
       "      <td>1035.895766</td>\n",
       "      <td>1209.183408</td>\n",
       "      <td>0.000000</td>\n",
       "      <td>18.434949</td>\n",
       "      <td>19.242162</td>\n",
       "    </tr>\n",
       "    <tr>\n",
       "      <th>3</th>\n",
       "      <td>4.0</td>\n",
       "      <td>9.0</td>\n",
       "      <td>25.9</td>\n",
       "      <td>-83.4</td>\n",
       "      <td>27.7</td>\n",
       "      <td>-82.5</td>\n",
       "      <td>1000.5</td>\n",
       "      <td>993.2</td>\n",
       "      <td>16.525852</td>\n",
       "      <td>16.525852</td>\n",
       "      <td>37.040001</td>\n",
       "      <td>37.040001</td>\n",
       "      <td>1.0</td>\n",
       "      <td>992.030799</td>\n",
       "      <td>1209.183408</td>\n",
       "      <td>0.000000</td>\n",
       "      <td>18.434949</td>\n",
       "      <td>22.104144</td>\n",
       "    </tr>\n",
       "    <tr>\n",
       "      <th>4</th>\n",
       "      <td>2.0</td>\n",
       "      <td>3.0</td>\n",
       "      <td>29.1</td>\n",
       "      <td>-76.9</td>\n",
       "      <td>29.2</td>\n",
       "      <td>-77.2</td>\n",
       "      <td>1003.8</td>\n",
       "      <td>1000.4</td>\n",
       "      <td>15.800000</td>\n",
       "      <td>15.800000</td>\n",
       "      <td>46.299999</td>\n",
       "      <td>46.299999</td>\n",
       "      <td>0.0</td>\n",
       "      <td>666.410514</td>\n",
       "      <td>676.494047</td>\n",
       "      <td>0.000000</td>\n",
       "      <td>288.434949</td>\n",
       "      <td>276.144983</td>\n",
       "    </tr>\n",
       "  </tbody>\n",
       "</table>\n",
       "</div>"
      ],
      "text/plain": [
       "   time_step_at_min_press  time_step_at_min_distNC  lat_at_min_press  \\\n",
       "0                    25.0                     33.0              29.6   \n",
       "1                    20.0                     49.0              17.2   \n",
       "2                     4.0                      8.0              25.9   \n",
       "3                     4.0                      9.0              25.9   \n",
       "4                     2.0                      3.0              29.1   \n",
       "\n",
       "   lon_at_min_press  lat_at_min_distNC  lon_at_min_distNC  \\\n",
       "0             -76.2               30.5              -79.3   \n",
       "1             -61.5               33.2              -68.2   \n",
       "2             -83.4               27.4              -82.8   \n",
       "3             -83.4               27.7              -82.5   \n",
       "4             -76.9               29.2              -77.2   \n",
       "\n",
       "   min_press_at_min_distNC  min_press_at_min_press  max_ws_at_min_distNC  \\\n",
       "0                    977.2                   953.7             36.800000   \n",
       "1                    954.5                   939.2             46.600000   \n",
       "2                   1000.5                   993.2             16.500000   \n",
       "3                   1000.5                   993.2             16.525852   \n",
       "4                   1003.8                  1000.4             15.800000   \n",
       "\n",
       "   max_ws_at_min_press  rad_to_max_ws_at_min_distNC  \\\n",
       "0            36.800000                    74.080002   \n",
       "1            46.600000                    74.080002   \n",
       "2            16.500000                    55.560001   \n",
       "3            16.525852                    37.040001   \n",
       "4            15.800000                    46.299999   \n",
       "\n",
       "   rad_to_max_ws_at_min_press  landfall  distNC_at_min_distNC  \\\n",
       "0                   74.080002       1.0            571.303714   \n",
       "1                   74.080002       0.0            822.784684   \n",
       "2                   27.780001       0.0           1035.895766   \n",
       "3                   37.040001       1.0            992.030799   \n",
       "4                   46.299999       0.0            666.410514   \n",
       "\n",
       "   distNC_at_min_press  trajectory_at_min_distNC  trajectory_at_min_press  \\\n",
       "0           623.563360                284.036243               303.690068   \n",
       "1          2505.942098                 21.801409               284.036243   \n",
       "2          1209.183408                  0.000000                18.434949   \n",
       "3          1209.183408                  0.000000                18.434949   \n",
       "4           676.494047                  0.000000               288.434949   \n",
       "\n",
       "   mean_trajectory  \n",
       "0       306.734075  \n",
       "1       347.184714  \n",
       "2        19.242162  \n",
       "3        22.104144  \n",
       "4       276.144983  "
      ]
     },
     "execution_count": 2,
     "metadata": {},
     "output_type": "execute_result"
    }
   ],
   "source": [
    "df = pd.read_pickle(r'..\\data\\STORM\\processed\\STORM_NA_R2_In_pnt.pkl')\n",
    "df.index = range(len(df))\n",
    "df = df.drop(['year', 'month', 'yr_tc_number', 'tc_id', 'max_cat'], axis = 1)\n",
    "df = df.fillna(0)\n",
    "df.head()"
   ]
  },
  {
   "cell_type": "code",
   "execution_count": 3,
   "id": "6a60bd38",
   "metadata": {
    "hidden": true
   },
   "outputs": [],
   "source": [
    "index = [1, 1, 1, 1, 1, 1, 1, 1, 1, 1, 1, 1, 1, 1, 1, 0, 0, 0]"
   ]
  },
  {
   "cell_type": "code",
   "execution_count": 19,
   "id": "a83e7884",
   "metadata": {
    "hidden": true
   },
   "outputs": [],
   "source": [
    "# columns = ['lat_at_min_distNC', 'lon_at_min_distNC', 'min_press_at_min_press', 'max_ws_at_min_press', 'rad_to_max_ws_at_min_press',\n",
    "#           'mean_trajectory']\n",
    "# index = [1, 1, 1, 1, 1, 0]\n",
    "# df = df.loc[:, columns]"
   ]
  },
  {
   "cell_type": "markdown",
   "id": "75e267ad",
   "metadata": {
    "hidden": true
   },
   "source": [
    "###### WIthout definitive function"
   ]
  },
  {
   "cell_type": "code",
   "execution_count": 4,
   "id": "fdc276f5",
   "metadata": {
    "hidden": true
   },
   "outputs": [],
   "source": [
    "norm = normalize_df(df, index)"
   ]
  },
  {
   "cell_type": "code",
   "execution_count": 5,
   "id": "f2047e9e",
   "metadata": {
    "hidden": true
   },
   "outputs": [
    {
     "data": {
      "text/html": [
       "<div>\n",
       "<style scoped>\n",
       "    .dataframe tbody tr th:only-of-type {\n",
       "        vertical-align: middle;\n",
       "    }\n",
       "\n",
       "    .dataframe tbody tr th {\n",
       "        vertical-align: top;\n",
       "    }\n",
       "\n",
       "    .dataframe thead th {\n",
       "        text-align: right;\n",
       "    }\n",
       "</style>\n",
       "<table border=\"1\" class=\"dataframe\">\n",
       "  <thead>\n",
       "    <tr style=\"text-align: right;\">\n",
       "      <th></th>\n",
       "      <th>time_step_at_min_press</th>\n",
       "      <th>time_step_at_min_distNC</th>\n",
       "      <th>lat_at_min_press</th>\n",
       "      <th>lon_at_min_press</th>\n",
       "      <th>lat_at_min_distNC</th>\n",
       "      <th>lon_at_min_distNC</th>\n",
       "      <th>min_press_at_min_distNC</th>\n",
       "      <th>min_press_at_min_press</th>\n",
       "      <th>max_ws_at_min_distNC</th>\n",
       "      <th>max_ws_at_min_press</th>\n",
       "      <th>rad_to_max_ws_at_min_distNC</th>\n",
       "      <th>rad_to_max_ws_at_min_press</th>\n",
       "      <th>landfall</th>\n",
       "      <th>distNC_at_min_distNC</th>\n",
       "      <th>distNC_at_min_press</th>\n",
       "      <th>trajectory_at_min_distNC</th>\n",
       "      <th>trajectory_at_min_press</th>\n",
       "      <th>mean_trajectory</th>\n",
       "    </tr>\n",
       "  </thead>\n",
       "  <tbody>\n",
       "    <tr>\n",
       "      <th>0</th>\n",
       "      <td>0.112613</td>\n",
       "      <td>0.141026</td>\n",
       "      <td>0.428302</td>\n",
       "      <td>0.232344</td>\n",
       "      <td>0.404669</td>\n",
       "      <td>0.225806</td>\n",
       "      <td>0.679558</td>\n",
       "      <td>0.581954</td>\n",
       "      <td>0.425664</td>\n",
       "      <td>0.425664</td>\n",
       "      <td>0.148936</td>\n",
       "      <td>0.304348</td>\n",
       "      <td>1.0</td>\n",
       "      <td>0.245419</td>\n",
       "      <td>0.097927</td>\n",
       "      <td>1.577979</td>\n",
       "      <td>1.687167</td>\n",
       "      <td>1.704078</td>\n",
       "    </tr>\n",
       "    <tr>\n",
       "      <th>1</th>\n",
       "      <td>0.090090</td>\n",
       "      <td>0.209402</td>\n",
       "      <td>0.194340</td>\n",
       "      <td>0.382805</td>\n",
       "      <td>0.509728</td>\n",
       "      <td>0.673387</td>\n",
       "      <td>0.470534</td>\n",
       "      <td>0.461921</td>\n",
       "      <td>0.573007</td>\n",
       "      <td>0.573007</td>\n",
       "      <td>0.148936</td>\n",
       "      <td>0.304348</td>\n",
       "      <td>0.0</td>\n",
       "      <td>0.353449</td>\n",
       "      <td>0.393545</td>\n",
       "      <td>0.121119</td>\n",
       "      <td>1.577979</td>\n",
       "      <td>1.928804</td>\n",
       "    </tr>\n",
       "    <tr>\n",
       "      <th>2</th>\n",
       "      <td>0.018018</td>\n",
       "      <td>0.034188</td>\n",
       "      <td>0.358491</td>\n",
       "      <td>0.158649</td>\n",
       "      <td>0.284047</td>\n",
       "      <td>0.084677</td>\n",
       "      <td>0.894107</td>\n",
       "      <td>0.908940</td>\n",
       "      <td>0.120454</td>\n",
       "      <td>0.120454</td>\n",
       "      <td>0.106383</td>\n",
       "      <td>0.086957</td>\n",
       "      <td>0.0</td>\n",
       "      <td>0.444996</td>\n",
       "      <td>0.189896</td>\n",
       "      <td>0.000000</td>\n",
       "      <td>0.102416</td>\n",
       "      <td>0.106901</td>\n",
       "    </tr>\n",
       "    <tr>\n",
       "      <th>3</th>\n",
       "      <td>0.018018</td>\n",
       "      <td>0.038462</td>\n",
       "      <td>0.358491</td>\n",
       "      <td>0.158649</td>\n",
       "      <td>0.295720</td>\n",
       "      <td>0.096774</td>\n",
       "      <td>0.894107</td>\n",
       "      <td>0.908940</td>\n",
       "      <td>0.120843</td>\n",
       "      <td>0.120843</td>\n",
       "      <td>0.063830</td>\n",
       "      <td>0.130435</td>\n",
       "      <td>1.0</td>\n",
       "      <td>0.426153</td>\n",
       "      <td>0.189896</td>\n",
       "      <td>0.000000</td>\n",
       "      <td>0.102416</td>\n",
       "      <td>0.122801</td>\n",
       "    </tr>\n",
       "    <tr>\n",
       "      <th>4</th>\n",
       "      <td>0.009009</td>\n",
       "      <td>0.012821</td>\n",
       "      <td>0.418868</td>\n",
       "      <td>0.225179</td>\n",
       "      <td>0.354086</td>\n",
       "      <td>0.310484</td>\n",
       "      <td>0.924494</td>\n",
       "      <td>0.968543</td>\n",
       "      <td>0.109930</td>\n",
       "      <td>0.109930</td>\n",
       "      <td>0.085106</td>\n",
       "      <td>0.173913</td>\n",
       "      <td>0.0</td>\n",
       "      <td>0.286274</td>\n",
       "      <td>0.106240</td>\n",
       "      <td>0.000000</td>\n",
       "      <td>1.602416</td>\n",
       "      <td>1.534139</td>\n",
       "    </tr>\n",
       "  </tbody>\n",
       "</table>\n",
       "</div>"
      ],
      "text/plain": [
       "   time_step_at_min_press  time_step_at_min_distNC  lat_at_min_press  \\\n",
       "0                0.112613                 0.141026          0.428302   \n",
       "1                0.090090                 0.209402          0.194340   \n",
       "2                0.018018                 0.034188          0.358491   \n",
       "3                0.018018                 0.038462          0.358491   \n",
       "4                0.009009                 0.012821          0.418868   \n",
       "\n",
       "   lon_at_min_press  lat_at_min_distNC  lon_at_min_distNC  \\\n",
       "0          0.232344           0.404669           0.225806   \n",
       "1          0.382805           0.509728           0.673387   \n",
       "2          0.158649           0.284047           0.084677   \n",
       "3          0.158649           0.295720           0.096774   \n",
       "4          0.225179           0.354086           0.310484   \n",
       "\n",
       "   min_press_at_min_distNC  min_press_at_min_press  max_ws_at_min_distNC  \\\n",
       "0                 0.679558                0.581954              0.425664   \n",
       "1                 0.470534                0.461921              0.573007   \n",
       "2                 0.894107                0.908940              0.120454   \n",
       "3                 0.894107                0.908940              0.120843   \n",
       "4                 0.924494                0.968543              0.109930   \n",
       "\n",
       "   max_ws_at_min_press  rad_to_max_ws_at_min_distNC  \\\n",
       "0             0.425664                     0.148936   \n",
       "1             0.573007                     0.148936   \n",
       "2             0.120454                     0.106383   \n",
       "3             0.120843                     0.063830   \n",
       "4             0.109930                     0.085106   \n",
       "\n",
       "   rad_to_max_ws_at_min_press  landfall  distNC_at_min_distNC  \\\n",
       "0                    0.304348       1.0              0.245419   \n",
       "1                    0.304348       0.0              0.353449   \n",
       "2                    0.086957       0.0              0.444996   \n",
       "3                    0.130435       1.0              0.426153   \n",
       "4                    0.173913       0.0              0.286274   \n",
       "\n",
       "   distNC_at_min_press  trajectory_at_min_distNC  trajectory_at_min_press  \\\n",
       "0             0.097927                  1.577979                 1.687167   \n",
       "1             0.393545                  0.121119                 1.577979   \n",
       "2             0.189896                  0.000000                 0.102416   \n",
       "3             0.189896                  0.000000                 0.102416   \n",
       "4             0.106240                  0.000000                 1.602416   \n",
       "\n",
       "   mean_trajectory  \n",
       "0         1.704078  \n",
       "1         1.928804  \n",
       "2         0.106901  \n",
       "3         0.122801  \n",
       "4         1.534139  "
      ]
     },
     "execution_count": 5,
     "metadata": {},
     "output_type": "execute_result"
    }
   ],
   "source": [
    "norm.head()"
   ]
  },
  {
   "cell_type": "code",
   "execution_count": 6,
   "id": "763d157b",
   "metadata": {
    "hidden": true
   },
   "outputs": [],
   "source": [
    "a, b = [], []\n",
    "for i, j in enumerate(index):\n",
    "    if j == 0:\n",
    "        b.append(i)\n",
    "    elif j == 1:\n",
    "        a.append(i)"
   ]
  },
  {
   "cell_type": "code",
   "execution_count": 7,
   "id": "474349db",
   "metadata": {
    "hidden": true
   },
   "outputs": [],
   "source": [
    "for ib, bi in enumerate(b):\n",
    "    aux = norm.iloc[:, bi].values\n",
    "    m1 = np.broadcast_to(aux, (len(norm), len(norm)))\n",
    "    if ib == 0:\n",
    "        mdir = np.minimum(np.abs(m1 - m1.T), 2 - np.abs(m1 - m1.T))\n",
    "    else:\n",
    "        mdir = mdir + np.minimum(np.abs(m1 - m1.T), 2 - np.abs(m1 - m1.T))\n",
    "\n",
    "aux = norm.iloc[:, a].values\n",
    "msca = cdist(aux, aux, metric = 'sqeuclidean')\n",
    "\n",
    "m = msca + mdir\n",
    "del msca\n",
    "del mdir"
   ]
  },
  {
   "cell_type": "code",
   "execution_count": 8,
   "id": "72ab99a0",
   "metadata": {
    "hidden": true
   },
   "outputs": [],
   "source": [
    "t0 = time.time()\n",
    "\n",
    "k = 1000\n",
    "\n",
    "points = [tuple(x) for x in norm.values]\n",
    "dummy_index = list(df.index.values)\n",
    "remaining_points = points[:]\n",
    "solution_set = []\n",
    "index_solution_set = []\n",
    "\n",
    "tree = cKDTree(norm.values)\n",
    "meanvalue = list(norm.mean())\n",
    "ix_meanvalue = tree.query(meanvalue)[1]\n",
    "\n",
    "solution_set.append(points[ix_meanvalue])\n",
    "index_solution_set.append(dummy_index[ix_meanvalue])\n",
    "\n",
    "# while len(solution_set) < k:\n",
    "while len(solution_set) < k:\n",
    "    t0 = time.time()\n",
    "    if len(solution_set) == 1:\n",
    "        ## iter 1, easy one\n",
    "        distances = m[index_solution_set[-1], :]\n",
    "        newSolIx = distances.argmax()\n",
    "        solution_set.append(points[newSolIx])\n",
    "        index_solution_set.append(newSolIx)\n",
    "    else:\n",
    "        ## iter 2, starts to get complicated\n",
    "        distances = np.minimum(distances, m[index_solution_set[-1], :])\n",
    "        newSolIx = distances.argmax()\n",
    "        solution_set.append(points[newSolIx])\n",
    "        index_solution_set.append(newSolIx)\n",
    "#     print(f'Iter {time.time() - t0:0.4f}: s')\n",
    "        \n",
    "normclusters = pd.DataFrame(columns = df.columns, data = solution_set)\n",
    "clusters_wf = unnormalize_df(df, normclusters, index)\n",
    "clusters_wf['index_cluster'] = index_solution_set"
   ]
  },
  {
   "cell_type": "code",
   "execution_count": 9,
   "id": "a85e73ef",
   "metadata": {
    "hidden": true
   },
   "outputs": [
    {
     "data": {
      "text/plain": [
       "1000"
      ]
     },
     "execution_count": 9,
     "metadata": {},
     "output_type": "execute_result"
    }
   ],
   "source": [
    "clusters_wf.index_cluster.nunique()"
   ]
  },
  {
   "cell_type": "markdown",
   "id": "968bc775",
   "metadata": {
    "hidden": true
   },
   "source": [
    "###### Using function"
   ]
  },
  {
   "cell_type": "code",
   "execution_count": 10,
   "id": "817cc35f",
   "metadata": {
    "hidden": true
   },
   "outputs": [
    {
     "name": "stderr",
     "output_type": "stream",
     "text": [
      "100%|████████████████████████████████████████████████████████████████████████████████| 999/999 [01:16<00:00, 13.13it/s]\n"
     ]
    }
   ],
   "source": [
    "clusters = anti_neighbors_vectorized(df, 1000, index)"
   ]
  },
  {
   "cell_type": "code",
   "execution_count": 11,
   "id": "cac47e32",
   "metadata": {
    "hidden": true
   },
   "outputs": [
    {
     "data": {
      "text/plain": [
       "True"
      ]
     },
     "execution_count": 11,
     "metadata": {},
     "output_type": "execute_result"
    }
   ],
   "source": [
    "clusters.iloc[:, :-1].equals(clusters_wf)"
   ]
  },
  {
   "cell_type": "markdown",
   "id": "b3367c71",
   "metadata": {},
   "source": [
    "#### MDA"
   ]
  },
  {
   "cell_type": "code",
   "execution_count": 2,
   "id": "0ac825bc",
   "metadata": {},
   "outputs": [
    {
     "data": {
      "text/html": [
       "<div>\n",
       "<style scoped>\n",
       "    .dataframe tbody tr th:only-of-type {\n",
       "        vertical-align: middle;\n",
       "    }\n",
       "\n",
       "    .dataframe tbody tr th {\n",
       "        vertical-align: top;\n",
       "    }\n",
       "\n",
       "    .dataframe thead th {\n",
       "        text-align: right;\n",
       "    }\n",
       "</style>\n",
       "<table border=\"1\" class=\"dataframe\">\n",
       "  <thead>\n",
       "    <tr style=\"text-align: right;\">\n",
       "      <th></th>\n",
       "      <th>time_step_at_min_press</th>\n",
       "      <th>time_step_at_min_distNC</th>\n",
       "      <th>lat_at_min_press</th>\n",
       "      <th>lon_at_min_press</th>\n",
       "      <th>lat_at_min_distNC</th>\n",
       "      <th>lon_at_min_distNC</th>\n",
       "      <th>min_press_at_min_distNC</th>\n",
       "      <th>min_press_at_min_press</th>\n",
       "      <th>max_ws_at_min_distNC</th>\n",
       "      <th>max_ws_at_min_press</th>\n",
       "      <th>rad_to_max_ws_at_min_distNC</th>\n",
       "      <th>rad_to_max_ws_at_min_press</th>\n",
       "      <th>landfall</th>\n",
       "      <th>distNC_at_min_distNC</th>\n",
       "      <th>distNC_at_min_press</th>\n",
       "      <th>trajectory_at_min_distNC</th>\n",
       "      <th>trajectory_at_min_press</th>\n",
       "      <th>mean_trajectory</th>\n",
       "    </tr>\n",
       "  </thead>\n",
       "  <tbody>\n",
       "    <tr>\n",
       "      <th>0</th>\n",
       "      <td>25.0</td>\n",
       "      <td>33.0</td>\n",
       "      <td>29.6</td>\n",
       "      <td>-76.2</td>\n",
       "      <td>30.5</td>\n",
       "      <td>-79.3</td>\n",
       "      <td>977.2</td>\n",
       "      <td>953.7</td>\n",
       "      <td>36.800000</td>\n",
       "      <td>36.800000</td>\n",
       "      <td>74.080002</td>\n",
       "      <td>74.080002</td>\n",
       "      <td>1.0</td>\n",
       "      <td>571.303714</td>\n",
       "      <td>623.563360</td>\n",
       "      <td>284.036243</td>\n",
       "      <td>303.690068</td>\n",
       "      <td>306.734075</td>\n",
       "    </tr>\n",
       "    <tr>\n",
       "      <th>1</th>\n",
       "      <td>20.0</td>\n",
       "      <td>49.0</td>\n",
       "      <td>17.2</td>\n",
       "      <td>-61.5</td>\n",
       "      <td>33.2</td>\n",
       "      <td>-68.2</td>\n",
       "      <td>954.5</td>\n",
       "      <td>939.2</td>\n",
       "      <td>46.600000</td>\n",
       "      <td>46.600000</td>\n",
       "      <td>74.080002</td>\n",
       "      <td>74.080002</td>\n",
       "      <td>0.0</td>\n",
       "      <td>822.784684</td>\n",
       "      <td>2505.942098</td>\n",
       "      <td>21.801409</td>\n",
       "      <td>284.036243</td>\n",
       "      <td>347.184714</td>\n",
       "    </tr>\n",
       "    <tr>\n",
       "      <th>2</th>\n",
       "      <td>4.0</td>\n",
       "      <td>8.0</td>\n",
       "      <td>25.9</td>\n",
       "      <td>-83.4</td>\n",
       "      <td>27.4</td>\n",
       "      <td>-82.8</td>\n",
       "      <td>1000.5</td>\n",
       "      <td>993.2</td>\n",
       "      <td>16.500000</td>\n",
       "      <td>16.500000</td>\n",
       "      <td>55.560001</td>\n",
       "      <td>27.780001</td>\n",
       "      <td>0.0</td>\n",
       "      <td>1035.895766</td>\n",
       "      <td>1209.183408</td>\n",
       "      <td>0.000000</td>\n",
       "      <td>18.434949</td>\n",
       "      <td>19.242162</td>\n",
       "    </tr>\n",
       "    <tr>\n",
       "      <th>3</th>\n",
       "      <td>4.0</td>\n",
       "      <td>9.0</td>\n",
       "      <td>25.9</td>\n",
       "      <td>-83.4</td>\n",
       "      <td>27.7</td>\n",
       "      <td>-82.5</td>\n",
       "      <td>1000.5</td>\n",
       "      <td>993.2</td>\n",
       "      <td>16.525852</td>\n",
       "      <td>16.525852</td>\n",
       "      <td>37.040001</td>\n",
       "      <td>37.040001</td>\n",
       "      <td>1.0</td>\n",
       "      <td>992.030799</td>\n",
       "      <td>1209.183408</td>\n",
       "      <td>0.000000</td>\n",
       "      <td>18.434949</td>\n",
       "      <td>22.104144</td>\n",
       "    </tr>\n",
       "    <tr>\n",
       "      <th>4</th>\n",
       "      <td>2.0</td>\n",
       "      <td>3.0</td>\n",
       "      <td>29.1</td>\n",
       "      <td>-76.9</td>\n",
       "      <td>29.2</td>\n",
       "      <td>-77.2</td>\n",
       "      <td>1003.8</td>\n",
       "      <td>1000.4</td>\n",
       "      <td>15.800000</td>\n",
       "      <td>15.800000</td>\n",
       "      <td>46.299999</td>\n",
       "      <td>46.299999</td>\n",
       "      <td>0.0</td>\n",
       "      <td>666.410514</td>\n",
       "      <td>676.494047</td>\n",
       "      <td>0.000000</td>\n",
       "      <td>288.434949</td>\n",
       "      <td>276.144983</td>\n",
       "    </tr>\n",
       "  </tbody>\n",
       "</table>\n",
       "</div>"
      ],
      "text/plain": [
       "   time_step_at_min_press  time_step_at_min_distNC  lat_at_min_press  \\\n",
       "0                    25.0                     33.0              29.6   \n",
       "1                    20.0                     49.0              17.2   \n",
       "2                     4.0                      8.0              25.9   \n",
       "3                     4.0                      9.0              25.9   \n",
       "4                     2.0                      3.0              29.1   \n",
       "\n",
       "   lon_at_min_press  lat_at_min_distNC  lon_at_min_distNC  \\\n",
       "0             -76.2               30.5              -79.3   \n",
       "1             -61.5               33.2              -68.2   \n",
       "2             -83.4               27.4              -82.8   \n",
       "3             -83.4               27.7              -82.5   \n",
       "4             -76.9               29.2              -77.2   \n",
       "\n",
       "   min_press_at_min_distNC  min_press_at_min_press  max_ws_at_min_distNC  \\\n",
       "0                    977.2                   953.7             36.800000   \n",
       "1                    954.5                   939.2             46.600000   \n",
       "2                   1000.5                   993.2             16.500000   \n",
       "3                   1000.5                   993.2             16.525852   \n",
       "4                   1003.8                  1000.4             15.800000   \n",
       "\n",
       "   max_ws_at_min_press  rad_to_max_ws_at_min_distNC  \\\n",
       "0            36.800000                    74.080002   \n",
       "1            46.600000                    74.080002   \n",
       "2            16.500000                    55.560001   \n",
       "3            16.525852                    37.040001   \n",
       "4            15.800000                    46.299999   \n",
       "\n",
       "   rad_to_max_ws_at_min_press  landfall  distNC_at_min_distNC  \\\n",
       "0                   74.080002       1.0            571.303714   \n",
       "1                   74.080002       0.0            822.784684   \n",
       "2                   27.780001       0.0           1035.895766   \n",
       "3                   37.040001       1.0            992.030799   \n",
       "4                   46.299999       0.0            666.410514   \n",
       "\n",
       "   distNC_at_min_press  trajectory_at_min_distNC  trajectory_at_min_press  \\\n",
       "0           623.563360                284.036243               303.690068   \n",
       "1          2505.942098                 21.801409               284.036243   \n",
       "2          1209.183408                  0.000000                18.434949   \n",
       "3          1209.183408                  0.000000                18.434949   \n",
       "4           676.494047                  0.000000               288.434949   \n",
       "\n",
       "   mean_trajectory  \n",
       "0       306.734075  \n",
       "1       347.184714  \n",
       "2        19.242162  \n",
       "3        22.104144  \n",
       "4       276.144983  "
      ]
     },
     "execution_count": 2,
     "metadata": {},
     "output_type": "execute_result"
    }
   ],
   "source": [
    "df = pd.read_pickle(r'..\\data\\STORM\\processed\\STORM_NA_R2_In_pnt.pkl')\n",
    "df.index = range(len(df))\n",
    "df = df.drop(['year', 'month', 'yr_tc_number', 'tc_id', 'max_cat'], axis = 1)\n",
    "df = df.fillna(0)\n",
    "df.head()"
   ]
  },
  {
   "cell_type": "code",
   "execution_count": 35,
   "id": "2dc0fce2",
   "metadata": {},
   "outputs": [],
   "source": [
    "index = [1, 1, 1, 1, 1, 1, 1, 1, 1, 1, 1, 1, 1, 1, 1, 0, 0, 0]"
   ]
  },
  {
   "cell_type": "code",
   "execution_count": 36,
   "id": "1da98eb1",
   "metadata": {},
   "outputs": [
    {
     "name": "stderr",
     "output_type": "stream",
     "text": [
      "100%|████████████████████████████████████████████████████████████████████████████████| 999/999 [01:14<00:00, 13.38it/s]\n"
     ]
    }
   ],
   "source": [
    "cl0 = anti_neighbors_vectorized(df, 1000, index)"
   ]
  },
  {
   "cell_type": "code",
   "execution_count": 43,
   "id": "1c5eea1e",
   "metadata": {},
   "outputs": [
    {
     "name": "stdout",
     "output_type": "stream",
     "text": [
      "min weight: 0.00309\n",
      "max weight: 1.56825\n"
     ]
    }
   ],
   "source": [
    "print(f'min weight: {cl0.weight.min()*100:0.5f}')\n",
    "print(f'max weight: {cl0.weight.max()*100:0.5f}')"
   ]
  },
  {
   "cell_type": "code",
   "execution_count": 38,
   "id": "7cf0d993",
   "metadata": {},
   "outputs": [
    {
     "name": "stderr",
     "output_type": "stream",
     "text": [
      "100%|████████████████████████████████████████████████████████████████████████████████| 749/749 [00:37<00:00, 19.77it/s]\n"
     ]
    }
   ],
   "source": [
    "cl1 = anti_neighbors_vectorized(df, 750, index)"
   ]
  },
  {
   "cell_type": "code",
   "execution_count": 44,
   "id": "3fbb4307",
   "metadata": {},
   "outputs": [
    {
     "name": "stdout",
     "output_type": "stream",
     "text": [
      "min weight: 0.00309\n",
      "max weight: 1.83736\n"
     ]
    }
   ],
   "source": [
    "print(f'min weight: {cl1.weight.min()*100:0.5f}')\n",
    "print(f'max weight: {cl1.weight.max()*100:0.5f}')"
   ]
  },
  {
   "cell_type": "code",
   "execution_count": 39,
   "id": "2c559da3",
   "metadata": {},
   "outputs": [
    {
     "name": "stderr",
     "output_type": "stream",
     "text": [
      "100%|████████████████████████████████████████████████████████████████████████████████| 499/499 [00:15<00:00, 31.30it/s]\n"
     ]
    }
   ],
   "source": [
    "cl2 = anti_neighbors_vectorized(df, 500, index)"
   ]
  },
  {
   "cell_type": "code",
   "execution_count": 45,
   "id": "135af8f1",
   "metadata": {},
   "outputs": [
    {
     "name": "stdout",
     "output_type": "stream",
     "text": [
      "min weight: 0.00309\n",
      "max weight: 1.91469\n"
     ]
    }
   ],
   "source": [
    "print(f'min weight: {cl2.weight.min()*100:0.5f}')\n",
    "print(f'max weight: {cl2.weight.max()*100:0.5f}')"
   ]
  },
  {
   "cell_type": "code",
   "execution_count": 71,
   "id": "244c2e5b",
   "metadata": {},
   "outputs": [],
   "source": [
    "cl0.to_pickle((r'..\\data\\STORM\\processed\\MDA_output\\STORM_NA_R2_In_pnt_Clusters_MDAvec_1000_allvars.pkl'))\n",
    "cl1.to_pickle((r'..\\data\\STORM\\processed\\MDA_output\\STORM_NA_R2_In_pnt_Clusters_MDAvec_0750_allvars.pkl'))\n",
    "cl2.to_pickle((r'..\\data\\STORM\\processed\\MDA_output\\STORM_NA_R2_In_pnt_Clusters_MDAvec_0500_allvars.pkl'))"
   ]
  },
  {
   "cell_type": "markdown",
   "id": "f32ba06a",
   "metadata": {},
   "source": [
    "#### Plot clusters"
   ]
  },
  {
   "cell_type": "code",
   "execution_count": 57,
   "id": "71de9a49",
   "metadata": {},
   "outputs": [],
   "source": [
    "perm = list(permutations(df.columns, 2))"
   ]
  },
  {
   "cell_type": "code",
   "execution_count": 72,
   "id": "f8a2d8fe",
   "metadata": {},
   "outputs": [],
   "source": [
    "pathout = Path(r'..\\data\\STORM\\processed\\MDA_output\\PLOTS_STORM_NA_R2_In_pnt_Clusters_MDAvec_allvars')"
   ]
  },
  {
   "cell_type": "code",
   "execution_count": 82,
   "id": "0b7ffb1c",
   "metadata": {},
   "outputs": [
    {
     "name": "stderr",
     "output_type": "stream",
     "text": [
      "100%|████████████████████████████████████████████████████████████████████████████████| 306/306 [04:16<00:00,  1.19it/s]\n"
     ]
    }
   ],
   "source": [
    "for p in tqdm(perm):\n",
    "    xcol = p[0]\n",
    "    ycol = p[1]\n",
    "    \n",
    "    x = df.loc[:, xcol]\n",
    "    y = df.loc[:, ycol]\n",
    "    z = scatter_interpolate(x,y)\n",
    "    idx = z.argsort()\n",
    "    x, y, z = x[idx], y[idx], z[idx]\n",
    "    cm = plt.cm.get_cmap('cividis')\n",
    "\n",
    "    fig, ax = plt.subplots(figsize = (6, 4))\n",
    "    ax.scatter(x, y, c = z, cmap = cm, alpha = 0.5)\n",
    "    ax.scatter(cl0.loc[:, xcol], cl0.loc[:, ycol], c = 'r', s = 5)\n",
    "    ax.scatter(cl1.loc[:, xcol], cl1.loc[:, ycol], c = 'orange', s = 5)\n",
    "    ax.scatter(cl2.loc[:, xcol], cl2.loc[:, ycol], c = 'magenta', s = 5)\n",
    "    \n",
    "    ax.set_xlabel(xcol)\n",
    "    ax.set_ylabel(ycol)\n",
    "    \n",
    "    text = AnchoredText(nb_name, 'upper right',frameon = False, borderpad = -2, prop=dict(fontsize = 'xx-small', alpha = 0.4))\n",
    "    ax.add_artist(text)\n",
    "    \n",
    "    fig.savefig(pathout/f'{xcol}_VS_{ycol}.png', dpi = 100, bbox_inches = 'tight')\n",
    "    plt.close()"
   ]
  },
  {
   "cell_type": "code",
   "execution_count": 80,
   "id": "bd3308ca",
   "metadata": {},
   "outputs": [
    {
     "data": {
      "text/plain": [
       "True"
      ]
     },
     "execution_count": 80,
     "metadata": {},
     "output_type": "execute_result"
    }
   ],
   "source": [
    "cl2.iloc[:, :-1].equals(cl0.iloc[:500, :-1])"
   ]
  },
  {
   "cell_type": "code",
   "execution_count": null,
   "id": "03905456",
   "metadata": {},
   "outputs": [],
   "source": []
  }
 ],
 "metadata": {
  "kernelspec": {
   "display_name": "Python 3 (ipykernel)",
   "language": "python",
   "name": "python3"
  },
  "language_info": {
   "codemirror_mode": {
    "name": "ipython",
    "version": 3
   },
   "file_extension": ".py",
   "mimetype": "text/x-python",
   "name": "python",
   "nbconvert_exporter": "python",
   "pygments_lexer": "ipython3",
   "version": "3.9.5"
  },
  "varInspector": {
   "cols": {
    "lenName": 16,
    "lenType": 16,
    "lenVar": 40
   },
   "kernels_config": {
    "python": {
     "delete_cmd_postfix": "",
     "delete_cmd_prefix": "del ",
     "library": "var_list.py",
     "varRefreshCmd": "print(var_dic_list())"
    },
    "r": {
     "delete_cmd_postfix": ") ",
     "delete_cmd_prefix": "rm(",
     "library": "var_list.r",
     "varRefreshCmd": "cat(var_dic_list()) "
    }
   },
   "types_to_exclude": [
    "module",
    "function",
    "builtin_function_or_method",
    "instance",
    "_Feature"
   ],
   "window_display": false
  }
 },
 "nbformat": 4,
 "nbformat_minor": 5
}
