{
 "cells": [
  {
   "cell_type": "code",
   "execution_count": 1,
   "metadata": {},
   "outputs": [],
   "source": [
    "import os\n",
    "import numpy as np\n",
    "import netCDF4 as netcdf\n",
    "import pandas as pd\n",
    "from concorde.tools import get_list\n",
    "from tqdm import tqdm\n",
    "from concorde.tools import tsFromNC\n",
    "import matplotlib.pyplot as plt\n",
    "import seaborn as sns"
   ]
  },
  {
   "cell_type": "code",
   "execution_count": 2,
   "metadata": {},
   "outputs": [],
   "source": [
    "ys = [36.183, 35.795, 35.209, 34.717, 34.227, 34.213]\n",
    "xs = [-75.745, -75.549, -75.704, -76.67, -77.953, -77.787]\n",
    "names = ['Duck', 'Oregon', 'Hatteras', 'Beaufort', 'Wilmington', 'Wrightsville']"
   ]
  },
  {
   "cell_type": "code",
   "execution_count": 3,
   "metadata": {},
   "outputs": [],
   "source": [
    "files = [r'../models/adcirc/concorde/batch02/_results/02c/Arthur/maxele.63.nc',\n",
    "         r'../models/adcirc/concorde/batch02/_results/03c/Florence/maxele.63.nc',\n",
    "         r'../models/adcirc/concorde/batch02/_results/02c/Irene/maxele.63.nc',\n",
    "         r'../models/adcirc/concorde/batch02/_results/03c/Isaias/maxele.63.nc',\n",
    "         r'../models/adcirc/concorde/batch02/_results/03c/Isabel/maxele.63.nc',\n",
    "         r'../models/adcirc/concorde/batch02/_results/04/Matthew/maxele.63.nc']"
   ]
  },
  {
   "cell_type": "code",
   "execution_count": 4,
   "metadata": {},
   "outputs": [
    {
     "name": "stderr",
     "output_type": "stream",
     "text": [
      "6it [00:55,  9.21s/it]\n"
     ]
    }
   ],
   "source": [
    "maxelev = []\n",
    "for fi, f in tqdm(enumerate(files)):\n",
    "    melev = netcdf.Dataset(f)\n",
    "    ts, rep = tsFromNC(melev, list(zip(xs, ys)), n = 5, variable = 'zeta_max',\n",
    "                         closestIfDry = True)\n",
    "    #ts, rep = tsFromNC(melev, list(zip(xs, ys)), n = 5, variable = 'time_of_zeta_max',\n",
    "    #                    closestIfDry = True)\n",
    "    ts.index = [os.path.dirname(f).split('/')[-1]]\n",
    "    maxelev.append(ts)\n",
    "    \n",
    "dfout = pd.concat(maxelev, axis = 0)\n",
    "dfout.columns = names\n",
    "dfout.to_csv(r'../models/adcirc/concorde/batch02/_postprocessing/max_water_level_at_NC_NOAA_stations_historic_storms.csv')"
   ]
  },
  {
   "cell_type": "code",
   "execution_count": 12,
   "metadata": {},
   "outputs": [
    {
     "data": {
      "text/html": [
       "<div>\n",
       "<style scoped>\n",
       "    .dataframe tbody tr th:only-of-type {\n",
       "        vertical-align: middle;\n",
       "    }\n",
       "\n",
       "    .dataframe tbody tr th {\n",
       "        vertical-align: top;\n",
       "    }\n",
       "\n",
       "    .dataframe thead th {\n",
       "        text-align: right;\n",
       "    }\n",
       "</style>\n",
       "<table border=\"1\" class=\"dataframe\">\n",
       "  <thead>\n",
       "    <tr style=\"text-align: right;\">\n",
       "      <th></th>\n",
       "      <th>Duck</th>\n",
       "      <th>Oregon</th>\n",
       "      <th>Hatteras</th>\n",
       "      <th>Beaufort</th>\n",
       "      <th>Wilmington</th>\n",
       "      <th>Wrightsville</th>\n",
       "    </tr>\n",
       "  </thead>\n",
       "  <tbody>\n",
       "    <tr>\n",
       "      <th>Arthur</th>\n",
       "      <td>1.509867</td>\n",
       "      <td>0.911798</td>\n",
       "      <td>1.497667</td>\n",
       "      <td>2.129577</td>\n",
       "      <td>0.749290</td>\n",
       "      <td>2.232792</td>\n",
       "    </tr>\n",
       "    <tr>\n",
       "      <th>Florence</th>\n",
       "      <td>0.859692</td>\n",
       "      <td>0.482091</td>\n",
       "      <td>0.240263</td>\n",
       "      <td>1.879700</td>\n",
       "      <td>3.282063</td>\n",
       "      <td>1.981187</td>\n",
       "    </tr>\n",
       "    <tr>\n",
       "      <th>Irene</th>\n",
       "      <td>1.094560</td>\n",
       "      <td>2.962294</td>\n",
       "      <td>1.112271</td>\n",
       "      <td>2.282573</td>\n",
       "      <td>0.808168</td>\n",
       "      <td>3.514507</td>\n",
       "    </tr>\n",
       "    <tr>\n",
       "      <th>Isaias</th>\n",
       "      <td>0.850690</td>\n",
       "      <td>1.246958</td>\n",
       "      <td>0.204605</td>\n",
       "      <td>1.887169</td>\n",
       "      <td>2.515477</td>\n",
       "      <td>1.581546</td>\n",
       "    </tr>\n",
       "    <tr>\n",
       "      <th>Isabel</th>\n",
       "      <td>1.318409</td>\n",
       "      <td>0.347550</td>\n",
       "      <td>0.172327</td>\n",
       "      <td>1.574595</td>\n",
       "      <td>0.845429</td>\n",
       "      <td>0.996678</td>\n",
       "    </tr>\n",
       "    <tr>\n",
       "      <th>Matthew</th>\n",
       "      <td>1.262591</td>\n",
       "      <td>0.629180</td>\n",
       "      <td>1.368479</td>\n",
       "      <td>1.246066</td>\n",
       "      <td>1.627601</td>\n",
       "      <td>1.559940</td>\n",
       "    </tr>\n",
       "  </tbody>\n",
       "</table>\n",
       "</div>"
      ],
      "text/plain": [
       "              Duck    Oregon  Hatteras  Beaufort  Wilmington  Wrightsville\n",
       "Arthur    1.509867  0.911798  1.497667  2.129577    0.749290      2.232792\n",
       "Florence  0.859692  0.482091  0.240263  1.879700    3.282063      1.981187\n",
       "Irene     1.094560  2.962294  1.112271  2.282573    0.808168      3.514507\n",
       "Isaias    0.850690  1.246958  0.204605  1.887169    2.515477      1.581546\n",
       "Isabel    1.318409  0.347550  0.172327  1.574595    0.845429      0.996678\n",
       "Matthew   1.262591  0.629180  1.368479  1.246066    1.627601      1.559940"
      ]
     },
     "execution_count": 12,
     "metadata": {},
     "output_type": "execute_result"
    }
   ],
   "source": [
    "dfout"
   ]
  }
 ],
 "metadata": {
  "kernelspec": {
   "display_name": "Python 3",
   "language": "python",
   "name": "python3"
  },
  "language_info": {
   "codemirror_mode": {
    "name": "ipython",
    "version": 3
   },
   "file_extension": ".py",
   "mimetype": "text/x-python",
   "name": "python",
   "nbconvert_exporter": "python",
   "pygments_lexer": "ipython3",
   "version": "3.11.3"
  }
 },
 "nbformat": 4,
 "nbformat_minor": 2
}
