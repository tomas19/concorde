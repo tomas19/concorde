{
 "cells": [
  {
   "cell_type": "code",
   "execution_count": 1,
   "id": "36a40b99",
   "metadata": {},
   "outputs": [
    {
     "data": {
      "text/html": [
       "<style>.container { width:98% !important; }</style>"
      ],
      "text/plain": [
       "<IPython.core.display.HTML object>"
      ]
     },
     "metadata": {},
     "output_type": "display_data"
    }
   ],
   "source": [
    "import os\n",
    "import dask\n",
    "import numpy as np\n",
    "from tqdm.dask import TqdmCallback\n",
    "import pandas as pd\n",
    "import geopandas as gpd\n",
    "from pathlib import Path\n",
    "from tqdm import tqdm\n",
    "import seaborn as sns\n",
    "from shapely.geometry import LineString\n",
    "import matplotlib.pyplot as plt\n",
    "import geopy.distance\n",
    "from IPython.display import display, HTML\n",
    "display(HTML(\"<style>.container { width:98% !important; }</style>\"))\n",
    "import sys\n",
    "sys.path.append(r'C:\\Users\\tacuevas\\Documents\\GitHub\\concorde\\modules')\n",
    "from plots import scatter_interpolate\n",
    "from shapely.geometry import Point, Polygon, LineString\n",
    "import warnings\n",
    "warnings.filterwarnings(\"ignore\")\n",
    "import itertools\n",
    "plt.style.use('seaborn-darkgrid')\n",
    "plt.rcParams.update({'font.size': 14})\n",
    "from matplotlib.offsetbox import AnchoredText"
   ]
  },
  {
   "cell_type": "code",
   "execution_count": 2,
   "id": "593eb5ec",
   "metadata": {},
   "outputs": [
    {
     "data": {
      "application/javascript": [
       "IPython.notebook.kernel.execute('nb_name = \"' + IPython.notebook.notebook_name + '\"')\n"
      ],
      "text/plain": [
       "<IPython.core.display.Javascript object>"
      ]
     },
     "metadata": {},
     "output_type": "display_data"
    }
   ],
   "source": [
    "%%javascript\n",
    "IPython.notebook.kernel.execute('nb_name = \"' + IPython.notebook.notebook_name + '\"')"
   ]
  },
  {
   "cell_type": "markdown",
   "id": "fb737e5c",
   "metadata": {},
   "source": [
    "###### Format Data"
   ]
  },
  {
   "cell_type": "code",
   "execution_count": 3,
   "id": "23b93425",
   "metadata": {},
   "outputs": [],
   "source": [
    "pathin = Path(r'T:\\Projects\\2016-2020-DHS-CRCoE\\Tomas\\Thesis\\data\\STORM\\raw\\STORM_data')\n",
    "filesIn = [x for x in os.listdir(pathin) if '_NA_' in x]"
   ]
  },
  {
   "cell_type": "code",
   "execution_count": 4,
   "id": "ce556c6e",
   "metadata": {},
   "outputs": [],
   "source": [
    "columns = ['year', 'month', 'yr_tc_number', 'time_step', 'basin_id', 'lat', 'lon', 'min_press',\n",
    "          'max_ws', 'rad_to_max_ws', 'cat', 'landfall', 'dist_to_land']"
   ]
  },
  {
   "cell_type": "code",
   "execution_count": 5,
   "id": "f3c85645",
   "metadata": {},
   "outputs": [
    {
     "name": "stderr",
     "output_type": "stream",
     "text": [
      "10it [00:20,  2.05s/it]\n"
     ]
    }
   ],
   "source": [
    "dfs = []\n",
    "for ifile, file in tqdm(enumerate(filesIn)):\n",
    "    df = pd.read_csv(pathin/file, header = None, names = columns)\n",
    "    df['year'] = df['year'] + ifile * 1000\n",
    "    dfs.append(df)\n",
    "    \n",
    "dfs = pd.concat(dfs, axis = 0)\n",
    "dfs.index = range(len(dfs))"
   ]
  },
  {
   "cell_type": "code",
   "execution_count": 6,
   "id": "ad0e314b",
   "metadata": {},
   "outputs": [],
   "source": [
    "dfs['lon'] = np.mod(dfs['lon'].values - 180, 360.) - 180"
   ]
  },
  {
   "cell_type": "code",
   "execution_count": 7,
   "id": "9081ac51",
   "metadata": {},
   "outputs": [],
   "source": [
    "index_start = np.where(dfs.time_step == 0)[0]\n",
    "list0 = []\n",
    "count = 0\n",
    "for i, j in zip(index_start[:-1], index_start[1:]):\n",
    "    list0.extend([count] * (j - i))\n",
    "    count += 1\n",
    "list0.extend([count] * (len(dfs) - j))\n",
    "dfs['tc_number'] = list0"
   ]
  },
  {
   "cell_type": "code",
   "execution_count": 8,
   "id": "2643a4b7",
   "metadata": {},
   "outputs": [],
   "source": [
    "nc = (35.2, -76.8)"
   ]
  },
  {
   "cell_type": "code",
   "execution_count": 9,
   "id": "b28ea085",
   "metadata": {
    "scrolled": true
   },
   "outputs": [
    {
     "data": {
      "application/vnd.jupyter.widget-view+json": {
       "model_id": "bc6b5bb081de4ec2bd5d93a3a81dbf1a",
       "version_major": 2,
       "version_minor": 0
      },
      "text/plain": [
       "Computing distance:   0%|          | 0/3507558 [00:00<?, ?it/s]"
      ]
     },
     "metadata": {},
     "output_type": "display_data"
    }
   ],
   "source": [
    "@dask.delayed\n",
    "def dist2NC(y, x, pnt):\n",
    "    return geopy.distance.geodesic(pnt, (y, x)).km\n",
    "\n",
    "tasks = [dist2NC(lat, lon, nc) for lat, lon in zip(dfs.lat, dfs.lon)]\n",
    "\n",
    "with TqdmCallback(desc = \"Computing distance\"):\n",
    "    d = dask.compute(tasks, scheduler = 'threads')\n",
    "\n",
    "dfs['dist_to_NC'] = d[0]"
   ]
  },
  {
   "cell_type": "code",
   "execution_count": 10,
   "id": "ec6dd95e",
   "metadata": {},
   "outputs": [],
   "source": [
    "def stormDir(df):\n",
    "    ''' direction going to as currents\n",
    "    '''\n",
    "    x = (df.loc[:, 'lon'].shift(-1) - df.loc[:, 'lon']).values\n",
    "    y = (df.loc[:, 'lat'].shift(-1) - df.loc[:, 'lat']).values\n",
    "    d = np.arctan2(x, y)\n",
    "    d2 = np.rad2deg(d)\n",
    "    d2 = np.mod(d2, 360)\n",
    "#     dmean = np.rad2deg(np.nanmean(d))\n",
    "#     dmean = np.mod(dmean, 360)\n",
    "    return d2"
   ]
  },
  {
   "cell_type": "code",
   "execution_count": 11,
   "id": "c6da630d",
   "metadata": {},
   "outputs": [
    {
     "data": {
      "application/vnd.jupyter.widget-view+json": {
       "model_id": "0953521ea86d493e86ffa04d7c8c1585",
       "version_major": 2,
       "version_minor": 0
      },
      "text/plain": [
       "Computing distance:   0%|          | 0/109479 [00:00<?, ?it/s]"
      ]
     },
     "metadata": {},
     "output_type": "display_data"
    }
   ],
   "source": [
    "@dask.delayed\n",
    "def get_trajectory(df, i):\n",
    "    dfsub = df[df.tc_number == i]\n",
    "    d = stormDir(dfsub)#[1]    \n",
    "    return d\n",
    "\n",
    "tasks = [get_trajectory(dfs, i) for i in dfs.tc_number.unique()]\n",
    "# tasks = [get_trajectory(df, i) for i in [88467]]#df.tc_number.unique()]\n",
    "\n",
    "with TqdmCallback(desc = \"Computing distance\"):\n",
    "    aux = dask.compute(tasks, scheduler = 'threads')\n",
    "    \n",
    "auxM = list(itertools.chain(*aux))\n",
    "auxM = list(itertools.chain(*auxM))\n",
    "\n",
    "dfs['trajectory'] = auxM\n",
    "dfs = dfs.fillna(method = 'ffill')"
   ]
  },
  {
   "cell_type": "code",
   "execution_count": 12,
   "id": "b324df13",
   "metadata": {},
   "outputs": [],
   "source": [
    "# @dask.delayed\n",
    "# def get_mean_trajectory(df, i):\n",
    "#     dfsub = df[df.tc_number == i]\n",
    "#     d = stormMeanDir(dfsub)[0]    \n",
    "#     return [d]*len(dfsub)\n",
    "\n",
    "# tasks = [get_mean_trajectory(df, i) for i in df.tc_number.unique()]\n",
    "# # tasks = [get_mean_trajectory(df, i) for i in [88467]]#df.tc_number.unique()]\n",
    "\n",
    "# with TqdmCallback(desc = \"Computing distance\"):\n",
    "#     aux = dask.compute(tasks, scheduler = 'threads')\n",
    "    \n",
    "# auxM = list(itertools.chain(*aux))\n",
    "# auxM = list(itertools.chain(*auxM))\n",
    "\n",
    "# df['mean_trajectory'] = auxM"
   ]
  },
  {
   "cell_type": "code",
   "execution_count": 12,
   "id": "1ce86987",
   "metadata": {},
   "outputs": [],
   "source": [
    "def stormVel(df):\n",
    "    '''\n",
    "    '''\n",
    "    vellist = [np.nan] \n",
    "    for i, j in zip(df.index[:-1], df.index[1:]):\n",
    "        p1 = (df.loc[i, 'lat'], df.loc[i, 'lon'])\n",
    "        p2 = (df.loc[j, 'lat'], df.loc[j, 'lon'])\n",
    "        dist = geopy.distance.geodesic(p2, p1).km\n",
    "        vel = dist/3 ##km/hr, time step is 3hr\n",
    "        vellist.append(vel)\n",
    "    return vellist"
   ]
  },
  {
   "cell_type": "code",
   "execution_count": 15,
   "id": "d690034a",
   "metadata": {},
   "outputs": [
    {
     "data": {
      "application/vnd.jupyter.widget-view+json": {
       "model_id": "5c6e821842ab4cdfbdb91db0d2ceed84",
       "version_major": 2,
       "version_minor": 0
      },
      "text/plain": [
       "Computing distance:   0%|          | 0/109479 [00:00<?, ?it/s]"
      ]
     },
     "metadata": {},
     "output_type": "display_data"
    }
   ],
   "source": [
    "@dask.delayed\n",
    "def get_stormVel(df, i):\n",
    "    dfsub = df[df.tc_number == i]\n",
    "    vel = stormVel(dfsub)#[1]    \n",
    "    return vel\n",
    "\n",
    "tasks = [get_stormVel(dfs, i) for i in dfs.tc_number.unique()]\n",
    "\n",
    "with TqdmCallback(desc = \"Computing distance\"):\n",
    "    aux = dask.compute(tasks, scheduler = 'threads')\n",
    "    \n",
    "auxM = list(itertools.chain(*aux))\n",
    "auxM = list(itertools.chain(*auxM))\n",
    "\n",
    "dfs['forwardSpeed'] = auxM\n",
    "dfs = dfs.fillna(method = 'bfill')"
   ]
  },
  {
   "cell_type": "code",
   "execution_count": 26,
   "id": "33cae5e8",
   "metadata": {},
   "outputs": [],
   "source": [
    "# dfs.to_pickle(r'T:\\Projects\\2016-2020-DHS-CRCoE\\Tomas\\Thesis\\data\\STORM\\processed\\STORM_NA_R3.pkl')\n",
    "dfs.to_pickle(r'C:\\Users\\tacuevas\\NCSU\\Research\\Thesis\\STORM_NA_R4.pkl')"
   ]
  },
  {
   "cell_type": "code",
   "execution_count": null,
   "id": "21ca474a",
   "metadata": {},
   "outputs": [],
   "source": []
  }
 ],
 "metadata": {
  "kernelspec": {
   "display_name": "Python 3 (ipykernel)",
   "language": "python",
   "name": "python3"
  },
  "language_info": {
   "codemirror_mode": {
    "name": "ipython",
    "version": 3
   },
   "file_extension": ".py",
   "mimetype": "text/x-python",
   "name": "python",
   "nbconvert_exporter": "python",
   "pygments_lexer": "ipython3",
   "version": "3.8.10"
  },
  "varInspector": {
   "cols": {
    "lenName": 16,
    "lenType": 16,
    "lenVar": 40
   },
   "kernels_config": {
    "python": {
     "delete_cmd_postfix": "",
     "delete_cmd_prefix": "del ",
     "library": "var_list.py",
     "varRefreshCmd": "print(var_dic_list())"
    },
    "r": {
     "delete_cmd_postfix": ") ",
     "delete_cmd_prefix": "rm(",
     "library": "var_list.r",
     "varRefreshCmd": "cat(var_dic_list()) "
    }
   },
   "types_to_exclude": [
    "module",
    "function",
    "builtin_function_or_method",
    "instance",
    "_Feature"
   ],
   "window_display": false
  }
 },
 "nbformat": 4,
 "nbformat_minor": 5
}
