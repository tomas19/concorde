{
 "cells": [
  {
   "cell_type": "code",
   "execution_count": 9,
   "id": "73360685",
   "metadata": {},
   "outputs": [
    {
     "data": {
      "text/html": [
       "<style>.container { width:98% !important; }</style>"
      ],
      "text/plain": [
       "<IPython.core.display.HTML object>"
      ]
     },
     "metadata": {},
     "output_type": "display_data"
    }
   ],
   "source": [
    "import os\n",
    "import shutil\n",
    "import numpy as np\n",
    "import pandas as pd\n",
    "import datetime\n",
    "from pathlib import Path\n",
    "from tqdm import tqdm\n",
    "from concorde.tools import ascii_replace\n",
    "from IPython.display import display, HTML\n",
    "display(HTML(\"<style>.container { width:98% !important; }</style>\"))\n",
    "\n",
    "import warnings\n",
    "warnings.filterwarnings('ignore')"
   ]
  },
  {
   "cell_type": "code",
   "execution_count": 3,
   "id": "062f8f28",
   "metadata": {},
   "outputs": [],
   "source": [
    "pathin = Path(r'../data/STORM/processed')\n",
    "df = pd.read_pickle(pathin/'STORM_NA_R4_In_pnt_v7_MDAvec_12params_1000_map_original_ts_v2.pkl')\n",
    "dftides = pd.read_pickle(pathin/'STORM_NA_R4_In_pnt_v7_MDAvec_12params_1000_map_original_ts_v2_tide_data.pkl')"
   ]
  },
  {
   "cell_type": "code",
   "execution_count": 2,
   "id": "2f80050d",
   "metadata": {},
   "outputs": [],
   "source": [
    "pathout = Path(r'../models/adcirc/concorde_NC6/01')\n",
    "pathtemplate = pathout/'template'"
   ]
  },
  {
   "cell_type": "code",
   "execution_count": 18,
   "id": "24312094",
   "metadata": {},
   "outputs": [
    {
     "name": "stderr",
     "output_type": "stream",
     "text": [
      "1000it [03:09,  5.27it/s]\n"
     ]
    }
   ],
   "source": [
    "for itc, tc in tqdm(enumerate(df['tc_number'].unique())):\n",
    "    dfs = df[df['tc_number'] == tc]\n",
    "    #repeate first row of data for 3 days\n",
    "    dfr = pd.DataFrame(np.broadcast_to(dfs.iloc[0, :].values, (8*3 + 1, len(dfs.columns))),\n",
    "                      columns = dfs.columns)\n",
    "    dates = [dfs['random_date'].iloc[0] - i*pd.Timedelta(hours = 3) for i in range(1, len(dfr)+1)][::-1]\n",
    "    dfr['random_date'] = dates\n",
    "    dfr['min_press'] = [1013] * len(dfr)\n",
    "    dfr['max_ws'] = [1] * len(dfr)\n",
    "    \n",
    "    date_aux0 = dfr['random_date'].iloc[0]\n",
    "    if date_aux0.hour == 0:\n",
    "        dfr2 = dfr.copy()\n",
    "    else:\n",
    "        date_aux1 = datetime.datetime(date_aux0.year, date_aux0.month, date_aux0.day, 0)\n",
    "        r_extra = pd.date_range(start = str(date_aux1), end = str(date_aux0), freq = '3H')\n",
    "        dfr_extra = dfr.iloc[0:len(r_extra)-1, :]\n",
    "        dfr_extra['random_date'] = r_extra[:-1]\n",
    "        dfr2 = pd.concat([dfr_extra, dfr])\n",
    "        dfr2.index = range(len(dfr2))\n",
    "        \n",
    "    dfe = pd.concat([dfr2, dfs])\n",
    "    \n",
    "    try:\n",
    "        os.mkdir(pathout/f'{itc:03d}')\n",
    "    except:\n",
    "        pass\n",
    "    with open(pathout/f'{itc:03d}'/f'tc_number.{tc}', 'w') as rdm:\n",
    "        rdm.write(str(tc))\n",
    "    \n",
    "    ## write fort22\n",
    "    with open(pathout/f'{itc:03d}'/'fort.22', 'w') as fout:\n",
    "        for i in dfe.index:\n",
    "            d = dfe.loc[i, 'random_date'].strftime('%Y%m%d%H')\n",
    "            inc = int((dfe.loc[i, 'random_date'] - dfe['random_date'].iloc[0]).total_seconds()/(3600))\n",
    "            lat = int(np.round(dfe.loc[i, 'lat'], 1)*10)\n",
    "            lon = int(np.abs(np.round(dfe.loc[i, 'lon'], 1))*10)\n",
    "            ws = int(np.round(dfe.loc[i, 'max_ws']*1.94384, 0))\n",
    "            p = int(np.round(dfe.loc[i, 'min_press'], 0))\n",
    "            rmw = int(np.round(dfe.loc[i, 'rad_to_max_ws'], 0))\n",
    "            text = (\n",
    "                    f'AL, 00, {d},   , BEST, {inc:3},{lat:4}N, {lon:4}W, '\n",
    "                    f'{ws:3}, {p:4},   ,  00, XXX,  000,  000,   00,  000, 0000,     ,'\n",
    "                    f' {rmw:3},     ,    ,    ,    ,    ,000,  00,  {tc:08d}  ,  00,    0, 0, 0, 0, 0,     00.0,'\n",
    "                    f'   00.0,   00.0,   00.0,    0.0000,   0.0000,   0.0000,   0.0000,   0.0000,'\n",
    "                    f' 000.0000, 000.0000, 000.0000, 000.0000\\n')\n",
    "            fout.write(text)\n",
    "\n",
    "    ## modify fort.15\n",
    "    filein = pathtemplate/'fort.15'\n",
    "    pathout_sub = pathout/f'{itc:03d}'\n",
    "    fileout = pathout_sub/'fort.15'\n",
    "    olds = ['STORMXX1', 'STORMXX2', 'YYYY_MM_DD_HHmm', 'DDD', 'RRR',\n",
    "            'M2NODF1', 'M2EQA1', 'S2NODF1', 'S2EQA1', 'N2NODF1', 'N2EQA1', 'K2NODF1', 'K2EQA1', 'K1NODF1', 'K1EQA1', \n",
    "            'O1NODF1', 'O1EQA1', 'P1NODF1', 'P1EQA1', 'Q1NODF1', 'Q1EQA1',\n",
    "            'M2NODF2', 'M2EQA2', 'S2NODF2', 'S2EQA2', 'N2NODF2', 'N2EQA2', 'K2NODF2', 'K2EQA2', 'K1NODF2', 'K1EQA2', \n",
    "            'O1NODF2', 'O1EQA2', 'P1NODF2', 'P1EQA2', 'Q1NODF2', 'Q1EQA2',\n",
    "            'STORMXX3', 'STORMXX4', 'datedate']\n",
    "    \n",
    "    dftides_sub = dftides.loc[['M2', 'S2', 'N2', 'K2', 'K1', 'O1', 'P1', 'Q1'], [x for x in dftides.columns if x.endswith(f'_{tc}')]]\n",
    "    constituents = [f'{x:.5f}' for x in dftides_sub.values.reshape(-1)]\n",
    "    dur = (dfe['random_date'].iloc[-1] - dfe['random_date'].iloc[0]).total_seconds()/86400\n",
    "    dramp = (dfr2['random_date'].iloc[-1] - dfr2['random_date'].iloc[0]).total_seconds()/86400\n",
    "    news = [f'STORM{itc:03d}', f'STORM{itc:03d}', dfe['random_date'].iloc[0].strftime('%Y %m %d %H00'), str(dur), str(dramp)]\n",
    "    news.extend(constituents)\n",
    "    news.extend(constituents)\n",
    "    news.extend([f'STORM{itc:03d}', f'STORM{itc:03d}', str(dfe['random_date'].iloc[0])])\n",
    "    ascii_replace(filein, fileout, olds, news)\n",
    "    ## copy\n",
    "    files_to_copy = ['adcprep', 'adcprep.csh', 'padcirc', 'padcirc.csh', 'fort.13', 'fort.14']\n",
    "    for f in files_to_copy:\n",
    "        shutil.copy(pathtemplate/f, pathout_sub/f)"
   ]
  },
  {
   "cell_type": "code",
   "execution_count": null,
   "id": "7840d488",
   "metadata": {},
   "outputs": [],
   "source": []
  }
 ],
 "metadata": {
  "kernelspec": {
   "display_name": "Python 3 (ipykernel)",
   "language": "python",
   "name": "python3"
  },
  "language_info": {
   "codemirror_mode": {
    "name": "ipython",
    "version": 3
   },
   "file_extension": ".py",
   "mimetype": "text/x-python",
   "name": "python",
   "nbconvert_exporter": "python",
   "pygments_lexer": "ipython3",
   "version": "3.9.13"
  }
 },
 "nbformat": 4,
 "nbformat_minor": 5
}
